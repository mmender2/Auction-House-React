{
  "nbformat": 4,
  "nbformat_minor": 0,
  "metadata": {
    "colab": {
      "provenance": [],
      "machine_shape": "hm",
      "collapsed_sections": [
        "_zr7qFSdrpyW"
      ],
      "mount_file_id": "1PN3L9xc1Q3KjWVaKSi-LINg_n9AC12By",
      "authorship_tag": "ABX9TyPyhvWGzlv38ES2yFEJPjmR",
      "include_colab_link": true
    },
    "kernelspec": {
      "name": "python3",
      "display_name": "Python 3"
    },
    "language_info": {
      "name": "python"
    },
    "accelerator": "TPU",
    "widgets": {
      "application/vnd.jupyter.widget-state+json": {
        "61d1fc48960d4f4eb08dd2d0fb8c6fec": {
          "model_module": "@jupyter-widgets/output",
          "model_name": "OutputModel",
          "model_module_version": "1.0.0",
          "state": {
            "_dom_classes": [],
            "_model_module": "@jupyter-widgets/output",
            "_model_module_version": "1.0.0",
            "_model_name": "OutputModel",
            "_view_count": null,
            "_view_module": "@jupyter-widgets/output",
            "_view_module_version": "1.0.0",
            "_view_name": "OutputView",
            "layout": "IPY_MODEL_89ece25076be417ea3a7d47be8d9ed76",
            "msg_id": "",
            "outputs": [
              {
                "output_type": "display_data",
                "data": {
                  "text/plain": "Inference \u001b[38;2;58;58;58m━\u001b[0m\u001b[38;2;62;57;59m━\u001b[0m\u001b[38;2;76;56;63m━\u001b[0m\u001b[38;2;97;53;69m━\u001b[0m\u001b[38;2;123;51;77m━\u001b[0m\u001b[38;2;153;48;86m━\u001b[0m\u001b[38;2;183;44;94m━\u001b[0m\u001b[38;2;209;42;102m━\u001b[0m\u001b[38;2;230;39;108m━\u001b[0m\u001b[38;2;244;38;112m━\u001b[0m\u001b[38;2;249;38;114m━\u001b[0m\u001b[38;2;244;38;112m━\u001b[0m\u001b[38;2;230;39;108m━\u001b[0m\u001b[38;2;209;42;102m━\u001b[0m\u001b[38;2;183;44;94m━\u001b[0m\u001b[38;2;153;48;86m━\u001b[0m\u001b[38;2;123;51;77m━\u001b[0m\u001b[38;2;97;53;69m━\u001b[0m\u001b[38;2;76;56;63m━\u001b[0m\u001b[38;2;62;57;59m━\u001b[0m\u001b[38;2;58;58;58m━\u001b[0m\u001b[38;2;62;57;59m━\u001b[0m\u001b[38;2;76;56;63m━\u001b[0m\u001b[38;2;97;53;69m━\u001b[0m\u001b[38;2;123;51;77m━\u001b[0m\u001b[38;2;153;48;86m━\u001b[0m\u001b[38;2;183;44;94m━\u001b[0m\u001b[38;2;209;42;102m━\u001b[0m\u001b[38;2;230;39;108m━\u001b[0m\u001b[38;2;244;38;112m━\u001b[0m\u001b[38;2;249;38;114m━\u001b[0m\u001b[38;2;244;38;112m━\u001b[0m\u001b[38;2;230;39;108m━\u001b[0m\u001b[38;2;209;42;102m━\u001b[0m\u001b[38;2;183;44;94m━\u001b[0m\u001b[38;2;153;48;86m━\u001b[0m\u001b[38;2;123;51;77m━\u001b[0m\u001b[38;2;97;53;69m━\u001b[0m\u001b[38;2;76;56;63m━\u001b[0m\u001b[38;2;62;57;59m━\u001b[0m  \u001b[36m \u001b[0m\n",
                  "text/html": "<pre style=\"white-space:pre;overflow-x:auto;line-height:normal;font-family:Menlo,'DejaVu Sans Mono',consolas,'Courier New',monospace\">Inference <span style=\"color: #3a3a3a; text-decoration-color: #3a3a3a\">━</span><span style=\"color: #3e393b; text-decoration-color: #3e393b\">━</span><span style=\"color: #4c383f; text-decoration-color: #4c383f\">━</span><span style=\"color: #613545; text-decoration-color: #613545\">━</span><span style=\"color: #7b334d; text-decoration-color: #7b334d\">━</span><span style=\"color: #993056; text-decoration-color: #993056\">━</span><span style=\"color: #b72c5e; text-decoration-color: #b72c5e\">━</span><span style=\"color: #d12a66; text-decoration-color: #d12a66\">━</span><span style=\"color: #e6276c; text-decoration-color: #e6276c\">━</span><span style=\"color: #f42670; text-decoration-color: #f42670\">━</span><span style=\"color: #f92672; text-decoration-color: #f92672\">━</span><span style=\"color: #f42670; text-decoration-color: #f42670\">━</span><span style=\"color: #e6276c; text-decoration-color: #e6276c\">━</span><span style=\"color: #d12a66; text-decoration-color: #d12a66\">━</span><span style=\"color: #b72c5e; text-decoration-color: #b72c5e\">━</span><span style=\"color: #993056; text-decoration-color: #993056\">━</span><span style=\"color: #7b334d; text-decoration-color: #7b334d\">━</span><span style=\"color: #613545; text-decoration-color: #613545\">━</span><span style=\"color: #4c383f; text-decoration-color: #4c383f\">━</span><span style=\"color: #3e393b; text-decoration-color: #3e393b\">━</span><span style=\"color: #3a3a3a; text-decoration-color: #3a3a3a\">━</span><span style=\"color: #3e393b; text-decoration-color: #3e393b\">━</span><span style=\"color: #4c383f; text-decoration-color: #4c383f\">━</span><span style=\"color: #613545; text-decoration-color: #613545\">━</span><span style=\"color: #7b334d; text-decoration-color: #7b334d\">━</span><span style=\"color: #993056; text-decoration-color: #993056\">━</span><span style=\"color: #b72c5e; text-decoration-color: #b72c5e\">━</span><span style=\"color: #d12a66; text-decoration-color: #d12a66\">━</span><span style=\"color: #e6276c; text-decoration-color: #e6276c\">━</span><span style=\"color: #f42670; text-decoration-color: #f42670\">━</span><span style=\"color: #f92672; text-decoration-color: #f92672\">━</span><span style=\"color: #f42670; text-decoration-color: #f42670\">━</span><span style=\"color: #e6276c; text-decoration-color: #e6276c\">━</span><span style=\"color: #d12a66; text-decoration-color: #d12a66\">━</span><span style=\"color: #b72c5e; text-decoration-color: #b72c5e\">━</span><span style=\"color: #993056; text-decoration-color: #993056\">━</span><span style=\"color: #7b334d; text-decoration-color: #7b334d\">━</span><span style=\"color: #613545; text-decoration-color: #613545\">━</span><span style=\"color: #4c383f; text-decoration-color: #4c383f\">━</span><span style=\"color: #3e393b; text-decoration-color: #3e393b\">━</span>  <span style=\"color: #008080; text-decoration-color: #008080\"> </span>\n</pre>\n"
                },
                "metadata": {}
              }
            ]
          }
        },
        "89ece25076be417ea3a7d47be8d9ed76": {
          "model_module": "@jupyter-widgets/base",
          "model_name": "LayoutModel",
          "model_module_version": "1.2.0",
          "state": {
            "_model_module": "@jupyter-widgets/base",
            "_model_module_version": "1.2.0",
            "_model_name": "LayoutModel",
            "_view_count": null,
            "_view_module": "@jupyter-widgets/base",
            "_view_module_version": "1.2.0",
            "_view_name": "LayoutView",
            "align_content": null,
            "align_items": null,
            "align_self": null,
            "border": null,
            "bottom": null,
            "display": null,
            "flex": null,
            "flex_flow": null,
            "grid_area": null,
            "grid_auto_columns": null,
            "grid_auto_flow": null,
            "grid_auto_rows": null,
            "grid_column": null,
            "grid_gap": null,
            "grid_row": null,
            "grid_template_areas": null,
            "grid_template_columns": null,
            "grid_template_rows": null,
            "height": null,
            "justify_content": null,
            "justify_items": null,
            "left": null,
            "margin": null,
            "max_height": null,
            "max_width": null,
            "min_height": null,
            "min_width": null,
            "object_fit": null,
            "object_position": null,
            "order": null,
            "overflow": null,
            "overflow_x": null,
            "overflow_y": null,
            "padding": null,
            "right": null,
            "top": null,
            "visibility": null,
            "width": null
          }
        },
        "917fe6ce9f3141889fd9b57f9cbb44d7": {
          "model_module": "@jupyter-widgets/output",
          "model_name": "OutputModel",
          "model_module_version": "1.0.0",
          "state": {
            "_dom_classes": [],
            "_model_module": "@jupyter-widgets/output",
            "_model_module_version": "1.0.0",
            "_model_name": "OutputModel",
            "_view_count": null,
            "_view_module": "@jupyter-widgets/output",
            "_view_module_version": "1.0.0",
            "_view_name": "OutputView",
            "layout": "IPY_MODEL_5240fd82a4a64a9d8f83eebbfeb7bf98",
            "msg_id": "",
            "outputs": [
              {
                "output_type": "display_data",
                "data": {
                  "text/plain": "Inference \u001b[38;2;76;56;63m━\u001b[0m\u001b[38;2;62;57;59m━\u001b[0m\u001b[38;2;58;58;58m━\u001b[0m\u001b[38;2;62;57;59m━\u001b[0m\u001b[38;2;76;56;63m━\u001b[0m\u001b[38;2;97;53;69m━\u001b[0m\u001b[38;2;123;51;77m━\u001b[0m\u001b[38;2;153;48;86m━\u001b[0m\u001b[38;2;183;44;94m━\u001b[0m\u001b[38;2;209;42;102m━\u001b[0m\u001b[38;2;230;39;108m━\u001b[0m\u001b[38;2;244;38;112m━\u001b[0m\u001b[38;2;249;38;114m━\u001b[0m\u001b[38;2;244;38;112m━\u001b[0m\u001b[38;2;230;39;108m━\u001b[0m\u001b[38;2;209;42;102m━\u001b[0m\u001b[38;2;183;44;94m━\u001b[0m\u001b[38;2;153;48;86m━\u001b[0m\u001b[38;2;123;51;77m━\u001b[0m\u001b[38;2;97;53;69m━\u001b[0m\u001b[38;2;76;56;63m━\u001b[0m\u001b[38;2;62;57;59m━\u001b[0m\u001b[38;2;58;58;58m━\u001b[0m\u001b[38;2;62;57;59m━\u001b[0m\u001b[38;2;76;56;63m━\u001b[0m\u001b[38;2;97;53;69m━\u001b[0m\u001b[38;2;123;51;77m━\u001b[0m\u001b[38;2;153;48;86m━\u001b[0m\u001b[38;2;183;44;94m━\u001b[0m\u001b[38;2;209;42;102m━\u001b[0m\u001b[38;2;230;39;108m━\u001b[0m\u001b[38;2;244;38;112m━\u001b[0m\u001b[38;2;249;38;114m━\u001b[0m\u001b[38;2;244;38;112m━\u001b[0m\u001b[38;2;230;39;108m━\u001b[0m\u001b[38;2;209;42;102m━\u001b[0m\u001b[38;2;183;44;94m━\u001b[0m\u001b[38;2;153;48;86m━\u001b[0m\u001b[38;2;123;51;77m━\u001b[0m\u001b[38;2;97;53;69m━\u001b[0m  \u001b[36m \u001b[0m\n",
                  "text/html": "<pre style=\"white-space:pre;overflow-x:auto;line-height:normal;font-family:Menlo,'DejaVu Sans Mono',consolas,'Courier New',monospace\">Inference <span style=\"color: #4c383f; text-decoration-color: #4c383f\">━</span><span style=\"color: #3e393b; text-decoration-color: #3e393b\">━</span><span style=\"color: #3a3a3a; text-decoration-color: #3a3a3a\">━</span><span style=\"color: #3e393b; text-decoration-color: #3e393b\">━</span><span style=\"color: #4c383f; text-decoration-color: #4c383f\">━</span><span style=\"color: #613545; text-decoration-color: #613545\">━</span><span style=\"color: #7b334d; text-decoration-color: #7b334d\">━</span><span style=\"color: #993056; text-decoration-color: #993056\">━</span><span style=\"color: #b72c5e; text-decoration-color: #b72c5e\">━</span><span style=\"color: #d12a66; text-decoration-color: #d12a66\">━</span><span style=\"color: #e6276c; text-decoration-color: #e6276c\">━</span><span style=\"color: #f42670; text-decoration-color: #f42670\">━</span><span style=\"color: #f92672; text-decoration-color: #f92672\">━</span><span style=\"color: #f42670; text-decoration-color: #f42670\">━</span><span style=\"color: #e6276c; text-decoration-color: #e6276c\">━</span><span style=\"color: #d12a66; text-decoration-color: #d12a66\">━</span><span style=\"color: #b72c5e; text-decoration-color: #b72c5e\">━</span><span style=\"color: #993056; text-decoration-color: #993056\">━</span><span style=\"color: #7b334d; text-decoration-color: #7b334d\">━</span><span style=\"color: #613545; text-decoration-color: #613545\">━</span><span style=\"color: #4c383f; text-decoration-color: #4c383f\">━</span><span style=\"color: #3e393b; text-decoration-color: #3e393b\">━</span><span style=\"color: #3a3a3a; text-decoration-color: #3a3a3a\">━</span><span style=\"color: #3e393b; text-decoration-color: #3e393b\">━</span><span style=\"color: #4c383f; text-decoration-color: #4c383f\">━</span><span style=\"color: #613545; text-decoration-color: #613545\">━</span><span style=\"color: #7b334d; text-decoration-color: #7b334d\">━</span><span style=\"color: #993056; text-decoration-color: #993056\">━</span><span style=\"color: #b72c5e; text-decoration-color: #b72c5e\">━</span><span style=\"color: #d12a66; text-decoration-color: #d12a66\">━</span><span style=\"color: #e6276c; text-decoration-color: #e6276c\">━</span><span style=\"color: #f42670; text-decoration-color: #f42670\">━</span><span style=\"color: #f92672; text-decoration-color: #f92672\">━</span><span style=\"color: #f42670; text-decoration-color: #f42670\">━</span><span style=\"color: #e6276c; text-decoration-color: #e6276c\">━</span><span style=\"color: #d12a66; text-decoration-color: #d12a66\">━</span><span style=\"color: #b72c5e; text-decoration-color: #b72c5e\">━</span><span style=\"color: #993056; text-decoration-color: #993056\">━</span><span style=\"color: #7b334d; text-decoration-color: #7b334d\">━</span><span style=\"color: #613545; text-decoration-color: #613545\">━</span>  <span style=\"color: #008080; text-decoration-color: #008080\"> </span>\n</pre>\n"
                },
                "metadata": {}
              }
            ]
          }
        },
        "5240fd82a4a64a9d8f83eebbfeb7bf98": {
          "model_module": "@jupyter-widgets/base",
          "model_name": "LayoutModel",
          "model_module_version": "1.2.0",
          "state": {
            "_model_module": "@jupyter-widgets/base",
            "_model_module_version": "1.2.0",
            "_model_name": "LayoutModel",
            "_view_count": null,
            "_view_module": "@jupyter-widgets/base",
            "_view_module_version": "1.2.0",
            "_view_name": "LayoutView",
            "align_content": null,
            "align_items": null,
            "align_self": null,
            "border": null,
            "bottom": null,
            "display": null,
            "flex": null,
            "flex_flow": null,
            "grid_area": null,
            "grid_auto_columns": null,
            "grid_auto_flow": null,
            "grid_auto_rows": null,
            "grid_column": null,
            "grid_gap": null,
            "grid_row": null,
            "grid_template_areas": null,
            "grid_template_columns": null,
            "grid_template_rows": null,
            "height": null,
            "justify_content": null,
            "justify_items": null,
            "left": null,
            "margin": null,
            "max_height": null,
            "max_width": null,
            "min_height": null,
            "min_width": null,
            "object_fit": null,
            "object_position": null,
            "order": null,
            "overflow": null,
            "overflow_x": null,
            "overflow_y": null,
            "padding": null,
            "right": null,
            "top": null,
            "visibility": null,
            "width": null
          }
        },
        "089cf01c6f14451689954e0971dc37af": {
          "model_module": "@jupyter-widgets/output",
          "model_name": "OutputModel",
          "model_module_version": "1.0.0",
          "state": {
            "_dom_classes": [],
            "_model_module": "@jupyter-widgets/output",
            "_model_module_version": "1.0.0",
            "_model_name": "OutputModel",
            "_view_count": null,
            "_view_module": "@jupyter-widgets/output",
            "_view_module_version": "1.0.0",
            "_view_name": "OutputView",
            "layout": "IPY_MODEL_efb297454b90497585fed254325cb742",
            "msg_id": "",
            "outputs": [
              {
                "output_type": "display_data",
                "data": {
                  "text/plain": "Inference \u001b[38;2;244;38;112m━\u001b[0m\u001b[38;2;249;38;114m━\u001b[0m\u001b[38;2;244;38;112m━\u001b[0m\u001b[38;2;230;39;108m━\u001b[0m\u001b[38;2;209;42;102m━\u001b[0m\u001b[38;2;183;44;94m━\u001b[0m\u001b[38;2;153;48;86m━\u001b[0m\u001b[38;2;123;51;77m━\u001b[0m\u001b[38;2;97;53;69m━\u001b[0m\u001b[38;2;76;56;63m━\u001b[0m\u001b[38;2;62;57;59m━\u001b[0m\u001b[38;2;58;58;58m━\u001b[0m\u001b[38;2;62;57;59m━\u001b[0m\u001b[38;2;76;56;63m━\u001b[0m\u001b[38;2;97;53;69m━\u001b[0m\u001b[38;2;123;51;77m━\u001b[0m\u001b[38;2;153;48;86m━\u001b[0m\u001b[38;2;183;44;94m━\u001b[0m\u001b[38;2;209;42;102m━\u001b[0m\u001b[38;2;230;39;108m━\u001b[0m\u001b[38;2;244;38;112m━\u001b[0m\u001b[38;2;249;38;114m━\u001b[0m\u001b[38;2;244;38;112m━\u001b[0m\u001b[38;2;230;39;108m━\u001b[0m\u001b[38;2;209;42;102m━\u001b[0m\u001b[38;2;183;44;94m━\u001b[0m\u001b[38;2;153;48;86m━\u001b[0m\u001b[38;2;123;51;77m━\u001b[0m\u001b[38;2;97;53;69m━\u001b[0m\u001b[38;2;76;56;63m━\u001b[0m\u001b[38;2;62;57;59m━\u001b[0m\u001b[38;2;58;58;58m━\u001b[0m\u001b[38;2;62;57;59m━\u001b[0m\u001b[38;2;76;56;63m━\u001b[0m\u001b[38;2;97;53;69m━\u001b[0m\u001b[38;2;123;51;77m━\u001b[0m\u001b[38;2;153;48;86m━\u001b[0m\u001b[38;2;183;44;94m━\u001b[0m\u001b[38;2;209;42;102m━\u001b[0m\u001b[38;2;230;39;108m━\u001b[0m  \u001b[36m \u001b[0m\n",
                  "text/html": "<pre style=\"white-space:pre;overflow-x:auto;line-height:normal;font-family:Menlo,'DejaVu Sans Mono',consolas,'Courier New',monospace\">Inference <span style=\"color: #f42670; text-decoration-color: #f42670\">━</span><span style=\"color: #f92672; text-decoration-color: #f92672\">━</span><span style=\"color: #f42670; text-decoration-color: #f42670\">━</span><span style=\"color: #e6276c; text-decoration-color: #e6276c\">━</span><span style=\"color: #d12a66; text-decoration-color: #d12a66\">━</span><span style=\"color: #b72c5e; text-decoration-color: #b72c5e\">━</span><span style=\"color: #993056; text-decoration-color: #993056\">━</span><span style=\"color: #7b334d; text-decoration-color: #7b334d\">━</span><span style=\"color: #613545; text-decoration-color: #613545\">━</span><span style=\"color: #4c383f; text-decoration-color: #4c383f\">━</span><span style=\"color: #3e393b; text-decoration-color: #3e393b\">━</span><span style=\"color: #3a3a3a; text-decoration-color: #3a3a3a\">━</span><span style=\"color: #3e393b; text-decoration-color: #3e393b\">━</span><span style=\"color: #4c383f; text-decoration-color: #4c383f\">━</span><span style=\"color: #613545; text-decoration-color: #613545\">━</span><span style=\"color: #7b334d; text-decoration-color: #7b334d\">━</span><span style=\"color: #993056; text-decoration-color: #993056\">━</span><span style=\"color: #b72c5e; text-decoration-color: #b72c5e\">━</span><span style=\"color: #d12a66; text-decoration-color: #d12a66\">━</span><span style=\"color: #e6276c; text-decoration-color: #e6276c\">━</span><span style=\"color: #f42670; text-decoration-color: #f42670\">━</span><span style=\"color: #f92672; text-decoration-color: #f92672\">━</span><span style=\"color: #f42670; text-decoration-color: #f42670\">━</span><span style=\"color: #e6276c; text-decoration-color: #e6276c\">━</span><span style=\"color: #d12a66; text-decoration-color: #d12a66\">━</span><span style=\"color: #b72c5e; text-decoration-color: #b72c5e\">━</span><span style=\"color: #993056; text-decoration-color: #993056\">━</span><span style=\"color: #7b334d; text-decoration-color: #7b334d\">━</span><span style=\"color: #613545; text-decoration-color: #613545\">━</span><span style=\"color: #4c383f; text-decoration-color: #4c383f\">━</span><span style=\"color: #3e393b; text-decoration-color: #3e393b\">━</span><span style=\"color: #3a3a3a; text-decoration-color: #3a3a3a\">━</span><span style=\"color: #3e393b; text-decoration-color: #3e393b\">━</span><span style=\"color: #4c383f; text-decoration-color: #4c383f\">━</span><span style=\"color: #613545; text-decoration-color: #613545\">━</span><span style=\"color: #7b334d; text-decoration-color: #7b334d\">━</span><span style=\"color: #993056; text-decoration-color: #993056\">━</span><span style=\"color: #b72c5e; text-decoration-color: #b72c5e\">━</span><span style=\"color: #d12a66; text-decoration-color: #d12a66\">━</span><span style=\"color: #e6276c; text-decoration-color: #e6276c\">━</span>  <span style=\"color: #008080; text-decoration-color: #008080\"> </span>\n</pre>\n"
                },
                "metadata": {}
              }
            ]
          }
        },
        "efb297454b90497585fed254325cb742": {
          "model_module": "@jupyter-widgets/base",
          "model_name": "LayoutModel",
          "model_module_version": "1.2.0",
          "state": {
            "_model_module": "@jupyter-widgets/base",
            "_model_module_version": "1.2.0",
            "_model_name": "LayoutModel",
            "_view_count": null,
            "_view_module": "@jupyter-widgets/base",
            "_view_module_version": "1.2.0",
            "_view_name": "LayoutView",
            "align_content": null,
            "align_items": null,
            "align_self": null,
            "border": null,
            "bottom": null,
            "display": null,
            "flex": null,
            "flex_flow": null,
            "grid_area": null,
            "grid_auto_columns": null,
            "grid_auto_flow": null,
            "grid_auto_rows": null,
            "grid_column": null,
            "grid_gap": null,
            "grid_row": null,
            "grid_template_areas": null,
            "grid_template_columns": null,
            "grid_template_rows": null,
            "height": null,
            "justify_content": null,
            "justify_items": null,
            "left": null,
            "margin": null,
            "max_height": null,
            "max_width": null,
            "min_height": null,
            "min_width": null,
            "object_fit": null,
            "object_position": null,
            "order": null,
            "overflow": null,
            "overflow_x": null,
            "overflow_y": null,
            "padding": null,
            "right": null,
            "top": null,
            "visibility": null,
            "width": null
          }
        },
        "a6d0a10b72634aaca1b240121240bc08": {
          "model_module": "@jupyter-widgets/output",
          "model_name": "OutputModel",
          "model_module_version": "1.0.0",
          "state": {
            "_dom_classes": [],
            "_model_module": "@jupyter-widgets/output",
            "_model_module_version": "1.0.0",
            "_model_name": "OutputModel",
            "_view_count": null,
            "_view_module": "@jupyter-widgets/output",
            "_view_module_version": "1.0.0",
            "_view_name": "OutputView",
            "layout": "IPY_MODEL_e474603cc2274f2fba2d34c72e9aadd8",
            "msg_id": "",
            "outputs": [
              {
                "output_type": "display_data",
                "data": {
                  "text/plain": "Inference \u001b[38;2;153;48;86m━\u001b[0m\u001b[38;2;183;44;94m━\u001b[0m\u001b[38;2;209;42;102m━\u001b[0m\u001b[38;2;230;39;108m━\u001b[0m\u001b[38;2;244;38;112m━\u001b[0m\u001b[38;2;249;38;114m━\u001b[0m\u001b[38;2;244;38;112m━\u001b[0m\u001b[38;2;230;39;108m━\u001b[0m\u001b[38;2;209;42;102m━\u001b[0m\u001b[38;2;183;44;94m━\u001b[0m\u001b[38;2;153;48;86m━\u001b[0m\u001b[38;2;123;51;77m━\u001b[0m\u001b[38;2;97;53;69m━\u001b[0m\u001b[38;2;76;56;63m━\u001b[0m\u001b[38;2;62;57;59m━\u001b[0m\u001b[38;2;58;58;58m━\u001b[0m\u001b[38;2;62;57;59m━\u001b[0m\u001b[38;2;76;56;63m━\u001b[0m\u001b[38;2;97;53;69m━\u001b[0m\u001b[38;2;123;51;77m━\u001b[0m\u001b[38;2;153;48;86m━\u001b[0m\u001b[38;2;183;44;94m━\u001b[0m\u001b[38;2;209;42;102m━\u001b[0m\u001b[38;2;230;39;108m━\u001b[0m\u001b[38;2;244;38;112m━\u001b[0m\u001b[38;2;249;38;114m━\u001b[0m\u001b[38;2;244;38;112m━\u001b[0m\u001b[38;2;230;39;108m━\u001b[0m\u001b[38;2;209;42;102m━\u001b[0m\u001b[38;2;183;44;94m━\u001b[0m\u001b[38;2;153;48;86m━\u001b[0m\u001b[38;2;123;51;77m━\u001b[0m\u001b[38;2;97;53;69m━\u001b[0m\u001b[38;2;76;56;63m━\u001b[0m\u001b[38;2;62;57;59m━\u001b[0m\u001b[38;2;58;58;58m━\u001b[0m\u001b[38;2;62;57;59m━\u001b[0m\u001b[38;2;76;56;63m━\u001b[0m\u001b[38;2;97;53;69m━\u001b[0m\u001b[38;2;123;51;77m━\u001b[0m  \u001b[36m \u001b[0m\n",
                  "text/html": "<pre style=\"white-space:pre;overflow-x:auto;line-height:normal;font-family:Menlo,'DejaVu Sans Mono',consolas,'Courier New',monospace\">Inference <span style=\"color: #993056; text-decoration-color: #993056\">━</span><span style=\"color: #b72c5e; text-decoration-color: #b72c5e\">━</span><span style=\"color: #d12a66; text-decoration-color: #d12a66\">━</span><span style=\"color: #e6276c; text-decoration-color: #e6276c\">━</span><span style=\"color: #f42670; text-decoration-color: #f42670\">━</span><span style=\"color: #f92672; text-decoration-color: #f92672\">━</span><span style=\"color: #f42670; text-decoration-color: #f42670\">━</span><span style=\"color: #e6276c; text-decoration-color: #e6276c\">━</span><span style=\"color: #d12a66; text-decoration-color: #d12a66\">━</span><span style=\"color: #b72c5e; text-decoration-color: #b72c5e\">━</span><span style=\"color: #993056; text-decoration-color: #993056\">━</span><span style=\"color: #7b334d; text-decoration-color: #7b334d\">━</span><span style=\"color: #613545; text-decoration-color: #613545\">━</span><span style=\"color: #4c383f; text-decoration-color: #4c383f\">━</span><span style=\"color: #3e393b; text-decoration-color: #3e393b\">━</span><span style=\"color: #3a3a3a; text-decoration-color: #3a3a3a\">━</span><span style=\"color: #3e393b; text-decoration-color: #3e393b\">━</span><span style=\"color: #4c383f; text-decoration-color: #4c383f\">━</span><span style=\"color: #613545; text-decoration-color: #613545\">━</span><span style=\"color: #7b334d; text-decoration-color: #7b334d\">━</span><span style=\"color: #993056; text-decoration-color: #993056\">━</span><span style=\"color: #b72c5e; text-decoration-color: #b72c5e\">━</span><span style=\"color: #d12a66; text-decoration-color: #d12a66\">━</span><span style=\"color: #e6276c; text-decoration-color: #e6276c\">━</span><span style=\"color: #f42670; text-decoration-color: #f42670\">━</span><span style=\"color: #f92672; text-decoration-color: #f92672\">━</span><span style=\"color: #f42670; text-decoration-color: #f42670\">━</span><span style=\"color: #e6276c; text-decoration-color: #e6276c\">━</span><span style=\"color: #d12a66; text-decoration-color: #d12a66\">━</span><span style=\"color: #b72c5e; text-decoration-color: #b72c5e\">━</span><span style=\"color: #993056; text-decoration-color: #993056\">━</span><span style=\"color: #7b334d; text-decoration-color: #7b334d\">━</span><span style=\"color: #613545; text-decoration-color: #613545\">━</span><span style=\"color: #4c383f; text-decoration-color: #4c383f\">━</span><span style=\"color: #3e393b; text-decoration-color: #3e393b\">━</span><span style=\"color: #3a3a3a; text-decoration-color: #3a3a3a\">━</span><span style=\"color: #3e393b; text-decoration-color: #3e393b\">━</span><span style=\"color: #4c383f; text-decoration-color: #4c383f\">━</span><span style=\"color: #613545; text-decoration-color: #613545\">━</span><span style=\"color: #7b334d; text-decoration-color: #7b334d\">━</span>  <span style=\"color: #008080; text-decoration-color: #008080\"> </span>\n</pre>\n"
                },
                "metadata": {}
              }
            ]
          }
        },
        "e474603cc2274f2fba2d34c72e9aadd8": {
          "model_module": "@jupyter-widgets/base",
          "model_name": "LayoutModel",
          "model_module_version": "1.2.0",
          "state": {
            "_model_module": "@jupyter-widgets/base",
            "_model_module_version": "1.2.0",
            "_model_name": "LayoutModel",
            "_view_count": null,
            "_view_module": "@jupyter-widgets/base",
            "_view_module_version": "1.2.0",
            "_view_name": "LayoutView",
            "align_content": null,
            "align_items": null,
            "align_self": null,
            "border": null,
            "bottom": null,
            "display": null,
            "flex": null,
            "flex_flow": null,
            "grid_area": null,
            "grid_auto_columns": null,
            "grid_auto_flow": null,
            "grid_auto_rows": null,
            "grid_column": null,
            "grid_gap": null,
            "grid_row": null,
            "grid_template_areas": null,
            "grid_template_columns": null,
            "grid_template_rows": null,
            "height": null,
            "justify_content": null,
            "justify_items": null,
            "left": null,
            "margin": null,
            "max_height": null,
            "max_width": null,
            "min_height": null,
            "min_width": null,
            "object_fit": null,
            "object_position": null,
            "order": null,
            "overflow": null,
            "overflow_x": null,
            "overflow_y": null,
            "padding": null,
            "right": null,
            "top": null,
            "visibility": null,
            "width": null
          }
        },
        "4e95927e2c7c456ba282003908ae042b": {
          "model_module": "@jupyter-widgets/output",
          "model_name": "OutputModel",
          "model_module_version": "1.0.0",
          "state": {
            "_dom_classes": [],
            "_model_module": "@jupyter-widgets/output",
            "_model_module_version": "1.0.0",
            "_model_name": "OutputModel",
            "_view_count": null,
            "_view_module": "@jupyter-widgets/output",
            "_view_module_version": "1.0.0",
            "_view_name": "OutputView",
            "layout": "IPY_MODEL_1f61aad1dd4c49c7b38663fdd25f7eec",
            "msg_id": "",
            "outputs": [
              {
                "output_type": "display_data",
                "data": {
                  "text/plain": "Inference \u001b[38;2;244;38;112m━\u001b[0m\u001b[38;2;249;38;114m━\u001b[0m\u001b[38;2;244;38;112m━\u001b[0m\u001b[38;2;230;39;108m━\u001b[0m\u001b[38;2;209;42;102m━\u001b[0m\u001b[38;2;183;44;94m━\u001b[0m\u001b[38;2;153;48;86m━\u001b[0m\u001b[38;2;123;51;77m━\u001b[0m\u001b[38;2;97;53;69m━\u001b[0m\u001b[38;2;76;56;63m━\u001b[0m\u001b[38;2;62;57;59m━\u001b[0m\u001b[38;2;58;58;58m━\u001b[0m\u001b[38;2;62;57;59m━\u001b[0m\u001b[38;2;76;56;63m━\u001b[0m\u001b[38;2;97;53;69m━\u001b[0m\u001b[38;2;123;51;77m━\u001b[0m\u001b[38;2;153;48;86m━\u001b[0m\u001b[38;2;183;44;94m━\u001b[0m\u001b[38;2;209;42;102m━\u001b[0m\u001b[38;2;230;39;108m━\u001b[0m\u001b[38;2;244;38;112m━\u001b[0m\u001b[38;2;249;38;114m━\u001b[0m\u001b[38;2;244;38;112m━\u001b[0m\u001b[38;2;230;39;108m━\u001b[0m\u001b[38;2;209;42;102m━\u001b[0m\u001b[38;2;183;44;94m━\u001b[0m\u001b[38;2;153;48;86m━\u001b[0m\u001b[38;2;123;51;77m━\u001b[0m\u001b[38;2;97;53;69m━\u001b[0m\u001b[38;2;76;56;63m━\u001b[0m\u001b[38;2;62;57;59m━\u001b[0m\u001b[38;2;58;58;58m━\u001b[0m\u001b[38;2;62;57;59m━\u001b[0m\u001b[38;2;76;56;63m━\u001b[0m\u001b[38;2;97;53;69m━\u001b[0m\u001b[38;2;123;51;77m━\u001b[0m\u001b[38;2;153;48;86m━\u001b[0m\u001b[38;2;183;44;94m━\u001b[0m\u001b[38;2;209;42;102m━\u001b[0m\u001b[38;2;230;39;108m━\u001b[0m  \u001b[36m \u001b[0m\n",
                  "text/html": "<pre style=\"white-space:pre;overflow-x:auto;line-height:normal;font-family:Menlo,'DejaVu Sans Mono',consolas,'Courier New',monospace\">Inference <span style=\"color: #f42670; text-decoration-color: #f42670\">━</span><span style=\"color: #f92672; text-decoration-color: #f92672\">━</span><span style=\"color: #f42670; text-decoration-color: #f42670\">━</span><span style=\"color: #e6276c; text-decoration-color: #e6276c\">━</span><span style=\"color: #d12a66; text-decoration-color: #d12a66\">━</span><span style=\"color: #b72c5e; text-decoration-color: #b72c5e\">━</span><span style=\"color: #993056; text-decoration-color: #993056\">━</span><span style=\"color: #7b334d; text-decoration-color: #7b334d\">━</span><span style=\"color: #613545; text-decoration-color: #613545\">━</span><span style=\"color: #4c383f; text-decoration-color: #4c383f\">━</span><span style=\"color: #3e393b; text-decoration-color: #3e393b\">━</span><span style=\"color: #3a3a3a; text-decoration-color: #3a3a3a\">━</span><span style=\"color: #3e393b; text-decoration-color: #3e393b\">━</span><span style=\"color: #4c383f; text-decoration-color: #4c383f\">━</span><span style=\"color: #613545; text-decoration-color: #613545\">━</span><span style=\"color: #7b334d; text-decoration-color: #7b334d\">━</span><span style=\"color: #993056; text-decoration-color: #993056\">━</span><span style=\"color: #b72c5e; text-decoration-color: #b72c5e\">━</span><span style=\"color: #d12a66; text-decoration-color: #d12a66\">━</span><span style=\"color: #e6276c; text-decoration-color: #e6276c\">━</span><span style=\"color: #f42670; text-decoration-color: #f42670\">━</span><span style=\"color: #f92672; text-decoration-color: #f92672\">━</span><span style=\"color: #f42670; text-decoration-color: #f42670\">━</span><span style=\"color: #e6276c; text-decoration-color: #e6276c\">━</span><span style=\"color: #d12a66; text-decoration-color: #d12a66\">━</span><span style=\"color: #b72c5e; text-decoration-color: #b72c5e\">━</span><span style=\"color: #993056; text-decoration-color: #993056\">━</span><span style=\"color: #7b334d; text-decoration-color: #7b334d\">━</span><span style=\"color: #613545; text-decoration-color: #613545\">━</span><span style=\"color: #4c383f; text-decoration-color: #4c383f\">━</span><span style=\"color: #3e393b; text-decoration-color: #3e393b\">━</span><span style=\"color: #3a3a3a; text-decoration-color: #3a3a3a\">━</span><span style=\"color: #3e393b; text-decoration-color: #3e393b\">━</span><span style=\"color: #4c383f; text-decoration-color: #4c383f\">━</span><span style=\"color: #613545; text-decoration-color: #613545\">━</span><span style=\"color: #7b334d; text-decoration-color: #7b334d\">━</span><span style=\"color: #993056; text-decoration-color: #993056\">━</span><span style=\"color: #b72c5e; text-decoration-color: #b72c5e\">━</span><span style=\"color: #d12a66; text-decoration-color: #d12a66\">━</span><span style=\"color: #e6276c; text-decoration-color: #e6276c\">━</span>  <span style=\"color: #008080; text-decoration-color: #008080\"> </span>\n</pre>\n"
                },
                "metadata": {}
              }
            ]
          }
        },
        "1f61aad1dd4c49c7b38663fdd25f7eec": {
          "model_module": "@jupyter-widgets/base",
          "model_name": "LayoutModel",
          "model_module_version": "1.2.0",
          "state": {
            "_model_module": "@jupyter-widgets/base",
            "_model_module_version": "1.2.0",
            "_model_name": "LayoutModel",
            "_view_count": null,
            "_view_module": "@jupyter-widgets/base",
            "_view_module_version": "1.2.0",
            "_view_name": "LayoutView",
            "align_content": null,
            "align_items": null,
            "align_self": null,
            "border": null,
            "bottom": null,
            "display": null,
            "flex": null,
            "flex_flow": null,
            "grid_area": null,
            "grid_auto_columns": null,
            "grid_auto_flow": null,
            "grid_auto_rows": null,
            "grid_column": null,
            "grid_gap": null,
            "grid_row": null,
            "grid_template_areas": null,
            "grid_template_columns": null,
            "grid_template_rows": null,
            "height": null,
            "justify_content": null,
            "justify_items": null,
            "left": null,
            "margin": null,
            "max_height": null,
            "max_width": null,
            "min_height": null,
            "min_width": null,
            "object_fit": null,
            "object_position": null,
            "order": null,
            "overflow": null,
            "overflow_x": null,
            "overflow_y": null,
            "padding": null,
            "right": null,
            "top": null,
            "visibility": null,
            "width": null
          }
        },
        "b26cdfaba5ac42edba86ab9435633890": {
          "model_module": "@jupyter-widgets/output",
          "model_name": "OutputModel",
          "model_module_version": "1.0.0",
          "state": {
            "_dom_classes": [],
            "_model_module": "@jupyter-widgets/output",
            "_model_module_version": "1.0.0",
            "_model_name": "OutputModel",
            "_view_count": null,
            "_view_module": "@jupyter-widgets/output",
            "_view_module_version": "1.0.0",
            "_view_name": "OutputView",
            "layout": "IPY_MODEL_e0b1903fbd674c4da713c4d992807b37",
            "msg_id": "",
            "outputs": [
              {
                "output_type": "display_data",
                "data": {
                  "text/plain": "Inference \u001b[38;2;62;57;59m━\u001b[0m\u001b[38;2;58;58;58m━\u001b[0m\u001b[38;2;62;57;59m━\u001b[0m\u001b[38;2;76;56;63m━\u001b[0m\u001b[38;2;97;53;69m━\u001b[0m\u001b[38;2;123;51;77m━\u001b[0m\u001b[38;2;153;48;86m━\u001b[0m\u001b[38;2;183;44;94m━\u001b[0m\u001b[38;2;209;42;102m━\u001b[0m\u001b[38;2;230;39;108m━\u001b[0m\u001b[38;2;244;38;112m━\u001b[0m\u001b[38;2;249;38;114m━\u001b[0m\u001b[38;2;244;38;112m━\u001b[0m\u001b[38;2;230;39;108m━\u001b[0m\u001b[38;2;209;42;102m━\u001b[0m\u001b[38;2;183;44;94m━\u001b[0m\u001b[38;2;153;48;86m━\u001b[0m\u001b[38;2;123;51;77m━\u001b[0m\u001b[38;2;97;53;69m━\u001b[0m\u001b[38;2;76;56;63m━\u001b[0m\u001b[38;2;62;57;59m━\u001b[0m\u001b[38;2;58;58;58m━\u001b[0m\u001b[38;2;62;57;59m━\u001b[0m\u001b[38;2;76;56;63m━\u001b[0m\u001b[38;2;97;53;69m━\u001b[0m\u001b[38;2;123;51;77m━\u001b[0m\u001b[38;2;153;48;86m━\u001b[0m\u001b[38;2;183;44;94m━\u001b[0m\u001b[38;2;209;42;102m━\u001b[0m\u001b[38;2;230;39;108m━\u001b[0m\u001b[38;2;244;38;112m━\u001b[0m\u001b[38;2;249;38;114m━\u001b[0m\u001b[38;2;244;38;112m━\u001b[0m\u001b[38;2;230;39;108m━\u001b[0m\u001b[38;2;209;42;102m━\u001b[0m\u001b[38;2;183;44;94m━\u001b[0m\u001b[38;2;153;48;86m━\u001b[0m\u001b[38;2;123;51;77m━\u001b[0m\u001b[38;2;97;53;69m━\u001b[0m\u001b[38;2;76;56;63m━\u001b[0m  \u001b[36m \u001b[0m\n",
                  "text/html": "<pre style=\"white-space:pre;overflow-x:auto;line-height:normal;font-family:Menlo,'DejaVu Sans Mono',consolas,'Courier New',monospace\">Inference <span style=\"color: #3e393b; text-decoration-color: #3e393b\">━</span><span style=\"color: #3a3a3a; text-decoration-color: #3a3a3a\">━</span><span style=\"color: #3e393b; text-decoration-color: #3e393b\">━</span><span style=\"color: #4c383f; text-decoration-color: #4c383f\">━</span><span style=\"color: #613545; text-decoration-color: #613545\">━</span><span style=\"color: #7b334d; text-decoration-color: #7b334d\">━</span><span style=\"color: #993056; text-decoration-color: #993056\">━</span><span style=\"color: #b72c5e; text-decoration-color: #b72c5e\">━</span><span style=\"color: #d12a66; text-decoration-color: #d12a66\">━</span><span style=\"color: #e6276c; text-decoration-color: #e6276c\">━</span><span style=\"color: #f42670; text-decoration-color: #f42670\">━</span><span style=\"color: #f92672; text-decoration-color: #f92672\">━</span><span style=\"color: #f42670; text-decoration-color: #f42670\">━</span><span style=\"color: #e6276c; text-decoration-color: #e6276c\">━</span><span style=\"color: #d12a66; text-decoration-color: #d12a66\">━</span><span style=\"color: #b72c5e; text-decoration-color: #b72c5e\">━</span><span style=\"color: #993056; text-decoration-color: #993056\">━</span><span style=\"color: #7b334d; text-decoration-color: #7b334d\">━</span><span style=\"color: #613545; text-decoration-color: #613545\">━</span><span style=\"color: #4c383f; text-decoration-color: #4c383f\">━</span><span style=\"color: #3e393b; text-decoration-color: #3e393b\">━</span><span style=\"color: #3a3a3a; text-decoration-color: #3a3a3a\">━</span><span style=\"color: #3e393b; text-decoration-color: #3e393b\">━</span><span style=\"color: #4c383f; text-decoration-color: #4c383f\">━</span><span style=\"color: #613545; text-decoration-color: #613545\">━</span><span style=\"color: #7b334d; text-decoration-color: #7b334d\">━</span><span style=\"color: #993056; text-decoration-color: #993056\">━</span><span style=\"color: #b72c5e; text-decoration-color: #b72c5e\">━</span><span style=\"color: #d12a66; text-decoration-color: #d12a66\">━</span><span style=\"color: #e6276c; text-decoration-color: #e6276c\">━</span><span style=\"color: #f42670; text-decoration-color: #f42670\">━</span><span style=\"color: #f92672; text-decoration-color: #f92672\">━</span><span style=\"color: #f42670; text-decoration-color: #f42670\">━</span><span style=\"color: #e6276c; text-decoration-color: #e6276c\">━</span><span style=\"color: #d12a66; text-decoration-color: #d12a66\">━</span><span style=\"color: #b72c5e; text-decoration-color: #b72c5e\">━</span><span style=\"color: #993056; text-decoration-color: #993056\">━</span><span style=\"color: #7b334d; text-decoration-color: #7b334d\">━</span><span style=\"color: #613545; text-decoration-color: #613545\">━</span><span style=\"color: #4c383f; text-decoration-color: #4c383f\">━</span>  <span style=\"color: #008080; text-decoration-color: #008080\"> </span>\n</pre>\n"
                },
                "metadata": {}
              }
            ]
          }
        },
        "e0b1903fbd674c4da713c4d992807b37": {
          "model_module": "@jupyter-widgets/base",
          "model_name": "LayoutModel",
          "model_module_version": "1.2.0",
          "state": {
            "_model_module": "@jupyter-widgets/base",
            "_model_module_version": "1.2.0",
            "_model_name": "LayoutModel",
            "_view_count": null,
            "_view_module": "@jupyter-widgets/base",
            "_view_module_version": "1.2.0",
            "_view_name": "LayoutView",
            "align_content": null,
            "align_items": null,
            "align_self": null,
            "border": null,
            "bottom": null,
            "display": null,
            "flex": null,
            "flex_flow": null,
            "grid_area": null,
            "grid_auto_columns": null,
            "grid_auto_flow": null,
            "grid_auto_rows": null,
            "grid_column": null,
            "grid_gap": null,
            "grid_row": null,
            "grid_template_areas": null,
            "grid_template_columns": null,
            "grid_template_rows": null,
            "height": null,
            "justify_content": null,
            "justify_items": null,
            "left": null,
            "margin": null,
            "max_height": null,
            "max_width": null,
            "min_height": null,
            "min_width": null,
            "object_fit": null,
            "object_position": null,
            "order": null,
            "overflow": null,
            "overflow_x": null,
            "overflow_y": null,
            "padding": null,
            "right": null,
            "top": null,
            "visibility": null,
            "width": null
          }
        },
        "b2fb1418c5cd4e548d4bd239e142b9b2": {
          "model_module": "@jupyter-widgets/output",
          "model_name": "OutputModel",
          "model_module_version": "1.0.0",
          "state": {
            "_dom_classes": [],
            "_model_module": "@jupyter-widgets/output",
            "_model_module_version": "1.0.0",
            "_model_name": "OutputModel",
            "_view_count": null,
            "_view_module": "@jupyter-widgets/output",
            "_view_module_version": "1.0.0",
            "_view_name": "OutputView",
            "layout": "IPY_MODEL_78fe23c7a0764392a935e76a7db00aa7",
            "msg_id": "",
            "outputs": [
              {
                "output_type": "display_data",
                "data": {
                  "text/plain": "Inference \u001b[38;2;249;38;114m━\u001b[0m\u001b[38;2;244;38;112m━\u001b[0m\u001b[38;2;230;39;108m━\u001b[0m\u001b[38;2;209;42;102m━\u001b[0m\u001b[38;2;183;44;94m━\u001b[0m\u001b[38;2;153;48;86m━\u001b[0m\u001b[38;2;123;51;77m━\u001b[0m\u001b[38;2;97;53;69m━\u001b[0m\u001b[38;2;76;56;63m━\u001b[0m\u001b[38;2;62;57;59m━\u001b[0m\u001b[38;2;58;58;58m━\u001b[0m\u001b[38;2;62;57;59m━\u001b[0m\u001b[38;2;76;56;63m━\u001b[0m\u001b[38;2;97;53;69m━\u001b[0m\u001b[38;2;123;51;77m━\u001b[0m\u001b[38;2;153;48;86m━\u001b[0m\u001b[38;2;183;44;94m━\u001b[0m\u001b[38;2;209;42;102m━\u001b[0m\u001b[38;2;230;39;108m━\u001b[0m\u001b[38;2;244;38;112m━\u001b[0m\u001b[38;2;249;38;114m━\u001b[0m\u001b[38;2;244;38;112m━\u001b[0m\u001b[38;2;230;39;108m━\u001b[0m\u001b[38;2;209;42;102m━\u001b[0m\u001b[38;2;183;44;94m━\u001b[0m\u001b[38;2;153;48;86m━\u001b[0m\u001b[38;2;123;51;77m━\u001b[0m\u001b[38;2;97;53;69m━\u001b[0m\u001b[38;2;76;56;63m━\u001b[0m\u001b[38;2;62;57;59m━\u001b[0m\u001b[38;2;58;58;58m━\u001b[0m\u001b[38;2;62;57;59m━\u001b[0m\u001b[38;2;76;56;63m━\u001b[0m\u001b[38;2;97;53;69m━\u001b[0m\u001b[38;2;123;51;77m━\u001b[0m\u001b[38;2;153;48;86m━\u001b[0m\u001b[38;2;183;44;94m━\u001b[0m\u001b[38;2;209;42;102m━\u001b[0m\u001b[38;2;230;39;108m━\u001b[0m\u001b[38;2;244;38;112m━\u001b[0m  \u001b[36m \u001b[0m\n",
                  "text/html": "<pre style=\"white-space:pre;overflow-x:auto;line-height:normal;font-family:Menlo,'DejaVu Sans Mono',consolas,'Courier New',monospace\">Inference <span style=\"color: #f92672; text-decoration-color: #f92672\">━</span><span style=\"color: #f42670; text-decoration-color: #f42670\">━</span><span style=\"color: #e6276c; text-decoration-color: #e6276c\">━</span><span style=\"color: #d12a66; text-decoration-color: #d12a66\">━</span><span style=\"color: #b72c5e; text-decoration-color: #b72c5e\">━</span><span style=\"color: #993056; text-decoration-color: #993056\">━</span><span style=\"color: #7b334d; text-decoration-color: #7b334d\">━</span><span style=\"color: #613545; text-decoration-color: #613545\">━</span><span style=\"color: #4c383f; text-decoration-color: #4c383f\">━</span><span style=\"color: #3e393b; text-decoration-color: #3e393b\">━</span><span style=\"color: #3a3a3a; text-decoration-color: #3a3a3a\">━</span><span style=\"color: #3e393b; text-decoration-color: #3e393b\">━</span><span style=\"color: #4c383f; text-decoration-color: #4c383f\">━</span><span style=\"color: #613545; text-decoration-color: #613545\">━</span><span style=\"color: #7b334d; text-decoration-color: #7b334d\">━</span><span style=\"color: #993056; text-decoration-color: #993056\">━</span><span style=\"color: #b72c5e; text-decoration-color: #b72c5e\">━</span><span style=\"color: #d12a66; text-decoration-color: #d12a66\">━</span><span style=\"color: #e6276c; text-decoration-color: #e6276c\">━</span><span style=\"color: #f42670; text-decoration-color: #f42670\">━</span><span style=\"color: #f92672; text-decoration-color: #f92672\">━</span><span style=\"color: #f42670; text-decoration-color: #f42670\">━</span><span style=\"color: #e6276c; text-decoration-color: #e6276c\">━</span><span style=\"color: #d12a66; text-decoration-color: #d12a66\">━</span><span style=\"color: #b72c5e; text-decoration-color: #b72c5e\">━</span><span style=\"color: #993056; text-decoration-color: #993056\">━</span><span style=\"color: #7b334d; text-decoration-color: #7b334d\">━</span><span style=\"color: #613545; text-decoration-color: #613545\">━</span><span style=\"color: #4c383f; text-decoration-color: #4c383f\">━</span><span style=\"color: #3e393b; text-decoration-color: #3e393b\">━</span><span style=\"color: #3a3a3a; text-decoration-color: #3a3a3a\">━</span><span style=\"color: #3e393b; text-decoration-color: #3e393b\">━</span><span style=\"color: #4c383f; text-decoration-color: #4c383f\">━</span><span style=\"color: #613545; text-decoration-color: #613545\">━</span><span style=\"color: #7b334d; text-decoration-color: #7b334d\">━</span><span style=\"color: #993056; text-decoration-color: #993056\">━</span><span style=\"color: #b72c5e; text-decoration-color: #b72c5e\">━</span><span style=\"color: #d12a66; text-decoration-color: #d12a66\">━</span><span style=\"color: #e6276c; text-decoration-color: #e6276c\">━</span><span style=\"color: #f42670; text-decoration-color: #f42670\">━</span>  <span style=\"color: #008080; text-decoration-color: #008080\"> </span>\n</pre>\n"
                },
                "metadata": {}
              }
            ]
          }
        },
        "78fe23c7a0764392a935e76a7db00aa7": {
          "model_module": "@jupyter-widgets/base",
          "model_name": "LayoutModel",
          "model_module_version": "1.2.0",
          "state": {
            "_model_module": "@jupyter-widgets/base",
            "_model_module_version": "1.2.0",
            "_model_name": "LayoutModel",
            "_view_count": null,
            "_view_module": "@jupyter-widgets/base",
            "_view_module_version": "1.2.0",
            "_view_name": "LayoutView",
            "align_content": null,
            "align_items": null,
            "align_self": null,
            "border": null,
            "bottom": null,
            "display": null,
            "flex": null,
            "flex_flow": null,
            "grid_area": null,
            "grid_auto_columns": null,
            "grid_auto_flow": null,
            "grid_auto_rows": null,
            "grid_column": null,
            "grid_gap": null,
            "grid_row": null,
            "grid_template_areas": null,
            "grid_template_columns": null,
            "grid_template_rows": null,
            "height": null,
            "justify_content": null,
            "justify_items": null,
            "left": null,
            "margin": null,
            "max_height": null,
            "max_width": null,
            "min_height": null,
            "min_width": null,
            "object_fit": null,
            "object_position": null,
            "order": null,
            "overflow": null,
            "overflow_x": null,
            "overflow_y": null,
            "padding": null,
            "right": null,
            "top": null,
            "visibility": null,
            "width": null
          }
        },
        "3dae7146aa774e188488367d779fd1b8": {
          "model_module": "@jupyter-widgets/output",
          "model_name": "OutputModel",
          "model_module_version": "1.0.0",
          "state": {
            "_dom_classes": [],
            "_model_module": "@jupyter-widgets/output",
            "_model_module_version": "1.0.0",
            "_model_name": "OutputModel",
            "_view_count": null,
            "_view_module": "@jupyter-widgets/output",
            "_view_module_version": "1.0.0",
            "_view_name": "OutputView",
            "layout": "IPY_MODEL_e6d1d3d457794f988a9dce4fb62644ea",
            "msg_id": "",
            "outputs": [
              {
                "output_type": "display_data",
                "data": {
                  "text/plain": "Inference \u001b[38;2;183;44;94m━\u001b[0m\u001b[38;2;209;42;102m━\u001b[0m\u001b[38;2;230;39;108m━\u001b[0m\u001b[38;2;244;38;112m━\u001b[0m\u001b[38;2;249;38;114m━\u001b[0m\u001b[38;2;244;38;112m━\u001b[0m\u001b[38;2;230;39;108m━\u001b[0m\u001b[38;2;209;42;102m━\u001b[0m\u001b[38;2;183;44;94m━\u001b[0m\u001b[38;2;153;48;86m━\u001b[0m\u001b[38;2;123;51;77m━\u001b[0m\u001b[38;2;97;53;69m━\u001b[0m\u001b[38;2;76;56;63m━\u001b[0m\u001b[38;2;62;57;59m━\u001b[0m\u001b[38;2;58;58;58m━\u001b[0m\u001b[38;2;62;57;59m━\u001b[0m\u001b[38;2;76;56;63m━\u001b[0m\u001b[38;2;97;53;69m━\u001b[0m\u001b[38;2;123;51;77m━\u001b[0m\u001b[38;2;153;48;86m━\u001b[0m\u001b[38;2;183;44;94m━\u001b[0m\u001b[38;2;209;42;102m━\u001b[0m\u001b[38;2;230;39;108m━\u001b[0m\u001b[38;2;244;38;112m━\u001b[0m\u001b[38;2;249;38;114m━\u001b[0m\u001b[38;2;244;38;112m━\u001b[0m\u001b[38;2;230;39;108m━\u001b[0m\u001b[38;2;209;42;102m━\u001b[0m\u001b[38;2;183;44;94m━\u001b[0m\u001b[38;2;153;48;86m━\u001b[0m\u001b[38;2;123;51;77m━\u001b[0m\u001b[38;2;97;53;69m━\u001b[0m\u001b[38;2;76;56;63m━\u001b[0m\u001b[38;2;62;57;59m━\u001b[0m\u001b[38;2;58;58;58m━\u001b[0m\u001b[38;2;62;57;59m━\u001b[0m\u001b[38;2;76;56;63m━\u001b[0m\u001b[38;2;97;53;69m━\u001b[0m\u001b[38;2;123;51;77m━\u001b[0m\u001b[38;2;153;48;86m━\u001b[0m  \u001b[36m \u001b[0m\n",
                  "text/html": "<pre style=\"white-space:pre;overflow-x:auto;line-height:normal;font-family:Menlo,'DejaVu Sans Mono',consolas,'Courier New',monospace\">Inference <span style=\"color: #b72c5e; text-decoration-color: #b72c5e\">━</span><span style=\"color: #d12a66; text-decoration-color: #d12a66\">━</span><span style=\"color: #e6276c; text-decoration-color: #e6276c\">━</span><span style=\"color: #f42670; text-decoration-color: #f42670\">━</span><span style=\"color: #f92672; text-decoration-color: #f92672\">━</span><span style=\"color: #f42670; text-decoration-color: #f42670\">━</span><span style=\"color: #e6276c; text-decoration-color: #e6276c\">━</span><span style=\"color: #d12a66; text-decoration-color: #d12a66\">━</span><span style=\"color: #b72c5e; text-decoration-color: #b72c5e\">━</span><span style=\"color: #993056; text-decoration-color: #993056\">━</span><span style=\"color: #7b334d; text-decoration-color: #7b334d\">━</span><span style=\"color: #613545; text-decoration-color: #613545\">━</span><span style=\"color: #4c383f; text-decoration-color: #4c383f\">━</span><span style=\"color: #3e393b; text-decoration-color: #3e393b\">━</span><span style=\"color: #3a3a3a; text-decoration-color: #3a3a3a\">━</span><span style=\"color: #3e393b; text-decoration-color: #3e393b\">━</span><span style=\"color: #4c383f; text-decoration-color: #4c383f\">━</span><span style=\"color: #613545; text-decoration-color: #613545\">━</span><span style=\"color: #7b334d; text-decoration-color: #7b334d\">━</span><span style=\"color: #993056; text-decoration-color: #993056\">━</span><span style=\"color: #b72c5e; text-decoration-color: #b72c5e\">━</span><span style=\"color: #d12a66; text-decoration-color: #d12a66\">━</span><span style=\"color: #e6276c; text-decoration-color: #e6276c\">━</span><span style=\"color: #f42670; text-decoration-color: #f42670\">━</span><span style=\"color: #f92672; text-decoration-color: #f92672\">━</span><span style=\"color: #f42670; text-decoration-color: #f42670\">━</span><span style=\"color: #e6276c; text-decoration-color: #e6276c\">━</span><span style=\"color: #d12a66; text-decoration-color: #d12a66\">━</span><span style=\"color: #b72c5e; text-decoration-color: #b72c5e\">━</span><span style=\"color: #993056; text-decoration-color: #993056\">━</span><span style=\"color: #7b334d; text-decoration-color: #7b334d\">━</span><span style=\"color: #613545; text-decoration-color: #613545\">━</span><span style=\"color: #4c383f; text-decoration-color: #4c383f\">━</span><span style=\"color: #3e393b; text-decoration-color: #3e393b\">━</span><span style=\"color: #3a3a3a; text-decoration-color: #3a3a3a\">━</span><span style=\"color: #3e393b; text-decoration-color: #3e393b\">━</span><span style=\"color: #4c383f; text-decoration-color: #4c383f\">━</span><span style=\"color: #613545; text-decoration-color: #613545\">━</span><span style=\"color: #7b334d; text-decoration-color: #7b334d\">━</span><span style=\"color: #993056; text-decoration-color: #993056\">━</span>  <span style=\"color: #008080; text-decoration-color: #008080\"> </span>\n</pre>\n"
                },
                "metadata": {}
              }
            ]
          }
        },
        "e6d1d3d457794f988a9dce4fb62644ea": {
          "model_module": "@jupyter-widgets/base",
          "model_name": "LayoutModel",
          "model_module_version": "1.2.0",
          "state": {
            "_model_module": "@jupyter-widgets/base",
            "_model_module_version": "1.2.0",
            "_model_name": "LayoutModel",
            "_view_count": null,
            "_view_module": "@jupyter-widgets/base",
            "_view_module_version": "1.2.0",
            "_view_name": "LayoutView",
            "align_content": null,
            "align_items": null,
            "align_self": null,
            "border": null,
            "bottom": null,
            "display": null,
            "flex": null,
            "flex_flow": null,
            "grid_area": null,
            "grid_auto_columns": null,
            "grid_auto_flow": null,
            "grid_auto_rows": null,
            "grid_column": null,
            "grid_gap": null,
            "grid_row": null,
            "grid_template_areas": null,
            "grid_template_columns": null,
            "grid_template_rows": null,
            "height": null,
            "justify_content": null,
            "justify_items": null,
            "left": null,
            "margin": null,
            "max_height": null,
            "max_width": null,
            "min_height": null,
            "min_width": null,
            "object_fit": null,
            "object_position": null,
            "order": null,
            "overflow": null,
            "overflow_x": null,
            "overflow_y": null,
            "padding": null,
            "right": null,
            "top": null,
            "visibility": null,
            "width": null
          }
        },
        "fe1df1f9f3d54d90b62d535cd5489205": {
          "model_module": "@jupyter-widgets/output",
          "model_name": "OutputModel",
          "model_module_version": "1.0.0",
          "state": {
            "_dom_classes": [],
            "_model_module": "@jupyter-widgets/output",
            "_model_module_version": "1.0.0",
            "_model_name": "OutputModel",
            "_view_count": null,
            "_view_module": "@jupyter-widgets/output",
            "_view_module_version": "1.0.0",
            "_view_name": "OutputView",
            "layout": "IPY_MODEL_0fbbf113b2384108aa427b9ea0d2af6e",
            "msg_id": "",
            "outputs": [
              {
                "output_type": "display_data",
                "data": {
                  "text/plain": "Inference \u001b[38;2;244;38;112m━\u001b[0m\u001b[38;2;249;38;114m━\u001b[0m\u001b[38;2;244;38;112m━\u001b[0m\u001b[38;2;230;39;108m━\u001b[0m\u001b[38;2;209;42;102m━\u001b[0m\u001b[38;2;183;44;94m━\u001b[0m\u001b[38;2;153;48;86m━\u001b[0m\u001b[38;2;123;51;77m━\u001b[0m\u001b[38;2;97;53;69m━\u001b[0m\u001b[38;2;76;56;63m━\u001b[0m\u001b[38;2;62;57;59m━\u001b[0m\u001b[38;2;58;58;58m━\u001b[0m\u001b[38;2;62;57;59m━\u001b[0m\u001b[38;2;76;56;63m━\u001b[0m\u001b[38;2;97;53;69m━\u001b[0m\u001b[38;2;123;51;77m━\u001b[0m\u001b[38;2;153;48;86m━\u001b[0m\u001b[38;2;183;44;94m━\u001b[0m\u001b[38;2;209;42;102m━\u001b[0m\u001b[38;2;230;39;108m━\u001b[0m\u001b[38;2;244;38;112m━\u001b[0m\u001b[38;2;249;38;114m━\u001b[0m\u001b[38;2;244;38;112m━\u001b[0m\u001b[38;2;230;39;108m━\u001b[0m\u001b[38;2;209;42;102m━\u001b[0m\u001b[38;2;183;44;94m━\u001b[0m\u001b[38;2;153;48;86m━\u001b[0m\u001b[38;2;123;51;77m━\u001b[0m\u001b[38;2;97;53;69m━\u001b[0m\u001b[38;2;76;56;63m━\u001b[0m\u001b[38;2;62;57;59m━\u001b[0m\u001b[38;2;58;58;58m━\u001b[0m\u001b[38;2;62;57;59m━\u001b[0m\u001b[38;2;76;56;63m━\u001b[0m\u001b[38;2;97;53;69m━\u001b[0m\u001b[38;2;123;51;77m━\u001b[0m\u001b[38;2;153;48;86m━\u001b[0m\u001b[38;2;183;44;94m━\u001b[0m\u001b[38;2;209;42;102m━\u001b[0m\u001b[38;2;230;39;108m━\u001b[0m  \u001b[36m \u001b[0m\n",
                  "text/html": "<pre style=\"white-space:pre;overflow-x:auto;line-height:normal;font-family:Menlo,'DejaVu Sans Mono',consolas,'Courier New',monospace\">Inference <span style=\"color: #f42670; text-decoration-color: #f42670\">━</span><span style=\"color: #f92672; text-decoration-color: #f92672\">━</span><span style=\"color: #f42670; text-decoration-color: #f42670\">━</span><span style=\"color: #e6276c; text-decoration-color: #e6276c\">━</span><span style=\"color: #d12a66; text-decoration-color: #d12a66\">━</span><span style=\"color: #b72c5e; text-decoration-color: #b72c5e\">━</span><span style=\"color: #993056; text-decoration-color: #993056\">━</span><span style=\"color: #7b334d; text-decoration-color: #7b334d\">━</span><span style=\"color: #613545; text-decoration-color: #613545\">━</span><span style=\"color: #4c383f; text-decoration-color: #4c383f\">━</span><span style=\"color: #3e393b; text-decoration-color: #3e393b\">━</span><span style=\"color: #3a3a3a; text-decoration-color: #3a3a3a\">━</span><span style=\"color: #3e393b; text-decoration-color: #3e393b\">━</span><span style=\"color: #4c383f; text-decoration-color: #4c383f\">━</span><span style=\"color: #613545; text-decoration-color: #613545\">━</span><span style=\"color: #7b334d; text-decoration-color: #7b334d\">━</span><span style=\"color: #993056; text-decoration-color: #993056\">━</span><span style=\"color: #b72c5e; text-decoration-color: #b72c5e\">━</span><span style=\"color: #d12a66; text-decoration-color: #d12a66\">━</span><span style=\"color: #e6276c; text-decoration-color: #e6276c\">━</span><span style=\"color: #f42670; text-decoration-color: #f42670\">━</span><span style=\"color: #f92672; text-decoration-color: #f92672\">━</span><span style=\"color: #f42670; text-decoration-color: #f42670\">━</span><span style=\"color: #e6276c; text-decoration-color: #e6276c\">━</span><span style=\"color: #d12a66; text-decoration-color: #d12a66\">━</span><span style=\"color: #b72c5e; text-decoration-color: #b72c5e\">━</span><span style=\"color: #993056; text-decoration-color: #993056\">━</span><span style=\"color: #7b334d; text-decoration-color: #7b334d\">━</span><span style=\"color: #613545; text-decoration-color: #613545\">━</span><span style=\"color: #4c383f; text-decoration-color: #4c383f\">━</span><span style=\"color: #3e393b; text-decoration-color: #3e393b\">━</span><span style=\"color: #3a3a3a; text-decoration-color: #3a3a3a\">━</span><span style=\"color: #3e393b; text-decoration-color: #3e393b\">━</span><span style=\"color: #4c383f; text-decoration-color: #4c383f\">━</span><span style=\"color: #613545; text-decoration-color: #613545\">━</span><span style=\"color: #7b334d; text-decoration-color: #7b334d\">━</span><span style=\"color: #993056; text-decoration-color: #993056\">━</span><span style=\"color: #b72c5e; text-decoration-color: #b72c5e\">━</span><span style=\"color: #d12a66; text-decoration-color: #d12a66\">━</span><span style=\"color: #e6276c; text-decoration-color: #e6276c\">━</span>  <span style=\"color: #008080; text-decoration-color: #008080\"> </span>\n</pre>\n"
                },
                "metadata": {}
              }
            ]
          }
        },
        "0fbbf113b2384108aa427b9ea0d2af6e": {
          "model_module": "@jupyter-widgets/base",
          "model_name": "LayoutModel",
          "model_module_version": "1.2.0",
          "state": {
            "_model_module": "@jupyter-widgets/base",
            "_model_module_version": "1.2.0",
            "_model_name": "LayoutModel",
            "_view_count": null,
            "_view_module": "@jupyter-widgets/base",
            "_view_module_version": "1.2.0",
            "_view_name": "LayoutView",
            "align_content": null,
            "align_items": null,
            "align_self": null,
            "border": null,
            "bottom": null,
            "display": null,
            "flex": null,
            "flex_flow": null,
            "grid_area": null,
            "grid_auto_columns": null,
            "grid_auto_flow": null,
            "grid_auto_rows": null,
            "grid_column": null,
            "grid_gap": null,
            "grid_row": null,
            "grid_template_areas": null,
            "grid_template_columns": null,
            "grid_template_rows": null,
            "height": null,
            "justify_content": null,
            "justify_items": null,
            "left": null,
            "margin": null,
            "max_height": null,
            "max_width": null,
            "min_height": null,
            "min_width": null,
            "object_fit": null,
            "object_position": null,
            "order": null,
            "overflow": null,
            "overflow_x": null,
            "overflow_y": null,
            "padding": null,
            "right": null,
            "top": null,
            "visibility": null,
            "width": null
          }
        },
        "0fd41ed9b43e4653b77eb348b9522e3e": {
          "model_module": "@jupyter-widgets/output",
          "model_name": "OutputModel",
          "model_module_version": "1.0.0",
          "state": {
            "_dom_classes": [],
            "_model_module": "@jupyter-widgets/output",
            "_model_module_version": "1.0.0",
            "_model_name": "OutputModel",
            "_view_count": null,
            "_view_module": "@jupyter-widgets/output",
            "_view_module_version": "1.0.0",
            "_view_name": "OutputView",
            "layout": "IPY_MODEL_823c497bc1a046919a44dc05f9ffb2c9",
            "msg_id": "",
            "outputs": [
              {
                "output_type": "display_data",
                "data": {
                  "text/plain": "Inference \u001b[38;2;183;44;94m━\u001b[0m\u001b[38;2;209;42;102m━\u001b[0m\u001b[38;2;230;39;108m━\u001b[0m\u001b[38;2;244;38;112m━\u001b[0m\u001b[38;2;249;38;114m━\u001b[0m\u001b[38;2;244;38;112m━\u001b[0m\u001b[38;2;230;39;108m━\u001b[0m\u001b[38;2;209;42;102m━\u001b[0m\u001b[38;2;183;44;94m━\u001b[0m\u001b[38;2;153;48;86m━\u001b[0m\u001b[38;2;123;51;77m━\u001b[0m\u001b[38;2;97;53;69m━\u001b[0m\u001b[38;2;76;56;63m━\u001b[0m\u001b[38;2;62;57;59m━\u001b[0m\u001b[38;2;58;58;58m━\u001b[0m\u001b[38;2;62;57;59m━\u001b[0m\u001b[38;2;76;56;63m━\u001b[0m\u001b[38;2;97;53;69m━\u001b[0m\u001b[38;2;123;51;77m━\u001b[0m\u001b[38;2;153;48;86m━\u001b[0m\u001b[38;2;183;44;94m━\u001b[0m\u001b[38;2;209;42;102m━\u001b[0m\u001b[38;2;230;39;108m━\u001b[0m\u001b[38;2;244;38;112m━\u001b[0m\u001b[38;2;249;38;114m━\u001b[0m\u001b[38;2;244;38;112m━\u001b[0m\u001b[38;2;230;39;108m━\u001b[0m\u001b[38;2;209;42;102m━\u001b[0m\u001b[38;2;183;44;94m━\u001b[0m\u001b[38;2;153;48;86m━\u001b[0m\u001b[38;2;123;51;77m━\u001b[0m\u001b[38;2;97;53;69m━\u001b[0m\u001b[38;2;76;56;63m━\u001b[0m\u001b[38;2;62;57;59m━\u001b[0m\u001b[38;2;58;58;58m━\u001b[0m\u001b[38;2;62;57;59m━\u001b[0m\u001b[38;2;76;56;63m━\u001b[0m\u001b[38;2;97;53;69m━\u001b[0m\u001b[38;2;123;51;77m━\u001b[0m\u001b[38;2;153;48;86m━\u001b[0m  \u001b[36m \u001b[0m\n",
                  "text/html": "<pre style=\"white-space:pre;overflow-x:auto;line-height:normal;font-family:Menlo,'DejaVu Sans Mono',consolas,'Courier New',monospace\">Inference <span style=\"color: #b72c5e; text-decoration-color: #b72c5e\">━</span><span style=\"color: #d12a66; text-decoration-color: #d12a66\">━</span><span style=\"color: #e6276c; text-decoration-color: #e6276c\">━</span><span style=\"color: #f42670; text-decoration-color: #f42670\">━</span><span style=\"color: #f92672; text-decoration-color: #f92672\">━</span><span style=\"color: #f42670; text-decoration-color: #f42670\">━</span><span style=\"color: #e6276c; text-decoration-color: #e6276c\">━</span><span style=\"color: #d12a66; text-decoration-color: #d12a66\">━</span><span style=\"color: #b72c5e; text-decoration-color: #b72c5e\">━</span><span style=\"color: #993056; text-decoration-color: #993056\">━</span><span style=\"color: #7b334d; text-decoration-color: #7b334d\">━</span><span style=\"color: #613545; text-decoration-color: #613545\">━</span><span style=\"color: #4c383f; text-decoration-color: #4c383f\">━</span><span style=\"color: #3e393b; text-decoration-color: #3e393b\">━</span><span style=\"color: #3a3a3a; text-decoration-color: #3a3a3a\">━</span><span style=\"color: #3e393b; text-decoration-color: #3e393b\">━</span><span style=\"color: #4c383f; text-decoration-color: #4c383f\">━</span><span style=\"color: #613545; text-decoration-color: #613545\">━</span><span style=\"color: #7b334d; text-decoration-color: #7b334d\">━</span><span style=\"color: #993056; text-decoration-color: #993056\">━</span><span style=\"color: #b72c5e; text-decoration-color: #b72c5e\">━</span><span style=\"color: #d12a66; text-decoration-color: #d12a66\">━</span><span style=\"color: #e6276c; text-decoration-color: #e6276c\">━</span><span style=\"color: #f42670; text-decoration-color: #f42670\">━</span><span style=\"color: #f92672; text-decoration-color: #f92672\">━</span><span style=\"color: #f42670; text-decoration-color: #f42670\">━</span><span style=\"color: #e6276c; text-decoration-color: #e6276c\">━</span><span style=\"color: #d12a66; text-decoration-color: #d12a66\">━</span><span style=\"color: #b72c5e; text-decoration-color: #b72c5e\">━</span><span style=\"color: #993056; text-decoration-color: #993056\">━</span><span style=\"color: #7b334d; text-decoration-color: #7b334d\">━</span><span style=\"color: #613545; text-decoration-color: #613545\">━</span><span style=\"color: #4c383f; text-decoration-color: #4c383f\">━</span><span style=\"color: #3e393b; text-decoration-color: #3e393b\">━</span><span style=\"color: #3a3a3a; text-decoration-color: #3a3a3a\">━</span><span style=\"color: #3e393b; text-decoration-color: #3e393b\">━</span><span style=\"color: #4c383f; text-decoration-color: #4c383f\">━</span><span style=\"color: #613545; text-decoration-color: #613545\">━</span><span style=\"color: #7b334d; text-decoration-color: #7b334d\">━</span><span style=\"color: #993056; text-decoration-color: #993056\">━</span>  <span style=\"color: #008080; text-decoration-color: #008080\"> </span>\n</pre>\n"
                },
                "metadata": {}
              }
            ]
          }
        },
        "823c497bc1a046919a44dc05f9ffb2c9": {
          "model_module": "@jupyter-widgets/base",
          "model_name": "LayoutModel",
          "model_module_version": "1.2.0",
          "state": {
            "_model_module": "@jupyter-widgets/base",
            "_model_module_version": "1.2.0",
            "_model_name": "LayoutModel",
            "_view_count": null,
            "_view_module": "@jupyter-widgets/base",
            "_view_module_version": "1.2.0",
            "_view_name": "LayoutView",
            "align_content": null,
            "align_items": null,
            "align_self": null,
            "border": null,
            "bottom": null,
            "display": null,
            "flex": null,
            "flex_flow": null,
            "grid_area": null,
            "grid_auto_columns": null,
            "grid_auto_flow": null,
            "grid_auto_rows": null,
            "grid_column": null,
            "grid_gap": null,
            "grid_row": null,
            "grid_template_areas": null,
            "grid_template_columns": null,
            "grid_template_rows": null,
            "height": null,
            "justify_content": null,
            "justify_items": null,
            "left": null,
            "margin": null,
            "max_height": null,
            "max_width": null,
            "min_height": null,
            "min_width": null,
            "object_fit": null,
            "object_position": null,
            "order": null,
            "overflow": null,
            "overflow_x": null,
            "overflow_y": null,
            "padding": null,
            "right": null,
            "top": null,
            "visibility": null,
            "width": null
          }
        },
        "58107cbe7db647399004de5abe80e875": {
          "model_module": "@jupyter-widgets/output",
          "model_name": "OutputModel",
          "model_module_version": "1.0.0",
          "state": {
            "_dom_classes": [],
            "_model_module": "@jupyter-widgets/output",
            "_model_module_version": "1.0.0",
            "_model_name": "OutputModel",
            "_view_count": null,
            "_view_module": "@jupyter-widgets/output",
            "_view_module_version": "1.0.0",
            "_view_name": "OutputView",
            "layout": "IPY_MODEL_41322b97f4be4b438063f92d4c6b6a50",
            "msg_id": "",
            "outputs": [
              {
                "output_type": "display_data",
                "data": {
                  "text/plain": "Inference \u001b[38;2;76;56;63m━\u001b[0m\u001b[38;2;97;53;69m━\u001b[0m\u001b[38;2;123;51;77m━\u001b[0m\u001b[38;2;153;48;86m━\u001b[0m\u001b[38;2;183;44;94m━\u001b[0m\u001b[38;2;209;42;102m━\u001b[0m\u001b[38;2;230;39;108m━\u001b[0m\u001b[38;2;244;38;112m━\u001b[0m\u001b[38;2;249;38;114m━\u001b[0m\u001b[38;2;244;38;112m━\u001b[0m\u001b[38;2;230;39;108m━\u001b[0m\u001b[38;2;209;42;102m━\u001b[0m\u001b[38;2;183;44;94m━\u001b[0m\u001b[38;2;153;48;86m━\u001b[0m\u001b[38;2;123;51;77m━\u001b[0m\u001b[38;2;97;53;69m━\u001b[0m\u001b[38;2;76;56;63m━\u001b[0m\u001b[38;2;62;57;59m━\u001b[0m\u001b[38;2;58;58;58m━\u001b[0m\u001b[38;2;62;57;59m━\u001b[0m\u001b[38;2;76;56;63m━\u001b[0m\u001b[38;2;97;53;69m━\u001b[0m\u001b[38;2;123;51;77m━\u001b[0m\u001b[38;2;153;48;86m━\u001b[0m\u001b[38;2;183;44;94m━\u001b[0m\u001b[38;2;209;42;102m━\u001b[0m\u001b[38;2;230;39;108m━\u001b[0m\u001b[38;2;244;38;112m━\u001b[0m\u001b[38;2;249;38;114m━\u001b[0m\u001b[38;2;244;38;112m━\u001b[0m\u001b[38;2;230;39;108m━\u001b[0m\u001b[38;2;209;42;102m━\u001b[0m\u001b[38;2;183;44;94m━\u001b[0m\u001b[38;2;153;48;86m━\u001b[0m\u001b[38;2;123;51;77m━\u001b[0m\u001b[38;2;97;53;69m━\u001b[0m\u001b[38;2;76;56;63m━\u001b[0m\u001b[38;2;62;57;59m━\u001b[0m\u001b[38;2;58;58;58m━\u001b[0m\u001b[38;2;62;57;59m━\u001b[0m  \u001b[36m \u001b[0m\n",
                  "text/html": "<pre style=\"white-space:pre;overflow-x:auto;line-height:normal;font-family:Menlo,'DejaVu Sans Mono',consolas,'Courier New',monospace\">Inference <span style=\"color: #4c383f; text-decoration-color: #4c383f\">━</span><span style=\"color: #613545; text-decoration-color: #613545\">━</span><span style=\"color: #7b334d; text-decoration-color: #7b334d\">━</span><span style=\"color: #993056; text-decoration-color: #993056\">━</span><span style=\"color: #b72c5e; text-decoration-color: #b72c5e\">━</span><span style=\"color: #d12a66; text-decoration-color: #d12a66\">━</span><span style=\"color: #e6276c; text-decoration-color: #e6276c\">━</span><span style=\"color: #f42670; text-decoration-color: #f42670\">━</span><span style=\"color: #f92672; text-decoration-color: #f92672\">━</span><span style=\"color: #f42670; text-decoration-color: #f42670\">━</span><span style=\"color: #e6276c; text-decoration-color: #e6276c\">━</span><span style=\"color: #d12a66; text-decoration-color: #d12a66\">━</span><span style=\"color: #b72c5e; text-decoration-color: #b72c5e\">━</span><span style=\"color: #993056; text-decoration-color: #993056\">━</span><span style=\"color: #7b334d; text-decoration-color: #7b334d\">━</span><span style=\"color: #613545; text-decoration-color: #613545\">━</span><span style=\"color: #4c383f; text-decoration-color: #4c383f\">━</span><span style=\"color: #3e393b; text-decoration-color: #3e393b\">━</span><span style=\"color: #3a3a3a; text-decoration-color: #3a3a3a\">━</span><span style=\"color: #3e393b; text-decoration-color: #3e393b\">━</span><span style=\"color: #4c383f; text-decoration-color: #4c383f\">━</span><span style=\"color: #613545; text-decoration-color: #613545\">━</span><span style=\"color: #7b334d; text-decoration-color: #7b334d\">━</span><span style=\"color: #993056; text-decoration-color: #993056\">━</span><span style=\"color: #b72c5e; text-decoration-color: #b72c5e\">━</span><span style=\"color: #d12a66; text-decoration-color: #d12a66\">━</span><span style=\"color: #e6276c; text-decoration-color: #e6276c\">━</span><span style=\"color: #f42670; text-decoration-color: #f42670\">━</span><span style=\"color: #f92672; text-decoration-color: #f92672\">━</span><span style=\"color: #f42670; text-decoration-color: #f42670\">━</span><span style=\"color: #e6276c; text-decoration-color: #e6276c\">━</span><span style=\"color: #d12a66; text-decoration-color: #d12a66\">━</span><span style=\"color: #b72c5e; text-decoration-color: #b72c5e\">━</span><span style=\"color: #993056; text-decoration-color: #993056\">━</span><span style=\"color: #7b334d; text-decoration-color: #7b334d\">━</span><span style=\"color: #613545; text-decoration-color: #613545\">━</span><span style=\"color: #4c383f; text-decoration-color: #4c383f\">━</span><span style=\"color: #3e393b; text-decoration-color: #3e393b\">━</span><span style=\"color: #3a3a3a; text-decoration-color: #3a3a3a\">━</span><span style=\"color: #3e393b; text-decoration-color: #3e393b\">━</span>  <span style=\"color: #008080; text-decoration-color: #008080\"> </span>\n</pre>\n"
                },
                "metadata": {}
              }
            ]
          }
        },
        "41322b97f4be4b438063f92d4c6b6a50": {
          "model_module": "@jupyter-widgets/base",
          "model_name": "LayoutModel",
          "model_module_version": "1.2.0",
          "state": {
            "_model_module": "@jupyter-widgets/base",
            "_model_module_version": "1.2.0",
            "_model_name": "LayoutModel",
            "_view_count": null,
            "_view_module": "@jupyter-widgets/base",
            "_view_module_version": "1.2.0",
            "_view_name": "LayoutView",
            "align_content": null,
            "align_items": null,
            "align_self": null,
            "border": null,
            "bottom": null,
            "display": null,
            "flex": null,
            "flex_flow": null,
            "grid_area": null,
            "grid_auto_columns": null,
            "grid_auto_flow": null,
            "grid_auto_rows": null,
            "grid_column": null,
            "grid_gap": null,
            "grid_row": null,
            "grid_template_areas": null,
            "grid_template_columns": null,
            "grid_template_rows": null,
            "height": null,
            "justify_content": null,
            "justify_items": null,
            "left": null,
            "margin": null,
            "max_height": null,
            "max_width": null,
            "min_height": null,
            "min_width": null,
            "object_fit": null,
            "object_position": null,
            "order": null,
            "overflow": null,
            "overflow_x": null,
            "overflow_y": null,
            "padding": null,
            "right": null,
            "top": null,
            "visibility": null,
            "width": null
          }
        },
        "dbd341cf708042df9ab87604c7ad010f": {
          "model_module": "@jupyter-widgets/output",
          "model_name": "OutputModel",
          "model_module_version": "1.0.0",
          "state": {
            "_dom_classes": [],
            "_model_module": "@jupyter-widgets/output",
            "_model_module_version": "1.0.0",
            "_model_name": "OutputModel",
            "_view_count": null,
            "_view_module": "@jupyter-widgets/output",
            "_view_module_version": "1.0.0",
            "_view_name": "OutputView",
            "layout": "IPY_MODEL_8bb46a6664ef4a4d9c022fbe43460ab1",
            "msg_id": "",
            "outputs": [
              {
                "output_type": "display_data",
                "data": {
                  "text/plain": "Inference \u001b[38;2;183;44;94m━\u001b[0m\u001b[38;2;209;42;102m━\u001b[0m\u001b[38;2;230;39;108m━\u001b[0m\u001b[38;2;244;38;112m━\u001b[0m\u001b[38;2;249;38;114m━\u001b[0m\u001b[38;2;244;38;112m━\u001b[0m\u001b[38;2;230;39;108m━\u001b[0m\u001b[38;2;209;42;102m━\u001b[0m\u001b[38;2;183;44;94m━\u001b[0m\u001b[38;2;153;48;86m━\u001b[0m\u001b[38;2;123;51;77m━\u001b[0m\u001b[38;2;97;53;69m━\u001b[0m\u001b[38;2;76;56;63m━\u001b[0m\u001b[38;2;62;57;59m━\u001b[0m\u001b[38;2;58;58;58m━\u001b[0m\u001b[38;2;62;57;59m━\u001b[0m\u001b[38;2;76;56;63m━\u001b[0m\u001b[38;2;97;53;69m━\u001b[0m\u001b[38;2;123;51;77m━\u001b[0m\u001b[38;2;153;48;86m━\u001b[0m\u001b[38;2;183;44;94m━\u001b[0m\u001b[38;2;209;42;102m━\u001b[0m\u001b[38;2;230;39;108m━\u001b[0m\u001b[38;2;244;38;112m━\u001b[0m\u001b[38;2;249;38;114m━\u001b[0m\u001b[38;2;244;38;112m━\u001b[0m\u001b[38;2;230;39;108m━\u001b[0m\u001b[38;2;209;42;102m━\u001b[0m\u001b[38;2;183;44;94m━\u001b[0m\u001b[38;2;153;48;86m━\u001b[0m\u001b[38;2;123;51;77m━\u001b[0m\u001b[38;2;97;53;69m━\u001b[0m\u001b[38;2;76;56;63m━\u001b[0m\u001b[38;2;62;57;59m━\u001b[0m\u001b[38;2;58;58;58m━\u001b[0m\u001b[38;2;62;57;59m━\u001b[0m\u001b[38;2;76;56;63m━\u001b[0m\u001b[38;2;97;53;69m━\u001b[0m\u001b[38;2;123;51;77m━\u001b[0m\u001b[38;2;153;48;86m━\u001b[0m  \u001b[36m \u001b[0m\n",
                  "text/html": "<pre style=\"white-space:pre;overflow-x:auto;line-height:normal;font-family:Menlo,'DejaVu Sans Mono',consolas,'Courier New',monospace\">Inference <span style=\"color: #b72c5e; text-decoration-color: #b72c5e\">━</span><span style=\"color: #d12a66; text-decoration-color: #d12a66\">━</span><span style=\"color: #e6276c; text-decoration-color: #e6276c\">━</span><span style=\"color: #f42670; text-decoration-color: #f42670\">━</span><span style=\"color: #f92672; text-decoration-color: #f92672\">━</span><span style=\"color: #f42670; text-decoration-color: #f42670\">━</span><span style=\"color: #e6276c; text-decoration-color: #e6276c\">━</span><span style=\"color: #d12a66; text-decoration-color: #d12a66\">━</span><span style=\"color: #b72c5e; text-decoration-color: #b72c5e\">━</span><span style=\"color: #993056; text-decoration-color: #993056\">━</span><span style=\"color: #7b334d; text-decoration-color: #7b334d\">━</span><span style=\"color: #613545; text-decoration-color: #613545\">━</span><span style=\"color: #4c383f; text-decoration-color: #4c383f\">━</span><span style=\"color: #3e393b; text-decoration-color: #3e393b\">━</span><span style=\"color: #3a3a3a; text-decoration-color: #3a3a3a\">━</span><span style=\"color: #3e393b; text-decoration-color: #3e393b\">━</span><span style=\"color: #4c383f; text-decoration-color: #4c383f\">━</span><span style=\"color: #613545; text-decoration-color: #613545\">━</span><span style=\"color: #7b334d; text-decoration-color: #7b334d\">━</span><span style=\"color: #993056; text-decoration-color: #993056\">━</span><span style=\"color: #b72c5e; text-decoration-color: #b72c5e\">━</span><span style=\"color: #d12a66; text-decoration-color: #d12a66\">━</span><span style=\"color: #e6276c; text-decoration-color: #e6276c\">━</span><span style=\"color: #f42670; text-decoration-color: #f42670\">━</span><span style=\"color: #f92672; text-decoration-color: #f92672\">━</span><span style=\"color: #f42670; text-decoration-color: #f42670\">━</span><span style=\"color: #e6276c; text-decoration-color: #e6276c\">━</span><span style=\"color: #d12a66; text-decoration-color: #d12a66\">━</span><span style=\"color: #b72c5e; text-decoration-color: #b72c5e\">━</span><span style=\"color: #993056; text-decoration-color: #993056\">━</span><span style=\"color: #7b334d; text-decoration-color: #7b334d\">━</span><span style=\"color: #613545; text-decoration-color: #613545\">━</span><span style=\"color: #4c383f; text-decoration-color: #4c383f\">━</span><span style=\"color: #3e393b; text-decoration-color: #3e393b\">━</span><span style=\"color: #3a3a3a; text-decoration-color: #3a3a3a\">━</span><span style=\"color: #3e393b; text-decoration-color: #3e393b\">━</span><span style=\"color: #4c383f; text-decoration-color: #4c383f\">━</span><span style=\"color: #613545; text-decoration-color: #613545\">━</span><span style=\"color: #7b334d; text-decoration-color: #7b334d\">━</span><span style=\"color: #993056; text-decoration-color: #993056\">━</span>  <span style=\"color: #008080; text-decoration-color: #008080\"> </span>\n</pre>\n"
                },
                "metadata": {}
              }
            ]
          }
        },
        "8bb46a6664ef4a4d9c022fbe43460ab1": {
          "model_module": "@jupyter-widgets/base",
          "model_name": "LayoutModel",
          "model_module_version": "1.2.0",
          "state": {
            "_model_module": "@jupyter-widgets/base",
            "_model_module_version": "1.2.0",
            "_model_name": "LayoutModel",
            "_view_count": null,
            "_view_module": "@jupyter-widgets/base",
            "_view_module_version": "1.2.0",
            "_view_name": "LayoutView",
            "align_content": null,
            "align_items": null,
            "align_self": null,
            "border": null,
            "bottom": null,
            "display": null,
            "flex": null,
            "flex_flow": null,
            "grid_area": null,
            "grid_auto_columns": null,
            "grid_auto_flow": null,
            "grid_auto_rows": null,
            "grid_column": null,
            "grid_gap": null,
            "grid_row": null,
            "grid_template_areas": null,
            "grid_template_columns": null,
            "grid_template_rows": null,
            "height": null,
            "justify_content": null,
            "justify_items": null,
            "left": null,
            "margin": null,
            "max_height": null,
            "max_width": null,
            "min_height": null,
            "min_width": null,
            "object_fit": null,
            "object_position": null,
            "order": null,
            "overflow": null,
            "overflow_x": null,
            "overflow_y": null,
            "padding": null,
            "right": null,
            "top": null,
            "visibility": null,
            "width": null
          }
        },
        "1e48bfa790c244119c8492dccae87b96": {
          "model_module": "@jupyter-widgets/output",
          "model_name": "OutputModel",
          "model_module_version": "1.0.0",
          "state": {
            "_dom_classes": [],
            "_model_module": "@jupyter-widgets/output",
            "_model_module_version": "1.0.0",
            "_model_name": "OutputModel",
            "_view_count": null,
            "_view_module": "@jupyter-widgets/output",
            "_view_module_version": "1.0.0",
            "_view_name": "OutputView",
            "layout": "IPY_MODEL_0749822443da410eae01573133f20fee",
            "msg_id": "",
            "outputs": [
              {
                "output_type": "display_data",
                "data": {
                  "text/plain": "Inference \u001b[38;2;123;51;77m━\u001b[0m\u001b[38;2;153;48;86m━\u001b[0m\u001b[38;2;183;44;94m━\u001b[0m\u001b[38;2;209;42;102m━\u001b[0m\u001b[38;2;230;39;108m━\u001b[0m\u001b[38;2;244;38;112m━\u001b[0m\u001b[38;2;249;38;114m━\u001b[0m\u001b[38;2;244;38;112m━\u001b[0m\u001b[38;2;230;39;108m━\u001b[0m\u001b[38;2;209;42;102m━\u001b[0m\u001b[38;2;183;44;94m━\u001b[0m\u001b[38;2;153;48;86m━\u001b[0m\u001b[38;2;123;51;77m━\u001b[0m\u001b[38;2;97;53;69m━\u001b[0m\u001b[38;2;76;56;63m━\u001b[0m\u001b[38;2;62;57;59m━\u001b[0m\u001b[38;2;58;58;58m━\u001b[0m\u001b[38;2;62;57;59m━\u001b[0m\u001b[38;2;76;56;63m━\u001b[0m\u001b[38;2;97;53;69m━\u001b[0m\u001b[38;2;123;51;77m━\u001b[0m\u001b[38;2;153;48;86m━\u001b[0m\u001b[38;2;183;44;94m━\u001b[0m\u001b[38;2;209;42;102m━\u001b[0m\u001b[38;2;230;39;108m━\u001b[0m\u001b[38;2;244;38;112m━\u001b[0m\u001b[38;2;249;38;114m━\u001b[0m\u001b[38;2;244;38;112m━\u001b[0m\u001b[38;2;230;39;108m━\u001b[0m\u001b[38;2;209;42;102m━\u001b[0m\u001b[38;2;183;44;94m━\u001b[0m\u001b[38;2;153;48;86m━\u001b[0m\u001b[38;2;123;51;77m━\u001b[0m\u001b[38;2;97;53;69m━\u001b[0m\u001b[38;2;76;56;63m━\u001b[0m\u001b[38;2;62;57;59m━\u001b[0m\u001b[38;2;58;58;58m━\u001b[0m\u001b[38;2;62;57;59m━\u001b[0m\u001b[38;2;76;56;63m━\u001b[0m\u001b[38;2;97;53;69m━\u001b[0m  \u001b[36m \u001b[0m\n",
                  "text/html": "<pre style=\"white-space:pre;overflow-x:auto;line-height:normal;font-family:Menlo,'DejaVu Sans Mono',consolas,'Courier New',monospace\">Inference <span style=\"color: #7b334d; text-decoration-color: #7b334d\">━</span><span style=\"color: #993056; text-decoration-color: #993056\">━</span><span style=\"color: #b72c5e; text-decoration-color: #b72c5e\">━</span><span style=\"color: #d12a66; text-decoration-color: #d12a66\">━</span><span style=\"color: #e6276c; text-decoration-color: #e6276c\">━</span><span style=\"color: #f42670; text-decoration-color: #f42670\">━</span><span style=\"color: #f92672; text-decoration-color: #f92672\">━</span><span style=\"color: #f42670; text-decoration-color: #f42670\">━</span><span style=\"color: #e6276c; text-decoration-color: #e6276c\">━</span><span style=\"color: #d12a66; text-decoration-color: #d12a66\">━</span><span style=\"color: #b72c5e; text-decoration-color: #b72c5e\">━</span><span style=\"color: #993056; text-decoration-color: #993056\">━</span><span style=\"color: #7b334d; text-decoration-color: #7b334d\">━</span><span style=\"color: #613545; text-decoration-color: #613545\">━</span><span style=\"color: #4c383f; text-decoration-color: #4c383f\">━</span><span style=\"color: #3e393b; text-decoration-color: #3e393b\">━</span><span style=\"color: #3a3a3a; text-decoration-color: #3a3a3a\">━</span><span style=\"color: #3e393b; text-decoration-color: #3e393b\">━</span><span style=\"color: #4c383f; text-decoration-color: #4c383f\">━</span><span style=\"color: #613545; text-decoration-color: #613545\">━</span><span style=\"color: #7b334d; text-decoration-color: #7b334d\">━</span><span style=\"color: #993056; text-decoration-color: #993056\">━</span><span style=\"color: #b72c5e; text-decoration-color: #b72c5e\">━</span><span style=\"color: #d12a66; text-decoration-color: #d12a66\">━</span><span style=\"color: #e6276c; text-decoration-color: #e6276c\">━</span><span style=\"color: #f42670; text-decoration-color: #f42670\">━</span><span style=\"color: #f92672; text-decoration-color: #f92672\">━</span><span style=\"color: #f42670; text-decoration-color: #f42670\">━</span><span style=\"color: #e6276c; text-decoration-color: #e6276c\">━</span><span style=\"color: #d12a66; text-decoration-color: #d12a66\">━</span><span style=\"color: #b72c5e; text-decoration-color: #b72c5e\">━</span><span style=\"color: #993056; text-decoration-color: #993056\">━</span><span style=\"color: #7b334d; text-decoration-color: #7b334d\">━</span><span style=\"color: #613545; text-decoration-color: #613545\">━</span><span style=\"color: #4c383f; text-decoration-color: #4c383f\">━</span><span style=\"color: #3e393b; text-decoration-color: #3e393b\">━</span><span style=\"color: #3a3a3a; text-decoration-color: #3a3a3a\">━</span><span style=\"color: #3e393b; text-decoration-color: #3e393b\">━</span><span style=\"color: #4c383f; text-decoration-color: #4c383f\">━</span><span style=\"color: #613545; text-decoration-color: #613545\">━</span>  <span style=\"color: #008080; text-decoration-color: #008080\"> </span>\n</pre>\n"
                },
                "metadata": {}
              }
            ]
          }
        },
        "0749822443da410eae01573133f20fee": {
          "model_module": "@jupyter-widgets/base",
          "model_name": "LayoutModel",
          "model_module_version": "1.2.0",
          "state": {
            "_model_module": "@jupyter-widgets/base",
            "_model_module_version": "1.2.0",
            "_model_name": "LayoutModel",
            "_view_count": null,
            "_view_module": "@jupyter-widgets/base",
            "_view_module_version": "1.2.0",
            "_view_name": "LayoutView",
            "align_content": null,
            "align_items": null,
            "align_self": null,
            "border": null,
            "bottom": null,
            "display": null,
            "flex": null,
            "flex_flow": null,
            "grid_area": null,
            "grid_auto_columns": null,
            "grid_auto_flow": null,
            "grid_auto_rows": null,
            "grid_column": null,
            "grid_gap": null,
            "grid_row": null,
            "grid_template_areas": null,
            "grid_template_columns": null,
            "grid_template_rows": null,
            "height": null,
            "justify_content": null,
            "justify_items": null,
            "left": null,
            "margin": null,
            "max_height": null,
            "max_width": null,
            "min_height": null,
            "min_width": null,
            "object_fit": null,
            "object_position": null,
            "order": null,
            "overflow": null,
            "overflow_x": null,
            "overflow_y": null,
            "padding": null,
            "right": null,
            "top": null,
            "visibility": null,
            "width": null
          }
        },
        "0fd1ce8608394e0081ccc10d41eccef0": {
          "model_module": "@jupyter-widgets/output",
          "model_name": "OutputModel",
          "model_module_version": "1.0.0",
          "state": {
            "_dom_classes": [],
            "_model_module": "@jupyter-widgets/output",
            "_model_module_version": "1.0.0",
            "_model_name": "OutputModel",
            "_view_count": null,
            "_view_module": "@jupyter-widgets/output",
            "_view_module_version": "1.0.0",
            "_view_name": "OutputView",
            "layout": "IPY_MODEL_70245900b56a4488ac77eaaa03986d19",
            "msg_id": "",
            "outputs": [
              {
                "output_type": "display_data",
                "data": {
                  "text/plain": "Inference \u001b[38;2;183;44;94m━\u001b[0m\u001b[38;2;209;42;102m━\u001b[0m\u001b[38;2;230;39;108m━\u001b[0m\u001b[38;2;244;38;112m━\u001b[0m\u001b[38;2;249;38;114m━\u001b[0m\u001b[38;2;244;38;112m━\u001b[0m\u001b[38;2;230;39;108m━\u001b[0m\u001b[38;2;209;42;102m━\u001b[0m\u001b[38;2;183;44;94m━\u001b[0m\u001b[38;2;153;48;86m━\u001b[0m\u001b[38;2;123;51;77m━\u001b[0m\u001b[38;2;97;53;69m━\u001b[0m\u001b[38;2;76;56;63m━\u001b[0m\u001b[38;2;62;57;59m━\u001b[0m\u001b[38;2;58;58;58m━\u001b[0m\u001b[38;2;62;57;59m━\u001b[0m\u001b[38;2;76;56;63m━\u001b[0m\u001b[38;2;97;53;69m━\u001b[0m\u001b[38;2;123;51;77m━\u001b[0m\u001b[38;2;153;48;86m━\u001b[0m\u001b[38;2;183;44;94m━\u001b[0m\u001b[38;2;209;42;102m━\u001b[0m\u001b[38;2;230;39;108m━\u001b[0m\u001b[38;2;244;38;112m━\u001b[0m\u001b[38;2;249;38;114m━\u001b[0m\u001b[38;2;244;38;112m━\u001b[0m\u001b[38;2;230;39;108m━\u001b[0m\u001b[38;2;209;42;102m━\u001b[0m\u001b[38;2;183;44;94m━\u001b[0m\u001b[38;2;153;48;86m━\u001b[0m\u001b[38;2;123;51;77m━\u001b[0m\u001b[38;2;97;53;69m━\u001b[0m\u001b[38;2;76;56;63m━\u001b[0m\u001b[38;2;62;57;59m━\u001b[0m\u001b[38;2;58;58;58m━\u001b[0m\u001b[38;2;62;57;59m━\u001b[0m\u001b[38;2;76;56;63m━\u001b[0m\u001b[38;2;97;53;69m━\u001b[0m\u001b[38;2;123;51;77m━\u001b[0m\u001b[38;2;153;48;86m━\u001b[0m  \u001b[36m \u001b[0m\n",
                  "text/html": "<pre style=\"white-space:pre;overflow-x:auto;line-height:normal;font-family:Menlo,'DejaVu Sans Mono',consolas,'Courier New',monospace\">Inference <span style=\"color: #b72c5e; text-decoration-color: #b72c5e\">━</span><span style=\"color: #d12a66; text-decoration-color: #d12a66\">━</span><span style=\"color: #e6276c; text-decoration-color: #e6276c\">━</span><span style=\"color: #f42670; text-decoration-color: #f42670\">━</span><span style=\"color: #f92672; text-decoration-color: #f92672\">━</span><span style=\"color: #f42670; text-decoration-color: #f42670\">━</span><span style=\"color: #e6276c; text-decoration-color: #e6276c\">━</span><span style=\"color: #d12a66; text-decoration-color: #d12a66\">━</span><span style=\"color: #b72c5e; text-decoration-color: #b72c5e\">━</span><span style=\"color: #993056; text-decoration-color: #993056\">━</span><span style=\"color: #7b334d; text-decoration-color: #7b334d\">━</span><span style=\"color: #613545; text-decoration-color: #613545\">━</span><span style=\"color: #4c383f; text-decoration-color: #4c383f\">━</span><span style=\"color: #3e393b; text-decoration-color: #3e393b\">━</span><span style=\"color: #3a3a3a; text-decoration-color: #3a3a3a\">━</span><span style=\"color: #3e393b; text-decoration-color: #3e393b\">━</span><span style=\"color: #4c383f; text-decoration-color: #4c383f\">━</span><span style=\"color: #613545; text-decoration-color: #613545\">━</span><span style=\"color: #7b334d; text-decoration-color: #7b334d\">━</span><span style=\"color: #993056; text-decoration-color: #993056\">━</span><span style=\"color: #b72c5e; text-decoration-color: #b72c5e\">━</span><span style=\"color: #d12a66; text-decoration-color: #d12a66\">━</span><span style=\"color: #e6276c; text-decoration-color: #e6276c\">━</span><span style=\"color: #f42670; text-decoration-color: #f42670\">━</span><span style=\"color: #f92672; text-decoration-color: #f92672\">━</span><span style=\"color: #f42670; text-decoration-color: #f42670\">━</span><span style=\"color: #e6276c; text-decoration-color: #e6276c\">━</span><span style=\"color: #d12a66; text-decoration-color: #d12a66\">━</span><span style=\"color: #b72c5e; text-decoration-color: #b72c5e\">━</span><span style=\"color: #993056; text-decoration-color: #993056\">━</span><span style=\"color: #7b334d; text-decoration-color: #7b334d\">━</span><span style=\"color: #613545; text-decoration-color: #613545\">━</span><span style=\"color: #4c383f; text-decoration-color: #4c383f\">━</span><span style=\"color: #3e393b; text-decoration-color: #3e393b\">━</span><span style=\"color: #3a3a3a; text-decoration-color: #3a3a3a\">━</span><span style=\"color: #3e393b; text-decoration-color: #3e393b\">━</span><span style=\"color: #4c383f; text-decoration-color: #4c383f\">━</span><span style=\"color: #613545; text-decoration-color: #613545\">━</span><span style=\"color: #7b334d; text-decoration-color: #7b334d\">━</span><span style=\"color: #993056; text-decoration-color: #993056\">━</span>  <span style=\"color: #008080; text-decoration-color: #008080\"> </span>\n</pre>\n"
                },
                "metadata": {}
              }
            ]
          }
        },
        "70245900b56a4488ac77eaaa03986d19": {
          "model_module": "@jupyter-widgets/base",
          "model_name": "LayoutModel",
          "model_module_version": "1.2.0",
          "state": {
            "_model_module": "@jupyter-widgets/base",
            "_model_module_version": "1.2.0",
            "_model_name": "LayoutModel",
            "_view_count": null,
            "_view_module": "@jupyter-widgets/base",
            "_view_module_version": "1.2.0",
            "_view_name": "LayoutView",
            "align_content": null,
            "align_items": null,
            "align_self": null,
            "border": null,
            "bottom": null,
            "display": null,
            "flex": null,
            "flex_flow": null,
            "grid_area": null,
            "grid_auto_columns": null,
            "grid_auto_flow": null,
            "grid_auto_rows": null,
            "grid_column": null,
            "grid_gap": null,
            "grid_row": null,
            "grid_template_areas": null,
            "grid_template_columns": null,
            "grid_template_rows": null,
            "height": null,
            "justify_content": null,
            "justify_items": null,
            "left": null,
            "margin": null,
            "max_height": null,
            "max_width": null,
            "min_height": null,
            "min_width": null,
            "object_fit": null,
            "object_position": null,
            "order": null,
            "overflow": null,
            "overflow_x": null,
            "overflow_y": null,
            "padding": null,
            "right": null,
            "top": null,
            "visibility": null,
            "width": null
          }
        },
        "e6ce925ef8e742698a3e42765cb3aceb": {
          "model_module": "@jupyter-widgets/output",
          "model_name": "OutputModel",
          "model_module_version": "1.0.0",
          "state": {
            "_dom_classes": [],
            "_model_module": "@jupyter-widgets/output",
            "_model_module_version": "1.0.0",
            "_model_name": "OutputModel",
            "_view_count": null,
            "_view_module": "@jupyter-widgets/output",
            "_view_module_version": "1.0.0",
            "_view_name": "OutputView",
            "layout": "IPY_MODEL_bd56264018804213979fac489544dca7",
            "msg_id": "",
            "outputs": [
              {
                "output_type": "display_data",
                "data": {
                  "text/plain": "Inference \u001b[38;2;209;42;102m━\u001b[0m\u001b[38;2;183;44;94m━\u001b[0m\u001b[38;2;153;48;86m━\u001b[0m\u001b[38;2;123;51;77m━\u001b[0m\u001b[38;2;97;53;69m━\u001b[0m\u001b[38;2;76;56;63m━\u001b[0m\u001b[38;2;62;57;59m━\u001b[0m\u001b[38;2;58;58;58m━\u001b[0m\u001b[38;2;62;57;59m━\u001b[0m\u001b[38;2;76;56;63m━\u001b[0m\u001b[38;2;97;53;69m━\u001b[0m\u001b[38;2;123;51;77m━\u001b[0m\u001b[38;2;153;48;86m━\u001b[0m\u001b[38;2;183;44;94m━\u001b[0m\u001b[38;2;209;42;102m━\u001b[0m\u001b[38;2;230;39;108m━\u001b[0m\u001b[38;2;244;38;112m━\u001b[0m\u001b[38;2;249;38;114m━\u001b[0m\u001b[38;2;244;38;112m━\u001b[0m\u001b[38;2;230;39;108m━\u001b[0m\u001b[38;2;209;42;102m━\u001b[0m\u001b[38;2;183;44;94m━\u001b[0m\u001b[38;2;153;48;86m━\u001b[0m\u001b[38;2;123;51;77m━\u001b[0m\u001b[38;2;97;53;69m━\u001b[0m\u001b[38;2;76;56;63m━\u001b[0m\u001b[38;2;62;57;59m━\u001b[0m\u001b[38;2;58;58;58m━\u001b[0m\u001b[38;2;62;57;59m━\u001b[0m\u001b[38;2;76;56;63m━\u001b[0m\u001b[38;2;97;53;69m━\u001b[0m\u001b[38;2;123;51;77m━\u001b[0m\u001b[38;2;153;48;86m━\u001b[0m\u001b[38;2;183;44;94m━\u001b[0m\u001b[38;2;209;42;102m━\u001b[0m\u001b[38;2;230;39;108m━\u001b[0m\u001b[38;2;244;38;112m━\u001b[0m\u001b[38;2;249;38;114m━\u001b[0m\u001b[38;2;244;38;112m━\u001b[0m\u001b[38;2;230;39;108m━\u001b[0m  \u001b[36m \u001b[0m\n",
                  "text/html": "<pre style=\"white-space:pre;overflow-x:auto;line-height:normal;font-family:Menlo,'DejaVu Sans Mono',consolas,'Courier New',monospace\">Inference <span style=\"color: #d12a66; text-decoration-color: #d12a66\">━</span><span style=\"color: #b72c5e; text-decoration-color: #b72c5e\">━</span><span style=\"color: #993056; text-decoration-color: #993056\">━</span><span style=\"color: #7b334d; text-decoration-color: #7b334d\">━</span><span style=\"color: #613545; text-decoration-color: #613545\">━</span><span style=\"color: #4c383f; text-decoration-color: #4c383f\">━</span><span style=\"color: #3e393b; text-decoration-color: #3e393b\">━</span><span style=\"color: #3a3a3a; text-decoration-color: #3a3a3a\">━</span><span style=\"color: #3e393b; text-decoration-color: #3e393b\">━</span><span style=\"color: #4c383f; text-decoration-color: #4c383f\">━</span><span style=\"color: #613545; text-decoration-color: #613545\">━</span><span style=\"color: #7b334d; text-decoration-color: #7b334d\">━</span><span style=\"color: #993056; text-decoration-color: #993056\">━</span><span style=\"color: #b72c5e; text-decoration-color: #b72c5e\">━</span><span style=\"color: #d12a66; text-decoration-color: #d12a66\">━</span><span style=\"color: #e6276c; text-decoration-color: #e6276c\">━</span><span style=\"color: #f42670; text-decoration-color: #f42670\">━</span><span style=\"color: #f92672; text-decoration-color: #f92672\">━</span><span style=\"color: #f42670; text-decoration-color: #f42670\">━</span><span style=\"color: #e6276c; text-decoration-color: #e6276c\">━</span><span style=\"color: #d12a66; text-decoration-color: #d12a66\">━</span><span style=\"color: #b72c5e; text-decoration-color: #b72c5e\">━</span><span style=\"color: #993056; text-decoration-color: #993056\">━</span><span style=\"color: #7b334d; text-decoration-color: #7b334d\">━</span><span style=\"color: #613545; text-decoration-color: #613545\">━</span><span style=\"color: #4c383f; text-decoration-color: #4c383f\">━</span><span style=\"color: #3e393b; text-decoration-color: #3e393b\">━</span><span style=\"color: #3a3a3a; text-decoration-color: #3a3a3a\">━</span><span style=\"color: #3e393b; text-decoration-color: #3e393b\">━</span><span style=\"color: #4c383f; text-decoration-color: #4c383f\">━</span><span style=\"color: #613545; text-decoration-color: #613545\">━</span><span style=\"color: #7b334d; text-decoration-color: #7b334d\">━</span><span style=\"color: #993056; text-decoration-color: #993056\">━</span><span style=\"color: #b72c5e; text-decoration-color: #b72c5e\">━</span><span style=\"color: #d12a66; text-decoration-color: #d12a66\">━</span><span style=\"color: #e6276c; text-decoration-color: #e6276c\">━</span><span style=\"color: #f42670; text-decoration-color: #f42670\">━</span><span style=\"color: #f92672; text-decoration-color: #f92672\">━</span><span style=\"color: #f42670; text-decoration-color: #f42670\">━</span><span style=\"color: #e6276c; text-decoration-color: #e6276c\">━</span>  <span style=\"color: #008080; text-decoration-color: #008080\"> </span>\n</pre>\n"
                },
                "metadata": {}
              }
            ]
          }
        },
        "bd56264018804213979fac489544dca7": {
          "model_module": "@jupyter-widgets/base",
          "model_name": "LayoutModel",
          "model_module_version": "1.2.0",
          "state": {
            "_model_module": "@jupyter-widgets/base",
            "_model_module_version": "1.2.0",
            "_model_name": "LayoutModel",
            "_view_count": null,
            "_view_module": "@jupyter-widgets/base",
            "_view_module_version": "1.2.0",
            "_view_name": "LayoutView",
            "align_content": null,
            "align_items": null,
            "align_self": null,
            "border": null,
            "bottom": null,
            "display": null,
            "flex": null,
            "flex_flow": null,
            "grid_area": null,
            "grid_auto_columns": null,
            "grid_auto_flow": null,
            "grid_auto_rows": null,
            "grid_column": null,
            "grid_gap": null,
            "grid_row": null,
            "grid_template_areas": null,
            "grid_template_columns": null,
            "grid_template_rows": null,
            "height": null,
            "justify_content": null,
            "justify_items": null,
            "left": null,
            "margin": null,
            "max_height": null,
            "max_width": null,
            "min_height": null,
            "min_width": null,
            "object_fit": null,
            "object_position": null,
            "order": null,
            "overflow": null,
            "overflow_x": null,
            "overflow_y": null,
            "padding": null,
            "right": null,
            "top": null,
            "visibility": null,
            "width": null
          }
        },
        "37fc0b19c5b84691abf465847e8a817a": {
          "model_module": "@jupyter-widgets/output",
          "model_name": "OutputModel",
          "model_module_version": "1.0.0",
          "state": {
            "_dom_classes": [],
            "_model_module": "@jupyter-widgets/output",
            "_model_module_version": "1.0.0",
            "_model_name": "OutputModel",
            "_view_count": null,
            "_view_module": "@jupyter-widgets/output",
            "_view_module_version": "1.0.0",
            "_view_name": "OutputView",
            "layout": "IPY_MODEL_75e388cf89d6428c8f1407c7fe1ad3be",
            "msg_id": "",
            "outputs": [
              {
                "output_type": "display_data",
                "data": {
                  "text/plain": "Inference \u001b[38;2;209;42;102m━\u001b[0m\u001b[38;2;183;44;94m━\u001b[0m\u001b[38;2;153;48;86m━\u001b[0m\u001b[38;2;123;51;77m━\u001b[0m\u001b[38;2;97;53;69m━\u001b[0m\u001b[38;2;76;56;63m━\u001b[0m\u001b[38;2;62;57;59m━\u001b[0m\u001b[38;2;58;58;58m━\u001b[0m\u001b[38;2;62;57;59m━\u001b[0m\u001b[38;2;76;56;63m━\u001b[0m\u001b[38;2;97;53;69m━\u001b[0m\u001b[38;2;123;51;77m━\u001b[0m\u001b[38;2;153;48;86m━\u001b[0m\u001b[38;2;183;44;94m━\u001b[0m\u001b[38;2;209;42;102m━\u001b[0m\u001b[38;2;230;39;108m━\u001b[0m\u001b[38;2;244;38;112m━\u001b[0m\u001b[38;2;249;38;114m━\u001b[0m\u001b[38;2;244;38;112m━\u001b[0m\u001b[38;2;230;39;108m━\u001b[0m\u001b[38;2;209;42;102m━\u001b[0m\u001b[38;2;183;44;94m━\u001b[0m\u001b[38;2;153;48;86m━\u001b[0m\u001b[38;2;123;51;77m━\u001b[0m\u001b[38;2;97;53;69m━\u001b[0m\u001b[38;2;76;56;63m━\u001b[0m\u001b[38;2;62;57;59m━\u001b[0m\u001b[38;2;58;58;58m━\u001b[0m\u001b[38;2;62;57;59m━\u001b[0m\u001b[38;2;76;56;63m━\u001b[0m\u001b[38;2;97;53;69m━\u001b[0m\u001b[38;2;123;51;77m━\u001b[0m\u001b[38;2;153;48;86m━\u001b[0m\u001b[38;2;183;44;94m━\u001b[0m\u001b[38;2;209;42;102m━\u001b[0m\u001b[38;2;230;39;108m━\u001b[0m\u001b[38;2;244;38;112m━\u001b[0m\u001b[38;2;249;38;114m━\u001b[0m\u001b[38;2;244;38;112m━\u001b[0m\u001b[38;2;230;39;108m━\u001b[0m  \u001b[36m \u001b[0m\n",
                  "text/html": "<pre style=\"white-space:pre;overflow-x:auto;line-height:normal;font-family:Menlo,'DejaVu Sans Mono',consolas,'Courier New',monospace\">Inference <span style=\"color: #d12a66; text-decoration-color: #d12a66\">━</span><span style=\"color: #b72c5e; text-decoration-color: #b72c5e\">━</span><span style=\"color: #993056; text-decoration-color: #993056\">━</span><span style=\"color: #7b334d; text-decoration-color: #7b334d\">━</span><span style=\"color: #613545; text-decoration-color: #613545\">━</span><span style=\"color: #4c383f; text-decoration-color: #4c383f\">━</span><span style=\"color: #3e393b; text-decoration-color: #3e393b\">━</span><span style=\"color: #3a3a3a; text-decoration-color: #3a3a3a\">━</span><span style=\"color: #3e393b; text-decoration-color: #3e393b\">━</span><span style=\"color: #4c383f; text-decoration-color: #4c383f\">━</span><span style=\"color: #613545; text-decoration-color: #613545\">━</span><span style=\"color: #7b334d; text-decoration-color: #7b334d\">━</span><span style=\"color: #993056; text-decoration-color: #993056\">━</span><span style=\"color: #b72c5e; text-decoration-color: #b72c5e\">━</span><span style=\"color: #d12a66; text-decoration-color: #d12a66\">━</span><span style=\"color: #e6276c; text-decoration-color: #e6276c\">━</span><span style=\"color: #f42670; text-decoration-color: #f42670\">━</span><span style=\"color: #f92672; text-decoration-color: #f92672\">━</span><span style=\"color: #f42670; text-decoration-color: #f42670\">━</span><span style=\"color: #e6276c; text-decoration-color: #e6276c\">━</span><span style=\"color: #d12a66; text-decoration-color: #d12a66\">━</span><span style=\"color: #b72c5e; text-decoration-color: #b72c5e\">━</span><span style=\"color: #993056; text-decoration-color: #993056\">━</span><span style=\"color: #7b334d; text-decoration-color: #7b334d\">━</span><span style=\"color: #613545; text-decoration-color: #613545\">━</span><span style=\"color: #4c383f; text-decoration-color: #4c383f\">━</span><span style=\"color: #3e393b; text-decoration-color: #3e393b\">━</span><span style=\"color: #3a3a3a; text-decoration-color: #3a3a3a\">━</span><span style=\"color: #3e393b; text-decoration-color: #3e393b\">━</span><span style=\"color: #4c383f; text-decoration-color: #4c383f\">━</span><span style=\"color: #613545; text-decoration-color: #613545\">━</span><span style=\"color: #7b334d; text-decoration-color: #7b334d\">━</span><span style=\"color: #993056; text-decoration-color: #993056\">━</span><span style=\"color: #b72c5e; text-decoration-color: #b72c5e\">━</span><span style=\"color: #d12a66; text-decoration-color: #d12a66\">━</span><span style=\"color: #e6276c; text-decoration-color: #e6276c\">━</span><span style=\"color: #f42670; text-decoration-color: #f42670\">━</span><span style=\"color: #f92672; text-decoration-color: #f92672\">━</span><span style=\"color: #f42670; text-decoration-color: #f42670\">━</span><span style=\"color: #e6276c; text-decoration-color: #e6276c\">━</span>  <span style=\"color: #008080; text-decoration-color: #008080\"> </span>\n</pre>\n"
                },
                "metadata": {}
              }
            ]
          }
        },
        "75e388cf89d6428c8f1407c7fe1ad3be": {
          "model_module": "@jupyter-widgets/base",
          "model_name": "LayoutModel",
          "model_module_version": "1.2.0",
          "state": {
            "_model_module": "@jupyter-widgets/base",
            "_model_module_version": "1.2.0",
            "_model_name": "LayoutModel",
            "_view_count": null,
            "_view_module": "@jupyter-widgets/base",
            "_view_module_version": "1.2.0",
            "_view_name": "LayoutView",
            "align_content": null,
            "align_items": null,
            "align_self": null,
            "border": null,
            "bottom": null,
            "display": null,
            "flex": null,
            "flex_flow": null,
            "grid_area": null,
            "grid_auto_columns": null,
            "grid_auto_flow": null,
            "grid_auto_rows": null,
            "grid_column": null,
            "grid_gap": null,
            "grid_row": null,
            "grid_template_areas": null,
            "grid_template_columns": null,
            "grid_template_rows": null,
            "height": null,
            "justify_content": null,
            "justify_items": null,
            "left": null,
            "margin": null,
            "max_height": null,
            "max_width": null,
            "min_height": null,
            "min_width": null,
            "object_fit": null,
            "object_position": null,
            "order": null,
            "overflow": null,
            "overflow_x": null,
            "overflow_y": null,
            "padding": null,
            "right": null,
            "top": null,
            "visibility": null,
            "width": null
          }
        },
        "675de4deffc34912a2f0ff3c53794840": {
          "model_module": "@jupyter-widgets/output",
          "model_name": "OutputModel",
          "model_module_version": "1.0.0",
          "state": {
            "_dom_classes": [],
            "_model_module": "@jupyter-widgets/output",
            "_model_module_version": "1.0.0",
            "_model_name": "OutputModel",
            "_view_count": null,
            "_view_module": "@jupyter-widgets/output",
            "_view_module_version": "1.0.0",
            "_view_name": "OutputView",
            "layout": "IPY_MODEL_17c26955a514485e8b5032644a40d43f",
            "msg_id": "",
            "outputs": [
              {
                "output_type": "display_data",
                "data": {
                  "text/plain": "Inference \u001b[38;2;123;51;77m━\u001b[0m\u001b[38;2;153;48;86m━\u001b[0m\u001b[38;2;183;44;94m━\u001b[0m\u001b[38;2;209;42;102m━\u001b[0m\u001b[38;2;230;39;108m━\u001b[0m\u001b[38;2;244;38;112m━\u001b[0m\u001b[38;2;249;38;114m━\u001b[0m\u001b[38;2;244;38;112m━\u001b[0m\u001b[38;2;230;39;108m━\u001b[0m\u001b[38;2;209;42;102m━\u001b[0m\u001b[38;2;183;44;94m━\u001b[0m\u001b[38;2;153;48;86m━\u001b[0m\u001b[38;2;123;51;77m━\u001b[0m\u001b[38;2;97;53;69m━\u001b[0m\u001b[38;2;76;56;63m━\u001b[0m\u001b[38;2;62;57;59m━\u001b[0m\u001b[38;2;58;58;58m━\u001b[0m\u001b[38;2;62;57;59m━\u001b[0m\u001b[38;2;76;56;63m━\u001b[0m\u001b[38;2;97;53;69m━\u001b[0m\u001b[38;2;123;51;77m━\u001b[0m\u001b[38;2;153;48;86m━\u001b[0m\u001b[38;2;183;44;94m━\u001b[0m\u001b[38;2;209;42;102m━\u001b[0m\u001b[38;2;230;39;108m━\u001b[0m\u001b[38;2;244;38;112m━\u001b[0m\u001b[38;2;249;38;114m━\u001b[0m\u001b[38;2;244;38;112m━\u001b[0m\u001b[38;2;230;39;108m━\u001b[0m\u001b[38;2;209;42;102m━\u001b[0m\u001b[38;2;183;44;94m━\u001b[0m\u001b[38;2;153;48;86m━\u001b[0m\u001b[38;2;123;51;77m━\u001b[0m\u001b[38;2;97;53;69m━\u001b[0m\u001b[38;2;76;56;63m━\u001b[0m\u001b[38;2;62;57;59m━\u001b[0m\u001b[38;2;58;58;58m━\u001b[0m\u001b[38;2;62;57;59m━\u001b[0m\u001b[38;2;76;56;63m━\u001b[0m\u001b[38;2;97;53;69m━\u001b[0m  \u001b[36m \u001b[0m\n",
                  "text/html": "<pre style=\"white-space:pre;overflow-x:auto;line-height:normal;font-family:Menlo,'DejaVu Sans Mono',consolas,'Courier New',monospace\">Inference <span style=\"color: #7b334d; text-decoration-color: #7b334d\">━</span><span style=\"color: #993056; text-decoration-color: #993056\">━</span><span style=\"color: #b72c5e; text-decoration-color: #b72c5e\">━</span><span style=\"color: #d12a66; text-decoration-color: #d12a66\">━</span><span style=\"color: #e6276c; text-decoration-color: #e6276c\">━</span><span style=\"color: #f42670; text-decoration-color: #f42670\">━</span><span style=\"color: #f92672; text-decoration-color: #f92672\">━</span><span style=\"color: #f42670; text-decoration-color: #f42670\">━</span><span style=\"color: #e6276c; text-decoration-color: #e6276c\">━</span><span style=\"color: #d12a66; text-decoration-color: #d12a66\">━</span><span style=\"color: #b72c5e; text-decoration-color: #b72c5e\">━</span><span style=\"color: #993056; text-decoration-color: #993056\">━</span><span style=\"color: #7b334d; text-decoration-color: #7b334d\">━</span><span style=\"color: #613545; text-decoration-color: #613545\">━</span><span style=\"color: #4c383f; text-decoration-color: #4c383f\">━</span><span style=\"color: #3e393b; text-decoration-color: #3e393b\">━</span><span style=\"color: #3a3a3a; text-decoration-color: #3a3a3a\">━</span><span style=\"color: #3e393b; text-decoration-color: #3e393b\">━</span><span style=\"color: #4c383f; text-decoration-color: #4c383f\">━</span><span style=\"color: #613545; text-decoration-color: #613545\">━</span><span style=\"color: #7b334d; text-decoration-color: #7b334d\">━</span><span style=\"color: #993056; text-decoration-color: #993056\">━</span><span style=\"color: #b72c5e; text-decoration-color: #b72c5e\">━</span><span style=\"color: #d12a66; text-decoration-color: #d12a66\">━</span><span style=\"color: #e6276c; text-decoration-color: #e6276c\">━</span><span style=\"color: #f42670; text-decoration-color: #f42670\">━</span><span style=\"color: #f92672; text-decoration-color: #f92672\">━</span><span style=\"color: #f42670; text-decoration-color: #f42670\">━</span><span style=\"color: #e6276c; text-decoration-color: #e6276c\">━</span><span style=\"color: #d12a66; text-decoration-color: #d12a66\">━</span><span style=\"color: #b72c5e; text-decoration-color: #b72c5e\">━</span><span style=\"color: #993056; text-decoration-color: #993056\">━</span><span style=\"color: #7b334d; text-decoration-color: #7b334d\">━</span><span style=\"color: #613545; text-decoration-color: #613545\">━</span><span style=\"color: #4c383f; text-decoration-color: #4c383f\">━</span><span style=\"color: #3e393b; text-decoration-color: #3e393b\">━</span><span style=\"color: #3a3a3a; text-decoration-color: #3a3a3a\">━</span><span style=\"color: #3e393b; text-decoration-color: #3e393b\">━</span><span style=\"color: #4c383f; text-decoration-color: #4c383f\">━</span><span style=\"color: #613545; text-decoration-color: #613545\">━</span>  <span style=\"color: #008080; text-decoration-color: #008080\"> </span>\n</pre>\n"
                },
                "metadata": {}
              }
            ]
          }
        },
        "17c26955a514485e8b5032644a40d43f": {
          "model_module": "@jupyter-widgets/base",
          "model_name": "LayoutModel",
          "model_module_version": "1.2.0",
          "state": {
            "_model_module": "@jupyter-widgets/base",
            "_model_module_version": "1.2.0",
            "_model_name": "LayoutModel",
            "_view_count": null,
            "_view_module": "@jupyter-widgets/base",
            "_view_module_version": "1.2.0",
            "_view_name": "LayoutView",
            "align_content": null,
            "align_items": null,
            "align_self": null,
            "border": null,
            "bottom": null,
            "display": null,
            "flex": null,
            "flex_flow": null,
            "grid_area": null,
            "grid_auto_columns": null,
            "grid_auto_flow": null,
            "grid_auto_rows": null,
            "grid_column": null,
            "grid_gap": null,
            "grid_row": null,
            "grid_template_areas": null,
            "grid_template_columns": null,
            "grid_template_rows": null,
            "height": null,
            "justify_content": null,
            "justify_items": null,
            "left": null,
            "margin": null,
            "max_height": null,
            "max_width": null,
            "min_height": null,
            "min_width": null,
            "object_fit": null,
            "object_position": null,
            "order": null,
            "overflow": null,
            "overflow_x": null,
            "overflow_y": null,
            "padding": null,
            "right": null,
            "top": null,
            "visibility": null,
            "width": null
          }
        },
        "89c979fb73174e0583e4256d19670669": {
          "model_module": "@jupyter-widgets/output",
          "model_name": "OutputModel",
          "model_module_version": "1.0.0",
          "state": {
            "_dom_classes": [],
            "_model_module": "@jupyter-widgets/output",
            "_model_module_version": "1.0.0",
            "_model_name": "OutputModel",
            "_view_count": null,
            "_view_module": "@jupyter-widgets/output",
            "_view_module_version": "1.0.0",
            "_view_name": "OutputView",
            "layout": "IPY_MODEL_e36b35956eb74905b38e3b0b4698c19e",
            "msg_id": "",
            "outputs": [
              {
                "output_type": "display_data",
                "data": {
                  "text/plain": "Inference \u001b[38;2;123;51;77m━\u001b[0m\u001b[38;2;97;53;69m━\u001b[0m\u001b[38;2;76;56;63m━\u001b[0m\u001b[38;2;62;57;59m━\u001b[0m\u001b[38;2;58;58;58m━\u001b[0m\u001b[38;2;62;57;59m━\u001b[0m\u001b[38;2;76;56;63m━\u001b[0m\u001b[38;2;97;53;69m━\u001b[0m\u001b[38;2;123;51;77m━\u001b[0m\u001b[38;2;153;48;86m━\u001b[0m\u001b[38;2;183;44;94m━\u001b[0m\u001b[38;2;209;42;102m━\u001b[0m\u001b[38;2;230;39;108m━\u001b[0m\u001b[38;2;244;38;112m━\u001b[0m\u001b[38;2;249;38;114m━\u001b[0m\u001b[38;2;244;38;112m━\u001b[0m\u001b[38;2;230;39;108m━\u001b[0m\u001b[38;2;209;42;102m━\u001b[0m\u001b[38;2;183;44;94m━\u001b[0m\u001b[38;2;153;48;86m━\u001b[0m\u001b[38;2;123;51;77m━\u001b[0m\u001b[38;2;97;53;69m━\u001b[0m\u001b[38;2;76;56;63m━\u001b[0m\u001b[38;2;62;57;59m━\u001b[0m\u001b[38;2;58;58;58m━\u001b[0m\u001b[38;2;62;57;59m━\u001b[0m\u001b[38;2;76;56;63m━\u001b[0m\u001b[38;2;97;53;69m━\u001b[0m\u001b[38;2;123;51;77m━\u001b[0m\u001b[38;2;153;48;86m━\u001b[0m\u001b[38;2;183;44;94m━\u001b[0m\u001b[38;2;209;42;102m━\u001b[0m\u001b[38;2;230;39;108m━\u001b[0m\u001b[38;2;244;38;112m━\u001b[0m\u001b[38;2;249;38;114m━\u001b[0m\u001b[38;2;244;38;112m━\u001b[0m\u001b[38;2;230;39;108m━\u001b[0m\u001b[38;2;209;42;102m━\u001b[0m\u001b[38;2;183;44;94m━\u001b[0m\u001b[38;2;153;48;86m━\u001b[0m  \u001b[36m \u001b[0m\n",
                  "text/html": "<pre style=\"white-space:pre;overflow-x:auto;line-height:normal;font-family:Menlo,'DejaVu Sans Mono',consolas,'Courier New',monospace\">Inference <span style=\"color: #7b334d; text-decoration-color: #7b334d\">━</span><span style=\"color: #613545; text-decoration-color: #613545\">━</span><span style=\"color: #4c383f; text-decoration-color: #4c383f\">━</span><span style=\"color: #3e393b; text-decoration-color: #3e393b\">━</span><span style=\"color: #3a3a3a; text-decoration-color: #3a3a3a\">━</span><span style=\"color: #3e393b; text-decoration-color: #3e393b\">━</span><span style=\"color: #4c383f; text-decoration-color: #4c383f\">━</span><span style=\"color: #613545; text-decoration-color: #613545\">━</span><span style=\"color: #7b334d; text-decoration-color: #7b334d\">━</span><span style=\"color: #993056; text-decoration-color: #993056\">━</span><span style=\"color: #b72c5e; text-decoration-color: #b72c5e\">━</span><span style=\"color: #d12a66; text-decoration-color: #d12a66\">━</span><span style=\"color: #e6276c; text-decoration-color: #e6276c\">━</span><span style=\"color: #f42670; text-decoration-color: #f42670\">━</span><span style=\"color: #f92672; text-decoration-color: #f92672\">━</span><span style=\"color: #f42670; text-decoration-color: #f42670\">━</span><span style=\"color: #e6276c; text-decoration-color: #e6276c\">━</span><span style=\"color: #d12a66; text-decoration-color: #d12a66\">━</span><span style=\"color: #b72c5e; text-decoration-color: #b72c5e\">━</span><span style=\"color: #993056; text-decoration-color: #993056\">━</span><span style=\"color: #7b334d; text-decoration-color: #7b334d\">━</span><span style=\"color: #613545; text-decoration-color: #613545\">━</span><span style=\"color: #4c383f; text-decoration-color: #4c383f\">━</span><span style=\"color: #3e393b; text-decoration-color: #3e393b\">━</span><span style=\"color: #3a3a3a; text-decoration-color: #3a3a3a\">━</span><span style=\"color: #3e393b; text-decoration-color: #3e393b\">━</span><span style=\"color: #4c383f; text-decoration-color: #4c383f\">━</span><span style=\"color: #613545; text-decoration-color: #613545\">━</span><span style=\"color: #7b334d; text-decoration-color: #7b334d\">━</span><span style=\"color: #993056; text-decoration-color: #993056\">━</span><span style=\"color: #b72c5e; text-decoration-color: #b72c5e\">━</span><span style=\"color: #d12a66; text-decoration-color: #d12a66\">━</span><span style=\"color: #e6276c; text-decoration-color: #e6276c\">━</span><span style=\"color: #f42670; text-decoration-color: #f42670\">━</span><span style=\"color: #f92672; text-decoration-color: #f92672\">━</span><span style=\"color: #f42670; text-decoration-color: #f42670\">━</span><span style=\"color: #e6276c; text-decoration-color: #e6276c\">━</span><span style=\"color: #d12a66; text-decoration-color: #d12a66\">━</span><span style=\"color: #b72c5e; text-decoration-color: #b72c5e\">━</span><span style=\"color: #993056; text-decoration-color: #993056\">━</span>  <span style=\"color: #008080; text-decoration-color: #008080\"> </span>\n</pre>\n"
                },
                "metadata": {}
              }
            ]
          }
        },
        "e36b35956eb74905b38e3b0b4698c19e": {
          "model_module": "@jupyter-widgets/base",
          "model_name": "LayoutModel",
          "model_module_version": "1.2.0",
          "state": {
            "_model_module": "@jupyter-widgets/base",
            "_model_module_version": "1.2.0",
            "_model_name": "LayoutModel",
            "_view_count": null,
            "_view_module": "@jupyter-widgets/base",
            "_view_module_version": "1.2.0",
            "_view_name": "LayoutView",
            "align_content": null,
            "align_items": null,
            "align_self": null,
            "border": null,
            "bottom": null,
            "display": null,
            "flex": null,
            "flex_flow": null,
            "grid_area": null,
            "grid_auto_columns": null,
            "grid_auto_flow": null,
            "grid_auto_rows": null,
            "grid_column": null,
            "grid_gap": null,
            "grid_row": null,
            "grid_template_areas": null,
            "grid_template_columns": null,
            "grid_template_rows": null,
            "height": null,
            "justify_content": null,
            "justify_items": null,
            "left": null,
            "margin": null,
            "max_height": null,
            "max_width": null,
            "min_height": null,
            "min_width": null,
            "object_fit": null,
            "object_position": null,
            "order": null,
            "overflow": null,
            "overflow_x": null,
            "overflow_y": null,
            "padding": null,
            "right": null,
            "top": null,
            "visibility": null,
            "width": null
          }
        },
        "5326a1325133433590929c2abdda4908": {
          "model_module": "@jupyter-widgets/output",
          "model_name": "OutputModel",
          "model_module_version": "1.0.0",
          "state": {
            "_dom_classes": [],
            "_model_module": "@jupyter-widgets/output",
            "_model_module_version": "1.0.0",
            "_model_name": "OutputModel",
            "_view_count": null,
            "_view_module": "@jupyter-widgets/output",
            "_view_module_version": "1.0.0",
            "_view_name": "OutputView",
            "layout": "IPY_MODEL_532820cb4deb414582988547724f26ce",
            "msg_id": "",
            "outputs": [
              {
                "output_type": "display_data",
                "data": {
                  "text/plain": "Inference \u001b[38;2;62;57;59m━\u001b[0m\u001b[38;2;58;58;58m━\u001b[0m\u001b[38;2;62;57;59m━\u001b[0m\u001b[38;2;76;56;63m━\u001b[0m\u001b[38;2;97;53;69m━\u001b[0m\u001b[38;2;123;51;77m━\u001b[0m\u001b[38;2;153;48;86m━\u001b[0m\u001b[38;2;183;44;94m━\u001b[0m\u001b[38;2;209;42;102m━\u001b[0m\u001b[38;2;230;39;108m━\u001b[0m\u001b[38;2;244;38;112m━\u001b[0m\u001b[38;2;249;38;114m━\u001b[0m\u001b[38;2;244;38;112m━\u001b[0m\u001b[38;2;230;39;108m━\u001b[0m\u001b[38;2;209;42;102m━\u001b[0m\u001b[38;2;183;44;94m━\u001b[0m\u001b[38;2;153;48;86m━\u001b[0m\u001b[38;2;123;51;77m━\u001b[0m\u001b[38;2;97;53;69m━\u001b[0m\u001b[38;2;76;56;63m━\u001b[0m\u001b[38;2;62;57;59m━\u001b[0m\u001b[38;2;58;58;58m━\u001b[0m\u001b[38;2;62;57;59m━\u001b[0m\u001b[38;2;76;56;63m━\u001b[0m\u001b[38;2;97;53;69m━\u001b[0m\u001b[38;2;123;51;77m━\u001b[0m\u001b[38;2;153;48;86m━\u001b[0m\u001b[38;2;183;44;94m━\u001b[0m\u001b[38;2;209;42;102m━\u001b[0m\u001b[38;2;230;39;108m━\u001b[0m\u001b[38;2;244;38;112m━\u001b[0m\u001b[38;2;249;38;114m━\u001b[0m\u001b[38;2;244;38;112m━\u001b[0m\u001b[38;2;230;39;108m━\u001b[0m\u001b[38;2;209;42;102m━\u001b[0m\u001b[38;2;183;44;94m━\u001b[0m\u001b[38;2;153;48;86m━\u001b[0m\u001b[38;2;123;51;77m━\u001b[0m\u001b[38;2;97;53;69m━\u001b[0m\u001b[38;2;76;56;63m━\u001b[0m  \u001b[36m \u001b[0m\n",
                  "text/html": "<pre style=\"white-space:pre;overflow-x:auto;line-height:normal;font-family:Menlo,'DejaVu Sans Mono',consolas,'Courier New',monospace\">Inference <span style=\"color: #3e393b; text-decoration-color: #3e393b\">━</span><span style=\"color: #3a3a3a; text-decoration-color: #3a3a3a\">━</span><span style=\"color: #3e393b; text-decoration-color: #3e393b\">━</span><span style=\"color: #4c383f; text-decoration-color: #4c383f\">━</span><span style=\"color: #613545; text-decoration-color: #613545\">━</span><span style=\"color: #7b334d; text-decoration-color: #7b334d\">━</span><span style=\"color: #993056; text-decoration-color: #993056\">━</span><span style=\"color: #b72c5e; text-decoration-color: #b72c5e\">━</span><span style=\"color: #d12a66; text-decoration-color: #d12a66\">━</span><span style=\"color: #e6276c; text-decoration-color: #e6276c\">━</span><span style=\"color: #f42670; text-decoration-color: #f42670\">━</span><span style=\"color: #f92672; text-decoration-color: #f92672\">━</span><span style=\"color: #f42670; text-decoration-color: #f42670\">━</span><span style=\"color: #e6276c; text-decoration-color: #e6276c\">━</span><span style=\"color: #d12a66; text-decoration-color: #d12a66\">━</span><span style=\"color: #b72c5e; text-decoration-color: #b72c5e\">━</span><span style=\"color: #993056; text-decoration-color: #993056\">━</span><span style=\"color: #7b334d; text-decoration-color: #7b334d\">━</span><span style=\"color: #613545; text-decoration-color: #613545\">━</span><span style=\"color: #4c383f; text-decoration-color: #4c383f\">━</span><span style=\"color: #3e393b; text-decoration-color: #3e393b\">━</span><span style=\"color: #3a3a3a; text-decoration-color: #3a3a3a\">━</span><span style=\"color: #3e393b; text-decoration-color: #3e393b\">━</span><span style=\"color: #4c383f; text-decoration-color: #4c383f\">━</span><span style=\"color: #613545; text-decoration-color: #613545\">━</span><span style=\"color: #7b334d; text-decoration-color: #7b334d\">━</span><span style=\"color: #993056; text-decoration-color: #993056\">━</span><span style=\"color: #b72c5e; text-decoration-color: #b72c5e\">━</span><span style=\"color: #d12a66; text-decoration-color: #d12a66\">━</span><span style=\"color: #e6276c; text-decoration-color: #e6276c\">━</span><span style=\"color: #f42670; text-decoration-color: #f42670\">━</span><span style=\"color: #f92672; text-decoration-color: #f92672\">━</span><span style=\"color: #f42670; text-decoration-color: #f42670\">━</span><span style=\"color: #e6276c; text-decoration-color: #e6276c\">━</span><span style=\"color: #d12a66; text-decoration-color: #d12a66\">━</span><span style=\"color: #b72c5e; text-decoration-color: #b72c5e\">━</span><span style=\"color: #993056; text-decoration-color: #993056\">━</span><span style=\"color: #7b334d; text-decoration-color: #7b334d\">━</span><span style=\"color: #613545; text-decoration-color: #613545\">━</span><span style=\"color: #4c383f; text-decoration-color: #4c383f\">━</span>  <span style=\"color: #008080; text-decoration-color: #008080\"> </span>\n</pre>\n"
                },
                "metadata": {}
              }
            ]
          }
        },
        "532820cb4deb414582988547724f26ce": {
          "model_module": "@jupyter-widgets/base",
          "model_name": "LayoutModel",
          "model_module_version": "1.2.0",
          "state": {
            "_model_module": "@jupyter-widgets/base",
            "_model_module_version": "1.2.0",
            "_model_name": "LayoutModel",
            "_view_count": null,
            "_view_module": "@jupyter-widgets/base",
            "_view_module_version": "1.2.0",
            "_view_name": "LayoutView",
            "align_content": null,
            "align_items": null,
            "align_self": null,
            "border": null,
            "bottom": null,
            "display": null,
            "flex": null,
            "flex_flow": null,
            "grid_area": null,
            "grid_auto_columns": null,
            "grid_auto_flow": null,
            "grid_auto_rows": null,
            "grid_column": null,
            "grid_gap": null,
            "grid_row": null,
            "grid_template_areas": null,
            "grid_template_columns": null,
            "grid_template_rows": null,
            "height": null,
            "justify_content": null,
            "justify_items": null,
            "left": null,
            "margin": null,
            "max_height": null,
            "max_width": null,
            "min_height": null,
            "min_width": null,
            "object_fit": null,
            "object_position": null,
            "order": null,
            "overflow": null,
            "overflow_x": null,
            "overflow_y": null,
            "padding": null,
            "right": null,
            "top": null,
            "visibility": null,
            "width": null
          }
        },
        "a22054210c6a4bfcb776ab4d6b69816e": {
          "model_module": "@jupyter-widgets/output",
          "model_name": "OutputModel",
          "model_module_version": "1.0.0",
          "state": {
            "_dom_classes": [],
            "_model_module": "@jupyter-widgets/output",
            "_model_module_version": "1.0.0",
            "_model_name": "OutputModel",
            "_view_count": null,
            "_view_module": "@jupyter-widgets/output",
            "_view_module_version": "1.0.0",
            "_view_name": "OutputView",
            "layout": "IPY_MODEL_a03d18de67fa4d28b13df24bbbb697d5",
            "msg_id": "",
            "outputs": [
              {
                "output_type": "display_data",
                "data": {
                  "text/plain": "Inference \u001b[38;2;153;48;86m━\u001b[0m\u001b[38;2;123;51;77m━\u001b[0m\u001b[38;2;97;53;69m━\u001b[0m\u001b[38;2;76;56;63m━\u001b[0m\u001b[38;2;62;57;59m━\u001b[0m\u001b[38;2;58;58;58m━\u001b[0m\u001b[38;2;62;57;59m━\u001b[0m\u001b[38;2;76;56;63m━\u001b[0m\u001b[38;2;97;53;69m━\u001b[0m\u001b[38;2;123;51;77m━\u001b[0m\u001b[38;2;153;48;86m━\u001b[0m\u001b[38;2;183;44;94m━\u001b[0m\u001b[38;2;209;42;102m━\u001b[0m\u001b[38;2;230;39;108m━\u001b[0m\u001b[38;2;244;38;112m━\u001b[0m\u001b[38;2;249;38;114m━\u001b[0m\u001b[38;2;244;38;112m━\u001b[0m\u001b[38;2;230;39;108m━\u001b[0m\u001b[38;2;209;42;102m━\u001b[0m\u001b[38;2;183;44;94m━\u001b[0m\u001b[38;2;153;48;86m━\u001b[0m\u001b[38;2;123;51;77m━\u001b[0m\u001b[38;2;97;53;69m━\u001b[0m\u001b[38;2;76;56;63m━\u001b[0m\u001b[38;2;62;57;59m━\u001b[0m\u001b[38;2;58;58;58m━\u001b[0m\u001b[38;2;62;57;59m━\u001b[0m\u001b[38;2;76;56;63m━\u001b[0m\u001b[38;2;97;53;69m━\u001b[0m\u001b[38;2;123;51;77m━\u001b[0m\u001b[38;2;153;48;86m━\u001b[0m\u001b[38;2;183;44;94m━\u001b[0m\u001b[38;2;209;42;102m━\u001b[0m\u001b[38;2;230;39;108m━\u001b[0m\u001b[38;2;244;38;112m━\u001b[0m\u001b[38;2;249;38;114m━\u001b[0m\u001b[38;2;244;38;112m━\u001b[0m\u001b[38;2;230;39;108m━\u001b[0m\u001b[38;2;209;42;102m━\u001b[0m\u001b[38;2;183;44;94m━\u001b[0m  \u001b[36m \u001b[0m\n",
                  "text/html": "<pre style=\"white-space:pre;overflow-x:auto;line-height:normal;font-family:Menlo,'DejaVu Sans Mono',consolas,'Courier New',monospace\">Inference <span style=\"color: #993056; text-decoration-color: #993056\">━</span><span style=\"color: #7b334d; text-decoration-color: #7b334d\">━</span><span style=\"color: #613545; text-decoration-color: #613545\">━</span><span style=\"color: #4c383f; text-decoration-color: #4c383f\">━</span><span style=\"color: #3e393b; text-decoration-color: #3e393b\">━</span><span style=\"color: #3a3a3a; text-decoration-color: #3a3a3a\">━</span><span style=\"color: #3e393b; text-decoration-color: #3e393b\">━</span><span style=\"color: #4c383f; text-decoration-color: #4c383f\">━</span><span style=\"color: #613545; text-decoration-color: #613545\">━</span><span style=\"color: #7b334d; text-decoration-color: #7b334d\">━</span><span style=\"color: #993056; text-decoration-color: #993056\">━</span><span style=\"color: #b72c5e; text-decoration-color: #b72c5e\">━</span><span style=\"color: #d12a66; text-decoration-color: #d12a66\">━</span><span style=\"color: #e6276c; text-decoration-color: #e6276c\">━</span><span style=\"color: #f42670; text-decoration-color: #f42670\">━</span><span style=\"color: #f92672; text-decoration-color: #f92672\">━</span><span style=\"color: #f42670; text-decoration-color: #f42670\">━</span><span style=\"color: #e6276c; text-decoration-color: #e6276c\">━</span><span style=\"color: #d12a66; text-decoration-color: #d12a66\">━</span><span style=\"color: #b72c5e; text-decoration-color: #b72c5e\">━</span><span style=\"color: #993056; text-decoration-color: #993056\">━</span><span style=\"color: #7b334d; text-decoration-color: #7b334d\">━</span><span style=\"color: #613545; text-decoration-color: #613545\">━</span><span style=\"color: #4c383f; text-decoration-color: #4c383f\">━</span><span style=\"color: #3e393b; text-decoration-color: #3e393b\">━</span><span style=\"color: #3a3a3a; text-decoration-color: #3a3a3a\">━</span><span style=\"color: #3e393b; text-decoration-color: #3e393b\">━</span><span style=\"color: #4c383f; text-decoration-color: #4c383f\">━</span><span style=\"color: #613545; text-decoration-color: #613545\">━</span><span style=\"color: #7b334d; text-decoration-color: #7b334d\">━</span><span style=\"color: #993056; text-decoration-color: #993056\">━</span><span style=\"color: #b72c5e; text-decoration-color: #b72c5e\">━</span><span style=\"color: #d12a66; text-decoration-color: #d12a66\">━</span><span style=\"color: #e6276c; text-decoration-color: #e6276c\">━</span><span style=\"color: #f42670; text-decoration-color: #f42670\">━</span><span style=\"color: #f92672; text-decoration-color: #f92672\">━</span><span style=\"color: #f42670; text-decoration-color: #f42670\">━</span><span style=\"color: #e6276c; text-decoration-color: #e6276c\">━</span><span style=\"color: #d12a66; text-decoration-color: #d12a66\">━</span><span style=\"color: #b72c5e; text-decoration-color: #b72c5e\">━</span>  <span style=\"color: #008080; text-decoration-color: #008080\"> </span>\n</pre>\n"
                },
                "metadata": {}
              }
            ]
          }
        },
        "a03d18de67fa4d28b13df24bbbb697d5": {
          "model_module": "@jupyter-widgets/base",
          "model_name": "LayoutModel",
          "model_module_version": "1.2.0",
          "state": {
            "_model_module": "@jupyter-widgets/base",
            "_model_module_version": "1.2.0",
            "_model_name": "LayoutModel",
            "_view_count": null,
            "_view_module": "@jupyter-widgets/base",
            "_view_module_version": "1.2.0",
            "_view_name": "LayoutView",
            "align_content": null,
            "align_items": null,
            "align_self": null,
            "border": null,
            "bottom": null,
            "display": null,
            "flex": null,
            "flex_flow": null,
            "grid_area": null,
            "grid_auto_columns": null,
            "grid_auto_flow": null,
            "grid_auto_rows": null,
            "grid_column": null,
            "grid_gap": null,
            "grid_row": null,
            "grid_template_areas": null,
            "grid_template_columns": null,
            "grid_template_rows": null,
            "height": null,
            "justify_content": null,
            "justify_items": null,
            "left": null,
            "margin": null,
            "max_height": null,
            "max_width": null,
            "min_height": null,
            "min_width": null,
            "object_fit": null,
            "object_position": null,
            "order": null,
            "overflow": null,
            "overflow_x": null,
            "overflow_y": null,
            "padding": null,
            "right": null,
            "top": null,
            "visibility": null,
            "width": null
          }
        },
        "d87ca9d2b7804719af4ab34d92b69224": {
          "model_module": "@jupyter-widgets/output",
          "model_name": "OutputModel",
          "model_module_version": "1.0.0",
          "state": {
            "_dom_classes": [],
            "_model_module": "@jupyter-widgets/output",
            "_model_module_version": "1.0.0",
            "_model_name": "OutputModel",
            "_view_count": null,
            "_view_module": "@jupyter-widgets/output",
            "_view_module_version": "1.0.0",
            "_view_name": "OutputView",
            "layout": "IPY_MODEL_8277da32e5ec4d5b99e2eb691fec468b",
            "msg_id": "",
            "outputs": [
              {
                "output_type": "display_data",
                "data": {
                  "text/plain": "Inference \u001b[38;2;183;44;94m━\u001b[0m\u001b[38;2;153;48;86m━\u001b[0m\u001b[38;2;123;51;77m━\u001b[0m\u001b[38;2;97;53;69m━\u001b[0m\u001b[38;2;76;56;63m━\u001b[0m\u001b[38;2;62;57;59m━\u001b[0m\u001b[38;2;58;58;58m━\u001b[0m\u001b[38;2;62;57;59m━\u001b[0m\u001b[38;2;76;56;63m━\u001b[0m\u001b[38;2;97;53;69m━\u001b[0m\u001b[38;2;123;51;77m━\u001b[0m\u001b[38;2;153;48;86m━\u001b[0m\u001b[38;2;183;44;94m━\u001b[0m\u001b[38;2;209;42;102m━\u001b[0m\u001b[38;2;230;39;108m━\u001b[0m\u001b[38;2;244;38;112m━\u001b[0m\u001b[38;2;249;38;114m━\u001b[0m\u001b[38;2;244;38;112m━\u001b[0m\u001b[38;2;230;39;108m━\u001b[0m\u001b[38;2;209;42;102m━\u001b[0m\u001b[38;2;183;44;94m━\u001b[0m\u001b[38;2;153;48;86m━\u001b[0m\u001b[38;2;123;51;77m━\u001b[0m\u001b[38;2;97;53;69m━\u001b[0m\u001b[38;2;76;56;63m━\u001b[0m\u001b[38;2;62;57;59m━\u001b[0m\u001b[38;2;58;58;58m━\u001b[0m\u001b[38;2;62;57;59m━\u001b[0m\u001b[38;2;76;56;63m━\u001b[0m\u001b[38;2;97;53;69m━\u001b[0m\u001b[38;2;123;51;77m━\u001b[0m\u001b[38;2;153;48;86m━\u001b[0m\u001b[38;2;183;44;94m━\u001b[0m\u001b[38;2;209;42;102m━\u001b[0m\u001b[38;2;230;39;108m━\u001b[0m\u001b[38;2;244;38;112m━\u001b[0m\u001b[38;2;249;38;114m━\u001b[0m\u001b[38;2;244;38;112m━\u001b[0m\u001b[38;2;230;39;108m━\u001b[0m\u001b[38;2;209;42;102m━\u001b[0m  \u001b[36m \u001b[0m\n",
                  "text/html": "<pre style=\"white-space:pre;overflow-x:auto;line-height:normal;font-family:Menlo,'DejaVu Sans Mono',consolas,'Courier New',monospace\">Inference <span style=\"color: #b72c5e; text-decoration-color: #b72c5e\">━</span><span style=\"color: #993056; text-decoration-color: #993056\">━</span><span style=\"color: #7b334d; text-decoration-color: #7b334d\">━</span><span style=\"color: #613545; text-decoration-color: #613545\">━</span><span style=\"color: #4c383f; text-decoration-color: #4c383f\">━</span><span style=\"color: #3e393b; text-decoration-color: #3e393b\">━</span><span style=\"color: #3a3a3a; text-decoration-color: #3a3a3a\">━</span><span style=\"color: #3e393b; text-decoration-color: #3e393b\">━</span><span style=\"color: #4c383f; text-decoration-color: #4c383f\">━</span><span style=\"color: #613545; text-decoration-color: #613545\">━</span><span style=\"color: #7b334d; text-decoration-color: #7b334d\">━</span><span style=\"color: #993056; text-decoration-color: #993056\">━</span><span style=\"color: #b72c5e; text-decoration-color: #b72c5e\">━</span><span style=\"color: #d12a66; text-decoration-color: #d12a66\">━</span><span style=\"color: #e6276c; text-decoration-color: #e6276c\">━</span><span style=\"color: #f42670; text-decoration-color: #f42670\">━</span><span style=\"color: #f92672; text-decoration-color: #f92672\">━</span><span style=\"color: #f42670; text-decoration-color: #f42670\">━</span><span style=\"color: #e6276c; text-decoration-color: #e6276c\">━</span><span style=\"color: #d12a66; text-decoration-color: #d12a66\">━</span><span style=\"color: #b72c5e; text-decoration-color: #b72c5e\">━</span><span style=\"color: #993056; text-decoration-color: #993056\">━</span><span style=\"color: #7b334d; text-decoration-color: #7b334d\">━</span><span style=\"color: #613545; text-decoration-color: #613545\">━</span><span style=\"color: #4c383f; text-decoration-color: #4c383f\">━</span><span style=\"color: #3e393b; text-decoration-color: #3e393b\">━</span><span style=\"color: #3a3a3a; text-decoration-color: #3a3a3a\">━</span><span style=\"color: #3e393b; text-decoration-color: #3e393b\">━</span><span style=\"color: #4c383f; text-decoration-color: #4c383f\">━</span><span style=\"color: #613545; text-decoration-color: #613545\">━</span><span style=\"color: #7b334d; text-decoration-color: #7b334d\">━</span><span style=\"color: #993056; text-decoration-color: #993056\">━</span><span style=\"color: #b72c5e; text-decoration-color: #b72c5e\">━</span><span style=\"color: #d12a66; text-decoration-color: #d12a66\">━</span><span style=\"color: #e6276c; text-decoration-color: #e6276c\">━</span><span style=\"color: #f42670; text-decoration-color: #f42670\">━</span><span style=\"color: #f92672; text-decoration-color: #f92672\">━</span><span style=\"color: #f42670; text-decoration-color: #f42670\">━</span><span style=\"color: #e6276c; text-decoration-color: #e6276c\">━</span><span style=\"color: #d12a66; text-decoration-color: #d12a66\">━</span>  <span style=\"color: #008080; text-decoration-color: #008080\"> </span>\n</pre>\n"
                },
                "metadata": {}
              }
            ]
          }
        },
        "8277da32e5ec4d5b99e2eb691fec468b": {
          "model_module": "@jupyter-widgets/base",
          "model_name": "LayoutModel",
          "model_module_version": "1.2.0",
          "state": {
            "_model_module": "@jupyter-widgets/base",
            "_model_module_version": "1.2.0",
            "_model_name": "LayoutModel",
            "_view_count": null,
            "_view_module": "@jupyter-widgets/base",
            "_view_module_version": "1.2.0",
            "_view_name": "LayoutView",
            "align_content": null,
            "align_items": null,
            "align_self": null,
            "border": null,
            "bottom": null,
            "display": null,
            "flex": null,
            "flex_flow": null,
            "grid_area": null,
            "grid_auto_columns": null,
            "grid_auto_flow": null,
            "grid_auto_rows": null,
            "grid_column": null,
            "grid_gap": null,
            "grid_row": null,
            "grid_template_areas": null,
            "grid_template_columns": null,
            "grid_template_rows": null,
            "height": null,
            "justify_content": null,
            "justify_items": null,
            "left": null,
            "margin": null,
            "max_height": null,
            "max_width": null,
            "min_height": null,
            "min_width": null,
            "object_fit": null,
            "object_position": null,
            "order": null,
            "overflow": null,
            "overflow_x": null,
            "overflow_y": null,
            "padding": null,
            "right": null,
            "top": null,
            "visibility": null,
            "width": null
          }
        },
        "4362db2e8f024d4da889d646a284b2fe": {
          "model_module": "@jupyter-widgets/output",
          "model_name": "OutputModel",
          "model_module_version": "1.0.0",
          "state": {
            "_dom_classes": [],
            "_model_module": "@jupyter-widgets/output",
            "_model_module_version": "1.0.0",
            "_model_name": "OutputModel",
            "_view_count": null,
            "_view_module": "@jupyter-widgets/output",
            "_view_module_version": "1.0.0",
            "_view_name": "OutputView",
            "layout": "IPY_MODEL_f1b7fc3e2865413c98034a6a2a0e8c91",
            "msg_id": "",
            "outputs": [
              {
                "output_type": "display_data",
                "data": {
                  "text/plain": "Inference \u001b[38;2;230;39;108m━\u001b[0m\u001b[38;2;209;42;102m━\u001b[0m\u001b[38;2;183;44;94m━\u001b[0m\u001b[38;2;153;48;86m━\u001b[0m\u001b[38;2;123;51;77m━\u001b[0m\u001b[38;2;97;53;69m━\u001b[0m\u001b[38;2;76;56;63m━\u001b[0m\u001b[38;2;62;57;59m━\u001b[0m\u001b[38;2;58;58;58m━\u001b[0m\u001b[38;2;62;57;59m━\u001b[0m\u001b[38;2;76;56;63m━\u001b[0m\u001b[38;2;97;53;69m━\u001b[0m\u001b[38;2;123;51;77m━\u001b[0m\u001b[38;2;153;48;86m━\u001b[0m\u001b[38;2;183;44;94m━\u001b[0m\u001b[38;2;209;42;102m━\u001b[0m\u001b[38;2;230;39;108m━\u001b[0m\u001b[38;2;244;38;112m━\u001b[0m\u001b[38;2;249;38;114m━\u001b[0m\u001b[38;2;244;38;112m━\u001b[0m\u001b[38;2;230;39;108m━\u001b[0m\u001b[38;2;209;42;102m━\u001b[0m\u001b[38;2;183;44;94m━\u001b[0m\u001b[38;2;153;48;86m━\u001b[0m\u001b[38;2;123;51;77m━\u001b[0m\u001b[38;2;97;53;69m━\u001b[0m\u001b[38;2;76;56;63m━\u001b[0m\u001b[38;2;62;57;59m━\u001b[0m\u001b[38;2;58;58;58m━\u001b[0m\u001b[38;2;62;57;59m━\u001b[0m\u001b[38;2;76;56;63m━\u001b[0m\u001b[38;2;97;53;69m━\u001b[0m\u001b[38;2;123;51;77m━\u001b[0m\u001b[38;2;153;48;86m━\u001b[0m\u001b[38;2;183;44;94m━\u001b[0m\u001b[38;2;209;42;102m━\u001b[0m\u001b[38;2;230;39;108m━\u001b[0m\u001b[38;2;244;38;112m━\u001b[0m\u001b[38;2;249;38;114m━\u001b[0m\u001b[38;2;244;38;112m━\u001b[0m  \u001b[36m \u001b[0m\n",
                  "text/html": "<pre style=\"white-space:pre;overflow-x:auto;line-height:normal;font-family:Menlo,'DejaVu Sans Mono',consolas,'Courier New',monospace\">Inference <span style=\"color: #e6276c; text-decoration-color: #e6276c\">━</span><span style=\"color: #d12a66; text-decoration-color: #d12a66\">━</span><span style=\"color: #b72c5e; text-decoration-color: #b72c5e\">━</span><span style=\"color: #993056; text-decoration-color: #993056\">━</span><span style=\"color: #7b334d; text-decoration-color: #7b334d\">━</span><span style=\"color: #613545; text-decoration-color: #613545\">━</span><span style=\"color: #4c383f; text-decoration-color: #4c383f\">━</span><span style=\"color: #3e393b; text-decoration-color: #3e393b\">━</span><span style=\"color: #3a3a3a; text-decoration-color: #3a3a3a\">━</span><span style=\"color: #3e393b; text-decoration-color: #3e393b\">━</span><span style=\"color: #4c383f; text-decoration-color: #4c383f\">━</span><span style=\"color: #613545; text-decoration-color: #613545\">━</span><span style=\"color: #7b334d; text-decoration-color: #7b334d\">━</span><span style=\"color: #993056; text-decoration-color: #993056\">━</span><span style=\"color: #b72c5e; text-decoration-color: #b72c5e\">━</span><span style=\"color: #d12a66; text-decoration-color: #d12a66\">━</span><span style=\"color: #e6276c; text-decoration-color: #e6276c\">━</span><span style=\"color: #f42670; text-decoration-color: #f42670\">━</span><span style=\"color: #f92672; text-decoration-color: #f92672\">━</span><span style=\"color: #f42670; text-decoration-color: #f42670\">━</span><span style=\"color: #e6276c; text-decoration-color: #e6276c\">━</span><span style=\"color: #d12a66; text-decoration-color: #d12a66\">━</span><span style=\"color: #b72c5e; text-decoration-color: #b72c5e\">━</span><span style=\"color: #993056; text-decoration-color: #993056\">━</span><span style=\"color: #7b334d; text-decoration-color: #7b334d\">━</span><span style=\"color: #613545; text-decoration-color: #613545\">━</span><span style=\"color: #4c383f; text-decoration-color: #4c383f\">━</span><span style=\"color: #3e393b; text-decoration-color: #3e393b\">━</span><span style=\"color: #3a3a3a; text-decoration-color: #3a3a3a\">━</span><span style=\"color: #3e393b; text-decoration-color: #3e393b\">━</span><span style=\"color: #4c383f; text-decoration-color: #4c383f\">━</span><span style=\"color: #613545; text-decoration-color: #613545\">━</span><span style=\"color: #7b334d; text-decoration-color: #7b334d\">━</span><span style=\"color: #993056; text-decoration-color: #993056\">━</span><span style=\"color: #b72c5e; text-decoration-color: #b72c5e\">━</span><span style=\"color: #d12a66; text-decoration-color: #d12a66\">━</span><span style=\"color: #e6276c; text-decoration-color: #e6276c\">━</span><span style=\"color: #f42670; text-decoration-color: #f42670\">━</span><span style=\"color: #f92672; text-decoration-color: #f92672\">━</span><span style=\"color: #f42670; text-decoration-color: #f42670\">━</span>  <span style=\"color: #008080; text-decoration-color: #008080\"> </span>\n</pre>\n"
                },
                "metadata": {}
              }
            ]
          }
        },
        "f1b7fc3e2865413c98034a6a2a0e8c91": {
          "model_module": "@jupyter-widgets/base",
          "model_name": "LayoutModel",
          "model_module_version": "1.2.0",
          "state": {
            "_model_module": "@jupyter-widgets/base",
            "_model_module_version": "1.2.0",
            "_model_name": "LayoutModel",
            "_view_count": null,
            "_view_module": "@jupyter-widgets/base",
            "_view_module_version": "1.2.0",
            "_view_name": "LayoutView",
            "align_content": null,
            "align_items": null,
            "align_self": null,
            "border": null,
            "bottom": null,
            "display": null,
            "flex": null,
            "flex_flow": null,
            "grid_area": null,
            "grid_auto_columns": null,
            "grid_auto_flow": null,
            "grid_auto_rows": null,
            "grid_column": null,
            "grid_gap": null,
            "grid_row": null,
            "grid_template_areas": null,
            "grid_template_columns": null,
            "grid_template_rows": null,
            "height": null,
            "justify_content": null,
            "justify_items": null,
            "left": null,
            "margin": null,
            "max_height": null,
            "max_width": null,
            "min_height": null,
            "min_width": null,
            "object_fit": null,
            "object_position": null,
            "order": null,
            "overflow": null,
            "overflow_x": null,
            "overflow_y": null,
            "padding": null,
            "right": null,
            "top": null,
            "visibility": null,
            "width": null
          }
        },
        "6815f4fa5a314aebb910f33d59c33338": {
          "model_module": "@jupyter-widgets/output",
          "model_name": "OutputModel",
          "model_module_version": "1.0.0",
          "state": {
            "_dom_classes": [],
            "_model_module": "@jupyter-widgets/output",
            "_model_module_version": "1.0.0",
            "_model_name": "OutputModel",
            "_view_count": null,
            "_view_module": "@jupyter-widgets/output",
            "_view_module_version": "1.0.0",
            "_view_name": "OutputView",
            "layout": "IPY_MODEL_a6393b11745c4fb9b5f3c3a87538a7a3",
            "msg_id": "",
            "outputs": [
              {
                "output_type": "display_data",
                "data": {
                  "text/plain": "Inference \u001b[38;2;183;44;94m━\u001b[0m\u001b[38;2;153;48;86m━\u001b[0m\u001b[38;2;123;51;77m━\u001b[0m\u001b[38;2;97;53;69m━\u001b[0m\u001b[38;2;76;56;63m━\u001b[0m\u001b[38;2;62;57;59m━\u001b[0m\u001b[38;2;58;58;58m━\u001b[0m\u001b[38;2;62;57;59m━\u001b[0m\u001b[38;2;76;56;63m━\u001b[0m\u001b[38;2;97;53;69m━\u001b[0m\u001b[38;2;123;51;77m━\u001b[0m\u001b[38;2;153;48;86m━\u001b[0m\u001b[38;2;183;44;94m━\u001b[0m\u001b[38;2;209;42;102m━\u001b[0m\u001b[38;2;230;39;108m━\u001b[0m\u001b[38;2;244;38;112m━\u001b[0m\u001b[38;2;249;38;114m━\u001b[0m\u001b[38;2;244;38;112m━\u001b[0m\u001b[38;2;230;39;108m━\u001b[0m\u001b[38;2;209;42;102m━\u001b[0m\u001b[38;2;183;44;94m━\u001b[0m\u001b[38;2;153;48;86m━\u001b[0m\u001b[38;2;123;51;77m━\u001b[0m\u001b[38;2;97;53;69m━\u001b[0m\u001b[38;2;76;56;63m━\u001b[0m\u001b[38;2;62;57;59m━\u001b[0m\u001b[38;2;58;58;58m━\u001b[0m\u001b[38;2;62;57;59m━\u001b[0m\u001b[38;2;76;56;63m━\u001b[0m\u001b[38;2;97;53;69m━\u001b[0m\u001b[38;2;123;51;77m━\u001b[0m\u001b[38;2;153;48;86m━\u001b[0m\u001b[38;2;183;44;94m━\u001b[0m\u001b[38;2;209;42;102m━\u001b[0m\u001b[38;2;230;39;108m━\u001b[0m\u001b[38;2;244;38;112m━\u001b[0m\u001b[38;2;249;38;114m━\u001b[0m\u001b[38;2;244;38;112m━\u001b[0m\u001b[38;2;230;39;108m━\u001b[0m\u001b[38;2;209;42;102m━\u001b[0m  \u001b[36m \u001b[0m\n",
                  "text/html": "<pre style=\"white-space:pre;overflow-x:auto;line-height:normal;font-family:Menlo,'DejaVu Sans Mono',consolas,'Courier New',monospace\">Inference <span style=\"color: #b72c5e; text-decoration-color: #b72c5e\">━</span><span style=\"color: #993056; text-decoration-color: #993056\">━</span><span style=\"color: #7b334d; text-decoration-color: #7b334d\">━</span><span style=\"color: #613545; text-decoration-color: #613545\">━</span><span style=\"color: #4c383f; text-decoration-color: #4c383f\">━</span><span style=\"color: #3e393b; text-decoration-color: #3e393b\">━</span><span style=\"color: #3a3a3a; text-decoration-color: #3a3a3a\">━</span><span style=\"color: #3e393b; text-decoration-color: #3e393b\">━</span><span style=\"color: #4c383f; text-decoration-color: #4c383f\">━</span><span style=\"color: #613545; text-decoration-color: #613545\">━</span><span style=\"color: #7b334d; text-decoration-color: #7b334d\">━</span><span style=\"color: #993056; text-decoration-color: #993056\">━</span><span style=\"color: #b72c5e; text-decoration-color: #b72c5e\">━</span><span style=\"color: #d12a66; text-decoration-color: #d12a66\">━</span><span style=\"color: #e6276c; text-decoration-color: #e6276c\">━</span><span style=\"color: #f42670; text-decoration-color: #f42670\">━</span><span style=\"color: #f92672; text-decoration-color: #f92672\">━</span><span style=\"color: #f42670; text-decoration-color: #f42670\">━</span><span style=\"color: #e6276c; text-decoration-color: #e6276c\">━</span><span style=\"color: #d12a66; text-decoration-color: #d12a66\">━</span><span style=\"color: #b72c5e; text-decoration-color: #b72c5e\">━</span><span style=\"color: #993056; text-decoration-color: #993056\">━</span><span style=\"color: #7b334d; text-decoration-color: #7b334d\">━</span><span style=\"color: #613545; text-decoration-color: #613545\">━</span><span style=\"color: #4c383f; text-decoration-color: #4c383f\">━</span><span style=\"color: #3e393b; text-decoration-color: #3e393b\">━</span><span style=\"color: #3a3a3a; text-decoration-color: #3a3a3a\">━</span><span style=\"color: #3e393b; text-decoration-color: #3e393b\">━</span><span style=\"color: #4c383f; text-decoration-color: #4c383f\">━</span><span style=\"color: #613545; text-decoration-color: #613545\">━</span><span style=\"color: #7b334d; text-decoration-color: #7b334d\">━</span><span style=\"color: #993056; text-decoration-color: #993056\">━</span><span style=\"color: #b72c5e; text-decoration-color: #b72c5e\">━</span><span style=\"color: #d12a66; text-decoration-color: #d12a66\">━</span><span style=\"color: #e6276c; text-decoration-color: #e6276c\">━</span><span style=\"color: #f42670; text-decoration-color: #f42670\">━</span><span style=\"color: #f92672; text-decoration-color: #f92672\">━</span><span style=\"color: #f42670; text-decoration-color: #f42670\">━</span><span style=\"color: #e6276c; text-decoration-color: #e6276c\">━</span><span style=\"color: #d12a66; text-decoration-color: #d12a66\">━</span>  <span style=\"color: #008080; text-decoration-color: #008080\"> </span>\n</pre>\n"
                },
                "metadata": {}
              }
            ]
          }
        },
        "a6393b11745c4fb9b5f3c3a87538a7a3": {
          "model_module": "@jupyter-widgets/base",
          "model_name": "LayoutModel",
          "model_module_version": "1.2.0",
          "state": {
            "_model_module": "@jupyter-widgets/base",
            "_model_module_version": "1.2.0",
            "_model_name": "LayoutModel",
            "_view_count": null,
            "_view_module": "@jupyter-widgets/base",
            "_view_module_version": "1.2.0",
            "_view_name": "LayoutView",
            "align_content": null,
            "align_items": null,
            "align_self": null,
            "border": null,
            "bottom": null,
            "display": null,
            "flex": null,
            "flex_flow": null,
            "grid_area": null,
            "grid_auto_columns": null,
            "grid_auto_flow": null,
            "grid_auto_rows": null,
            "grid_column": null,
            "grid_gap": null,
            "grid_row": null,
            "grid_template_areas": null,
            "grid_template_columns": null,
            "grid_template_rows": null,
            "height": null,
            "justify_content": null,
            "justify_items": null,
            "left": null,
            "margin": null,
            "max_height": null,
            "max_width": null,
            "min_height": null,
            "min_width": null,
            "object_fit": null,
            "object_position": null,
            "order": null,
            "overflow": null,
            "overflow_x": null,
            "overflow_y": null,
            "padding": null,
            "right": null,
            "top": null,
            "visibility": null,
            "width": null
          }
        },
        "f00884e77234414497c1bcaff1f704b6": {
          "model_module": "@jupyter-widgets/output",
          "model_name": "OutputModel",
          "model_module_version": "1.0.0",
          "state": {
            "_dom_classes": [],
            "_model_module": "@jupyter-widgets/output",
            "_model_module_version": "1.0.0",
            "_model_name": "OutputModel",
            "_view_count": null,
            "_view_module": "@jupyter-widgets/output",
            "_view_module_version": "1.0.0",
            "_view_name": "OutputView",
            "layout": "IPY_MODEL_4980b8983102467cb26086cfb2d0ef48",
            "msg_id": "",
            "outputs": [
              {
                "output_type": "display_data",
                "data": {
                  "text/plain": "Inference \u001b[38;2;209;42;102m━\u001b[0m\u001b[38;2;230;39;108m━\u001b[0m\u001b[38;2;244;38;112m━\u001b[0m\u001b[38;2;249;38;114m━\u001b[0m\u001b[38;2;244;38;112m━\u001b[0m\u001b[38;2;230;39;108m━\u001b[0m\u001b[38;2;209;42;102m━\u001b[0m\u001b[38;2;183;44;94m━\u001b[0m\u001b[38;2;153;48;86m━\u001b[0m\u001b[38;2;123;51;77m━\u001b[0m\u001b[38;2;97;53;69m━\u001b[0m\u001b[38;2;76;56;63m━\u001b[0m\u001b[38;2;62;57;59m━\u001b[0m\u001b[38;2;58;58;58m━\u001b[0m\u001b[38;2;62;57;59m━\u001b[0m\u001b[38;2;76;56;63m━\u001b[0m\u001b[38;2;97;53;69m━\u001b[0m\u001b[38;2;123;51;77m━\u001b[0m\u001b[38;2;153;48;86m━\u001b[0m\u001b[38;2;183;44;94m━\u001b[0m\u001b[38;2;209;42;102m━\u001b[0m\u001b[38;2;230;39;108m━\u001b[0m\u001b[38;2;244;38;112m━\u001b[0m\u001b[38;2;249;38;114m━\u001b[0m\u001b[38;2;244;38;112m━\u001b[0m\u001b[38;2;230;39;108m━\u001b[0m\u001b[38;2;209;42;102m━\u001b[0m\u001b[38;2;183;44;94m━\u001b[0m\u001b[38;2;153;48;86m━\u001b[0m\u001b[38;2;123;51;77m━\u001b[0m\u001b[38;2;97;53;69m━\u001b[0m\u001b[38;2;76;56;63m━\u001b[0m\u001b[38;2;62;57;59m━\u001b[0m\u001b[38;2;58;58;58m━\u001b[0m\u001b[38;2;62;57;59m━\u001b[0m\u001b[38;2;76;56;63m━\u001b[0m\u001b[38;2;97;53;69m━\u001b[0m\u001b[38;2;123;51;77m━\u001b[0m\u001b[38;2;153;48;86m━\u001b[0m\u001b[38;2;183;44;94m━\u001b[0m  \u001b[36m \u001b[0m\n",
                  "text/html": "<pre style=\"white-space:pre;overflow-x:auto;line-height:normal;font-family:Menlo,'DejaVu Sans Mono',consolas,'Courier New',monospace\">Inference <span style=\"color: #d12a66; text-decoration-color: #d12a66\">━</span><span style=\"color: #e6276c; text-decoration-color: #e6276c\">━</span><span style=\"color: #f42670; text-decoration-color: #f42670\">━</span><span style=\"color: #f92672; text-decoration-color: #f92672\">━</span><span style=\"color: #f42670; text-decoration-color: #f42670\">━</span><span style=\"color: #e6276c; text-decoration-color: #e6276c\">━</span><span style=\"color: #d12a66; text-decoration-color: #d12a66\">━</span><span style=\"color: #b72c5e; text-decoration-color: #b72c5e\">━</span><span style=\"color: #993056; text-decoration-color: #993056\">━</span><span style=\"color: #7b334d; text-decoration-color: #7b334d\">━</span><span style=\"color: #613545; text-decoration-color: #613545\">━</span><span style=\"color: #4c383f; text-decoration-color: #4c383f\">━</span><span style=\"color: #3e393b; text-decoration-color: #3e393b\">━</span><span style=\"color: #3a3a3a; text-decoration-color: #3a3a3a\">━</span><span style=\"color: #3e393b; text-decoration-color: #3e393b\">━</span><span style=\"color: #4c383f; text-decoration-color: #4c383f\">━</span><span style=\"color: #613545; text-decoration-color: #613545\">━</span><span style=\"color: #7b334d; text-decoration-color: #7b334d\">━</span><span style=\"color: #993056; text-decoration-color: #993056\">━</span><span style=\"color: #b72c5e; text-decoration-color: #b72c5e\">━</span><span style=\"color: #d12a66; text-decoration-color: #d12a66\">━</span><span style=\"color: #e6276c; text-decoration-color: #e6276c\">━</span><span style=\"color: #f42670; text-decoration-color: #f42670\">━</span><span style=\"color: #f92672; text-decoration-color: #f92672\">━</span><span style=\"color: #f42670; text-decoration-color: #f42670\">━</span><span style=\"color: #e6276c; text-decoration-color: #e6276c\">━</span><span style=\"color: #d12a66; text-decoration-color: #d12a66\">━</span><span style=\"color: #b72c5e; text-decoration-color: #b72c5e\">━</span><span style=\"color: #993056; text-decoration-color: #993056\">━</span><span style=\"color: #7b334d; text-decoration-color: #7b334d\">━</span><span style=\"color: #613545; text-decoration-color: #613545\">━</span><span style=\"color: #4c383f; text-decoration-color: #4c383f\">━</span><span style=\"color: #3e393b; text-decoration-color: #3e393b\">━</span><span style=\"color: #3a3a3a; text-decoration-color: #3a3a3a\">━</span><span style=\"color: #3e393b; text-decoration-color: #3e393b\">━</span><span style=\"color: #4c383f; text-decoration-color: #4c383f\">━</span><span style=\"color: #613545; text-decoration-color: #613545\">━</span><span style=\"color: #7b334d; text-decoration-color: #7b334d\">━</span><span style=\"color: #993056; text-decoration-color: #993056\">━</span><span style=\"color: #b72c5e; text-decoration-color: #b72c5e\">━</span>  <span style=\"color: #008080; text-decoration-color: #008080\"> </span>\n</pre>\n"
                },
                "metadata": {}
              }
            ]
          }
        },
        "4980b8983102467cb26086cfb2d0ef48": {
          "model_module": "@jupyter-widgets/base",
          "model_name": "LayoutModel",
          "model_module_version": "1.2.0",
          "state": {
            "_model_module": "@jupyter-widgets/base",
            "_model_module_version": "1.2.0",
            "_model_name": "LayoutModel",
            "_view_count": null,
            "_view_module": "@jupyter-widgets/base",
            "_view_module_version": "1.2.0",
            "_view_name": "LayoutView",
            "align_content": null,
            "align_items": null,
            "align_self": null,
            "border": null,
            "bottom": null,
            "display": null,
            "flex": null,
            "flex_flow": null,
            "grid_area": null,
            "grid_auto_columns": null,
            "grid_auto_flow": null,
            "grid_auto_rows": null,
            "grid_column": null,
            "grid_gap": null,
            "grid_row": null,
            "grid_template_areas": null,
            "grid_template_columns": null,
            "grid_template_rows": null,
            "height": null,
            "justify_content": null,
            "justify_items": null,
            "left": null,
            "margin": null,
            "max_height": null,
            "max_width": null,
            "min_height": null,
            "min_width": null,
            "object_fit": null,
            "object_position": null,
            "order": null,
            "overflow": null,
            "overflow_x": null,
            "overflow_y": null,
            "padding": null,
            "right": null,
            "top": null,
            "visibility": null,
            "width": null
          }
        },
        "8a42c91e006040c3b499a07428d01842": {
          "model_module": "@jupyter-widgets/output",
          "model_name": "OutputModel",
          "model_module_version": "1.0.0",
          "state": {
            "_dom_classes": [],
            "_model_module": "@jupyter-widgets/output",
            "_model_module_version": "1.0.0",
            "_model_name": "OutputModel",
            "_view_count": null,
            "_view_module": "@jupyter-widgets/output",
            "_view_module_version": "1.0.0",
            "_view_name": "OutputView",
            "layout": "IPY_MODEL_43603f481e0e4aa79889f8cafdfd7269",
            "msg_id": "",
            "outputs": [
              {
                "output_type": "display_data",
                "data": {
                  "text/plain": "Inference \u001b[38;2;123;51;77m━\u001b[0m\u001b[38;2;97;53;69m━\u001b[0m\u001b[38;2;76;56;63m━\u001b[0m\u001b[38;2;62;57;59m━\u001b[0m\u001b[38;2;58;58;58m━\u001b[0m\u001b[38;2;62;57;59m━\u001b[0m\u001b[38;2;76;56;63m━\u001b[0m\u001b[38;2;97;53;69m━\u001b[0m\u001b[38;2;123;51;77m━\u001b[0m\u001b[38;2;153;48;86m━\u001b[0m\u001b[38;2;183;44;94m━\u001b[0m\u001b[38;2;209;42;102m━\u001b[0m\u001b[38;2;230;39;108m━\u001b[0m\u001b[38;2;244;38;112m━\u001b[0m\u001b[38;2;249;38;114m━\u001b[0m\u001b[38;2;244;38;112m━\u001b[0m\u001b[38;2;230;39;108m━\u001b[0m\u001b[38;2;209;42;102m━\u001b[0m\u001b[38;2;183;44;94m━\u001b[0m\u001b[38;2;153;48;86m━\u001b[0m\u001b[38;2;123;51;77m━\u001b[0m\u001b[38;2;97;53;69m━\u001b[0m\u001b[38;2;76;56;63m━\u001b[0m\u001b[38;2;62;57;59m━\u001b[0m\u001b[38;2;58;58;58m━\u001b[0m\u001b[38;2;62;57;59m━\u001b[0m\u001b[38;2;76;56;63m━\u001b[0m\u001b[38;2;97;53;69m━\u001b[0m\u001b[38;2;123;51;77m━\u001b[0m\u001b[38;2;153;48;86m━\u001b[0m\u001b[38;2;183;44;94m━\u001b[0m\u001b[38;2;209;42;102m━\u001b[0m\u001b[38;2;230;39;108m━\u001b[0m\u001b[38;2;244;38;112m━\u001b[0m\u001b[38;2;249;38;114m━\u001b[0m\u001b[38;2;244;38;112m━\u001b[0m\u001b[38;2;230;39;108m━\u001b[0m\u001b[38;2;209;42;102m━\u001b[0m\u001b[38;2;183;44;94m━\u001b[0m\u001b[38;2;153;48;86m━\u001b[0m  \u001b[36m \u001b[0m\n",
                  "text/html": "<pre style=\"white-space:pre;overflow-x:auto;line-height:normal;font-family:Menlo,'DejaVu Sans Mono',consolas,'Courier New',monospace\">Inference <span style=\"color: #7b334d; text-decoration-color: #7b334d\">━</span><span style=\"color: #613545; text-decoration-color: #613545\">━</span><span style=\"color: #4c383f; text-decoration-color: #4c383f\">━</span><span style=\"color: #3e393b; text-decoration-color: #3e393b\">━</span><span style=\"color: #3a3a3a; text-decoration-color: #3a3a3a\">━</span><span style=\"color: #3e393b; text-decoration-color: #3e393b\">━</span><span style=\"color: #4c383f; text-decoration-color: #4c383f\">━</span><span style=\"color: #613545; text-decoration-color: #613545\">━</span><span style=\"color: #7b334d; text-decoration-color: #7b334d\">━</span><span style=\"color: #993056; text-decoration-color: #993056\">━</span><span style=\"color: #b72c5e; text-decoration-color: #b72c5e\">━</span><span style=\"color: #d12a66; text-decoration-color: #d12a66\">━</span><span style=\"color: #e6276c; text-decoration-color: #e6276c\">━</span><span style=\"color: #f42670; text-decoration-color: #f42670\">━</span><span style=\"color: #f92672; text-decoration-color: #f92672\">━</span><span style=\"color: #f42670; text-decoration-color: #f42670\">━</span><span style=\"color: #e6276c; text-decoration-color: #e6276c\">━</span><span style=\"color: #d12a66; text-decoration-color: #d12a66\">━</span><span style=\"color: #b72c5e; text-decoration-color: #b72c5e\">━</span><span style=\"color: #993056; text-decoration-color: #993056\">━</span><span style=\"color: #7b334d; text-decoration-color: #7b334d\">━</span><span style=\"color: #613545; text-decoration-color: #613545\">━</span><span style=\"color: #4c383f; text-decoration-color: #4c383f\">━</span><span style=\"color: #3e393b; text-decoration-color: #3e393b\">━</span><span style=\"color: #3a3a3a; text-decoration-color: #3a3a3a\">━</span><span style=\"color: #3e393b; text-decoration-color: #3e393b\">━</span><span style=\"color: #4c383f; text-decoration-color: #4c383f\">━</span><span style=\"color: #613545; text-decoration-color: #613545\">━</span><span style=\"color: #7b334d; text-decoration-color: #7b334d\">━</span><span style=\"color: #993056; text-decoration-color: #993056\">━</span><span style=\"color: #b72c5e; text-decoration-color: #b72c5e\">━</span><span style=\"color: #d12a66; text-decoration-color: #d12a66\">━</span><span style=\"color: #e6276c; text-decoration-color: #e6276c\">━</span><span style=\"color: #f42670; text-decoration-color: #f42670\">━</span><span style=\"color: #f92672; text-decoration-color: #f92672\">━</span><span style=\"color: #f42670; text-decoration-color: #f42670\">━</span><span style=\"color: #e6276c; text-decoration-color: #e6276c\">━</span><span style=\"color: #d12a66; text-decoration-color: #d12a66\">━</span><span style=\"color: #b72c5e; text-decoration-color: #b72c5e\">━</span><span style=\"color: #993056; text-decoration-color: #993056\">━</span>  <span style=\"color: #008080; text-decoration-color: #008080\"> </span>\n</pre>\n"
                },
                "metadata": {}
              }
            ]
          }
        },
        "43603f481e0e4aa79889f8cafdfd7269": {
          "model_module": "@jupyter-widgets/base",
          "model_name": "LayoutModel",
          "model_module_version": "1.2.0",
          "state": {
            "_model_module": "@jupyter-widgets/base",
            "_model_module_version": "1.2.0",
            "_model_name": "LayoutModel",
            "_view_count": null,
            "_view_module": "@jupyter-widgets/base",
            "_view_module_version": "1.2.0",
            "_view_name": "LayoutView",
            "align_content": null,
            "align_items": null,
            "align_self": null,
            "border": null,
            "bottom": null,
            "display": null,
            "flex": null,
            "flex_flow": null,
            "grid_area": null,
            "grid_auto_columns": null,
            "grid_auto_flow": null,
            "grid_auto_rows": null,
            "grid_column": null,
            "grid_gap": null,
            "grid_row": null,
            "grid_template_areas": null,
            "grid_template_columns": null,
            "grid_template_rows": null,
            "height": null,
            "justify_content": null,
            "justify_items": null,
            "left": null,
            "margin": null,
            "max_height": null,
            "max_width": null,
            "min_height": null,
            "min_width": null,
            "object_fit": null,
            "object_position": null,
            "order": null,
            "overflow": null,
            "overflow_x": null,
            "overflow_y": null,
            "padding": null,
            "right": null,
            "top": null,
            "visibility": null,
            "width": null
          }
        },
        "01b2bbd4979b49ed83342859cc5efcf5": {
          "model_module": "@jupyter-widgets/output",
          "model_name": "OutputModel",
          "model_module_version": "1.0.0",
          "state": {
            "_dom_classes": [],
            "_model_module": "@jupyter-widgets/output",
            "_model_module_version": "1.0.0",
            "_model_name": "OutputModel",
            "_view_count": null,
            "_view_module": "@jupyter-widgets/output",
            "_view_module_version": "1.0.0",
            "_view_name": "OutputView",
            "layout": "IPY_MODEL_fee0645a443343d89c8bcbfe4f98040c",
            "msg_id": "",
            "outputs": [
              {
                "output_type": "display_data",
                "data": {
                  "text/plain": "Inference \u001b[38;2;76;56;63m━\u001b[0m\u001b[38;2;97;53;69m━\u001b[0m\u001b[38;2;123;51;77m━\u001b[0m\u001b[38;2;153;48;86m━\u001b[0m\u001b[38;2;183;44;94m━\u001b[0m\u001b[38;2;209;42;102m━\u001b[0m\u001b[38;2;230;39;108m━\u001b[0m\u001b[38;2;244;38;112m━\u001b[0m\u001b[38;2;249;38;114m━\u001b[0m\u001b[38;2;244;38;112m━\u001b[0m\u001b[38;2;230;39;108m━\u001b[0m\u001b[38;2;209;42;102m━\u001b[0m\u001b[38;2;183;44;94m━\u001b[0m\u001b[38;2;153;48;86m━\u001b[0m\u001b[38;2;123;51;77m━\u001b[0m\u001b[38;2;97;53;69m━\u001b[0m\u001b[38;2;76;56;63m━\u001b[0m\u001b[38;2;62;57;59m━\u001b[0m\u001b[38;2;58;58;58m━\u001b[0m\u001b[38;2;62;57;59m━\u001b[0m\u001b[38;2;76;56;63m━\u001b[0m\u001b[38;2;97;53;69m━\u001b[0m\u001b[38;2;123;51;77m━\u001b[0m\u001b[38;2;153;48;86m━\u001b[0m\u001b[38;2;183;44;94m━\u001b[0m\u001b[38;2;209;42;102m━\u001b[0m\u001b[38;2;230;39;108m━\u001b[0m\u001b[38;2;244;38;112m━\u001b[0m\u001b[38;2;249;38;114m━\u001b[0m\u001b[38;2;244;38;112m━\u001b[0m\u001b[38;2;230;39;108m━\u001b[0m\u001b[38;2;209;42;102m━\u001b[0m\u001b[38;2;183;44;94m━\u001b[0m\u001b[38;2;153;48;86m━\u001b[0m\u001b[38;2;123;51;77m━\u001b[0m\u001b[38;2;97;53;69m━\u001b[0m\u001b[38;2;76;56;63m━\u001b[0m\u001b[38;2;62;57;59m━\u001b[0m\u001b[38;2;58;58;58m━\u001b[0m\u001b[38;2;62;57;59m━\u001b[0m  \u001b[36m \u001b[0m\n",
                  "text/html": "<pre style=\"white-space:pre;overflow-x:auto;line-height:normal;font-family:Menlo,'DejaVu Sans Mono',consolas,'Courier New',monospace\">Inference <span style=\"color: #4c383f; text-decoration-color: #4c383f\">━</span><span style=\"color: #613545; text-decoration-color: #613545\">━</span><span style=\"color: #7b334d; text-decoration-color: #7b334d\">━</span><span style=\"color: #993056; text-decoration-color: #993056\">━</span><span style=\"color: #b72c5e; text-decoration-color: #b72c5e\">━</span><span style=\"color: #d12a66; text-decoration-color: #d12a66\">━</span><span style=\"color: #e6276c; text-decoration-color: #e6276c\">━</span><span style=\"color: #f42670; text-decoration-color: #f42670\">━</span><span style=\"color: #f92672; text-decoration-color: #f92672\">━</span><span style=\"color: #f42670; text-decoration-color: #f42670\">━</span><span style=\"color: #e6276c; text-decoration-color: #e6276c\">━</span><span style=\"color: #d12a66; text-decoration-color: #d12a66\">━</span><span style=\"color: #b72c5e; text-decoration-color: #b72c5e\">━</span><span style=\"color: #993056; text-decoration-color: #993056\">━</span><span style=\"color: #7b334d; text-decoration-color: #7b334d\">━</span><span style=\"color: #613545; text-decoration-color: #613545\">━</span><span style=\"color: #4c383f; text-decoration-color: #4c383f\">━</span><span style=\"color: #3e393b; text-decoration-color: #3e393b\">━</span><span style=\"color: #3a3a3a; text-decoration-color: #3a3a3a\">━</span><span style=\"color: #3e393b; text-decoration-color: #3e393b\">━</span><span style=\"color: #4c383f; text-decoration-color: #4c383f\">━</span><span style=\"color: #613545; text-decoration-color: #613545\">━</span><span style=\"color: #7b334d; text-decoration-color: #7b334d\">━</span><span style=\"color: #993056; text-decoration-color: #993056\">━</span><span style=\"color: #b72c5e; text-decoration-color: #b72c5e\">━</span><span style=\"color: #d12a66; text-decoration-color: #d12a66\">━</span><span style=\"color: #e6276c; text-decoration-color: #e6276c\">━</span><span style=\"color: #f42670; text-decoration-color: #f42670\">━</span><span style=\"color: #f92672; text-decoration-color: #f92672\">━</span><span style=\"color: #f42670; text-decoration-color: #f42670\">━</span><span style=\"color: #e6276c; text-decoration-color: #e6276c\">━</span><span style=\"color: #d12a66; text-decoration-color: #d12a66\">━</span><span style=\"color: #b72c5e; text-decoration-color: #b72c5e\">━</span><span style=\"color: #993056; text-decoration-color: #993056\">━</span><span style=\"color: #7b334d; text-decoration-color: #7b334d\">━</span><span style=\"color: #613545; text-decoration-color: #613545\">━</span><span style=\"color: #4c383f; text-decoration-color: #4c383f\">━</span><span style=\"color: #3e393b; text-decoration-color: #3e393b\">━</span><span style=\"color: #3a3a3a; text-decoration-color: #3a3a3a\">━</span><span style=\"color: #3e393b; text-decoration-color: #3e393b\">━</span>  <span style=\"color: #008080; text-decoration-color: #008080\"> </span>\n</pre>\n"
                },
                "metadata": {}
              }
            ]
          }
        },
        "fee0645a443343d89c8bcbfe4f98040c": {
          "model_module": "@jupyter-widgets/base",
          "model_name": "LayoutModel",
          "model_module_version": "1.2.0",
          "state": {
            "_model_module": "@jupyter-widgets/base",
            "_model_module_version": "1.2.0",
            "_model_name": "LayoutModel",
            "_view_count": null,
            "_view_module": "@jupyter-widgets/base",
            "_view_module_version": "1.2.0",
            "_view_name": "LayoutView",
            "align_content": null,
            "align_items": null,
            "align_self": null,
            "border": null,
            "bottom": null,
            "display": null,
            "flex": null,
            "flex_flow": null,
            "grid_area": null,
            "grid_auto_columns": null,
            "grid_auto_flow": null,
            "grid_auto_rows": null,
            "grid_column": null,
            "grid_gap": null,
            "grid_row": null,
            "grid_template_areas": null,
            "grid_template_columns": null,
            "grid_template_rows": null,
            "height": null,
            "justify_content": null,
            "justify_items": null,
            "left": null,
            "margin": null,
            "max_height": null,
            "max_width": null,
            "min_height": null,
            "min_width": null,
            "object_fit": null,
            "object_position": null,
            "order": null,
            "overflow": null,
            "overflow_x": null,
            "overflow_y": null,
            "padding": null,
            "right": null,
            "top": null,
            "visibility": null,
            "width": null
          }
        },
        "210ecf8e2af3493ca97d01be72a269a5": {
          "model_module": "@jupyter-widgets/output",
          "model_name": "OutputModel",
          "model_module_version": "1.0.0",
          "state": {
            "_dom_classes": [],
            "_model_module": "@jupyter-widgets/output",
            "_model_module_version": "1.0.0",
            "_model_name": "OutputModel",
            "_view_count": null,
            "_view_module": "@jupyter-widgets/output",
            "_view_module_version": "1.0.0",
            "_view_name": "OutputView",
            "layout": "IPY_MODEL_8452c78da0054a85bfc2faed79ab936f",
            "msg_id": "",
            "outputs": [
              {
                "output_type": "display_data",
                "data": {
                  "text/plain": "Inference \u001b[38;2;76;56;63m━\u001b[0m\u001b[38;2;97;53;69m━\u001b[0m\u001b[38;2;123;51;77m━\u001b[0m\u001b[38;2;153;48;86m━\u001b[0m\u001b[38;2;183;44;94m━\u001b[0m\u001b[38;2;209;42;102m━\u001b[0m\u001b[38;2;230;39;108m━\u001b[0m\u001b[38;2;244;38;112m━\u001b[0m\u001b[38;2;249;38;114m━\u001b[0m\u001b[38;2;244;38;112m━\u001b[0m\u001b[38;2;230;39;108m━\u001b[0m\u001b[38;2;209;42;102m━\u001b[0m\u001b[38;2;183;44;94m━\u001b[0m\u001b[38;2;153;48;86m━\u001b[0m\u001b[38;2;123;51;77m━\u001b[0m\u001b[38;2;97;53;69m━\u001b[0m\u001b[38;2;76;56;63m━\u001b[0m\u001b[38;2;62;57;59m━\u001b[0m\u001b[38;2;58;58;58m━\u001b[0m\u001b[38;2;62;57;59m━\u001b[0m\u001b[38;2;76;56;63m━\u001b[0m\u001b[38;2;97;53;69m━\u001b[0m\u001b[38;2;123;51;77m━\u001b[0m\u001b[38;2;153;48;86m━\u001b[0m\u001b[38;2;183;44;94m━\u001b[0m\u001b[38;2;209;42;102m━\u001b[0m\u001b[38;2;230;39;108m━\u001b[0m\u001b[38;2;244;38;112m━\u001b[0m\u001b[38;2;249;38;114m━\u001b[0m\u001b[38;2;244;38;112m━\u001b[0m\u001b[38;2;230;39;108m━\u001b[0m\u001b[38;2;209;42;102m━\u001b[0m\u001b[38;2;183;44;94m━\u001b[0m\u001b[38;2;153;48;86m━\u001b[0m\u001b[38;2;123;51;77m━\u001b[0m\u001b[38;2;97;53;69m━\u001b[0m\u001b[38;2;76;56;63m━\u001b[0m\u001b[38;2;62;57;59m━\u001b[0m\u001b[38;2;58;58;58m━\u001b[0m\u001b[38;2;62;57;59m━\u001b[0m  \u001b[36m \u001b[0m\n",
                  "text/html": "<pre style=\"white-space:pre;overflow-x:auto;line-height:normal;font-family:Menlo,'DejaVu Sans Mono',consolas,'Courier New',monospace\">Inference <span style=\"color: #4c383f; text-decoration-color: #4c383f\">━</span><span style=\"color: #613545; text-decoration-color: #613545\">━</span><span style=\"color: #7b334d; text-decoration-color: #7b334d\">━</span><span style=\"color: #993056; text-decoration-color: #993056\">━</span><span style=\"color: #b72c5e; text-decoration-color: #b72c5e\">━</span><span style=\"color: #d12a66; text-decoration-color: #d12a66\">━</span><span style=\"color: #e6276c; text-decoration-color: #e6276c\">━</span><span style=\"color: #f42670; text-decoration-color: #f42670\">━</span><span style=\"color: #f92672; text-decoration-color: #f92672\">━</span><span style=\"color: #f42670; text-decoration-color: #f42670\">━</span><span style=\"color: #e6276c; text-decoration-color: #e6276c\">━</span><span style=\"color: #d12a66; text-decoration-color: #d12a66\">━</span><span style=\"color: #b72c5e; text-decoration-color: #b72c5e\">━</span><span style=\"color: #993056; text-decoration-color: #993056\">━</span><span style=\"color: #7b334d; text-decoration-color: #7b334d\">━</span><span style=\"color: #613545; text-decoration-color: #613545\">━</span><span style=\"color: #4c383f; text-decoration-color: #4c383f\">━</span><span style=\"color: #3e393b; text-decoration-color: #3e393b\">━</span><span style=\"color: #3a3a3a; text-decoration-color: #3a3a3a\">━</span><span style=\"color: #3e393b; text-decoration-color: #3e393b\">━</span><span style=\"color: #4c383f; text-decoration-color: #4c383f\">━</span><span style=\"color: #613545; text-decoration-color: #613545\">━</span><span style=\"color: #7b334d; text-decoration-color: #7b334d\">━</span><span style=\"color: #993056; text-decoration-color: #993056\">━</span><span style=\"color: #b72c5e; text-decoration-color: #b72c5e\">━</span><span style=\"color: #d12a66; text-decoration-color: #d12a66\">━</span><span style=\"color: #e6276c; text-decoration-color: #e6276c\">━</span><span style=\"color: #f42670; text-decoration-color: #f42670\">━</span><span style=\"color: #f92672; text-decoration-color: #f92672\">━</span><span style=\"color: #f42670; text-decoration-color: #f42670\">━</span><span style=\"color: #e6276c; text-decoration-color: #e6276c\">━</span><span style=\"color: #d12a66; text-decoration-color: #d12a66\">━</span><span style=\"color: #b72c5e; text-decoration-color: #b72c5e\">━</span><span style=\"color: #993056; text-decoration-color: #993056\">━</span><span style=\"color: #7b334d; text-decoration-color: #7b334d\">━</span><span style=\"color: #613545; text-decoration-color: #613545\">━</span><span style=\"color: #4c383f; text-decoration-color: #4c383f\">━</span><span style=\"color: #3e393b; text-decoration-color: #3e393b\">━</span><span style=\"color: #3a3a3a; text-decoration-color: #3a3a3a\">━</span><span style=\"color: #3e393b; text-decoration-color: #3e393b\">━</span>  <span style=\"color: #008080; text-decoration-color: #008080\"> </span>\n</pre>\n"
                },
                "metadata": {}
              }
            ]
          }
        },
        "8452c78da0054a85bfc2faed79ab936f": {
          "model_module": "@jupyter-widgets/base",
          "model_name": "LayoutModel",
          "model_module_version": "1.2.0",
          "state": {
            "_model_module": "@jupyter-widgets/base",
            "_model_module_version": "1.2.0",
            "_model_name": "LayoutModel",
            "_view_count": null,
            "_view_module": "@jupyter-widgets/base",
            "_view_module_version": "1.2.0",
            "_view_name": "LayoutView",
            "align_content": null,
            "align_items": null,
            "align_self": null,
            "border": null,
            "bottom": null,
            "display": null,
            "flex": null,
            "flex_flow": null,
            "grid_area": null,
            "grid_auto_columns": null,
            "grid_auto_flow": null,
            "grid_auto_rows": null,
            "grid_column": null,
            "grid_gap": null,
            "grid_row": null,
            "grid_template_areas": null,
            "grid_template_columns": null,
            "grid_template_rows": null,
            "height": null,
            "justify_content": null,
            "justify_items": null,
            "left": null,
            "margin": null,
            "max_height": null,
            "max_width": null,
            "min_height": null,
            "min_width": null,
            "object_fit": null,
            "object_position": null,
            "order": null,
            "overflow": null,
            "overflow_x": null,
            "overflow_y": null,
            "padding": null,
            "right": null,
            "top": null,
            "visibility": null,
            "width": null
          }
        },
        "9094654ed8ae4dce9b5dabb9e2c3fc54": {
          "model_module": "@jupyter-widgets/output",
          "model_name": "OutputModel",
          "model_module_version": "1.0.0",
          "state": {
            "_dom_classes": [],
            "_model_module": "@jupyter-widgets/output",
            "_model_module_version": "1.0.0",
            "_model_name": "OutputModel",
            "_view_count": null,
            "_view_module": "@jupyter-widgets/output",
            "_view_module_version": "1.0.0",
            "_view_name": "OutputView",
            "layout": "IPY_MODEL_83e45a0ea047410da3bc1364836df486",
            "msg_id": "",
            "outputs": [
              {
                "output_type": "display_data",
                "data": {
                  "text/plain": "Inference \u001b[38;2;62;57;59m━\u001b[0m\u001b[38;2;76;56;63m━\u001b[0m\u001b[38;2;97;53;69m━\u001b[0m\u001b[38;2;123;51;77m━\u001b[0m\u001b[38;2;153;48;86m━\u001b[0m\u001b[38;2;183;44;94m━\u001b[0m\u001b[38;2;209;42;102m━\u001b[0m\u001b[38;2;230;39;108m━\u001b[0m\u001b[38;2;244;38;112m━\u001b[0m\u001b[38;2;249;38;114m━\u001b[0m\u001b[38;2;244;38;112m━\u001b[0m\u001b[38;2;230;39;108m━\u001b[0m\u001b[38;2;209;42;102m━\u001b[0m\u001b[38;2;183;44;94m━\u001b[0m\u001b[38;2;153;48;86m━\u001b[0m\u001b[38;2;123;51;77m━\u001b[0m\u001b[38;2;97;53;69m━\u001b[0m\u001b[38;2;76;56;63m━\u001b[0m\u001b[38;2;62;57;59m━\u001b[0m\u001b[38;2;58;58;58m━\u001b[0m\u001b[38;2;62;57;59m━\u001b[0m\u001b[38;2;76;56;63m━\u001b[0m\u001b[38;2;97;53;69m━\u001b[0m\u001b[38;2;123;51;77m━\u001b[0m\u001b[38;2;153;48;86m━\u001b[0m\u001b[38;2;183;44;94m━\u001b[0m\u001b[38;2;209;42;102m━\u001b[0m\u001b[38;2;230;39;108m━\u001b[0m\u001b[38;2;244;38;112m━\u001b[0m\u001b[38;2;249;38;114m━\u001b[0m\u001b[38;2;244;38;112m━\u001b[0m\u001b[38;2;230;39;108m━\u001b[0m\u001b[38;2;209;42;102m━\u001b[0m\u001b[38;2;183;44;94m━\u001b[0m\u001b[38;2;153;48;86m━\u001b[0m\u001b[38;2;123;51;77m━\u001b[0m\u001b[38;2;97;53;69m━\u001b[0m\u001b[38;2;76;56;63m━\u001b[0m\u001b[38;2;62;57;59m━\u001b[0m\u001b[38;2;58;58;58m━\u001b[0m  \u001b[36m \u001b[0m\n",
                  "text/html": "<pre style=\"white-space:pre;overflow-x:auto;line-height:normal;font-family:Menlo,'DejaVu Sans Mono',consolas,'Courier New',monospace\">Inference <span style=\"color: #3e393b; text-decoration-color: #3e393b\">━</span><span style=\"color: #4c383f; text-decoration-color: #4c383f\">━</span><span style=\"color: #613545; text-decoration-color: #613545\">━</span><span style=\"color: #7b334d; text-decoration-color: #7b334d\">━</span><span style=\"color: #993056; text-decoration-color: #993056\">━</span><span style=\"color: #b72c5e; text-decoration-color: #b72c5e\">━</span><span style=\"color: #d12a66; text-decoration-color: #d12a66\">━</span><span style=\"color: #e6276c; text-decoration-color: #e6276c\">━</span><span style=\"color: #f42670; text-decoration-color: #f42670\">━</span><span style=\"color: #f92672; text-decoration-color: #f92672\">━</span><span style=\"color: #f42670; text-decoration-color: #f42670\">━</span><span style=\"color: #e6276c; text-decoration-color: #e6276c\">━</span><span style=\"color: #d12a66; text-decoration-color: #d12a66\">━</span><span style=\"color: #b72c5e; text-decoration-color: #b72c5e\">━</span><span style=\"color: #993056; text-decoration-color: #993056\">━</span><span style=\"color: #7b334d; text-decoration-color: #7b334d\">━</span><span style=\"color: #613545; text-decoration-color: #613545\">━</span><span style=\"color: #4c383f; text-decoration-color: #4c383f\">━</span><span style=\"color: #3e393b; text-decoration-color: #3e393b\">━</span><span style=\"color: #3a3a3a; text-decoration-color: #3a3a3a\">━</span><span style=\"color: #3e393b; text-decoration-color: #3e393b\">━</span><span style=\"color: #4c383f; text-decoration-color: #4c383f\">━</span><span style=\"color: #613545; text-decoration-color: #613545\">━</span><span style=\"color: #7b334d; text-decoration-color: #7b334d\">━</span><span style=\"color: #993056; text-decoration-color: #993056\">━</span><span style=\"color: #b72c5e; text-decoration-color: #b72c5e\">━</span><span style=\"color: #d12a66; text-decoration-color: #d12a66\">━</span><span style=\"color: #e6276c; text-decoration-color: #e6276c\">━</span><span style=\"color: #f42670; text-decoration-color: #f42670\">━</span><span style=\"color: #f92672; text-decoration-color: #f92672\">━</span><span style=\"color: #f42670; text-decoration-color: #f42670\">━</span><span style=\"color: #e6276c; text-decoration-color: #e6276c\">━</span><span style=\"color: #d12a66; text-decoration-color: #d12a66\">━</span><span style=\"color: #b72c5e; text-decoration-color: #b72c5e\">━</span><span style=\"color: #993056; text-decoration-color: #993056\">━</span><span style=\"color: #7b334d; text-decoration-color: #7b334d\">━</span><span style=\"color: #613545; text-decoration-color: #613545\">━</span><span style=\"color: #4c383f; text-decoration-color: #4c383f\">━</span><span style=\"color: #3e393b; text-decoration-color: #3e393b\">━</span><span style=\"color: #3a3a3a; text-decoration-color: #3a3a3a\">━</span>  <span style=\"color: #008080; text-decoration-color: #008080\"> </span>\n</pre>\n"
                },
                "metadata": {}
              }
            ]
          }
        },
        "83e45a0ea047410da3bc1364836df486": {
          "model_module": "@jupyter-widgets/base",
          "model_name": "LayoutModel",
          "model_module_version": "1.2.0",
          "state": {
            "_model_module": "@jupyter-widgets/base",
            "_model_module_version": "1.2.0",
            "_model_name": "LayoutModel",
            "_view_count": null,
            "_view_module": "@jupyter-widgets/base",
            "_view_module_version": "1.2.0",
            "_view_name": "LayoutView",
            "align_content": null,
            "align_items": null,
            "align_self": null,
            "border": null,
            "bottom": null,
            "display": null,
            "flex": null,
            "flex_flow": null,
            "grid_area": null,
            "grid_auto_columns": null,
            "grid_auto_flow": null,
            "grid_auto_rows": null,
            "grid_column": null,
            "grid_gap": null,
            "grid_row": null,
            "grid_template_areas": null,
            "grid_template_columns": null,
            "grid_template_rows": null,
            "height": null,
            "justify_content": null,
            "justify_items": null,
            "left": null,
            "margin": null,
            "max_height": null,
            "max_width": null,
            "min_height": null,
            "min_width": null,
            "object_fit": null,
            "object_position": null,
            "order": null,
            "overflow": null,
            "overflow_x": null,
            "overflow_y": null,
            "padding": null,
            "right": null,
            "top": null,
            "visibility": null,
            "width": null
          }
        },
        "b748d353604c4a268260bec3b6e06dc7": {
          "model_module": "@jupyter-widgets/output",
          "model_name": "OutputModel",
          "model_module_version": "1.0.0",
          "state": {
            "_dom_classes": [],
            "_model_module": "@jupyter-widgets/output",
            "_model_module_version": "1.0.0",
            "_model_name": "OutputModel",
            "_view_count": null,
            "_view_module": "@jupyter-widgets/output",
            "_view_module_version": "1.0.0",
            "_view_name": "OutputView",
            "layout": "IPY_MODEL_90626d7986ed4e349a043ea9eaab2be4",
            "msg_id": "",
            "outputs": [
              {
                "output_type": "display_data",
                "data": {
                  "text/plain": "Inference \u001b[38;2;97;53;69m━\u001b[0m\u001b[38;2;123;51;77m━\u001b[0m\u001b[38;2;153;48;86m━\u001b[0m\u001b[38;2;183;44;94m━\u001b[0m\u001b[38;2;209;42;102m━\u001b[0m\u001b[38;2;230;39;108m━\u001b[0m\u001b[38;2;244;38;112m━\u001b[0m\u001b[38;2;249;38;114m━\u001b[0m\u001b[38;2;244;38;112m━\u001b[0m\u001b[38;2;230;39;108m━\u001b[0m\u001b[38;2;209;42;102m━\u001b[0m\u001b[38;2;183;44;94m━\u001b[0m\u001b[38;2;153;48;86m━\u001b[0m\u001b[38;2;123;51;77m━\u001b[0m\u001b[38;2;97;53;69m━\u001b[0m\u001b[38;2;76;56;63m━\u001b[0m\u001b[38;2;62;57;59m━\u001b[0m\u001b[38;2;58;58;58m━\u001b[0m\u001b[38;2;62;57;59m━\u001b[0m\u001b[38;2;76;56;63m━\u001b[0m\u001b[38;2;97;53;69m━\u001b[0m\u001b[38;2;123;51;77m━\u001b[0m\u001b[38;2;153;48;86m━\u001b[0m\u001b[38;2;183;44;94m━\u001b[0m\u001b[38;2;209;42;102m━\u001b[0m\u001b[38;2;230;39;108m━\u001b[0m\u001b[38;2;244;38;112m━\u001b[0m\u001b[38;2;249;38;114m━\u001b[0m\u001b[38;2;244;38;112m━\u001b[0m\u001b[38;2;230;39;108m━\u001b[0m\u001b[38;2;209;42;102m━\u001b[0m\u001b[38;2;183;44;94m━\u001b[0m\u001b[38;2;153;48;86m━\u001b[0m\u001b[38;2;123;51;77m━\u001b[0m\u001b[38;2;97;53;69m━\u001b[0m\u001b[38;2;76;56;63m━\u001b[0m\u001b[38;2;62;57;59m━\u001b[0m\u001b[38;2;58;58;58m━\u001b[0m\u001b[38;2;62;57;59m━\u001b[0m\u001b[38;2;76;56;63m━\u001b[0m  \u001b[36m \u001b[0m\n",
                  "text/html": "<pre style=\"white-space:pre;overflow-x:auto;line-height:normal;font-family:Menlo,'DejaVu Sans Mono',consolas,'Courier New',monospace\">Inference <span style=\"color: #613545; text-decoration-color: #613545\">━</span><span style=\"color: #7b334d; text-decoration-color: #7b334d\">━</span><span style=\"color: #993056; text-decoration-color: #993056\">━</span><span style=\"color: #b72c5e; text-decoration-color: #b72c5e\">━</span><span style=\"color: #d12a66; text-decoration-color: #d12a66\">━</span><span style=\"color: #e6276c; text-decoration-color: #e6276c\">━</span><span style=\"color: #f42670; text-decoration-color: #f42670\">━</span><span style=\"color: #f92672; text-decoration-color: #f92672\">━</span><span style=\"color: #f42670; text-decoration-color: #f42670\">━</span><span style=\"color: #e6276c; text-decoration-color: #e6276c\">━</span><span style=\"color: #d12a66; text-decoration-color: #d12a66\">━</span><span style=\"color: #b72c5e; text-decoration-color: #b72c5e\">━</span><span style=\"color: #993056; text-decoration-color: #993056\">━</span><span style=\"color: #7b334d; text-decoration-color: #7b334d\">━</span><span style=\"color: #613545; text-decoration-color: #613545\">━</span><span style=\"color: #4c383f; text-decoration-color: #4c383f\">━</span><span style=\"color: #3e393b; text-decoration-color: #3e393b\">━</span><span style=\"color: #3a3a3a; text-decoration-color: #3a3a3a\">━</span><span style=\"color: #3e393b; text-decoration-color: #3e393b\">━</span><span style=\"color: #4c383f; text-decoration-color: #4c383f\">━</span><span style=\"color: #613545; text-decoration-color: #613545\">━</span><span style=\"color: #7b334d; text-decoration-color: #7b334d\">━</span><span style=\"color: #993056; text-decoration-color: #993056\">━</span><span style=\"color: #b72c5e; text-decoration-color: #b72c5e\">━</span><span style=\"color: #d12a66; text-decoration-color: #d12a66\">━</span><span style=\"color: #e6276c; text-decoration-color: #e6276c\">━</span><span style=\"color: #f42670; text-decoration-color: #f42670\">━</span><span style=\"color: #f92672; text-decoration-color: #f92672\">━</span><span style=\"color: #f42670; text-decoration-color: #f42670\">━</span><span style=\"color: #e6276c; text-decoration-color: #e6276c\">━</span><span style=\"color: #d12a66; text-decoration-color: #d12a66\">━</span><span style=\"color: #b72c5e; text-decoration-color: #b72c5e\">━</span><span style=\"color: #993056; text-decoration-color: #993056\">━</span><span style=\"color: #7b334d; text-decoration-color: #7b334d\">━</span><span style=\"color: #613545; text-decoration-color: #613545\">━</span><span style=\"color: #4c383f; text-decoration-color: #4c383f\">━</span><span style=\"color: #3e393b; text-decoration-color: #3e393b\">━</span><span style=\"color: #3a3a3a; text-decoration-color: #3a3a3a\">━</span><span style=\"color: #3e393b; text-decoration-color: #3e393b\">━</span><span style=\"color: #4c383f; text-decoration-color: #4c383f\">━</span>  <span style=\"color: #008080; text-decoration-color: #008080\"> </span>\n</pre>\n"
                },
                "metadata": {}
              }
            ]
          }
        },
        "90626d7986ed4e349a043ea9eaab2be4": {
          "model_module": "@jupyter-widgets/base",
          "model_name": "LayoutModel",
          "model_module_version": "1.2.0",
          "state": {
            "_model_module": "@jupyter-widgets/base",
            "_model_module_version": "1.2.0",
            "_model_name": "LayoutModel",
            "_view_count": null,
            "_view_module": "@jupyter-widgets/base",
            "_view_module_version": "1.2.0",
            "_view_name": "LayoutView",
            "align_content": null,
            "align_items": null,
            "align_self": null,
            "border": null,
            "bottom": null,
            "display": null,
            "flex": null,
            "flex_flow": null,
            "grid_area": null,
            "grid_auto_columns": null,
            "grid_auto_flow": null,
            "grid_auto_rows": null,
            "grid_column": null,
            "grid_gap": null,
            "grid_row": null,
            "grid_template_areas": null,
            "grid_template_columns": null,
            "grid_template_rows": null,
            "height": null,
            "justify_content": null,
            "justify_items": null,
            "left": null,
            "margin": null,
            "max_height": null,
            "max_width": null,
            "min_height": null,
            "min_width": null,
            "object_fit": null,
            "object_position": null,
            "order": null,
            "overflow": null,
            "overflow_x": null,
            "overflow_y": null,
            "padding": null,
            "right": null,
            "top": null,
            "visibility": null,
            "width": null
          }
        },
        "9a168efd91ac43cc8eada3a59f88edc8": {
          "model_module": "@jupyter-widgets/output",
          "model_name": "OutputModel",
          "model_module_version": "1.0.0",
          "state": {
            "_dom_classes": [],
            "_model_module": "@jupyter-widgets/output",
            "_model_module_version": "1.0.0",
            "_model_name": "OutputModel",
            "_view_count": null,
            "_view_module": "@jupyter-widgets/output",
            "_view_module_version": "1.0.0",
            "_view_name": "OutputView",
            "layout": "IPY_MODEL_a19a1ac7cce541ee9996a70e9e42b4e0",
            "msg_id": "",
            "outputs": [
              {
                "output_type": "display_data",
                "data": {
                  "text/plain": "Inference \u001b[38;2;97;53;69m━\u001b[0m\u001b[38;2;123;51;77m━\u001b[0m\u001b[38;2;153;48;86m━\u001b[0m\u001b[38;2;183;44;94m━\u001b[0m\u001b[38;2;209;42;102m━\u001b[0m\u001b[38;2;230;39;108m━\u001b[0m\u001b[38;2;244;38;112m━\u001b[0m\u001b[38;2;249;38;114m━\u001b[0m\u001b[38;2;244;38;112m━\u001b[0m\u001b[38;2;230;39;108m━\u001b[0m\u001b[38;2;209;42;102m━\u001b[0m\u001b[38;2;183;44;94m━\u001b[0m\u001b[38;2;153;48;86m━\u001b[0m\u001b[38;2;123;51;77m━\u001b[0m\u001b[38;2;97;53;69m━\u001b[0m\u001b[38;2;76;56;63m━\u001b[0m\u001b[38;2;62;57;59m━\u001b[0m\u001b[38;2;58;58;58m━\u001b[0m\u001b[38;2;62;57;59m━\u001b[0m\u001b[38;2;76;56;63m━\u001b[0m\u001b[38;2;97;53;69m━\u001b[0m\u001b[38;2;123;51;77m━\u001b[0m\u001b[38;2;153;48;86m━\u001b[0m\u001b[38;2;183;44;94m━\u001b[0m\u001b[38;2;209;42;102m━\u001b[0m\u001b[38;2;230;39;108m━\u001b[0m\u001b[38;2;244;38;112m━\u001b[0m\u001b[38;2;249;38;114m━\u001b[0m\u001b[38;2;244;38;112m━\u001b[0m\u001b[38;2;230;39;108m━\u001b[0m\u001b[38;2;209;42;102m━\u001b[0m\u001b[38;2;183;44;94m━\u001b[0m\u001b[38;2;153;48;86m━\u001b[0m\u001b[38;2;123;51;77m━\u001b[0m\u001b[38;2;97;53;69m━\u001b[0m\u001b[38;2;76;56;63m━\u001b[0m\u001b[38;2;62;57;59m━\u001b[0m\u001b[38;2;58;58;58m━\u001b[0m\u001b[38;2;62;57;59m━\u001b[0m\u001b[38;2;76;56;63m━\u001b[0m  \u001b[36m \u001b[0m\n",
                  "text/html": "<pre style=\"white-space:pre;overflow-x:auto;line-height:normal;font-family:Menlo,'DejaVu Sans Mono',consolas,'Courier New',monospace\">Inference <span style=\"color: #613545; text-decoration-color: #613545\">━</span><span style=\"color: #7b334d; text-decoration-color: #7b334d\">━</span><span style=\"color: #993056; text-decoration-color: #993056\">━</span><span style=\"color: #b72c5e; text-decoration-color: #b72c5e\">━</span><span style=\"color: #d12a66; text-decoration-color: #d12a66\">━</span><span style=\"color: #e6276c; text-decoration-color: #e6276c\">━</span><span style=\"color: #f42670; text-decoration-color: #f42670\">━</span><span style=\"color: #f92672; text-decoration-color: #f92672\">━</span><span style=\"color: #f42670; text-decoration-color: #f42670\">━</span><span style=\"color: #e6276c; text-decoration-color: #e6276c\">━</span><span style=\"color: #d12a66; text-decoration-color: #d12a66\">━</span><span style=\"color: #b72c5e; text-decoration-color: #b72c5e\">━</span><span style=\"color: #993056; text-decoration-color: #993056\">━</span><span style=\"color: #7b334d; text-decoration-color: #7b334d\">━</span><span style=\"color: #613545; text-decoration-color: #613545\">━</span><span style=\"color: #4c383f; text-decoration-color: #4c383f\">━</span><span style=\"color: #3e393b; text-decoration-color: #3e393b\">━</span><span style=\"color: #3a3a3a; text-decoration-color: #3a3a3a\">━</span><span style=\"color: #3e393b; text-decoration-color: #3e393b\">━</span><span style=\"color: #4c383f; text-decoration-color: #4c383f\">━</span><span style=\"color: #613545; text-decoration-color: #613545\">━</span><span style=\"color: #7b334d; text-decoration-color: #7b334d\">━</span><span style=\"color: #993056; text-decoration-color: #993056\">━</span><span style=\"color: #b72c5e; text-decoration-color: #b72c5e\">━</span><span style=\"color: #d12a66; text-decoration-color: #d12a66\">━</span><span style=\"color: #e6276c; text-decoration-color: #e6276c\">━</span><span style=\"color: #f42670; text-decoration-color: #f42670\">━</span><span style=\"color: #f92672; text-decoration-color: #f92672\">━</span><span style=\"color: #f42670; text-decoration-color: #f42670\">━</span><span style=\"color: #e6276c; text-decoration-color: #e6276c\">━</span><span style=\"color: #d12a66; text-decoration-color: #d12a66\">━</span><span style=\"color: #b72c5e; text-decoration-color: #b72c5e\">━</span><span style=\"color: #993056; text-decoration-color: #993056\">━</span><span style=\"color: #7b334d; text-decoration-color: #7b334d\">━</span><span style=\"color: #613545; text-decoration-color: #613545\">━</span><span style=\"color: #4c383f; text-decoration-color: #4c383f\">━</span><span style=\"color: #3e393b; text-decoration-color: #3e393b\">━</span><span style=\"color: #3a3a3a; text-decoration-color: #3a3a3a\">━</span><span style=\"color: #3e393b; text-decoration-color: #3e393b\">━</span><span style=\"color: #4c383f; text-decoration-color: #4c383f\">━</span>  <span style=\"color: #008080; text-decoration-color: #008080\"> </span>\n</pre>\n"
                },
                "metadata": {}
              }
            ]
          }
        },
        "a19a1ac7cce541ee9996a70e9e42b4e0": {
          "model_module": "@jupyter-widgets/base",
          "model_name": "LayoutModel",
          "model_module_version": "1.2.0",
          "state": {
            "_model_module": "@jupyter-widgets/base",
            "_model_module_version": "1.2.0",
            "_model_name": "LayoutModel",
            "_view_count": null,
            "_view_module": "@jupyter-widgets/base",
            "_view_module_version": "1.2.0",
            "_view_name": "LayoutView",
            "align_content": null,
            "align_items": null,
            "align_self": null,
            "border": null,
            "bottom": null,
            "display": null,
            "flex": null,
            "flex_flow": null,
            "grid_area": null,
            "grid_auto_columns": null,
            "grid_auto_flow": null,
            "grid_auto_rows": null,
            "grid_column": null,
            "grid_gap": null,
            "grid_row": null,
            "grid_template_areas": null,
            "grid_template_columns": null,
            "grid_template_rows": null,
            "height": null,
            "justify_content": null,
            "justify_items": null,
            "left": null,
            "margin": null,
            "max_height": null,
            "max_width": null,
            "min_height": null,
            "min_width": null,
            "object_fit": null,
            "object_position": null,
            "order": null,
            "overflow": null,
            "overflow_x": null,
            "overflow_y": null,
            "padding": null,
            "right": null,
            "top": null,
            "visibility": null,
            "width": null
          }
        },
        "f99a8b39d9974f5bbeb6219551f4a630": {
          "model_module": "@jupyter-widgets/output",
          "model_name": "OutputModel",
          "model_module_version": "1.0.0",
          "state": {
            "_dom_classes": [],
            "_model_module": "@jupyter-widgets/output",
            "_model_module_version": "1.0.0",
            "_model_name": "OutputModel",
            "_view_count": null,
            "_view_module": "@jupyter-widgets/output",
            "_view_module_version": "1.0.0",
            "_view_name": "OutputView",
            "layout": "IPY_MODEL_2f4510b00afb4a55986e39c24172ee27",
            "msg_id": "",
            "outputs": [
              {
                "output_type": "display_data",
                "data": {
                  "text/plain": "Inference \u001b[38;2;58;58;58m━\u001b[0m\u001b[38;2;62;57;59m━\u001b[0m\u001b[38;2;76;56;63m━\u001b[0m\u001b[38;2;97;53;69m━\u001b[0m\u001b[38;2;123;51;77m━\u001b[0m\u001b[38;2;153;48;86m━\u001b[0m\u001b[38;2;183;44;94m━\u001b[0m\u001b[38;2;209;42;102m━\u001b[0m\u001b[38;2;230;39;108m━\u001b[0m\u001b[38;2;244;38;112m━\u001b[0m\u001b[38;2;249;38;114m━\u001b[0m\u001b[38;2;244;38;112m━\u001b[0m\u001b[38;2;230;39;108m━\u001b[0m\u001b[38;2;209;42;102m━\u001b[0m\u001b[38;2;183;44;94m━\u001b[0m\u001b[38;2;153;48;86m━\u001b[0m\u001b[38;2;123;51;77m━\u001b[0m\u001b[38;2;97;53;69m━\u001b[0m\u001b[38;2;76;56;63m━\u001b[0m\u001b[38;2;62;57;59m━\u001b[0m\u001b[38;2;58;58;58m━\u001b[0m\u001b[38;2;62;57;59m━\u001b[0m\u001b[38;2;76;56;63m━\u001b[0m\u001b[38;2;97;53;69m━\u001b[0m\u001b[38;2;123;51;77m━\u001b[0m\u001b[38;2;153;48;86m━\u001b[0m\u001b[38;2;183;44;94m━\u001b[0m\u001b[38;2;209;42;102m━\u001b[0m\u001b[38;2;230;39;108m━\u001b[0m\u001b[38;2;244;38;112m━\u001b[0m\u001b[38;2;249;38;114m━\u001b[0m\u001b[38;2;244;38;112m━\u001b[0m\u001b[38;2;230;39;108m━\u001b[0m\u001b[38;2;209;42;102m━\u001b[0m\u001b[38;2;183;44;94m━\u001b[0m\u001b[38;2;153;48;86m━\u001b[0m\u001b[38;2;123;51;77m━\u001b[0m\u001b[38;2;97;53;69m━\u001b[0m\u001b[38;2;76;56;63m━\u001b[0m\u001b[38;2;62;57;59m━\u001b[0m  \u001b[36m \u001b[0m\n",
                  "text/html": "<pre style=\"white-space:pre;overflow-x:auto;line-height:normal;font-family:Menlo,'DejaVu Sans Mono',consolas,'Courier New',monospace\">Inference <span style=\"color: #3a3a3a; text-decoration-color: #3a3a3a\">━</span><span style=\"color: #3e393b; text-decoration-color: #3e393b\">━</span><span style=\"color: #4c383f; text-decoration-color: #4c383f\">━</span><span style=\"color: #613545; text-decoration-color: #613545\">━</span><span style=\"color: #7b334d; text-decoration-color: #7b334d\">━</span><span style=\"color: #993056; text-decoration-color: #993056\">━</span><span style=\"color: #b72c5e; text-decoration-color: #b72c5e\">━</span><span style=\"color: #d12a66; text-decoration-color: #d12a66\">━</span><span style=\"color: #e6276c; text-decoration-color: #e6276c\">━</span><span style=\"color: #f42670; text-decoration-color: #f42670\">━</span><span style=\"color: #f92672; text-decoration-color: #f92672\">━</span><span style=\"color: #f42670; text-decoration-color: #f42670\">━</span><span style=\"color: #e6276c; text-decoration-color: #e6276c\">━</span><span style=\"color: #d12a66; text-decoration-color: #d12a66\">━</span><span style=\"color: #b72c5e; text-decoration-color: #b72c5e\">━</span><span style=\"color: #993056; text-decoration-color: #993056\">━</span><span style=\"color: #7b334d; text-decoration-color: #7b334d\">━</span><span style=\"color: #613545; text-decoration-color: #613545\">━</span><span style=\"color: #4c383f; text-decoration-color: #4c383f\">━</span><span style=\"color: #3e393b; text-decoration-color: #3e393b\">━</span><span style=\"color: #3a3a3a; text-decoration-color: #3a3a3a\">━</span><span style=\"color: #3e393b; text-decoration-color: #3e393b\">━</span><span style=\"color: #4c383f; text-decoration-color: #4c383f\">━</span><span style=\"color: #613545; text-decoration-color: #613545\">━</span><span style=\"color: #7b334d; text-decoration-color: #7b334d\">━</span><span style=\"color: #993056; text-decoration-color: #993056\">━</span><span style=\"color: #b72c5e; text-decoration-color: #b72c5e\">━</span><span style=\"color: #d12a66; text-decoration-color: #d12a66\">━</span><span style=\"color: #e6276c; text-decoration-color: #e6276c\">━</span><span style=\"color: #f42670; text-decoration-color: #f42670\">━</span><span style=\"color: #f92672; text-decoration-color: #f92672\">━</span><span style=\"color: #f42670; text-decoration-color: #f42670\">━</span><span style=\"color: #e6276c; text-decoration-color: #e6276c\">━</span><span style=\"color: #d12a66; text-decoration-color: #d12a66\">━</span><span style=\"color: #b72c5e; text-decoration-color: #b72c5e\">━</span><span style=\"color: #993056; text-decoration-color: #993056\">━</span><span style=\"color: #7b334d; text-decoration-color: #7b334d\">━</span><span style=\"color: #613545; text-decoration-color: #613545\">━</span><span style=\"color: #4c383f; text-decoration-color: #4c383f\">━</span><span style=\"color: #3e393b; text-decoration-color: #3e393b\">━</span>  <span style=\"color: #008080; text-decoration-color: #008080\"> </span>\n</pre>\n"
                },
                "metadata": {}
              }
            ]
          }
        },
        "2f4510b00afb4a55986e39c24172ee27": {
          "model_module": "@jupyter-widgets/base",
          "model_name": "LayoutModel",
          "model_module_version": "1.2.0",
          "state": {
            "_model_module": "@jupyter-widgets/base",
            "_model_module_version": "1.2.0",
            "_model_name": "LayoutModel",
            "_view_count": null,
            "_view_module": "@jupyter-widgets/base",
            "_view_module_version": "1.2.0",
            "_view_name": "LayoutView",
            "align_content": null,
            "align_items": null,
            "align_self": null,
            "border": null,
            "bottom": null,
            "display": null,
            "flex": null,
            "flex_flow": null,
            "grid_area": null,
            "grid_auto_columns": null,
            "grid_auto_flow": null,
            "grid_auto_rows": null,
            "grid_column": null,
            "grid_gap": null,
            "grid_row": null,
            "grid_template_areas": null,
            "grid_template_columns": null,
            "grid_template_rows": null,
            "height": null,
            "justify_content": null,
            "justify_items": null,
            "left": null,
            "margin": null,
            "max_height": null,
            "max_width": null,
            "min_height": null,
            "min_width": null,
            "object_fit": null,
            "object_position": null,
            "order": null,
            "overflow": null,
            "overflow_x": null,
            "overflow_y": null,
            "padding": null,
            "right": null,
            "top": null,
            "visibility": null,
            "width": null
          }
        },
        "7b6f21cf56c542a9a82ec40ecf3e6ef0": {
          "model_module": "@jupyter-widgets/output",
          "model_name": "OutputModel",
          "model_module_version": "1.0.0",
          "state": {
            "_dom_classes": [],
            "_model_module": "@jupyter-widgets/output",
            "_model_module_version": "1.0.0",
            "_model_name": "OutputModel",
            "_view_count": null,
            "_view_module": "@jupyter-widgets/output",
            "_view_module_version": "1.0.0",
            "_view_name": "OutputView",
            "layout": "IPY_MODEL_aae8b2915d154ec7a931092a4d7dae3b",
            "msg_id": "",
            "outputs": [
              {
                "output_type": "display_data",
                "data": {
                  "text/plain": "Inference \u001b[38;2;249;38;114m━\u001b[0m\u001b[38;2;244;38;112m━\u001b[0m\u001b[38;2;230;39;108m━\u001b[0m\u001b[38;2;209;42;102m━\u001b[0m\u001b[38;2;183;44;94m━\u001b[0m\u001b[38;2;153;48;86m━\u001b[0m\u001b[38;2;123;51;77m━\u001b[0m\u001b[38;2;97;53;69m━\u001b[0m\u001b[38;2;76;56;63m━\u001b[0m\u001b[38;2;62;57;59m━\u001b[0m\u001b[38;2;58;58;58m━\u001b[0m\u001b[38;2;62;57;59m━\u001b[0m\u001b[38;2;76;56;63m━\u001b[0m\u001b[38;2;97;53;69m━\u001b[0m\u001b[38;2;123;51;77m━\u001b[0m\u001b[38;2;153;48;86m━\u001b[0m\u001b[38;2;183;44;94m━\u001b[0m\u001b[38;2;209;42;102m━\u001b[0m\u001b[38;2;230;39;108m━\u001b[0m\u001b[38;2;244;38;112m━\u001b[0m\u001b[38;2;249;38;114m━\u001b[0m\u001b[38;2;244;38;112m━\u001b[0m\u001b[38;2;230;39;108m━\u001b[0m\u001b[38;2;209;42;102m━\u001b[0m\u001b[38;2;183;44;94m━\u001b[0m\u001b[38;2;153;48;86m━\u001b[0m\u001b[38;2;123;51;77m━\u001b[0m\u001b[38;2;97;53;69m━\u001b[0m\u001b[38;2;76;56;63m━\u001b[0m\u001b[38;2;62;57;59m━\u001b[0m\u001b[38;2;58;58;58m━\u001b[0m\u001b[38;2;62;57;59m━\u001b[0m\u001b[38;2;76;56;63m━\u001b[0m\u001b[38;2;97;53;69m━\u001b[0m\u001b[38;2;123;51;77m━\u001b[0m\u001b[38;2;153;48;86m━\u001b[0m\u001b[38;2;183;44;94m━\u001b[0m\u001b[38;2;209;42;102m━\u001b[0m\u001b[38;2;230;39;108m━\u001b[0m\u001b[38;2;244;38;112m━\u001b[0m  \u001b[36m \u001b[0m\n",
                  "text/html": "<pre style=\"white-space:pre;overflow-x:auto;line-height:normal;font-family:Menlo,'DejaVu Sans Mono',consolas,'Courier New',monospace\">Inference <span style=\"color: #f92672; text-decoration-color: #f92672\">━</span><span style=\"color: #f42670; text-decoration-color: #f42670\">━</span><span style=\"color: #e6276c; text-decoration-color: #e6276c\">━</span><span style=\"color: #d12a66; text-decoration-color: #d12a66\">━</span><span style=\"color: #b72c5e; text-decoration-color: #b72c5e\">━</span><span style=\"color: #993056; text-decoration-color: #993056\">━</span><span style=\"color: #7b334d; text-decoration-color: #7b334d\">━</span><span style=\"color: #613545; text-decoration-color: #613545\">━</span><span style=\"color: #4c383f; text-decoration-color: #4c383f\">━</span><span style=\"color: #3e393b; text-decoration-color: #3e393b\">━</span><span style=\"color: #3a3a3a; text-decoration-color: #3a3a3a\">━</span><span style=\"color: #3e393b; text-decoration-color: #3e393b\">━</span><span style=\"color: #4c383f; text-decoration-color: #4c383f\">━</span><span style=\"color: #613545; text-decoration-color: #613545\">━</span><span style=\"color: #7b334d; text-decoration-color: #7b334d\">━</span><span style=\"color: #993056; text-decoration-color: #993056\">━</span><span style=\"color: #b72c5e; text-decoration-color: #b72c5e\">━</span><span style=\"color: #d12a66; text-decoration-color: #d12a66\">━</span><span style=\"color: #e6276c; text-decoration-color: #e6276c\">━</span><span style=\"color: #f42670; text-decoration-color: #f42670\">━</span><span style=\"color: #f92672; text-decoration-color: #f92672\">━</span><span style=\"color: #f42670; text-decoration-color: #f42670\">━</span><span style=\"color: #e6276c; text-decoration-color: #e6276c\">━</span><span style=\"color: #d12a66; text-decoration-color: #d12a66\">━</span><span style=\"color: #b72c5e; text-decoration-color: #b72c5e\">━</span><span style=\"color: #993056; text-decoration-color: #993056\">━</span><span style=\"color: #7b334d; text-decoration-color: #7b334d\">━</span><span style=\"color: #613545; text-decoration-color: #613545\">━</span><span style=\"color: #4c383f; text-decoration-color: #4c383f\">━</span><span style=\"color: #3e393b; text-decoration-color: #3e393b\">━</span><span style=\"color: #3a3a3a; text-decoration-color: #3a3a3a\">━</span><span style=\"color: #3e393b; text-decoration-color: #3e393b\">━</span><span style=\"color: #4c383f; text-decoration-color: #4c383f\">━</span><span style=\"color: #613545; text-decoration-color: #613545\">━</span><span style=\"color: #7b334d; text-decoration-color: #7b334d\">━</span><span style=\"color: #993056; text-decoration-color: #993056\">━</span><span style=\"color: #b72c5e; text-decoration-color: #b72c5e\">━</span><span style=\"color: #d12a66; text-decoration-color: #d12a66\">━</span><span style=\"color: #e6276c; text-decoration-color: #e6276c\">━</span><span style=\"color: #f42670; text-decoration-color: #f42670\">━</span>  <span style=\"color: #008080; text-decoration-color: #008080\"> </span>\n</pre>\n"
                },
                "metadata": {}
              }
            ]
          }
        },
        "aae8b2915d154ec7a931092a4d7dae3b": {
          "model_module": "@jupyter-widgets/base",
          "model_name": "LayoutModel",
          "model_module_version": "1.2.0",
          "state": {
            "_model_module": "@jupyter-widgets/base",
            "_model_module_version": "1.2.0",
            "_model_name": "LayoutModel",
            "_view_count": null,
            "_view_module": "@jupyter-widgets/base",
            "_view_module_version": "1.2.0",
            "_view_name": "LayoutView",
            "align_content": null,
            "align_items": null,
            "align_self": null,
            "border": null,
            "bottom": null,
            "display": null,
            "flex": null,
            "flex_flow": null,
            "grid_area": null,
            "grid_auto_columns": null,
            "grid_auto_flow": null,
            "grid_auto_rows": null,
            "grid_column": null,
            "grid_gap": null,
            "grid_row": null,
            "grid_template_areas": null,
            "grid_template_columns": null,
            "grid_template_rows": null,
            "height": null,
            "justify_content": null,
            "justify_items": null,
            "left": null,
            "margin": null,
            "max_height": null,
            "max_width": null,
            "min_height": null,
            "min_width": null,
            "object_fit": null,
            "object_position": null,
            "order": null,
            "overflow": null,
            "overflow_x": null,
            "overflow_y": null,
            "padding": null,
            "right": null,
            "top": null,
            "visibility": null,
            "width": null
          }
        },
        "b8889a73935f48cfb49d55fa3ae024ec": {
          "model_module": "@jupyter-widgets/output",
          "model_name": "OutputModel",
          "model_module_version": "1.0.0",
          "state": {
            "_dom_classes": [],
            "_model_module": "@jupyter-widgets/output",
            "_model_module_version": "1.0.0",
            "_model_name": "OutputModel",
            "_view_count": null,
            "_view_module": "@jupyter-widgets/output",
            "_view_module_version": "1.0.0",
            "_view_name": "OutputView",
            "layout": "IPY_MODEL_cfe531f5d02040609d5d7129ff766944",
            "msg_id": "",
            "outputs": [
              {
                "output_type": "display_data",
                "data": {
                  "text/plain": "Inference \u001b[38;2;76;56;63m━\u001b[0m\u001b[38;2;97;53;69m━\u001b[0m\u001b[38;2;123;51;77m━\u001b[0m\u001b[38;2;153;48;86m━\u001b[0m\u001b[38;2;183;44;94m━\u001b[0m\u001b[38;2;209;42;102m━\u001b[0m\u001b[38;2;230;39;108m━\u001b[0m\u001b[38;2;244;38;112m━\u001b[0m\u001b[38;2;249;38;114m━\u001b[0m\u001b[38;2;244;38;112m━\u001b[0m\u001b[38;2;230;39;108m━\u001b[0m\u001b[38;2;209;42;102m━\u001b[0m\u001b[38;2;183;44;94m━\u001b[0m\u001b[38;2;153;48;86m━\u001b[0m\u001b[38;2;123;51;77m━\u001b[0m\u001b[38;2;97;53;69m━\u001b[0m\u001b[38;2;76;56;63m━\u001b[0m\u001b[38;2;62;57;59m━\u001b[0m\u001b[38;2;58;58;58m━\u001b[0m\u001b[38;2;62;57;59m━\u001b[0m\u001b[38;2;76;56;63m━\u001b[0m\u001b[38;2;97;53;69m━\u001b[0m\u001b[38;2;123;51;77m━\u001b[0m\u001b[38;2;153;48;86m━\u001b[0m\u001b[38;2;183;44;94m━\u001b[0m\u001b[38;2;209;42;102m━\u001b[0m\u001b[38;2;230;39;108m━\u001b[0m\u001b[38;2;244;38;112m━\u001b[0m\u001b[38;2;249;38;114m━\u001b[0m\u001b[38;2;244;38;112m━\u001b[0m\u001b[38;2;230;39;108m━\u001b[0m\u001b[38;2;209;42;102m━\u001b[0m\u001b[38;2;183;44;94m━\u001b[0m\u001b[38;2;153;48;86m━\u001b[0m\u001b[38;2;123;51;77m━\u001b[0m\u001b[38;2;97;53;69m━\u001b[0m\u001b[38;2;76;56;63m━\u001b[0m\u001b[38;2;62;57;59m━\u001b[0m\u001b[38;2;58;58;58m━\u001b[0m\u001b[38;2;62;57;59m━\u001b[0m  \u001b[36m \u001b[0m\n",
                  "text/html": "<pre style=\"white-space:pre;overflow-x:auto;line-height:normal;font-family:Menlo,'DejaVu Sans Mono',consolas,'Courier New',monospace\">Inference <span style=\"color: #4c383f; text-decoration-color: #4c383f\">━</span><span style=\"color: #613545; text-decoration-color: #613545\">━</span><span style=\"color: #7b334d; text-decoration-color: #7b334d\">━</span><span style=\"color: #993056; text-decoration-color: #993056\">━</span><span style=\"color: #b72c5e; text-decoration-color: #b72c5e\">━</span><span style=\"color: #d12a66; text-decoration-color: #d12a66\">━</span><span style=\"color: #e6276c; text-decoration-color: #e6276c\">━</span><span style=\"color: #f42670; text-decoration-color: #f42670\">━</span><span style=\"color: #f92672; text-decoration-color: #f92672\">━</span><span style=\"color: #f42670; text-decoration-color: #f42670\">━</span><span style=\"color: #e6276c; text-decoration-color: #e6276c\">━</span><span style=\"color: #d12a66; text-decoration-color: #d12a66\">━</span><span style=\"color: #b72c5e; text-decoration-color: #b72c5e\">━</span><span style=\"color: #993056; text-decoration-color: #993056\">━</span><span style=\"color: #7b334d; text-decoration-color: #7b334d\">━</span><span style=\"color: #613545; text-decoration-color: #613545\">━</span><span style=\"color: #4c383f; text-decoration-color: #4c383f\">━</span><span style=\"color: #3e393b; text-decoration-color: #3e393b\">━</span><span style=\"color: #3a3a3a; text-decoration-color: #3a3a3a\">━</span><span style=\"color: #3e393b; text-decoration-color: #3e393b\">━</span><span style=\"color: #4c383f; text-decoration-color: #4c383f\">━</span><span style=\"color: #613545; text-decoration-color: #613545\">━</span><span style=\"color: #7b334d; text-decoration-color: #7b334d\">━</span><span style=\"color: #993056; text-decoration-color: #993056\">━</span><span style=\"color: #b72c5e; text-decoration-color: #b72c5e\">━</span><span style=\"color: #d12a66; text-decoration-color: #d12a66\">━</span><span style=\"color: #e6276c; text-decoration-color: #e6276c\">━</span><span style=\"color: #f42670; text-decoration-color: #f42670\">━</span><span style=\"color: #f92672; text-decoration-color: #f92672\">━</span><span style=\"color: #f42670; text-decoration-color: #f42670\">━</span><span style=\"color: #e6276c; text-decoration-color: #e6276c\">━</span><span style=\"color: #d12a66; text-decoration-color: #d12a66\">━</span><span style=\"color: #b72c5e; text-decoration-color: #b72c5e\">━</span><span style=\"color: #993056; text-decoration-color: #993056\">━</span><span style=\"color: #7b334d; text-decoration-color: #7b334d\">━</span><span style=\"color: #613545; text-decoration-color: #613545\">━</span><span style=\"color: #4c383f; text-decoration-color: #4c383f\">━</span><span style=\"color: #3e393b; text-decoration-color: #3e393b\">━</span><span style=\"color: #3a3a3a; text-decoration-color: #3a3a3a\">━</span><span style=\"color: #3e393b; text-decoration-color: #3e393b\">━</span>  <span style=\"color: #008080; text-decoration-color: #008080\"> </span>\n</pre>\n"
                },
                "metadata": {}
              }
            ]
          }
        },
        "cfe531f5d02040609d5d7129ff766944": {
          "model_module": "@jupyter-widgets/base",
          "model_name": "LayoutModel",
          "model_module_version": "1.2.0",
          "state": {
            "_model_module": "@jupyter-widgets/base",
            "_model_module_version": "1.2.0",
            "_model_name": "LayoutModel",
            "_view_count": null,
            "_view_module": "@jupyter-widgets/base",
            "_view_module_version": "1.2.0",
            "_view_name": "LayoutView",
            "align_content": null,
            "align_items": null,
            "align_self": null,
            "border": null,
            "bottom": null,
            "display": null,
            "flex": null,
            "flex_flow": null,
            "grid_area": null,
            "grid_auto_columns": null,
            "grid_auto_flow": null,
            "grid_auto_rows": null,
            "grid_column": null,
            "grid_gap": null,
            "grid_row": null,
            "grid_template_areas": null,
            "grid_template_columns": null,
            "grid_template_rows": null,
            "height": null,
            "justify_content": null,
            "justify_items": null,
            "left": null,
            "margin": null,
            "max_height": null,
            "max_width": null,
            "min_height": null,
            "min_width": null,
            "object_fit": null,
            "object_position": null,
            "order": null,
            "overflow": null,
            "overflow_x": null,
            "overflow_y": null,
            "padding": null,
            "right": null,
            "top": null,
            "visibility": null,
            "width": null
          }
        },
        "156d1494f0824ebc9fdf29f12be2d8a0": {
          "model_module": "@jupyter-widgets/output",
          "model_name": "OutputModel",
          "model_module_version": "1.0.0",
          "state": {
            "_dom_classes": [],
            "_model_module": "@jupyter-widgets/output",
            "_model_module_version": "1.0.0",
            "_model_name": "OutputModel",
            "_view_count": null,
            "_view_module": "@jupyter-widgets/output",
            "_view_module_version": "1.0.0",
            "_view_name": "OutputView",
            "layout": "IPY_MODEL_258c58096cb64a50aaf967ec64d55ea9",
            "msg_id": "",
            "outputs": [
              {
                "output_type": "display_data",
                "data": {
                  "text/plain": "Inference \u001b[38;2;76;56;63m━\u001b[0m\u001b[38;2;97;53;69m━\u001b[0m\u001b[38;2;123;51;77m━\u001b[0m\u001b[38;2;153;48;86m━\u001b[0m\u001b[38;2;183;44;94m━\u001b[0m\u001b[38;2;209;42;102m━\u001b[0m\u001b[38;2;230;39;108m━\u001b[0m\u001b[38;2;244;38;112m━\u001b[0m\u001b[38;2;249;38;114m━\u001b[0m\u001b[38;2;244;38;112m━\u001b[0m\u001b[38;2;230;39;108m━\u001b[0m\u001b[38;2;209;42;102m━\u001b[0m\u001b[38;2;183;44;94m━\u001b[0m\u001b[38;2;153;48;86m━\u001b[0m\u001b[38;2;123;51;77m━\u001b[0m\u001b[38;2;97;53;69m━\u001b[0m\u001b[38;2;76;56;63m━\u001b[0m\u001b[38;2;62;57;59m━\u001b[0m\u001b[38;2;58;58;58m━\u001b[0m\u001b[38;2;62;57;59m━\u001b[0m\u001b[38;2;76;56;63m━\u001b[0m\u001b[38;2;97;53;69m━\u001b[0m\u001b[38;2;123;51;77m━\u001b[0m\u001b[38;2;153;48;86m━\u001b[0m\u001b[38;2;183;44;94m━\u001b[0m\u001b[38;2;209;42;102m━\u001b[0m\u001b[38;2;230;39;108m━\u001b[0m\u001b[38;2;244;38;112m━\u001b[0m\u001b[38;2;249;38;114m━\u001b[0m\u001b[38;2;244;38;112m━\u001b[0m\u001b[38;2;230;39;108m━\u001b[0m\u001b[38;2;209;42;102m━\u001b[0m\u001b[38;2;183;44;94m━\u001b[0m\u001b[38;2;153;48;86m━\u001b[0m\u001b[38;2;123;51;77m━\u001b[0m\u001b[38;2;97;53;69m━\u001b[0m\u001b[38;2;76;56;63m━\u001b[0m\u001b[38;2;62;57;59m━\u001b[0m\u001b[38;2;58;58;58m━\u001b[0m\u001b[38;2;62;57;59m━\u001b[0m  \u001b[36m \u001b[0m\n",
                  "text/html": "<pre style=\"white-space:pre;overflow-x:auto;line-height:normal;font-family:Menlo,'DejaVu Sans Mono',consolas,'Courier New',monospace\">Inference <span style=\"color: #4c383f; text-decoration-color: #4c383f\">━</span><span style=\"color: #613545; text-decoration-color: #613545\">━</span><span style=\"color: #7b334d; text-decoration-color: #7b334d\">━</span><span style=\"color: #993056; text-decoration-color: #993056\">━</span><span style=\"color: #b72c5e; text-decoration-color: #b72c5e\">━</span><span style=\"color: #d12a66; text-decoration-color: #d12a66\">━</span><span style=\"color: #e6276c; text-decoration-color: #e6276c\">━</span><span style=\"color: #f42670; text-decoration-color: #f42670\">━</span><span style=\"color: #f92672; text-decoration-color: #f92672\">━</span><span style=\"color: #f42670; text-decoration-color: #f42670\">━</span><span style=\"color: #e6276c; text-decoration-color: #e6276c\">━</span><span style=\"color: #d12a66; text-decoration-color: #d12a66\">━</span><span style=\"color: #b72c5e; text-decoration-color: #b72c5e\">━</span><span style=\"color: #993056; text-decoration-color: #993056\">━</span><span style=\"color: #7b334d; text-decoration-color: #7b334d\">━</span><span style=\"color: #613545; text-decoration-color: #613545\">━</span><span style=\"color: #4c383f; text-decoration-color: #4c383f\">━</span><span style=\"color: #3e393b; text-decoration-color: #3e393b\">━</span><span style=\"color: #3a3a3a; text-decoration-color: #3a3a3a\">━</span><span style=\"color: #3e393b; text-decoration-color: #3e393b\">━</span><span style=\"color: #4c383f; text-decoration-color: #4c383f\">━</span><span style=\"color: #613545; text-decoration-color: #613545\">━</span><span style=\"color: #7b334d; text-decoration-color: #7b334d\">━</span><span style=\"color: #993056; text-decoration-color: #993056\">━</span><span style=\"color: #b72c5e; text-decoration-color: #b72c5e\">━</span><span style=\"color: #d12a66; text-decoration-color: #d12a66\">━</span><span style=\"color: #e6276c; text-decoration-color: #e6276c\">━</span><span style=\"color: #f42670; text-decoration-color: #f42670\">━</span><span style=\"color: #f92672; text-decoration-color: #f92672\">━</span><span style=\"color: #f42670; text-decoration-color: #f42670\">━</span><span style=\"color: #e6276c; text-decoration-color: #e6276c\">━</span><span style=\"color: #d12a66; text-decoration-color: #d12a66\">━</span><span style=\"color: #b72c5e; text-decoration-color: #b72c5e\">━</span><span style=\"color: #993056; text-decoration-color: #993056\">━</span><span style=\"color: #7b334d; text-decoration-color: #7b334d\">━</span><span style=\"color: #613545; text-decoration-color: #613545\">━</span><span style=\"color: #4c383f; text-decoration-color: #4c383f\">━</span><span style=\"color: #3e393b; text-decoration-color: #3e393b\">━</span><span style=\"color: #3a3a3a; text-decoration-color: #3a3a3a\">━</span><span style=\"color: #3e393b; text-decoration-color: #3e393b\">━</span>  <span style=\"color: #008080; text-decoration-color: #008080\"> </span>\n</pre>\n"
                },
                "metadata": {}
              }
            ]
          }
        },
        "258c58096cb64a50aaf967ec64d55ea9": {
          "model_module": "@jupyter-widgets/base",
          "model_name": "LayoutModel",
          "model_module_version": "1.2.0",
          "state": {
            "_model_module": "@jupyter-widgets/base",
            "_model_module_version": "1.2.0",
            "_model_name": "LayoutModel",
            "_view_count": null,
            "_view_module": "@jupyter-widgets/base",
            "_view_module_version": "1.2.0",
            "_view_name": "LayoutView",
            "align_content": null,
            "align_items": null,
            "align_self": null,
            "border": null,
            "bottom": null,
            "display": null,
            "flex": null,
            "flex_flow": null,
            "grid_area": null,
            "grid_auto_columns": null,
            "grid_auto_flow": null,
            "grid_auto_rows": null,
            "grid_column": null,
            "grid_gap": null,
            "grid_row": null,
            "grid_template_areas": null,
            "grid_template_columns": null,
            "grid_template_rows": null,
            "height": null,
            "justify_content": null,
            "justify_items": null,
            "left": null,
            "margin": null,
            "max_height": null,
            "max_width": null,
            "min_height": null,
            "min_width": null,
            "object_fit": null,
            "object_position": null,
            "order": null,
            "overflow": null,
            "overflow_x": null,
            "overflow_y": null,
            "padding": null,
            "right": null,
            "top": null,
            "visibility": null,
            "width": null
          }
        },
        "179c0d90186d4bde92e7b68024502de3": {
          "model_module": "@jupyter-widgets/output",
          "model_name": "OutputModel",
          "model_module_version": "1.0.0",
          "state": {
            "_dom_classes": [],
            "_model_module": "@jupyter-widgets/output",
            "_model_module_version": "1.0.0",
            "_model_name": "OutputModel",
            "_view_count": null,
            "_view_module": "@jupyter-widgets/output",
            "_view_module_version": "1.0.0",
            "_view_name": "OutputView",
            "layout": "IPY_MODEL_9f979a7e8873497ea88ff1073c541d6e",
            "msg_id": "",
            "outputs": [
              {
                "output_type": "display_data",
                "data": {
                  "text/plain": "Inference \u001b[38;2;62;57;59m━\u001b[0m\u001b[38;2;76;56;63m━\u001b[0m\u001b[38;2;97;53;69m━\u001b[0m\u001b[38;2;123;51;77m━\u001b[0m\u001b[38;2;153;48;86m━\u001b[0m\u001b[38;2;183;44;94m━\u001b[0m\u001b[38;2;209;42;102m━\u001b[0m\u001b[38;2;230;39;108m━\u001b[0m\u001b[38;2;244;38;112m━\u001b[0m\u001b[38;2;249;38;114m━\u001b[0m\u001b[38;2;244;38;112m━\u001b[0m\u001b[38;2;230;39;108m━\u001b[0m\u001b[38;2;209;42;102m━\u001b[0m\u001b[38;2;183;44;94m━\u001b[0m\u001b[38;2;153;48;86m━\u001b[0m\u001b[38;2;123;51;77m━\u001b[0m\u001b[38;2;97;53;69m━\u001b[0m\u001b[38;2;76;56;63m━\u001b[0m\u001b[38;2;62;57;59m━\u001b[0m\u001b[38;2;58;58;58m━\u001b[0m\u001b[38;2;62;57;59m━\u001b[0m\u001b[38;2;76;56;63m━\u001b[0m\u001b[38;2;97;53;69m━\u001b[0m\u001b[38;2;123;51;77m━\u001b[0m\u001b[38;2;153;48;86m━\u001b[0m\u001b[38;2;183;44;94m━\u001b[0m\u001b[38;2;209;42;102m━\u001b[0m\u001b[38;2;230;39;108m━\u001b[0m\u001b[38;2;244;38;112m━\u001b[0m\u001b[38;2;249;38;114m━\u001b[0m\u001b[38;2;244;38;112m━\u001b[0m\u001b[38;2;230;39;108m━\u001b[0m\u001b[38;2;209;42;102m━\u001b[0m\u001b[38;2;183;44;94m━\u001b[0m\u001b[38;2;153;48;86m━\u001b[0m\u001b[38;2;123;51;77m━\u001b[0m\u001b[38;2;97;53;69m━\u001b[0m\u001b[38;2;76;56;63m━\u001b[0m\u001b[38;2;62;57;59m━\u001b[0m\u001b[38;2;58;58;58m━\u001b[0m  \u001b[36m \u001b[0m\n",
                  "text/html": "<pre style=\"white-space:pre;overflow-x:auto;line-height:normal;font-family:Menlo,'DejaVu Sans Mono',consolas,'Courier New',monospace\">Inference <span style=\"color: #3e393b; text-decoration-color: #3e393b\">━</span><span style=\"color: #4c383f; text-decoration-color: #4c383f\">━</span><span style=\"color: #613545; text-decoration-color: #613545\">━</span><span style=\"color: #7b334d; text-decoration-color: #7b334d\">━</span><span style=\"color: #993056; text-decoration-color: #993056\">━</span><span style=\"color: #b72c5e; text-decoration-color: #b72c5e\">━</span><span style=\"color: #d12a66; text-decoration-color: #d12a66\">━</span><span style=\"color: #e6276c; text-decoration-color: #e6276c\">━</span><span style=\"color: #f42670; text-decoration-color: #f42670\">━</span><span style=\"color: #f92672; text-decoration-color: #f92672\">━</span><span style=\"color: #f42670; text-decoration-color: #f42670\">━</span><span style=\"color: #e6276c; text-decoration-color: #e6276c\">━</span><span style=\"color: #d12a66; text-decoration-color: #d12a66\">━</span><span style=\"color: #b72c5e; text-decoration-color: #b72c5e\">━</span><span style=\"color: #993056; text-decoration-color: #993056\">━</span><span style=\"color: #7b334d; text-decoration-color: #7b334d\">━</span><span style=\"color: #613545; text-decoration-color: #613545\">━</span><span style=\"color: #4c383f; text-decoration-color: #4c383f\">━</span><span style=\"color: #3e393b; text-decoration-color: #3e393b\">━</span><span style=\"color: #3a3a3a; text-decoration-color: #3a3a3a\">━</span><span style=\"color: #3e393b; text-decoration-color: #3e393b\">━</span><span style=\"color: #4c383f; text-decoration-color: #4c383f\">━</span><span style=\"color: #613545; text-decoration-color: #613545\">━</span><span style=\"color: #7b334d; text-decoration-color: #7b334d\">━</span><span style=\"color: #993056; text-decoration-color: #993056\">━</span><span style=\"color: #b72c5e; text-decoration-color: #b72c5e\">━</span><span style=\"color: #d12a66; text-decoration-color: #d12a66\">━</span><span style=\"color: #e6276c; text-decoration-color: #e6276c\">━</span><span style=\"color: #f42670; text-decoration-color: #f42670\">━</span><span style=\"color: #f92672; text-decoration-color: #f92672\">━</span><span style=\"color: #f42670; text-decoration-color: #f42670\">━</span><span style=\"color: #e6276c; text-decoration-color: #e6276c\">━</span><span style=\"color: #d12a66; text-decoration-color: #d12a66\">━</span><span style=\"color: #b72c5e; text-decoration-color: #b72c5e\">━</span><span style=\"color: #993056; text-decoration-color: #993056\">━</span><span style=\"color: #7b334d; text-decoration-color: #7b334d\">━</span><span style=\"color: #613545; text-decoration-color: #613545\">━</span><span style=\"color: #4c383f; text-decoration-color: #4c383f\">━</span><span style=\"color: #3e393b; text-decoration-color: #3e393b\">━</span><span style=\"color: #3a3a3a; text-decoration-color: #3a3a3a\">━</span>  <span style=\"color: #008080; text-decoration-color: #008080\"> </span>\n</pre>\n"
                },
                "metadata": {}
              }
            ]
          }
        },
        "9f979a7e8873497ea88ff1073c541d6e": {
          "model_module": "@jupyter-widgets/base",
          "model_name": "LayoutModel",
          "model_module_version": "1.2.0",
          "state": {
            "_model_module": "@jupyter-widgets/base",
            "_model_module_version": "1.2.0",
            "_model_name": "LayoutModel",
            "_view_count": null,
            "_view_module": "@jupyter-widgets/base",
            "_view_module_version": "1.2.0",
            "_view_name": "LayoutView",
            "align_content": null,
            "align_items": null,
            "align_self": null,
            "border": null,
            "bottom": null,
            "display": null,
            "flex": null,
            "flex_flow": null,
            "grid_area": null,
            "grid_auto_columns": null,
            "grid_auto_flow": null,
            "grid_auto_rows": null,
            "grid_column": null,
            "grid_gap": null,
            "grid_row": null,
            "grid_template_areas": null,
            "grid_template_columns": null,
            "grid_template_rows": null,
            "height": null,
            "justify_content": null,
            "justify_items": null,
            "left": null,
            "margin": null,
            "max_height": null,
            "max_width": null,
            "min_height": null,
            "min_width": null,
            "object_fit": null,
            "object_position": null,
            "order": null,
            "overflow": null,
            "overflow_x": null,
            "overflow_y": null,
            "padding": null,
            "right": null,
            "top": null,
            "visibility": null,
            "width": null
          }
        },
        "d4e8083ddb4d460587d45ef137024282": {
          "model_module": "@jupyter-widgets/output",
          "model_name": "OutputModel",
          "model_module_version": "1.0.0",
          "state": {
            "_dom_classes": [],
            "_model_module": "@jupyter-widgets/output",
            "_model_module_version": "1.0.0",
            "_model_name": "OutputModel",
            "_view_count": null,
            "_view_module": "@jupyter-widgets/output",
            "_view_module_version": "1.0.0",
            "_view_name": "OutputView",
            "layout": "IPY_MODEL_3957107c84b9402097f9af17a7200e16",
            "msg_id": "",
            "outputs": [
              {
                "output_type": "display_data",
                "data": {
                  "text/plain": "Inference \u001b[38;2;153;48;86m━\u001b[0m\u001b[38;2;183;44;94m━\u001b[0m\u001b[38;2;209;42;102m━\u001b[0m\u001b[38;2;230;39;108m━\u001b[0m\u001b[38;2;244;38;112m━\u001b[0m\u001b[38;2;249;38;114m━\u001b[0m\u001b[38;2;244;38;112m━\u001b[0m\u001b[38;2;230;39;108m━\u001b[0m\u001b[38;2;209;42;102m━\u001b[0m\u001b[38;2;183;44;94m━\u001b[0m\u001b[38;2;153;48;86m━\u001b[0m\u001b[38;2;123;51;77m━\u001b[0m\u001b[38;2;97;53;69m━\u001b[0m\u001b[38;2;76;56;63m━\u001b[0m\u001b[38;2;62;57;59m━\u001b[0m\u001b[38;2;58;58;58m━\u001b[0m\u001b[38;2;62;57;59m━\u001b[0m\u001b[38;2;76;56;63m━\u001b[0m\u001b[38;2;97;53;69m━\u001b[0m\u001b[38;2;123;51;77m━\u001b[0m\u001b[38;2;153;48;86m━\u001b[0m\u001b[38;2;183;44;94m━\u001b[0m\u001b[38;2;209;42;102m━\u001b[0m\u001b[38;2;230;39;108m━\u001b[0m\u001b[38;2;244;38;112m━\u001b[0m\u001b[38;2;249;38;114m━\u001b[0m\u001b[38;2;244;38;112m━\u001b[0m\u001b[38;2;230;39;108m━\u001b[0m\u001b[38;2;209;42;102m━\u001b[0m\u001b[38;2;183;44;94m━\u001b[0m\u001b[38;2;153;48;86m━\u001b[0m\u001b[38;2;123;51;77m━\u001b[0m\u001b[38;2;97;53;69m━\u001b[0m\u001b[38;2;76;56;63m━\u001b[0m\u001b[38;2;62;57;59m━\u001b[0m\u001b[38;2;58;58;58m━\u001b[0m\u001b[38;2;62;57;59m━\u001b[0m\u001b[38;2;76;56;63m━\u001b[0m\u001b[38;2;97;53;69m━\u001b[0m\u001b[38;2;123;51;77m━\u001b[0m  \u001b[36m \u001b[0m\n",
                  "text/html": "<pre style=\"white-space:pre;overflow-x:auto;line-height:normal;font-family:Menlo,'DejaVu Sans Mono',consolas,'Courier New',monospace\">Inference <span style=\"color: #993056; text-decoration-color: #993056\">━</span><span style=\"color: #b72c5e; text-decoration-color: #b72c5e\">━</span><span style=\"color: #d12a66; text-decoration-color: #d12a66\">━</span><span style=\"color: #e6276c; text-decoration-color: #e6276c\">━</span><span style=\"color: #f42670; text-decoration-color: #f42670\">━</span><span style=\"color: #f92672; text-decoration-color: #f92672\">━</span><span style=\"color: #f42670; text-decoration-color: #f42670\">━</span><span style=\"color: #e6276c; text-decoration-color: #e6276c\">━</span><span style=\"color: #d12a66; text-decoration-color: #d12a66\">━</span><span style=\"color: #b72c5e; text-decoration-color: #b72c5e\">━</span><span style=\"color: #993056; text-decoration-color: #993056\">━</span><span style=\"color: #7b334d; text-decoration-color: #7b334d\">━</span><span style=\"color: #613545; text-decoration-color: #613545\">━</span><span style=\"color: #4c383f; text-decoration-color: #4c383f\">━</span><span style=\"color: #3e393b; text-decoration-color: #3e393b\">━</span><span style=\"color: #3a3a3a; text-decoration-color: #3a3a3a\">━</span><span style=\"color: #3e393b; text-decoration-color: #3e393b\">━</span><span style=\"color: #4c383f; text-decoration-color: #4c383f\">━</span><span style=\"color: #613545; text-decoration-color: #613545\">━</span><span style=\"color: #7b334d; text-decoration-color: #7b334d\">━</span><span style=\"color: #993056; text-decoration-color: #993056\">━</span><span style=\"color: #b72c5e; text-decoration-color: #b72c5e\">━</span><span style=\"color: #d12a66; text-decoration-color: #d12a66\">━</span><span style=\"color: #e6276c; text-decoration-color: #e6276c\">━</span><span style=\"color: #f42670; text-decoration-color: #f42670\">━</span><span style=\"color: #f92672; text-decoration-color: #f92672\">━</span><span style=\"color: #f42670; text-decoration-color: #f42670\">━</span><span style=\"color: #e6276c; text-decoration-color: #e6276c\">━</span><span style=\"color: #d12a66; text-decoration-color: #d12a66\">━</span><span style=\"color: #b72c5e; text-decoration-color: #b72c5e\">━</span><span style=\"color: #993056; text-decoration-color: #993056\">━</span><span style=\"color: #7b334d; text-decoration-color: #7b334d\">━</span><span style=\"color: #613545; text-decoration-color: #613545\">━</span><span style=\"color: #4c383f; text-decoration-color: #4c383f\">━</span><span style=\"color: #3e393b; text-decoration-color: #3e393b\">━</span><span style=\"color: #3a3a3a; text-decoration-color: #3a3a3a\">━</span><span style=\"color: #3e393b; text-decoration-color: #3e393b\">━</span><span style=\"color: #4c383f; text-decoration-color: #4c383f\">━</span><span style=\"color: #613545; text-decoration-color: #613545\">━</span><span style=\"color: #7b334d; text-decoration-color: #7b334d\">━</span>  <span style=\"color: #008080; text-decoration-color: #008080\"> </span>\n</pre>\n"
                },
                "metadata": {}
              }
            ]
          }
        },
        "3957107c84b9402097f9af17a7200e16": {
          "model_module": "@jupyter-widgets/base",
          "model_name": "LayoutModel",
          "model_module_version": "1.2.0",
          "state": {
            "_model_module": "@jupyter-widgets/base",
            "_model_module_version": "1.2.0",
            "_model_name": "LayoutModel",
            "_view_count": null,
            "_view_module": "@jupyter-widgets/base",
            "_view_module_version": "1.2.0",
            "_view_name": "LayoutView",
            "align_content": null,
            "align_items": null,
            "align_self": null,
            "border": null,
            "bottom": null,
            "display": null,
            "flex": null,
            "flex_flow": null,
            "grid_area": null,
            "grid_auto_columns": null,
            "grid_auto_flow": null,
            "grid_auto_rows": null,
            "grid_column": null,
            "grid_gap": null,
            "grid_row": null,
            "grid_template_areas": null,
            "grid_template_columns": null,
            "grid_template_rows": null,
            "height": null,
            "justify_content": null,
            "justify_items": null,
            "left": null,
            "margin": null,
            "max_height": null,
            "max_width": null,
            "min_height": null,
            "min_width": null,
            "object_fit": null,
            "object_position": null,
            "order": null,
            "overflow": null,
            "overflow_x": null,
            "overflow_y": null,
            "padding": null,
            "right": null,
            "top": null,
            "visibility": null,
            "width": null
          }
        }
      }
    }
  },
  "cells": [
    {
      "cell_type": "markdown",
      "metadata": {
        "id": "view-in-github",
        "colab_type": "text"
      },
      "source": [
        "<a href=\"https://colab.research.google.com/github/mmender2/Auction-House-React/blob/main/EnsLicPl.ipynb\" target=\"_parent\"><img src=\"https://colab.research.google.com/assets/colab-badge.svg\" alt=\"Open In Colab\"/></a>"
      ]
    },
    {
      "cell_type": "markdown",
      "source": [
        "# Packages and Imports"
      ],
      "metadata": {
        "id": "ZUCio97FM-Dc"
      }
    },
    {
      "cell_type": "code",
      "source": [
        "!pip install -U openmim --quiet\n",
        "!mim install mmengine --quiet\n",
        "!mim install 'mmcv>=2.0.0rc1' --quiet\n",
        "!mim install 'mmdet>=3.0.0rc0' --quiet\n",
        "!pip install google-cloud-vision --quiet\n",
        "!pip install pytesseract Pillow --quiet\n",
        "!sudo apt install tesseract-ocr --quiet\n",
        "!pip install pytesseract --quiet\n",
        "!pip install huggingface-cli --quiet\n",
        "!huggingface-cli login --quiet\n",
        "!pip install transformers --quiet\n",
        "!pip install google-cloud-aiplatform --quiet"
      ],
      "metadata": {
        "id": "rW4dIESRsIt1"
      },
      "execution_count": null,
      "outputs": []
    },
    {
      "cell_type": "code",
      "source": [
        "!pip install Levenshtein"
      ],
      "metadata": {
        "id": "PhlmEuWBXSQY"
      },
      "execution_count": null,
      "outputs": []
    },
    {
      "cell_type": "code",
      "source": [
        "!echo \"deb [signed-by=/usr/share/keyrings/cloud.google.gpg] https://packages.cloud.google.com/apt cloud-sdk main\" | sudo tee -a /etc/apt/sources.list.d/google-cloud-sdk.list\n",
        "!apt-get install apt-transport-https ca-certificates gnupg\n",
        "!wget -qO - https://packages.cloud.google.com/apt/doc/apt-key.gpg | gpg --dearmor -o /usr/share/keyrings/cloud-archive-keyring.gpg\n",
        "!echo \"deb [signed-by=/usr/share/keyrings/cloud-archive-keyring.gpg] http://packages.cloud.google.com/apt cloud-sdk main\" | tee -a /etc/apt/sources.list.d/google-cloud-sdk.list\n",
        "!sudo apt-get update\n",
        "!sudo apt-get install google-cloud-sdk\n",
        "!apt-get update -y && apt-get install google-cloud-sdk -y\n"
      ],
      "metadata": {
        "id": "3Sle6mP8yhYe"
      },
      "execution_count": null,
      "outputs": []
    },
    {
      "cell_type": "code",
      "source": [
        "from google.colab import auth\n",
        "auth.authenticate_user()"
      ],
      "metadata": {
        "id": "ThaXxE9dwmsm"
      },
      "execution_count": 5,
      "outputs": []
    },
    {
      "cell_type": "code",
      "source": [
        "# Install the Google Cloud SDK\n",
        "!curl https://sdk.cloud.google.com | bash --quiet\n",
        "!gcloud init\n",
        "!gcloud components update --quiet\n",
        "!gcloud components install beta --quiet"
      ],
      "metadata": {
        "id": "eL_CfzZDykaz"
      },
      "execution_count": null,
      "outputs": []
    },
    {
      "cell_type": "code",
      "source": [
        "from google.cloud import aiplatform\n",
        "#region = !gcloud config get-value compute/region\n",
        "aiplatform.init(project='fifth-composite-395916', location='us-central1')"
      ],
      "metadata": {
        "id": "nvbGwO-1wuE-"
      },
      "execution_count": 7,
      "outputs": []
    },
    {
      "cell_type": "code",
      "source": [
        "# Download and install Google Cloud SDK\n",
        "!curl https://sdk.cloud.google.com | bash --quiet\n",
        "\n",
        "# Add gcloud to PATH\n",
        "import os\n",
        "os.environ['PATH'] += \":/root/google-cloud-sdk/bin\"\n",
        "\n",
        "# Authenticate with gcloud\n",
        "!gcloud auth login\n"
      ],
      "metadata": {
        "id": "ONH-lY9tEtXc"
      },
      "execution_count": null,
      "outputs": []
    },
    {
      "cell_type": "code",
      "source": [
        "# Copy the contents from the provided Google Cloud Storage path\n",
        "!gsutil cp gs://vertex-ai/generative-ai/vision/multimodalembedding/* .\n",
        "\n",
        "# Install the required Python packages\n",
        "!pip3 install -r requirements.txt --quiet"
      ],
      "metadata": {
        "id": "UCQgynz1wzpx"
      },
      "execution_count": null,
      "outputs": []
    },
    {
      "cell_type": "code",
      "source": [
        "!gcloud config set project 'fifth-composite-395916'\n",
        "import os\n",
        "os.environ[\"GOOGLE_CLOUD_PROJECT\"] = \"fifth-composite-395916\""
      ],
      "metadata": {
        "id": "XrvmDmB1FZgK"
      },
      "execution_count": null,
      "outputs": []
    },
    {
      "cell_type": "code",
      "source": [
        "\"\"\"from google.colab import files\n",
        "uploaded = files.upload()\"\"\""
      ],
      "metadata": {
        "id": "vkKDWgzhsWB3"
      },
      "execution_count": null,
      "outputs": []
    },
    {
      "cell_type": "code",
      "source": [
        "!git clone https://github.com/open-mmlab/mmocr.git --quiet\n",
        "%cd mmocr\n",
        "!pip install -v -e . --quiet\n",
        "# \"-v\" increases pip's verbosity.\n",
        "# \"-e\" means installing the project in editable mode,\n",
        "# That is, any local modifications on the code will take effect immediately."
      ],
      "metadata": {
        "id": "RBrfGzAmsKaZ"
      },
      "execution_count": null,
      "outputs": []
    },
    {
      "cell_type": "code",
      "source": [
        "from mmocr.apis import MMOCRInferencer\n",
        "infer = MMOCRInferencer(rec='svtr-small')"
      ],
      "metadata": {
        "id": "xpPm4udmsLcu"
      },
      "execution_count": null,
      "outputs": []
    },
    {
      "cell_type": "code",
      "source": [
        "!pip uninstall protobuf --quiet\n",
        "!pip install protobuf --quiet\n",
        "!pip install tensorflow --upgrade --quiet"
      ],
      "metadata": {
        "id": "5YD3BOEOpBIY"
      },
      "execution_count": null,
      "outputs": []
    },
    {
      "cell_type": "code",
      "source": [
        "!pip install jax --upgrade\n",
        "!pip install protobuf==3.20.3 --quiet"
      ],
      "metadata": {
        "id": "RA2qGpZnEzAe"
      },
      "execution_count": null,
      "outputs": []
    },
    {
      "cell_type": "code",
      "execution_count": 17,
      "metadata": {
        "id": "T-lG54dzrwFJ"
      },
      "outputs": [],
      "source": [
        "from keras.layers import Input, Conv2D, Lambda, Dense, Flatten, MaxPooling2D\n",
        "from keras.models import Model, Sequential\n",
        "from keras import backend as K\n",
        "from sklearn.preprocessing import LabelEncoder\n",
        "import random\n",
        "import pandas as pd\n",
        "import os\n",
        "from tensorflow.keras.preprocessing.image import load_img, img_to_array\n",
        "import numpy as np\n",
        "from tensorflow.keras.applications.vgg16 import VGG16, preprocess_input\n",
        "from sklearn.metrics import pairwise_distances\n",
        "import tensorflow as tf\n",
        "from tensorflow.keras.models import Model\n",
        "from tensorflow.keras.layers import Input, Flatten, Dense, Dropout, Lambda, Conv2D, MaxPooling2D\n",
        "from sklearn.model_selection import train_test_split\n",
        "from keras.layers import Input, Conv2D, MaxPooling2D, Reshape, Dense, Dropout, LSTM, Bidirectional, Dropout, BatchNormalization\n",
        "from keras.models import Model\n",
        "import matplotlib.pyplot as plt\n",
        "from itertools import combinations\n",
        "import numpy as np\n",
        "from mmocr.apis import MMOCRInferencer\n",
        "import os\n",
        "from google.cloud import vision\n",
        "import pytesseract\n",
        "from PIL import Image\n",
        "import requests\n",
        "import warnings\n",
        "from transformers import TrOCRProcessor, VisionEncoderDecoderModel\n",
        "import re"
      ]
    },
    {
      "cell_type": "markdown",
      "source": [
        "# Functions and Data Processing"
      ],
      "metadata": {
        "id": "lyOKhG7YNTcA"
      }
    },
    {
      "cell_type": "code",
      "source": [
        "data_path = '/content/drive/MyDrive/LicensePlate/states'\n",
        "size = (512, 512)\n",
        "\n",
        "# Function to load and preprocess images\n",
        "def load_and_preprocess_images(image_paths, target_size=size):\n",
        "    images = []\n",
        "    for path in image_paths:\n",
        "        # Load image and resize it to the target size\n",
        "        img = load_img(path, target_size=target_size)\n",
        "        # Convert image to array\n",
        "        img_array = img_to_array(img)\n",
        "        images.append(img_array)\n",
        "    # Normalize the images to [0, 1] range and return\n",
        "    return images / 255.0\n",
        "\n",
        "# Function to extract labels from given image paths\n",
        "def extract_labels_from_paths(paths):\n",
        "    # Extracts the directory name as label from the path\n",
        "    return [os.path.basename(os.path.dirname(path)) for path in paths]\n",
        "\n",
        "# Function to create pairs of images\n",
        "def create_pairs(images, labels):\n",
        "    pairs = []\n",
        "    pair_labels = []\n",
        "\n",
        "    num_classes = max(labels) + 1\n",
        "    # Create a list of indices for each label\n",
        "    class_indices = [np.where(labels == i)[0] for i in range(num_classes)]\n",
        "\n",
        "    for i in range(len(images)):\n",
        "        positive_index = i\n",
        "        # Choose a random index from a different class for negative pairing\n",
        "        negative_index = np.random.choice(class_indices[(labels[i] + 1) % num_classes])\n",
        "\n",
        "        # Positive pair and its label\n",
        "        pairs += [[images[i], images[positive_index]]]\n",
        "        pair_labels += [1]\n",
        "\n",
        "        # Negative pair and its label\n",
        "        pairs += [[images[i], images[negative_index]]]\n",
        "        pair_labels += [0]\n",
        "\n",
        "    return np.array(pairs), np.array(pair_labels)\n",
        "\n",
        "from sklearn.preprocessing import LabelEncoder\n",
        "\n",
        "def create_metadata(data_path):\n",
        "    image_paths = []\n",
        "    labels = []\n",
        "\n",
        "    # List all files in the data_path directory\n",
        "    file_names = os.listdir(data_path)\n",
        "\n",
        "    for file_name in file_names:\n",
        "        # Check if the file is an image with .png extension\n",
        "        if file_name.endswith('.png'):\n",
        "            image_paths.append(os.path.join(data_path, file_name))\n",
        "\n",
        "            # Assuming file_name is in the format 'state_name.png'\n",
        "            # Extracting the state name as label by stripping '.png' from the end.\n",
        "            labels.append(file_name[:-4])\n",
        "\n",
        "    # Create a DataFrame with image paths and their corresponding labels\n",
        "    meta_data = pd.DataFrame(\n",
        "        {\n",
        "            'image_paths': image_paths,\n",
        "            'labels': labels\n",
        "        }, dtype=object\n",
        "    )\n",
        "    return meta_data\n",
        "\n",
        "# Create metadata for the images in the provided data path\n",
        "data = create_metadata(data_path)\n",
        "print(data.shape)\n",
        "\n",
        "# Display a random sample of 5 rows from the metadata\n",
        "data.sample(5)\n"
      ],
      "metadata": {
        "colab": {
          "base_uri": "https://localhost:8080/",
          "height": 224
        },
        "id": "Ie6iM4Hrr5bZ",
        "outputId": "3c390de7-e550-4088-a06d-7c614038939d"
      },
      "execution_count": 44,
      "outputs": [
        {
          "output_type": "stream",
          "name": "stdout",
          "text": [
            "(50, 2)\n"
          ]
        },
        {
          "output_type": "execute_result",
          "data": {
            "text/plain": [
              "                                          image_paths        labels\n",
              "35  /content/drive/MyDrive/LicensePlate/states/okl...      oklahoma\n",
              "23  /content/drive/MyDrive/LicensePlate/states/mis...  mississippii\n",
              "22  /content/drive/MyDrive/LicensePlate/states/min...     minnesota\n",
              "26  /content/drive/MyDrive/LicensePlate/states/neb...      nebraska\n",
              "12  /content/drive/MyDrive/LicensePlate/states/ill...      illinois"
            ],
            "text/html": [
              "\n",
              "  <div id=\"df-921d00c1-abb2-4206-a646-2f92d6ef4c6d\" class=\"colab-df-container\">\n",
              "    <div>\n",
              "<style scoped>\n",
              "    .dataframe tbody tr th:only-of-type {\n",
              "        vertical-align: middle;\n",
              "    }\n",
              "\n",
              "    .dataframe tbody tr th {\n",
              "        vertical-align: top;\n",
              "    }\n",
              "\n",
              "    .dataframe thead th {\n",
              "        text-align: right;\n",
              "    }\n",
              "</style>\n",
              "<table border=\"1\" class=\"dataframe\">\n",
              "  <thead>\n",
              "    <tr style=\"text-align: right;\">\n",
              "      <th></th>\n",
              "      <th>image_paths</th>\n",
              "      <th>labels</th>\n",
              "    </tr>\n",
              "  </thead>\n",
              "  <tbody>\n",
              "    <tr>\n",
              "      <th>35</th>\n",
              "      <td>/content/drive/MyDrive/LicensePlate/states/okl...</td>\n",
              "      <td>oklahoma</td>\n",
              "    </tr>\n",
              "    <tr>\n",
              "      <th>23</th>\n",
              "      <td>/content/drive/MyDrive/LicensePlate/states/mis...</td>\n",
              "      <td>mississippii</td>\n",
              "    </tr>\n",
              "    <tr>\n",
              "      <th>22</th>\n",
              "      <td>/content/drive/MyDrive/LicensePlate/states/min...</td>\n",
              "      <td>minnesota</td>\n",
              "    </tr>\n",
              "    <tr>\n",
              "      <th>26</th>\n",
              "      <td>/content/drive/MyDrive/LicensePlate/states/neb...</td>\n",
              "      <td>nebraska</td>\n",
              "    </tr>\n",
              "    <tr>\n",
              "      <th>12</th>\n",
              "      <td>/content/drive/MyDrive/LicensePlate/states/ill...</td>\n",
              "      <td>illinois</td>\n",
              "    </tr>\n",
              "  </tbody>\n",
              "</table>\n",
              "</div>\n",
              "    <div class=\"colab-df-buttons\">\n",
              "\n",
              "  <div class=\"colab-df-container\">\n",
              "    <button class=\"colab-df-convert\" onclick=\"convertToInteractive('df-921d00c1-abb2-4206-a646-2f92d6ef4c6d')\"\n",
              "            title=\"Convert this dataframe to an interactive table.\"\n",
              "            style=\"display:none;\">\n",
              "\n",
              "  <svg xmlns=\"http://www.w3.org/2000/svg\" height=\"24px\" viewBox=\"0 -960 960 960\">\n",
              "    <path d=\"M120-120v-720h720v720H120Zm60-500h600v-160H180v160Zm220 220h160v-160H400v160Zm0 220h160v-160H400v160ZM180-400h160v-160H180v160Zm440 0h160v-160H620v160ZM180-180h160v-160H180v160Zm440 0h160v-160H620v160Z\"/>\n",
              "  </svg>\n",
              "    </button>\n",
              "\n",
              "  <style>\n",
              "    .colab-df-container {\n",
              "      display:flex;\n",
              "      gap: 12px;\n",
              "    }\n",
              "\n",
              "    .colab-df-convert {\n",
              "      background-color: #E8F0FE;\n",
              "      border: none;\n",
              "      border-radius: 50%;\n",
              "      cursor: pointer;\n",
              "      display: none;\n",
              "      fill: #1967D2;\n",
              "      height: 32px;\n",
              "      padding: 0 0 0 0;\n",
              "      width: 32px;\n",
              "    }\n",
              "\n",
              "    .colab-df-convert:hover {\n",
              "      background-color: #E2EBFA;\n",
              "      box-shadow: 0px 1px 2px rgba(60, 64, 67, 0.3), 0px 1px 3px 1px rgba(60, 64, 67, 0.15);\n",
              "      fill: #174EA6;\n",
              "    }\n",
              "\n",
              "    .colab-df-buttons div {\n",
              "      margin-bottom: 4px;\n",
              "    }\n",
              "\n",
              "    [theme=dark] .colab-df-convert {\n",
              "      background-color: #3B4455;\n",
              "      fill: #D2E3FC;\n",
              "    }\n",
              "\n",
              "    [theme=dark] .colab-df-convert:hover {\n",
              "      background-color: #434B5C;\n",
              "      box-shadow: 0px 1px 3px 1px rgba(0, 0, 0, 0.15);\n",
              "      filter: drop-shadow(0px 1px 2px rgba(0, 0, 0, 0.3));\n",
              "      fill: #FFFFFF;\n",
              "    }\n",
              "  </style>\n",
              "\n",
              "    <script>\n",
              "      const buttonEl =\n",
              "        document.querySelector('#df-921d00c1-abb2-4206-a646-2f92d6ef4c6d button.colab-df-convert');\n",
              "      buttonEl.style.display =\n",
              "        google.colab.kernel.accessAllowed ? 'block' : 'none';\n",
              "\n",
              "      async function convertToInteractive(key) {\n",
              "        const element = document.querySelector('#df-921d00c1-abb2-4206-a646-2f92d6ef4c6d');\n",
              "        const dataTable =\n",
              "          await google.colab.kernel.invokeFunction('convertToInteractive',\n",
              "                                                    [key], {});\n",
              "        if (!dataTable) return;\n",
              "\n",
              "        const docLinkHtml = 'Like what you see? Visit the ' +\n",
              "          '<a target=\"_blank\" href=https://colab.research.google.com/notebooks/data_table.ipynb>data table notebook</a>'\n",
              "          + ' to learn more about interactive tables.';\n",
              "        element.innerHTML = '';\n",
              "        dataTable['output_type'] = 'display_data';\n",
              "        await google.colab.output.renderOutput(dataTable, element);\n",
              "        const docLink = document.createElement('div');\n",
              "        docLink.innerHTML = docLinkHtml;\n",
              "        element.appendChild(docLink);\n",
              "      }\n",
              "    </script>\n",
              "  </div>\n",
              "\n",
              "\n",
              "<div id=\"df-690a6303-1507-43dc-8474-c00c286cd57c\">\n",
              "  <button class=\"colab-df-quickchart\" onclick=\"quickchart('df-690a6303-1507-43dc-8474-c00c286cd57c')\"\n",
              "            title=\"Suggest charts.\"\n",
              "            style=\"display:none;\">\n",
              "\n",
              "<svg xmlns=\"http://www.w3.org/2000/svg\" height=\"24px\"viewBox=\"0 0 24 24\"\n",
              "     width=\"24px\">\n",
              "    <g>\n",
              "        <path d=\"M19 3H5c-1.1 0-2 .9-2 2v14c0 1.1.9 2 2 2h14c1.1 0 2-.9 2-2V5c0-1.1-.9-2-2-2zM9 17H7v-7h2v7zm4 0h-2V7h2v10zm4 0h-2v-4h2v4z\"/>\n",
              "    </g>\n",
              "</svg>\n",
              "  </button>\n",
              "\n",
              "<style>\n",
              "  .colab-df-quickchart {\n",
              "    background-color: #E8F0FE;\n",
              "    border: none;\n",
              "    border-radius: 50%;\n",
              "    cursor: pointer;\n",
              "    display: none;\n",
              "    fill: #1967D2;\n",
              "    height: 32px;\n",
              "    padding: 0 0 0 0;\n",
              "    width: 32px;\n",
              "  }\n",
              "\n",
              "  .colab-df-quickchart:hover {\n",
              "    background-color: #E2EBFA;\n",
              "    box-shadow: 0px 1px 2px rgba(60, 64, 67, 0.3), 0px 1px 3px 1px rgba(60, 64, 67, 0.15);\n",
              "    fill: #174EA6;\n",
              "  }\n",
              "\n",
              "  [theme=dark] .colab-df-quickchart {\n",
              "    background-color: #3B4455;\n",
              "    fill: #D2E3FC;\n",
              "  }\n",
              "\n",
              "  [theme=dark] .colab-df-quickchart:hover {\n",
              "    background-color: #434B5C;\n",
              "    box-shadow: 0px 1px 3px 1px rgba(0, 0, 0, 0.15);\n",
              "    filter: drop-shadow(0px 1px 2px rgba(0, 0, 0, 0.3));\n",
              "    fill: #FFFFFF;\n",
              "  }\n",
              "</style>\n",
              "\n",
              "  <script>\n",
              "    async function quickchart(key) {\n",
              "      const charts = await google.colab.kernel.invokeFunction(\n",
              "          'suggestCharts', [key], {});\n",
              "    }\n",
              "    (() => {\n",
              "      let quickchartButtonEl =\n",
              "        document.querySelector('#df-690a6303-1507-43dc-8474-c00c286cd57c button');\n",
              "      quickchartButtonEl.style.display =\n",
              "        google.colab.kernel.accessAllowed ? 'block' : 'none';\n",
              "    })();\n",
              "  </script>\n",
              "</div>\n",
              "    </div>\n",
              "  </div>\n"
            ]
          },
          "metadata": {},
          "execution_count": 44
        }
      ]
    },
    {
      "cell_type": "code",
      "source": [
        "# Initialize TrOCR\n",
        "url = 'https://fki.tic.heia-fr.ch/static/img/a01-122-02-00.jpg'\n",
        "processor = TrOCRProcessor.from_pretrained('microsoft/trocr-large-printed')\n",
        "model = VisionEncoderDecoderModel.from_pretrained('microsoft/trocr-large-printed')\n",
        "# Suppress specific warnings\n",
        "np.seterr(divide='ignore', invalid='ignore')\n",
        "warnings.filterwarnings(\"ignore\", category=RuntimeWarning)\n",
        "# Initialize the MMOCR inferencer without KIE\n",
        "infer = MMOCRInferencer(det='dbnetpp', rec='svtr-small')\n",
        "os.environ[\"GOOGLE_APPLICATION_CREDENTIALS\"] = \"/content/drive/MyDrive/LicensePlate/fifth-composite-395916-8a836430659f.json\"\n",
        "# Initialize the Vision client\n",
        "client = vision.ImageAnnotatorClient()"
      ],
      "metadata": {
        "id": "wmu8YdDAsZds"
      },
      "execution_count": null,
      "outputs": []
    },
    {
      "cell_type": "code",
      "source": [
        "import string\n",
        "# Add lowercase letters to the set of characters and regenerate the mapping\n",
        "all_characters = sorted(set(string.ascii_uppercase + string.ascii_lowercase + string.digits))\n",
        "\n",
        "char_to_num = {char: i for i, char in enumerate(all_characters)}\n",
        "num_to_char = {i: char for char, i in char_to_num.items()}\n",
        "\n",
        "#num_to_char"
      ],
      "metadata": {
        "id": "5IkKdL4rr8Iq"
      },
      "execution_count": 24,
      "outputs": []
    },
    {
      "cell_type": "code",
      "source": [
        "import cv2\n",
        "import numpy as np\n",
        "import matplotlib.pyplot as plt\n",
        "\n",
        "def data_generator(data_sample, char_to_num):\n",
        "    pltI = []  # List to store preprocessed images\n",
        "    edge = []  # List to store edge-detected images\n",
        "    labels = []  # List to store the labels associated with each image\n",
        "\n",
        "    for index, sample in enumerate(data_sample):\n",
        "        # Extract image path and associated label from the sample\n",
        "        image_path = sample['image_paths']\n",
        "        label_text = sample['labels']\n",
        "\n",
        "        # Read the image in grayscale mode and resize to (512, 512)\n",
        "        image = cv2.imread(image_path, cv2.IMREAD_GRAYSCALE)\n",
        "        image = cv2.resize(image, (512, 512))\n",
        "\n",
        "        # Check if image reading was successful\n",
        "        if image is None:\n",
        "            print(f\"Failed to read image at index {index} with path: {image_path}\")\n",
        "            continue\n",
        "\n",
        "        # Apply morphological top-hat operation to emphasize light regions against a dark background\n",
        "        structuringElement = cv2.getStructuringElement(cv2.MORPH_RECT, (3, 3))\n",
        "        imgTopHat = cv2.morphologyEx(image, cv2.MORPH_TOPHAT, structuringElement)\n",
        "\n",
        "        # Apply morphological black-hat operation to emphasize dark regions against a light background\n",
        "        imgBlackHat = cv2.morphologyEx(image, cv2.MORPH_BLACKHAT, structuringElement)\n",
        "\n",
        "        # Enhance the image by adding the result of the top-hat operation and subtracting the result of the black-hat operation\n",
        "        imgGrayscalePlusTopHat = cv2.add(image, imgTopHat)\n",
        "        image = cv2.subtract(imgGrayscalePlusTopHat, imgBlackHat)\n",
        "\n",
        "        # Apply Gaussian blur to reduce image noise\n",
        "        img_blurred = cv2.GaussianBlur(image, ksize=(5, 5), sigmaX=0)\n",
        "\n",
        "        # Apply adaptive thresholding to binarize the image\n",
        "        thresh_image = cv2.adaptiveThreshold(\n",
        "            img_blurred,\n",
        "            255,\n",
        "            cv2.ADAPTIVE_THRESH_GAUSSIAN_C,\n",
        "            cv2.THRESH_BINARY,\n",
        "            65,\n",
        "            2\n",
        "        )\n",
        "\n",
        "        # Detect contours in the binarized image\n",
        "        contours, _= cv2.findContours(\n",
        "            thresh_image,\n",
        "            mode=cv2.RETR_LIST,\n",
        "            method=cv2.CHAIN_APPROX_SIMPLE\n",
        "        )\n",
        "\n",
        "        # Initialize a blank image to draw the contours\n",
        "        temp_result = np.zeros((512, 512), dtype=np.uint8)\n",
        "\n",
        "        # Draw the detected contours on the blank image\n",
        "        cv2.drawContours(temp_result, contours=contours, contourIdx=-1, color=255, thickness=-1)\n",
        "\n",
        "        # Invert the image (make black regions white and vice versa)\n",
        "        inverted_temp_result = cv2.bitwise_not(temp_result)\n",
        "\n",
        "        # Apply Canny edge detection on the inverted image\n",
        "        edges = cv2.Canny(inverted_temp_result, 50, 150)\n",
        "\n",
        "        # Store the preprocessed image, edge-detected image, and label into their respective lists\n",
        "        pltI.append(inverted_temp_result)\n",
        "        edge.append(edges)\n",
        "        labels.append(label_text)\n",
        "\n",
        "    # Return the lists containing preprocessed images, edge-detected images, and labels\n",
        "    return pltI, edge, labels\n"
      ],
      "metadata": {
        "id": "Cg3EzD3Qr_wQ"
      },
      "execution_count": 45,
      "outputs": []
    },
    {
      "cell_type": "code",
      "source": [
        "from sklearn.model_selection import train_test_split\n",
        "from math import ceil\n",
        "\n",
        "#dataSample = data.sample(n=len(data), random_state=42).reset_index(drop=True)\n",
        "data_list = data[['image_paths', 'labels']].to_dict('records')\n",
        "\n",
        "# Split the data_list into training and validation sets (e.g., 80% train, 20% validation)\n",
        "train_data, val_data = train_test_split(data_list, test_size=0.4, random_state=42)\n",
        "\n",
        "batch_size = 32\n",
        "train_steps_per_epoch = len(train_data) // batch_size  # This will give 84\n",
        "val_steps_per_epoch = len(val_data) // batch_size  # This will give 56"
      ],
      "metadata": {
        "id": "mXRSfuXosCR2"
      },
      "execution_count": 46,
      "outputs": []
    },
    {
      "cell_type": "code",
      "source": [
        "# Create the two generators\n",
        "#train_gen = data_generator(train_data, char_to_num, batch_size=batch_size)\n",
        "#val_gen = data_generator(val_data, char_to_num, batch_size=batch_size)\n",
        "# Test the generators\n",
        "#train_inputs, train_outputs = next(train_gen)\n",
        "#val_inputs, val_outputs = next(val_gen)\n",
        "processed_images, processed_edges, image_labels = data_generator(data_list, char_to_num)\n",
        "#processed_images, image_labels = data_generator(data_list, char_to_num)\n",
        "\n",
        "#final_inputs = next(final)\n"
      ],
      "metadata": {
        "id": "CTs6Y4tBsCy7"
      },
      "execution_count": 47,
      "outputs": []
    },
    {
      "cell_type": "code",
      "source": [
        "# Display the result\n",
        "plt.figure(figsize=(10, 5))\n",
        "\n",
        "plt.subplot(1, 2, 1)\n",
        "plt.imshow(processed_images[10], cmap='gray')\n",
        "plt.title('Final Image')\n",
        "\n",
        "plt.subplot(1, 2, 2)\n",
        "plt.imshow(processed_edges[10], cmap='gray')\n",
        "plt.title('Edge Detection')\n",
        "\n",
        "plt.tight_layout()\n",
        "plt.show()"
      ],
      "metadata": {
        "id": "B4xRHfVAsFcW",
        "colab": {
          "base_uri": "https://localhost:8080/",
          "height": 416
        },
        "outputId": "edc72d61-513e-41ee-e28e-3dc6a09f9f9a"
      },
      "execution_count": 48,
      "outputs": [
        {
          "output_type": "display_data",
          "data": {
            "text/plain": [
              "<Figure size 1000x500 with 2 Axes>"
            ],
            "image/png": "[encoded data removed]"
          },
          "metadata": {}
        }
      ]
    },
    {
      "cell_type": "code",
      "source": [
        "'''\n",
        "\n",
        "****************** WORK IN POGRESS THE BOX DETECTION STUFF *****************\n",
        "\n",
        "'''\n",
        "\n",
        "boxes = []\n",
        "height, width = 512, 512\n",
        "contours_dict = []\n",
        "min_contour_area = 50  # Adjust this value.\n",
        "\n",
        "for img in processed_images:\n",
        "    # Initialize a blank image for each processed image\n",
        "    temp_result = np.zeros((height, width), dtype=np.uint8)\n",
        "\n",
        "    grayscale_img = cv2.cvtColor(img, cv2.COLOR_BGR2GRAY) if len(img.shape) == 3 else img\n",
        "\n",
        "    # Morphological operations\n",
        "    kernel = np.ones((3, 3), np.uint8)\n",
        "    dilation = cv2.dilate(grayscale_img, kernel, iterations=1)\n",
        "    erosion = cv2.erode(dilation, kernel, iterations=1)\n",
        "\n",
        "    contours, _ = cv2.findContours(erosion, cv2.RETR_EXTERNAL, cv2.CHAIN_APPROX_SIMPLE)\n",
        "\n",
        "    for contour in contours:\n",
        "        area = cv2.contourArea(contour)\n",
        "        if area > min_contour_area:  # Only consider contours that are above the minimum area threshold\n",
        "            x, y, w, h = cv2.boundingRect(contour)\n",
        "            cv2.rectangle(temp_result, pt1=(x, y), pt2=(x+w, y+h), color=(255, 255, 255), thickness=2)\n",
        "\n",
        "            # insert to dict\n",
        "            contours_dict.append({\n",
        "                'contour': contour,\n",
        "                'x': x,\n",
        "                'y': y,\n",
        "                'w': w,\n",
        "                'h': h,\n",
        "                'cx': x + (w / 2),\n",
        "                'cy': y + (h / 2)\n",
        "            })\n",
        "            boxes.append(temp_result)\n",
        "\n",
        "\n",
        "plt.figure(figsize=(5, 5))\n",
        "plt.imshow(boxes[10], cmap='gray')\n",
        "plt.axis('off')\n",
        "plt.show()\n"
      ],
      "metadata": {
        "id": "z0sRhCDttiFF",
        "colab": {
          "base_uri": "https://localhost:8080/",
          "height": 422
        },
        "outputId": "eecd0b3d-71c7-4931-a124-07a05c2eb893"
      },
      "execution_count": 53,
      "outputs": [
        {
          "output_type": "display_data",
          "data": {
            "text/plain": [
              "<Figure size 500x500 with 1 Axes>"
            ],
            "image/png": "[encoded data removed]"
          },
          "metadata": {}
        }
      ]
    },
    {
      "cell_type": "code",
      "source": [
        "'''\n",
        "\n",
        "****************** WORK IN POGRESS THE BOX DETECTION STUFF *****************\n",
        "\n",
        "'''\n",
        "\n",
        "MIN_AREA = 12500\n",
        "MIN_WIDTH, MIN_HEIGHT = 2, 8\n",
        "MIN_RATIO, MAX_RATIO = 0.25, 1.0\n",
        "\n",
        "possible_contours = []\n",
        "bx = []\n",
        "cnt = 0\n",
        "for d in contours_dict:\n",
        "    area = d['w'] * d['h']\n",
        "    ratio = d['w'] / d['h']\n",
        "\n",
        "    if area > MIN_AREA \\\n",
        "    and d['w'] > MIN_WIDTH and d['h'] > MIN_HEIGHT \\\n",
        "    and MIN_RATIO < ratio < MAX_RATIO:\n",
        "        d['idx'] = cnt\n",
        "        cnt += 1\n",
        "        possible_contours.append(d)\n",
        "\n",
        "# visualize possible contours\n",
        "temp_result = np.zeros((height, height), dtype=np.uint8)\n",
        "\n",
        "for d in possible_contours:\n",
        "#     cv2.drawContours(temp_result, d['contour'], -1, (255, 255, 255))\n",
        "    cv2.rectangle(temp_result, pt1=(d['x'], d['y']), pt2=(d['x']+d['w'], d['y']+d['h']), color=(255, 255, 255), thickness=2)\n",
        "    bx.append(temp_result)\n",
        "plt.figure(figsize=(5, 5))\n",
        "plt.imshow(bx[10], cmap='gray')\n",
        "plt.axis('off')\n",
        "plt.show()"
      ],
      "metadata": {
        "colab": {
          "base_uri": "https://localhost:8080/",
          "height": 422
        },
        "id": "IwthJ5ORtd_s",
        "outputId": "aeeff2ab-412b-4f1d-b7a4-68cf9fda396a"
      },
      "execution_count": 52,
      "outputs": [
        {
          "output_type": "display_data",
          "data": {
            "text/plain": [
              "<Figure size 500x500 with 1 Axes>"
            ],
            "image/png": "[encoded data removed]"
          },
          "metadata": {}
        }
      ]
    },
    {
      "cell_type": "code",
      "source": [
        "# List of US States\n",
        "us_states = [\n",
        "    'alabama', 'alaska', 'arizona', 'arkansas', 'california', 'colorado',\n",
        "    'connecticut', 'delaware', 'florida', 'georgia', 'hawaii', 'idaho', 'illinois',\n",
        "    'indiana', 'iowa', 'kansas', 'kentucky', 'louisiana', 'maine', 'maryland',\n",
        "    'massachusetts', 'michigan', 'minnesota', 'mississippi', 'missouri', 'montana',\n",
        "    'nebraska', 'nevada', 'new hampshire', 'new jersey', 'new mexico', 'new york',\n",
        "    'north carolina', 'north dakota', 'ohio', 'oklahoma', 'oregon', 'pennsylvania',\n",
        "    'rhode island', 'south carolina', 'south dakota', 'tennessee', 'texas', 'utah',\n",
        "    'vermont', 'virginia', 'washington', 'washingtondc', 'west virginia', 'wisconsin', 'wyoming'\n",
        "]"
      ],
      "metadata": {
        "id": "X7cfq6jRsUaA"
      },
      "execution_count": 41,
      "outputs": []
    },
    {
      "cell_type": "code",
      "source": [
        "from google.cloud import vision\n",
        "import Levenshtein\n",
        "\n",
        "# Function to extract texts using Google Cloud Vision API\n",
        "def get_texts_from_google_vision(img_data):\n",
        "    texts_list = []  # Initialize an empty list to store the texts\n",
        "\n",
        "    # Convert the numpy image to bytes\n",
        "    success, encoded_image = cv2.imencode('.jpg', img_data)\n",
        "    image_bytes = encoded_image.tobytes()\n",
        "\n",
        "    client = vision.ImageAnnotatorClient()  # Initialize the Google Cloud Vision client\n",
        "\n",
        "    image = vision.Image(content=image_bytes)\n",
        "\n",
        "    # Text Detection using Google Vision API\n",
        "    response = client.text_detection(image=image)\n",
        "    texts = response.text_annotations\n",
        "\n",
        "    # If texts are detected, check if they match any US state name\n",
        "    if texts:\n",
        "        for text in texts:\n",
        "            detected_text = text.description\n",
        "            if detected_text.lower() in us_states:\n",
        "                texts_list.append(detected_text)  # Add the detected text to the list\n",
        "                break\n",
        "\n",
        "    return texts_list  # Always return a list, even if it's empty\n",
        "\n",
        "# Function to extract sequences of characters from detected texts\n",
        "def extract_sequences(img_data, detected_state):\n",
        "    \"\"\"Extract sequences of 6 or 7 characters (letters and/or numbers) from the text.\"\"\"\n",
        "\n",
        "    # Get sequences from Google Cloud Vision first\n",
        "    gcv_sequences = get_license_plate_sequences(img_data)\n",
        "    gcv_sequences = [seq for seq in gcv_sequences if re.search(r'[A-Za-z]', seq) and re.search(r'[0-9]', seq)]\n",
        "\n",
        "    if gcv_sequences:\n",
        "        return gcv_sequences\n",
        "\n",
        "    # Define regex patterns based on detected state\n",
        "    if detected_state.lower() in ['california', 'new york', 'new jersey']:\n",
        "        pattern = r'\\b\\w{5,8}\\b'\n",
        "    else:\n",
        "        pattern = r'\\b\\w{5,7}\\b'\n",
        "\n",
        "    # Extract text from TrOCR and then apply regex to extract sequences\n",
        "    trocr_text = get_text_from_trocr(img_data).lower()\n",
        "    return re.findall(pattern, trocr_text)\n",
        "\n",
        "# Function to extract text from an image using TrOCR\n",
        "def get_text_from_trocr(image_data):\n",
        "    pil_img = Image.fromarray(image_data)\n",
        "    inputs = processor(pil_img, return_tensors=\"pt\")\n",
        "    pixel_values = inputs[\"pixel_values\"]\n",
        "\n",
        "    # Generate text from the image using the TrOCR model\n",
        "    generated_ids = model.generate(pixel_values, max_new_tokens=50)\n",
        "    generated_text = processor.batch_decode(generated_ids, skip_special_tokens=True)\n",
        "\n",
        "    return generated_text[0].strip()\n",
        "\n",
        "# Function to extract text and its confidence score using Google Vision API\n",
        "def get_text_from_google_vision2(image_data):\n",
        "    if isinstance(image_data, np.ndarray):\n",
        "        is_success, image_buffer = cv2.imencode(\".jpg\", image_data)\n",
        "        image_data = image_buffer.tobytes()\n",
        "\n",
        "    client = vision.ImageAnnotatorClient()  # Initialize the Google Cloud Vision client\n",
        "    image = vision.Image(content=image_data)\n",
        "    response = client.text_detection(image=image)\n",
        "\n",
        "    texts_with_confidence = [{\"description\": text.description, \"confidence\": text.confidence} for text in response.text_annotations]\n",
        "\n",
        "    return texts_with_confidence\n",
        "\n",
        "# Function to extract text from an image using Tesseract OCR\n",
        "def get_text_from_tesseract(image_data):\n",
        "    image = Image.fromarray(image_data)\n",
        "    text = pytesseract.image_to_string(image).strip()\n",
        "    return text\n",
        "\n",
        "# Function to convert a grayscale image to RGB\n",
        "def grayscale_to_rgb(grayscale_img):\n",
        "    return np.repeat(grayscale_img[..., np.newaxis], 3, axis=2)\n",
        "\n",
        "# Function to invert colors of an image\n",
        "def invert_colors(image):\n",
        "    return 255 - image\n",
        "\n",
        "# Function to get multimodal embeddings using AI Platform\n",
        "def get_multimodal_embeddings(image, text):\n",
        "    client = aiplatform.gapic.VizierServiceClient(client_options={\"api_endpoint\": \"us-central1-aiplatform.googleapis.com\"})\n",
        "\n",
        "    request = aiplatform.gapic.PredictRequest(\n",
        "        endpoint=\"YOUR_ENDPOINT\",\n",
        "        instances=[\n",
        "            {\n",
        "                \"image\": {\"content\": image},  # Image should be base64 encoded\n",
        "                \"text\": text\n",
        "            }\n",
        "        ]\n",
        "    )\n",
        "\n",
        "    response = client.predict(request)\n",
        "    embeddings = response.predictions[0]  # Assumes one embedding is returned. Adjust if necessary.\n",
        "    return embeddings\n",
        "\n",
        "# Function to extract license plate sequences from an image using Google Vision API\n",
        "def get_license_plate_sequences(img_data):\n",
        "    height, width, _ = img_data.shape\n",
        "\n",
        "    # Crop the middle of the image to focus on the license plate\n",
        "    top = int(height * 2/5)\n",
        "    bottom = int(height * 4/5)\n",
        "    cropped_image = img_data[top:bottom, :]\n",
        "\n",
        "    _, encoded_image = cv2.imencode('.png', cropped_image)\n",
        "    image_bytes = encoded_image.tobytes()\n",
        "\n",
        "    client = vision.ImageAnnotatorClient()  # Initialize the Google Cloud Vision client\n",
        "\n",
        "    image = vision.Image(content=image_bytes)\n",
        "    response = client.text_detection(image=image)\n",
        "    texts = response.text_annotations\n",
        "\n",
        "    # Filter the detected texts to get potential license plate sequences\n",
        "    sequences = []\n",
        "    for text in texts:\n",
        "        if len(text.description) >= 5 and len(text.description) <= 8:\n",
        "            sequences.append(text.description)\n",
        "\n",
        "    if len(sequences) > 1:\n",
        "        return sequences[0]\n",
        "    else:\n",
        "        return sequences\n",
        "\n",
        "# Function to find the closest matching state to the detected text\n",
        "def find_closest_state(detected_text, state_list):\n",
        "    distances = [(state, Levenshtein.distance(detected_text, state)) for state in state_list]\n",
        "    distances.sort(key=lambda x: x[1])\n",
        "    return distances[0][0]\n",
        "\n",
        "# Function to check if detected text is similar to any US state name\n",
        "def is_similar_to_any_state(detected_text, threshold=0.7):\n",
        "    closest_state = find_closest_state(detected_text, us_states)\n",
        "    if closest_state.lower() in detected_text.lower():\n",
        "        return closest_state.capitalize()\n",
        "    return None\n",
        "# Function to set the name of the model used for prediction\n",
        "def set_model_name(model_name, x):\n",
        "    if not x:\n",
        "        x = model_name\n",
        "    return x\n",
        "# Function to invert the colors of an image\n",
        "def invert_colors(img):\n",
        "    return 255 - img\n",
        "\n",
        "# Function to convert a grayscale image to RGB format\n",
        "def grayscale_to_rgb(img):\n",
        "    if len(img.shape) == 2 or img.shape[2] == 1:  # Check if the image is grayscale\n",
        "        return cv2.cvtColor(img, cv2.COLOR_GRAY2RGB)\n",
        "    return img  # return original image if it's already RGB\n"
      ],
      "metadata": {
        "id": "mHX_kReCwF3v"
      },
      "execution_count": 54,
      "outputs": []
    },
    {
      "cell_type": "markdown",
      "source": [
        "# Model"
      ],
      "metadata": {
        "id": "Z5xrNUZ_NpCo"
      }
    },
    {
      "cell_type": "code",
      "source": [
        "from tqdm import tqdm\n",
        "\n",
        "# Invert colors of processed images\n",
        "inverted_image = [invert_colors(img) for img in processed_images]\n",
        "grayscale_images = inverted_image\n",
        "# Convert grayscale images to RGB\n",
        "rgb_images = [grayscale_to_rgb(img) for img in grayscale_images]\n",
        "\n",
        "predicted_results = {}\n",
        "\n",
        "# Process each image in the dataset\n",
        "for index, img_data in tqdm(enumerate(rgb_images), total=len(rgb_images), desc=\"Processing images\"):\n",
        "    detected_states = set()\n",
        "    detected_numbers = set()\n",
        "    x = None\n",
        "    state_detected = False\n",
        "\n",
        "    print(f\"Starting processing for image {index}\")\n",
        "\n",
        "    # Try to detect text using Google Vision API\n",
        "    google_texts_results = get_texts_from_google_vision(img_data)\n",
        "    for text_data in google_texts_results:\n",
        "        detected_state = is_similar_to_any_state(text_data)\n",
        "        if detected_state:\n",
        "            detected_states.add(detected_state)\n",
        "            x = set_model_name('Google Vision', x)\n",
        "            state_detected = True\n",
        "            break\n",
        "\n",
        "    # If not detected, try MMOCR\n",
        "    if not state_detected:\n",
        "        result = infer(img_data, save_vis=False)\n",
        "        for prediction in result['predictions']:\n",
        "            rec_texts = prediction.get('rec_texts', [])\n",
        "            for detected_text in rec_texts:\n",
        "                detected_state = is_similar_to_any_state(detected_text)\n",
        "                if detected_state:\n",
        "                    detected_states.add(detected_state)\n",
        "                    x = set_model_name('MMOCR', x)\n",
        "                    state_detected = True\n",
        "                    break\n",
        "            if state_detected:\n",
        "                break\n",
        "\n",
        "    # If not detected, try Google Vision API again (different function)\n",
        "    if not state_detected:\n",
        "        google_vision_texts = get_text_from_google_vision2(img_data)\n",
        "        for text_data in google_vision_texts:\n",
        "            detected_text = text_data[\"description\"]\n",
        "            detected_state = is_similar_to_any_state(detected_text)\n",
        "            if detected_state:\n",
        "                detected_states.add(detected_state)\n",
        "                x = set_model_name('Google Vision 2', x)\n",
        "                state_detected = True\n",
        "                break\n",
        "\n",
        "    # If not detected, try Tesseract OCR\n",
        "    if not state_detected:\n",
        "        tesseract_text = get_text_from_tesseract(inverted_image[index]).lower()\n",
        "        detected_state = is_similar_to_any_state(tesseract_text)\n",
        "        if detected_state:\n",
        "            detected_states.add(detected_state)\n",
        "            x = set_model_name('Tesseract', x)\n",
        "            state_detected = True\n",
        "\n",
        "    # If not detected, try TrOCR\n",
        "    if not state_detected:\n",
        "        trocr_text = get_text_from_trocr(img_data).lower()\n",
        "        detected_state = is_similar_to_any_state(trocr_text)\n",
        "        if detected_state:\n",
        "            detected_states.add(detected_state)\n",
        "            x = set_model_name('TrOCR', x)\n",
        "            state_detected = True\n",
        "\n",
        "    # If state is still not detected, find the closest matching state\n",
        "    if not state_detected:\n",
        "        potential_state = find_closest_state(trocr_text, us_states)\n",
        "        detected_states.add(potential_state.capitalize())\n",
        "        x = set_model_name('Similarity Check', x)\n",
        "        state_detected = True\n",
        "\n",
        "    if state_detected:\n",
        "        # Extract license plate numbers using Google Vision\n",
        "        sequences_found = get_license_plate_sequences(img_data)\n",
        "        sequences_found = [seq for seq in sequences_found if re.search(r'[A-Za-z]', seq) and re.search(r'[0-9]', seq)]\n",
        "        if not sequences_found:\n",
        "            sequences_found = extract_sequences(img_data, list(detected_states)[0] if detected_states else \"\")\n",
        "\n",
        "        detected_numbers.update(sequences_found)\n",
        "\n",
        "    # Store the results\n",
        "    label_for_image = image_labels[index]\n",
        "    if label_for_image in predicted_results:  # Checking if label already exists\n",
        "        label_for_image += f\"_{index}\"  # Modify the label with index to make it unique\n",
        "\n",
        "    predicted_results[label_for_image] = {\n",
        "        'State': list(detected_states) if detected_states else [\"NoPrediction\"],\n",
        "        'Number': list(detected_numbers) if detected_numbers else [\"NoNumber\"],\n",
        "        'Model': x\n",
        "    }\n",
        "\n",
        "    print(f\"Saved results for image {label_for_image}\")\n",
        "\n",
        "print('\\n')\n",
        "x = 0\n",
        "for label, details in predicted_results.items():\n",
        "    state = ', '.join(details['State'])\n",
        "    numbers = ', '.join(details['Number'])\n",
        "    model_used = details['Model']\n",
        "    if numbers == \"NoNumber\":\n",
        "      x += 1\n",
        "    print(f\"Image {label}: State(s) - {state} | Number(s) - {numbers} | Model - {model_used}\")\n",
        "print(x)\n"
      ],
      "metadata": {
        "colab": {
          "base_uri": "https://localhost:8080/",
          "height": 1000,
          "referenced_widgets": [
            "61d1fc48960d4f4eb08dd2d0fb8c6fec",
            "89ece25076be417ea3a7d47be8d9ed76",
            "917fe6ce9f3141889fd9b57f9cbb44d7",
            "5240fd82a4a64a9d8f83eebbfeb7bf98",
            "089cf01c6f14451689954e0971dc37af",
            "efb297454b90497585fed254325cb742",
            "a6d0a10b72634aaca1b240121240bc08",
            "e474603cc2274f2fba2d34c72e9aadd8",
            "4e95927e2c7c456ba282003908ae042b",
            "1f61aad1dd4c49c7b38663fdd25f7eec",
            "b26cdfaba5ac42edba86ab9435633890",
            "e0b1903fbd674c4da713c4d992807b37",
            "b2fb1418c5cd4e548d4bd239e142b9b2",
            "78fe23c7a0764392a935e76a7db00aa7",
            "3dae7146aa774e188488367d779fd1b8",
            "e6d1d3d457794f988a9dce4fb62644ea",
            "fe1df1f9f3d54d90b62d535cd5489205",
            "0fbbf113b2384108aa427b9ea0d2af6e",
            "0fd41ed9b43e4653b77eb348b9522e3e",
            "823c497bc1a046919a44dc05f9ffb2c9",
            "58107cbe7db647399004de5abe80e875",
            "41322b97f4be4b438063f92d4c6b6a50",
            "dbd341cf708042df9ab87604c7ad010f",
            "8bb46a6664ef4a4d9c022fbe43460ab1",
            "1e48bfa790c244119c8492dccae87b96",
            "0749822443da410eae01573133f20fee",
            "0fd1ce8608394e0081ccc10d41eccef0",
            "70245900b56a4488ac77eaaa03986d19",
            "e6ce925ef8e742698a3e42765cb3aceb",
            "bd56264018804213979fac489544dca7",
            "37fc0b19c5b84691abf465847e8a817a",
            "75e388cf89d6428c8f1407c7fe1ad3be",
            "675de4deffc34912a2f0ff3c53794840",
            "17c26955a514485e8b5032644a40d43f",
            "89c979fb73174e0583e4256d19670669",
            "e36b35956eb74905b38e3b0b4698c19e",
            "5326a1325133433590929c2abdda4908",
            "532820cb4deb414582988547724f26ce",
            "a22054210c6a4bfcb776ab4d6b69816e",
            "a03d18de67fa4d28b13df24bbbb697d5",
            "d87ca9d2b7804719af4ab34d92b69224",
            "8277da32e5ec4d5b99e2eb691fec468b",
            "4362db2e8f024d4da889d646a284b2fe",
            "f1b7fc3e2865413c98034a6a2a0e8c91",
            "6815f4fa5a314aebb910f33d59c33338",
            "a6393b11745c4fb9b5f3c3a87538a7a3",
            "f00884e77234414497c1bcaff1f704b6",
            "4980b8983102467cb26086cfb2d0ef48",
            "8a42c91e006040c3b499a07428d01842",
            "43603f481e0e4aa79889f8cafdfd7269",
            "01b2bbd4979b49ed83342859cc5efcf5",
            "fee0645a443343d89c8bcbfe4f98040c",
            "210ecf8e2af3493ca97d01be72a269a5",
            "8452c78da0054a85bfc2faed79ab936f",
            "9094654ed8ae4dce9b5dabb9e2c3fc54",
            "83e45a0ea047410da3bc1364836df486",
            "b748d353604c4a268260bec3b6e06dc7",
            "90626d7986ed4e349a043ea9eaab2be4",
            "9a168efd91ac43cc8eada3a59f88edc8",
            "a19a1ac7cce541ee9996a70e9e42b4e0",
            "f99a8b39d9974f5bbeb6219551f4a630",
            "2f4510b00afb4a55986e39c24172ee27",
            "7b6f21cf56c542a9a82ec40ecf3e6ef0",
            "aae8b2915d154ec7a931092a4d7dae3b",
            "b8889a73935f48cfb49d55fa3ae024ec",
            "cfe531f5d02040609d5d7129ff766944",
            "156d1494f0824ebc9fdf29f12be2d8a0",
            "258c58096cb64a50aaf967ec64d55ea9",
            "179c0d90186d4bde92e7b68024502de3",
            "9f979a7e8873497ea88ff1073c541d6e",
            "d4e8083ddb4d460587d45ef137024282",
            "3957107c84b9402097f9af17a7200e16"
          ]
        },
        "id": "-cLcmIiVZlr4",
        "outputId": "9bdeb739-1686-4289-eb08-ef0b13a74fa8"
      },
      "execution_count": 56,
      "outputs": [
        {
          "output_type": "stream",
          "name": "stderr",
          "text": [
            "\rProcessing images:   0%|          | 0/50 [00:00<?, ?it/s]"
          ]
        },
        {
          "output_type": "stream",
          "name": "stdout",
          "text": [
            "Starting processing for image 0\n"
          ]
        },
        {
          "output_type": "stream",
          "name": "stderr",
          "text": [
            "\rProcessing images:   2%|▏         | 1/50 [00:02<01:51,  2.28s/it]"
          ]
        },
        {
          "output_type": "stream",
          "name": "stdout",
          "text": [
            "Saved results for image alabama\n",
            "Starting processing for image 1\n"
          ]
        },
        {
          "output_type": "stream",
          "name": "stderr",
          "text": [
            "\rProcessing images:   4%|▍         | 2/50 [00:04<01:44,  2.19s/it]"
          ]
        },
        {
          "output_type": "stream",
          "name": "stdout",
          "text": [
            "Saved results for image alaska\n",
            "Starting processing for image 2\n"
          ]
        },
        {
          "output_type": "display_data",
          "data": {
            "text/plain": [
              "Output()"
            ],
            "application/vnd.jupyter.widget-view+json": {
              "version_major": 2,
              "version_minor": 0,
              "model_id": "61d1fc48960d4f4eb08dd2d0fb8c6fec"
            }
          },
          "metadata": {}
        },
        {
          "output_type": "display_data",
          "data": {
            "text/plain": [
              "\n"
            ],
            "text/html": [
              "<pre style=\"white-space:pre;overflow-x:auto;line-height:normal;font-family:Menlo,'DejaVu Sans Mono',consolas,'Courier New',monospace\">\n",
              "</pre>\n"
            ]
          },
          "metadata": {}
        },
        {
          "output_type": "display_data",
          "data": {
            "text/plain": [
              "\n"
            ],
            "text/html": [
              "<pre style=\"white-space:pre;overflow-x:auto;line-height:normal;font-family:Menlo,'DejaVu Sans Mono',consolas,'Courier New',monospace\">\n",
              "</pre>\n"
            ]
          },
          "metadata": {}
        },
        {
          "output_type": "display_data",
          "data": {
            "text/plain": [],
            "text/html": [
              "<pre style=\"white-space:pre;overflow-x:auto;line-height:normal;font-family:Menlo,'DejaVu Sans Mono',consolas,'Courier New',monospace\"></pre>\n"
            ]
          },
          "metadata": {}
        },
        {
          "output_type": "display_data",
          "data": {
            "text/plain": [
              "\n"
            ],
            "text/html": [
              "<pre style=\"white-space:pre;overflow-x:auto;line-height:normal;font-family:Menlo,'DejaVu Sans Mono',consolas,'Courier New',monospace\">\n",
              "</pre>\n"
            ]
          },
          "metadata": {}
        },
        {
          "output_type": "stream",
          "name": "stderr",
          "text": [
            "\rProcessing images:   6%|▌         | 3/50 [00:10<02:56,  3.76s/it]"
          ]
        },
        {
          "output_type": "stream",
          "name": "stdout",
          "text": [
            "Saved results for image arizona\n",
            "Starting processing for image 3\n"
          ]
        },
        {
          "output_type": "stream",
          "name": "stderr",
          "text": [
            "\rProcessing images:   8%|▊         | 4/50 [00:10<02:02,  2.65s/it]"
          ]
        },
        {
          "output_type": "stream",
          "name": "stdout",
          "text": [
            "Saved results for image arkansas\n",
            "Starting processing for image 4\n"
          ]
        },
        {
          "output_type": "stream",
          "name": "stderr",
          "text": [
            "\rProcessing images:  10%|█         | 5/50 [00:12<01:48,  2.42s/it]"
          ]
        },
        {
          "output_type": "stream",
          "name": "stdout",
          "text": [
            "Saved results for image california\n",
            "Starting processing for image 5\n"
          ]
        },
        {
          "output_type": "display_data",
          "data": {
            "text/plain": [
              "Output()"
            ],
            "application/vnd.jupyter.widget-view+json": {
              "version_major": 2,
              "version_minor": 0,
              "model_id": "917fe6ce9f3141889fd9b57f9cbb44d7"
            }
          },
          "metadata": {}
        },
        {
          "output_type": "display_data",
          "data": {
            "text/plain": [
              "\n"
            ],
            "text/html": [
              "<pre style=\"white-space:pre;overflow-x:auto;line-height:normal;font-family:Menlo,'DejaVu Sans Mono',consolas,'Courier New',monospace\">\n",
              "</pre>\n"
            ]
          },
          "metadata": {}
        },
        {
          "output_type": "display_data",
          "data": {
            "text/plain": [
              "\n"
            ],
            "text/html": [
              "<pre style=\"white-space:pre;overflow-x:auto;line-height:normal;font-family:Menlo,'DejaVu Sans Mono',consolas,'Courier New',monospace\">\n",
              "</pre>\n"
            ]
          },
          "metadata": {}
        },
        {
          "output_type": "display_data",
          "data": {
            "text/plain": [],
            "text/html": [
              "<pre style=\"white-space:pre;overflow-x:auto;line-height:normal;font-family:Menlo,'DejaVu Sans Mono',consolas,'Courier New',monospace\"></pre>\n"
            ]
          },
          "metadata": {}
        },
        {
          "output_type": "display_data",
          "data": {
            "text/plain": [
              "\n"
            ],
            "text/html": [
              "<pre style=\"white-space:pre;overflow-x:auto;line-height:normal;font-family:Menlo,'DejaVu Sans Mono',consolas,'Courier New',monospace\">\n",
              "</pre>\n"
            ]
          },
          "metadata": {}
        },
        {
          "output_type": "stream",
          "name": "stderr",
          "text": [
            "\rProcessing images:  12%|█▏        | 6/50 [00:16<01:59,  2.71s/it]"
          ]
        },
        {
          "output_type": "stream",
          "name": "stdout",
          "text": [
            "Saved results for image colorado\n",
            "Starting processing for image 6\n"
          ]
        },
        {
          "output_type": "stream",
          "name": "stderr",
          "text": [
            "\rProcessing images:  14%|█▍        | 7/50 [00:18<01:47,  2.51s/it]"
          ]
        },
        {
          "output_type": "stream",
          "name": "stdout",
          "text": [
            "Saved results for image connecticut\n",
            "Starting processing for image 7\n"
          ]
        },
        {
          "output_type": "display_data",
          "data": {
            "text/plain": [
              "Output()"
            ],
            "application/vnd.jupyter.widget-view+json": {
              "version_major": 2,
              "version_minor": 0,
              "model_id": "089cf01c6f14451689954e0971dc37af"
            }
          },
          "metadata": {}
        },
        {
          "output_type": "display_data",
          "data": {
            "text/plain": [
              "\n"
            ],
            "text/html": [
              "<pre style=\"white-space:pre;overflow-x:auto;line-height:normal;font-family:Menlo,'DejaVu Sans Mono',consolas,'Courier New',monospace\">\n",
              "</pre>\n"
            ]
          },
          "metadata": {}
        },
        {
          "output_type": "display_data",
          "data": {
            "text/plain": [
              "\n"
            ],
            "text/html": [
              "<pre style=\"white-space:pre;overflow-x:auto;line-height:normal;font-family:Menlo,'DejaVu Sans Mono',consolas,'Courier New',monospace\">\n",
              "</pre>\n"
            ]
          },
          "metadata": {}
        },
        {
          "output_type": "display_data",
          "data": {
            "text/plain": [],
            "text/html": [
              "<pre style=\"white-space:pre;overflow-x:auto;line-height:normal;font-family:Menlo,'DejaVu Sans Mono',consolas,'Courier New',monospace\"></pre>\n"
            ]
          },
          "metadata": {}
        },
        {
          "output_type": "display_data",
          "data": {
            "text/plain": [
              "\n"
            ],
            "text/html": [
              "<pre style=\"white-space:pre;overflow-x:auto;line-height:normal;font-family:Menlo,'DejaVu Sans Mono',consolas,'Courier New',monospace\">\n",
              "</pre>\n"
            ]
          },
          "metadata": {}
        },
        {
          "output_type": "stream",
          "name": "stderr",
          "text": [
            "\rProcessing images:  16%|█▌        | 8/50 [00:22<02:09,  3.08s/it]"
          ]
        },
        {
          "output_type": "stream",
          "name": "stdout",
          "text": [
            "Saved results for image delaware\n",
            "Starting processing for image 8\n"
          ]
        },
        {
          "output_type": "display_data",
          "data": {
            "text/plain": [
              "Output()"
            ],
            "application/vnd.jupyter.widget-view+json": {
              "version_major": 2,
              "version_minor": 0,
              "model_id": "a6d0a10b72634aaca1b240121240bc08"
            }
          },
          "metadata": {}
        },
        {
          "output_type": "display_data",
          "data": {
            "text/plain": [
              "\n"
            ],
            "text/html": [
              "<pre style=\"white-space:pre;overflow-x:auto;line-height:normal;font-family:Menlo,'DejaVu Sans Mono',consolas,'Courier New',monospace\">\n",
              "</pre>\n"
            ]
          },
          "metadata": {}
        },
        {
          "output_type": "display_data",
          "data": {
            "text/plain": [
              "\n"
            ],
            "text/html": [
              "<pre style=\"white-space:pre;overflow-x:auto;line-height:normal;font-family:Menlo,'DejaVu Sans Mono',consolas,'Courier New',monospace\">\n",
              "</pre>\n"
            ]
          },
          "metadata": {}
        },
        {
          "output_type": "display_data",
          "data": {
            "text/plain": [],
            "text/html": [
              "<pre style=\"white-space:pre;overflow-x:auto;line-height:normal;font-family:Menlo,'DejaVu Sans Mono',consolas,'Courier New',monospace\"></pre>\n"
            ]
          },
          "metadata": {}
        },
        {
          "output_type": "display_data",
          "data": {
            "text/plain": [
              "\n"
            ],
            "text/html": [
              "<pre style=\"white-space:pre;overflow-x:auto;line-height:normal;font-family:Menlo,'DejaVu Sans Mono',consolas,'Courier New',monospace\">\n",
              "</pre>\n"
            ]
          },
          "metadata": {}
        },
        {
          "output_type": "stream",
          "name": "stderr",
          "text": [
            "\rProcessing images:  18%|█▊        | 9/50 [00:26<02:21,  3.45s/it]"
          ]
        },
        {
          "output_type": "stream",
          "name": "stdout",
          "text": [
            "Saved results for image florida\n",
            "Starting processing for image 9\n"
          ]
        },
        {
          "output_type": "display_data",
          "data": {
            "text/plain": [
              "Output()"
            ],
            "application/vnd.jupyter.widget-view+json": {
              "version_major": 2,
              "version_minor": 0,
              "model_id": "4e95927e2c7c456ba282003908ae042b"
            }
          },
          "metadata": {}
        },
        {
          "output_type": "display_data",
          "data": {
            "text/plain": [
              "\n"
            ],
            "text/html": [
              "<pre style=\"white-space:pre;overflow-x:auto;line-height:normal;font-family:Menlo,'DejaVu Sans Mono',consolas,'Courier New',monospace\">\n",
              "</pre>\n"
            ]
          },
          "metadata": {}
        },
        {
          "output_type": "display_data",
          "data": {
            "text/plain": [
              "\n"
            ],
            "text/html": [
              "<pre style=\"white-space:pre;overflow-x:auto;line-height:normal;font-family:Menlo,'DejaVu Sans Mono',consolas,'Courier New',monospace\">\n",
              "</pre>\n"
            ]
          },
          "metadata": {}
        },
        {
          "output_type": "display_data",
          "data": {
            "text/plain": [],
            "text/html": [
              "<pre style=\"white-space:pre;overflow-x:auto;line-height:normal;font-family:Menlo,'DejaVu Sans Mono',consolas,'Courier New',monospace\"></pre>\n"
            ]
          },
          "metadata": {}
        },
        {
          "output_type": "display_data",
          "data": {
            "text/plain": [
              "\n"
            ],
            "text/html": [
              "<pre style=\"white-space:pre;overflow-x:auto;line-height:normal;font-family:Menlo,'DejaVu Sans Mono',consolas,'Courier New',monospace\">\n",
              "</pre>\n"
            ]
          },
          "metadata": {}
        },
        {
          "output_type": "stream",
          "name": "stderr",
          "text": [
            "\rProcessing images:  20%|██        | 10/50 [00:30<02:18,  3.47s/it]"
          ]
        },
        {
          "output_type": "stream",
          "name": "stdout",
          "text": [
            "Saved results for image georgia\n",
            "Starting processing for image 10\n"
          ]
        },
        {
          "output_type": "display_data",
          "data": {
            "text/plain": [
              "Output()"
            ],
            "application/vnd.jupyter.widget-view+json": {
              "version_major": 2,
              "version_minor": 0,
              "model_id": "b26cdfaba5ac42edba86ab9435633890"
            }
          },
          "metadata": {}
        },
        {
          "output_type": "display_data",
          "data": {
            "text/plain": [
              "\n"
            ],
            "text/html": [
              "<pre style=\"white-space:pre;overflow-x:auto;line-height:normal;font-family:Menlo,'DejaVu Sans Mono',consolas,'Courier New',monospace\">\n",
              "</pre>\n"
            ]
          },
          "metadata": {}
        },
        {
          "output_type": "display_data",
          "data": {
            "text/plain": [
              "\n"
            ],
            "text/html": [
              "<pre style=\"white-space:pre;overflow-x:auto;line-height:normal;font-family:Menlo,'DejaVu Sans Mono',consolas,'Courier New',monospace\">\n",
              "</pre>\n"
            ]
          },
          "metadata": {}
        },
        {
          "output_type": "display_data",
          "data": {
            "text/plain": [],
            "text/html": [
              "<pre style=\"white-space:pre;overflow-x:auto;line-height:normal;font-family:Menlo,'DejaVu Sans Mono',consolas,'Courier New',monospace\"></pre>\n"
            ]
          },
          "metadata": {}
        },
        {
          "output_type": "display_data",
          "data": {
            "text/plain": [
              "\n"
            ],
            "text/html": [
              "<pre style=\"white-space:pre;overflow-x:auto;line-height:normal;font-family:Menlo,'DejaVu Sans Mono',consolas,'Courier New',monospace\">\n",
              "</pre>\n"
            ]
          },
          "metadata": {}
        },
        {
          "output_type": "stream",
          "name": "stderr",
          "text": [
            "\rProcessing images:  22%|██▏       | 11/50 [00:33<02:11,  3.38s/it]"
          ]
        },
        {
          "output_type": "display_data",
          "data": {
            "text/plain": [
              "Output()"
            ],
            "application/vnd.jupyter.widget-view+json": {
              "version_major": 2,
              "version_minor": 0,
              "model_id": "b2fb1418c5cd4e548d4bd239e142b9b2"
            }
          },
          "metadata": {}
        },
        {
          "output_type": "stream",
          "name": "stdout",
          "text": [
            "Saved results for image hawaii\n",
            "Starting processing for image 11\n"
          ]
        },
        {
          "output_type": "display_data",
          "data": {
            "text/plain": [
              "\n"
            ],
            "text/html": [
              "<pre style=\"white-space:pre;overflow-x:auto;line-height:normal;font-family:Menlo,'DejaVu Sans Mono',consolas,'Courier New',monospace\">\n",
              "</pre>\n"
            ]
          },
          "metadata": {}
        },
        {
          "output_type": "display_data",
          "data": {
            "text/plain": [
              "\n"
            ],
            "text/html": [
              "<pre style=\"white-space:pre;overflow-x:auto;line-height:normal;font-family:Menlo,'DejaVu Sans Mono',consolas,'Courier New',monospace\">\n",
              "</pre>\n"
            ]
          },
          "metadata": {}
        },
        {
          "output_type": "display_data",
          "data": {
            "text/plain": [],
            "text/html": [
              "<pre style=\"white-space:pre;overflow-x:auto;line-height:normal;font-family:Menlo,'DejaVu Sans Mono',consolas,'Courier New',monospace\"></pre>\n"
            ]
          },
          "metadata": {}
        },
        {
          "output_type": "display_data",
          "data": {
            "text/plain": [
              "\n"
            ],
            "text/html": [
              "<pre style=\"white-space:pre;overflow-x:auto;line-height:normal;font-family:Menlo,'DejaVu Sans Mono',consolas,'Courier New',monospace\">\n",
              "</pre>\n"
            ]
          },
          "metadata": {}
        },
        {
          "output_type": "stream",
          "name": "stderr",
          "text": [
            "\rProcessing images:  24%|██▍       | 12/50 [00:40<02:48,  4.43s/it]"
          ]
        },
        {
          "output_type": "stream",
          "name": "stdout",
          "text": [
            "Saved results for image idaho\n",
            "Starting processing for image 12\n"
          ]
        },
        {
          "output_type": "stream",
          "name": "stderr",
          "text": [
            "\rProcessing images:  26%|██▌       | 13/50 [00:42<02:21,  3.81s/it]"
          ]
        },
        {
          "output_type": "stream",
          "name": "stdout",
          "text": [
            "Saved results for image illinois\n",
            "Starting processing for image 13\n"
          ]
        },
        {
          "output_type": "display_data",
          "data": {
            "text/plain": [
              "Output()"
            ],
            "application/vnd.jupyter.widget-view+json": {
              "version_major": 2,
              "version_minor": 0,
              "model_id": "3dae7146aa774e188488367d779fd1b8"
            }
          },
          "metadata": {}
        },
        {
          "output_type": "display_data",
          "data": {
            "text/plain": [
              "\n"
            ],
            "text/html": [
              "<pre style=\"white-space:pre;overflow-x:auto;line-height:normal;font-family:Menlo,'DejaVu Sans Mono',consolas,'Courier New',monospace\">\n",
              "</pre>\n"
            ]
          },
          "metadata": {}
        },
        {
          "output_type": "display_data",
          "data": {
            "text/plain": [
              "\n"
            ],
            "text/html": [
              "<pre style=\"white-space:pre;overflow-x:auto;line-height:normal;font-family:Menlo,'DejaVu Sans Mono',consolas,'Courier New',monospace\">\n",
              "</pre>\n"
            ]
          },
          "metadata": {}
        },
        {
          "output_type": "display_data",
          "data": {
            "text/plain": [],
            "text/html": [
              "<pre style=\"white-space:pre;overflow-x:auto;line-height:normal;font-family:Menlo,'DejaVu Sans Mono',consolas,'Courier New',monospace\"></pre>\n"
            ]
          },
          "metadata": {}
        },
        {
          "output_type": "display_data",
          "data": {
            "text/plain": [
              "\n"
            ],
            "text/html": [
              "<pre style=\"white-space:pre;overflow-x:auto;line-height:normal;font-family:Menlo,'DejaVu Sans Mono',consolas,'Courier New',monospace\">\n",
              "</pre>\n"
            ]
          },
          "metadata": {}
        },
        {
          "output_type": "stream",
          "name": "stderr",
          "text": [
            "\rProcessing images:  28%|██▊       | 14/50 [00:46<02:16,  3.79s/it]"
          ]
        },
        {
          "output_type": "stream",
          "name": "stdout",
          "text": [
            "Saved results for image indiana\n",
            "Starting processing for image 14\n"
          ]
        },
        {
          "output_type": "display_data",
          "data": {
            "text/plain": [
              "Output()"
            ],
            "application/vnd.jupyter.widget-view+json": {
              "version_major": 2,
              "version_minor": 0,
              "model_id": "fe1df1f9f3d54d90b62d535cd5489205"
            }
          },
          "metadata": {}
        },
        {
          "output_type": "display_data",
          "data": {
            "text/plain": [
              "\n"
            ],
            "text/html": [
              "<pre style=\"white-space:pre;overflow-x:auto;line-height:normal;font-family:Menlo,'DejaVu Sans Mono',consolas,'Courier New',monospace\">\n",
              "</pre>\n"
            ]
          },
          "metadata": {}
        },
        {
          "output_type": "display_data",
          "data": {
            "text/plain": [
              "\n"
            ],
            "text/html": [
              "<pre style=\"white-space:pre;overflow-x:auto;line-height:normal;font-family:Menlo,'DejaVu Sans Mono',consolas,'Courier New',monospace\">\n",
              "</pre>\n"
            ]
          },
          "metadata": {}
        },
        {
          "output_type": "display_data",
          "data": {
            "text/plain": [],
            "text/html": [
              "<pre style=\"white-space:pre;overflow-x:auto;line-height:normal;font-family:Menlo,'DejaVu Sans Mono',consolas,'Courier New',monospace\"></pre>\n"
            ]
          },
          "metadata": {}
        },
        {
          "output_type": "display_data",
          "data": {
            "text/plain": [
              "\n"
            ],
            "text/html": [
              "<pre style=\"white-space:pre;overflow-x:auto;line-height:normal;font-family:Menlo,'DejaVu Sans Mono',consolas,'Courier New',monospace\">\n",
              "</pre>\n"
            ]
          },
          "metadata": {}
        },
        {
          "output_type": "stream",
          "name": "stderr",
          "text": [
            "\rProcessing images:  30%|███       | 15/50 [00:50<02:15,  3.86s/it]"
          ]
        },
        {
          "output_type": "stream",
          "name": "stdout",
          "text": [
            "Saved results for image iowa\n",
            "Starting processing for image 15\n"
          ]
        },
        {
          "output_type": "display_data",
          "data": {
            "text/plain": [
              "Output()"
            ],
            "application/vnd.jupyter.widget-view+json": {
              "version_major": 2,
              "version_minor": 0,
              "model_id": "0fd41ed9b43e4653b77eb348b9522e3e"
            }
          },
          "metadata": {}
        },
        {
          "output_type": "display_data",
          "data": {
            "text/plain": [
              "\n"
            ],
            "text/html": [
              "<pre style=\"white-space:pre;overflow-x:auto;line-height:normal;font-family:Menlo,'DejaVu Sans Mono',consolas,'Courier New',monospace\">\n",
              "</pre>\n"
            ]
          },
          "metadata": {}
        },
        {
          "output_type": "display_data",
          "data": {
            "text/plain": [
              "\n"
            ],
            "text/html": [
              "<pre style=\"white-space:pre;overflow-x:auto;line-height:normal;font-family:Menlo,'DejaVu Sans Mono',consolas,'Courier New',monospace\">\n",
              "</pre>\n"
            ]
          },
          "metadata": {}
        },
        {
          "output_type": "display_data",
          "data": {
            "text/plain": [],
            "text/html": [
              "<pre style=\"white-space:pre;overflow-x:auto;line-height:normal;font-family:Menlo,'DejaVu Sans Mono',consolas,'Courier New',monospace\"></pre>\n"
            ]
          },
          "metadata": {}
        },
        {
          "output_type": "display_data",
          "data": {
            "text/plain": [
              "\n"
            ],
            "text/html": [
              "<pre style=\"white-space:pre;overflow-x:auto;line-height:normal;font-family:Menlo,'DejaVu Sans Mono',consolas,'Courier New',monospace\">\n",
              "</pre>\n"
            ]
          },
          "metadata": {}
        },
        {
          "output_type": "stream",
          "name": "stderr",
          "text": [
            "\rProcessing images:  32%|███▏      | 16/50 [00:54<02:12,  3.91s/it]"
          ]
        },
        {
          "output_type": "stream",
          "name": "stdout",
          "text": [
            "Saved results for image kansas\n",
            "Starting processing for image 16\n"
          ]
        },
        {
          "output_type": "stream",
          "name": "stderr",
          "text": [
            "\rProcessing images:  34%|███▍      | 17/50 [00:56<01:52,  3.42s/it]"
          ]
        },
        {
          "output_type": "stream",
          "name": "stdout",
          "text": [
            "Saved results for image kentucky\n",
            "Starting processing for image 17\n"
          ]
        },
        {
          "output_type": "stream",
          "name": "stderr",
          "text": [
            "\rProcessing images:  36%|███▌      | 18/50 [00:58<01:35,  2.98s/it]"
          ]
        },
        {
          "output_type": "stream",
          "name": "stdout",
          "text": [
            "Saved results for image louisiana\n",
            "Starting processing for image 18\n"
          ]
        },
        {
          "output_type": "display_data",
          "data": {
            "text/plain": [
              "Output()"
            ],
            "application/vnd.jupyter.widget-view+json": {
              "version_major": 2,
              "version_minor": 0,
              "model_id": "58107cbe7db647399004de5abe80e875"
            }
          },
          "metadata": {}
        },
        {
          "output_type": "display_data",
          "data": {
            "text/plain": [
              "\n"
            ],
            "text/html": [
              "<pre style=\"white-space:pre;overflow-x:auto;line-height:normal;font-family:Menlo,'DejaVu Sans Mono',consolas,'Courier New',monospace\">\n",
              "</pre>\n"
            ]
          },
          "metadata": {}
        },
        {
          "output_type": "display_data",
          "data": {
            "text/plain": [
              "\n"
            ],
            "text/html": [
              "<pre style=\"white-space:pre;overflow-x:auto;line-height:normal;font-family:Menlo,'DejaVu Sans Mono',consolas,'Courier New',monospace\">\n",
              "</pre>\n"
            ]
          },
          "metadata": {}
        },
        {
          "output_type": "display_data",
          "data": {
            "text/plain": [],
            "text/html": [
              "<pre style=\"white-space:pre;overflow-x:auto;line-height:normal;font-family:Menlo,'DejaVu Sans Mono',consolas,'Courier New',monospace\"></pre>\n"
            ]
          },
          "metadata": {}
        },
        {
          "output_type": "display_data",
          "data": {
            "text/plain": [
              "\n"
            ],
            "text/html": [
              "<pre style=\"white-space:pre;overflow-x:auto;line-height:normal;font-family:Menlo,'DejaVu Sans Mono',consolas,'Courier New',monospace\">\n",
              "</pre>\n"
            ]
          },
          "metadata": {}
        },
        {
          "output_type": "stream",
          "name": "stderr",
          "text": [
            "\rProcessing images:  38%|███▊      | 19/50 [01:01<01:26,  2.80s/it]"
          ]
        },
        {
          "output_type": "stream",
          "name": "stdout",
          "text": [
            "Saved results for image maine\n",
            "Starting processing for image 19\n"
          ]
        },
        {
          "output_type": "display_data",
          "data": {
            "text/plain": [
              "Output()"
            ],
            "application/vnd.jupyter.widget-view+json": {
              "version_major": 2,
              "version_minor": 0,
              "model_id": "dbd341cf708042df9ab87604c7ad010f"
            }
          },
          "metadata": {}
        },
        {
          "output_type": "display_data",
          "data": {
            "text/plain": [
              "\n"
            ],
            "text/html": [
              "<pre style=\"white-space:pre;overflow-x:auto;line-height:normal;font-family:Menlo,'DejaVu Sans Mono',consolas,'Courier New',monospace\">\n",
              "</pre>\n"
            ]
          },
          "metadata": {}
        },
        {
          "output_type": "display_data",
          "data": {
            "text/plain": [
              "\n"
            ],
            "text/html": [
              "<pre style=\"white-space:pre;overflow-x:auto;line-height:normal;font-family:Menlo,'DejaVu Sans Mono',consolas,'Courier New',monospace\">\n",
              "</pre>\n"
            ]
          },
          "metadata": {}
        },
        {
          "output_type": "display_data",
          "data": {
            "text/plain": [],
            "text/html": [
              "<pre style=\"white-space:pre;overflow-x:auto;line-height:normal;font-family:Menlo,'DejaVu Sans Mono',consolas,'Courier New',monospace\"></pre>\n"
            ]
          },
          "metadata": {}
        },
        {
          "output_type": "display_data",
          "data": {
            "text/plain": [
              "\n"
            ],
            "text/html": [
              "<pre style=\"white-space:pre;overflow-x:auto;line-height:normal;font-family:Menlo,'DejaVu Sans Mono',consolas,'Courier New',monospace\">\n",
              "</pre>\n"
            ]
          },
          "metadata": {}
        },
        {
          "output_type": "stream",
          "name": "stderr",
          "text": [
            "\rProcessing images:  40%|████      | 20/50 [01:05<01:35,  3.19s/it]"
          ]
        },
        {
          "output_type": "stream",
          "name": "stdout",
          "text": [
            "Saved results for image maryland\n",
            "Starting processing for image 20\n"
          ]
        },
        {
          "output_type": "stream",
          "name": "stderr",
          "text": [
            "\rProcessing images:  42%|████▏     | 21/50 [01:05<01:09,  2.40s/it]"
          ]
        },
        {
          "output_type": "stream",
          "name": "stdout",
          "text": [
            "Saved results for image massachusetts\n",
            "Starting processing for image 21\n"
          ]
        },
        {
          "output_type": "display_data",
          "data": {
            "text/plain": [
              "Output()"
            ],
            "application/vnd.jupyter.widget-view+json": {
              "version_major": 2,
              "version_minor": 0,
              "model_id": "1e48bfa790c244119c8492dccae87b96"
            }
          },
          "metadata": {}
        },
        {
          "output_type": "display_data",
          "data": {
            "text/plain": [
              "\n"
            ],
            "text/html": [
              "<pre style=\"white-space:pre;overflow-x:auto;line-height:normal;font-family:Menlo,'DejaVu Sans Mono',consolas,'Courier New',monospace\">\n",
              "</pre>\n"
            ]
          },
          "metadata": {}
        },
        {
          "output_type": "display_data",
          "data": {
            "text/plain": [
              "\n"
            ],
            "text/html": [
              "<pre style=\"white-space:pre;overflow-x:auto;line-height:normal;font-family:Menlo,'DejaVu Sans Mono',consolas,'Courier New',monospace\">\n",
              "</pre>\n"
            ]
          },
          "metadata": {}
        },
        {
          "output_type": "display_data",
          "data": {
            "text/plain": [],
            "text/html": [
              "<pre style=\"white-space:pre;overflow-x:auto;line-height:normal;font-family:Menlo,'DejaVu Sans Mono',consolas,'Courier New',monospace\"></pre>\n"
            ]
          },
          "metadata": {}
        },
        {
          "output_type": "display_data",
          "data": {
            "text/plain": [
              "\n"
            ],
            "text/html": [
              "<pre style=\"white-space:pre;overflow-x:auto;line-height:normal;font-family:Menlo,'DejaVu Sans Mono',consolas,'Courier New',monospace\">\n",
              "</pre>\n"
            ]
          },
          "metadata": {}
        },
        {
          "output_type": "stream",
          "name": "stderr",
          "text": [
            "\rProcessing images:  44%|████▍     | 22/50 [01:09<01:18,  2.79s/it]"
          ]
        },
        {
          "output_type": "stream",
          "name": "stdout",
          "text": [
            "Saved results for image michigan\n",
            "Starting processing for image 22\n"
          ]
        },
        {
          "output_type": "display_data",
          "data": {
            "text/plain": [
              "Output()"
            ],
            "application/vnd.jupyter.widget-view+json": {
              "version_major": 2,
              "version_minor": 0,
              "model_id": "0fd1ce8608394e0081ccc10d41eccef0"
            }
          },
          "metadata": {}
        },
        {
          "output_type": "display_data",
          "data": {
            "text/plain": [
              "\n"
            ],
            "text/html": [
              "<pre style=\"white-space:pre;overflow-x:auto;line-height:normal;font-family:Menlo,'DejaVu Sans Mono',consolas,'Courier New',monospace\">\n",
              "</pre>\n"
            ]
          },
          "metadata": {}
        },
        {
          "output_type": "display_data",
          "data": {
            "text/plain": [
              "\n"
            ],
            "text/html": [
              "<pre style=\"white-space:pre;overflow-x:auto;line-height:normal;font-family:Menlo,'DejaVu Sans Mono',consolas,'Courier New',monospace\">\n",
              "</pre>\n"
            ]
          },
          "metadata": {}
        },
        {
          "output_type": "display_data",
          "data": {
            "text/plain": [],
            "text/html": [
              "<pre style=\"white-space:pre;overflow-x:auto;line-height:normal;font-family:Menlo,'DejaVu Sans Mono',consolas,'Courier New',monospace\"></pre>\n"
            ]
          },
          "metadata": {}
        },
        {
          "output_type": "display_data",
          "data": {
            "text/plain": [
              "\n"
            ],
            "text/html": [
              "<pre style=\"white-space:pre;overflow-x:auto;line-height:normal;font-family:Menlo,'DejaVu Sans Mono',consolas,'Courier New',monospace\">\n",
              "</pre>\n"
            ]
          },
          "metadata": {}
        },
        {
          "output_type": "stream",
          "name": "stderr",
          "text": [
            "\rProcessing images:  46%|████▌     | 23/50 [01:13<01:21,  3.02s/it]"
          ]
        },
        {
          "output_type": "stream",
          "name": "stdout",
          "text": [
            "Saved results for image minnesota\n",
            "Starting processing for image 23\n"
          ]
        },
        {
          "output_type": "display_data",
          "data": {
            "text/plain": [
              "Output()"
            ],
            "application/vnd.jupyter.widget-view+json": {
              "version_major": 2,
              "version_minor": 0,
              "model_id": "e6ce925ef8e742698a3e42765cb3aceb"
            }
          },
          "metadata": {}
        },
        {
          "output_type": "display_data",
          "data": {
            "text/plain": [
              "\n"
            ],
            "text/html": [
              "<pre style=\"white-space:pre;overflow-x:auto;line-height:normal;font-family:Menlo,'DejaVu Sans Mono',consolas,'Courier New',monospace\">\n",
              "</pre>\n"
            ]
          },
          "metadata": {}
        },
        {
          "output_type": "display_data",
          "data": {
            "text/plain": [
              "\n"
            ],
            "text/html": [
              "<pre style=\"white-space:pre;overflow-x:auto;line-height:normal;font-family:Menlo,'DejaVu Sans Mono',consolas,'Courier New',monospace\">\n",
              "</pre>\n"
            ]
          },
          "metadata": {}
        },
        {
          "output_type": "display_data",
          "data": {
            "text/plain": [],
            "text/html": [
              "<pre style=\"white-space:pre;overflow-x:auto;line-height:normal;font-family:Menlo,'DejaVu Sans Mono',consolas,'Courier New',monospace\"></pre>\n"
            ]
          },
          "metadata": {}
        },
        {
          "output_type": "display_data",
          "data": {
            "text/plain": [
              "\n"
            ],
            "text/html": [
              "<pre style=\"white-space:pre;overflow-x:auto;line-height:normal;font-family:Menlo,'DejaVu Sans Mono',consolas,'Courier New',monospace\">\n",
              "</pre>\n"
            ]
          },
          "metadata": {}
        },
        {
          "output_type": "stream",
          "name": "stderr",
          "text": [
            "\rProcessing images:  48%|████▊     | 24/50 [01:18<01:35,  3.66s/it]"
          ]
        },
        {
          "output_type": "stream",
          "name": "stdout",
          "text": [
            "Saved results for image mississippii\n",
            "Starting processing for image 24\n"
          ]
        },
        {
          "output_type": "stream",
          "name": "stderr",
          "text": [
            "\rProcessing images:  50%|█████     | 25/50 [01:20<01:19,  3.18s/it]"
          ]
        },
        {
          "output_type": "stream",
          "name": "stdout",
          "text": [
            "Saved results for image missouri\n",
            "Starting processing for image 25\n"
          ]
        },
        {
          "output_type": "display_data",
          "data": {
            "text/plain": [
              "Output()"
            ],
            "application/vnd.jupyter.widget-view+json": {
              "version_major": 2,
              "version_minor": 0,
              "model_id": "37fc0b19c5b84691abf465847e8a817a"
            }
          },
          "metadata": {}
        },
        {
          "output_type": "display_data",
          "data": {
            "text/plain": [
              "\n"
            ],
            "text/html": [
              "<pre style=\"white-space:pre;overflow-x:auto;line-height:normal;font-family:Menlo,'DejaVu Sans Mono',consolas,'Courier New',monospace\">\n",
              "</pre>\n"
            ]
          },
          "metadata": {}
        },
        {
          "output_type": "display_data",
          "data": {
            "text/plain": [
              "\n"
            ],
            "text/html": [
              "<pre style=\"white-space:pre;overflow-x:auto;line-height:normal;font-family:Menlo,'DejaVu Sans Mono',consolas,'Courier New',monospace\">\n",
              "</pre>\n"
            ]
          },
          "metadata": {}
        },
        {
          "output_type": "display_data",
          "data": {
            "text/plain": [],
            "text/html": [
              "<pre style=\"white-space:pre;overflow-x:auto;line-height:normal;font-family:Menlo,'DejaVu Sans Mono',consolas,'Courier New',monospace\"></pre>\n"
            ]
          },
          "metadata": {}
        },
        {
          "output_type": "display_data",
          "data": {
            "text/plain": [
              "\n"
            ],
            "text/html": [
              "<pre style=\"white-space:pre;overflow-x:auto;line-height:normal;font-family:Menlo,'DejaVu Sans Mono',consolas,'Courier New',monospace\">\n",
              "</pre>\n"
            ]
          },
          "metadata": {}
        },
        {
          "output_type": "stream",
          "name": "stderr",
          "text": [
            "\rProcessing images:  52%|█████▏    | 26/50 [01:23<01:13,  3.06s/it]"
          ]
        },
        {
          "output_type": "stream",
          "name": "stdout",
          "text": [
            "Saved results for image montana\n",
            "Starting processing for image 26\n"
          ]
        },
        {
          "output_type": "display_data",
          "data": {
            "text/plain": [
              "Output()"
            ],
            "application/vnd.jupyter.widget-view+json": {
              "version_major": 2,
              "version_minor": 0,
              "model_id": "675de4deffc34912a2f0ff3c53794840"
            }
          },
          "metadata": {}
        },
        {
          "output_type": "display_data",
          "data": {
            "text/plain": [
              "\n"
            ],
            "text/html": [
              "<pre style=\"white-space:pre;overflow-x:auto;line-height:normal;font-family:Menlo,'DejaVu Sans Mono',consolas,'Courier New',monospace\">\n",
              "</pre>\n"
            ]
          },
          "metadata": {}
        },
        {
          "output_type": "display_data",
          "data": {
            "text/plain": [
              "\n"
            ],
            "text/html": [
              "<pre style=\"white-space:pre;overflow-x:auto;line-height:normal;font-family:Menlo,'DejaVu Sans Mono',consolas,'Courier New',monospace\">\n",
              "</pre>\n"
            ]
          },
          "metadata": {}
        },
        {
          "output_type": "display_data",
          "data": {
            "text/plain": [],
            "text/html": [
              "<pre style=\"white-space:pre;overflow-x:auto;line-height:normal;font-family:Menlo,'DejaVu Sans Mono',consolas,'Courier New',monospace\"></pre>\n"
            ]
          },
          "metadata": {}
        },
        {
          "output_type": "display_data",
          "data": {
            "text/plain": [
              "\n"
            ],
            "text/html": [
              "<pre style=\"white-space:pre;overflow-x:auto;line-height:normal;font-family:Menlo,'DejaVu Sans Mono',consolas,'Courier New',monospace\">\n",
              "</pre>\n"
            ]
          },
          "metadata": {}
        },
        {
          "output_type": "stream",
          "name": "stderr",
          "text": [
            "\rProcessing images:  54%|█████▍    | 27/50 [01:27<01:16,  3.31s/it]"
          ]
        },
        {
          "output_type": "stream",
          "name": "stdout",
          "text": [
            "Saved results for image nebraska\n",
            "Starting processing for image 27\n"
          ]
        },
        {
          "output_type": "display_data",
          "data": {
            "text/plain": [
              "Output()"
            ],
            "application/vnd.jupyter.widget-view+json": {
              "version_major": 2,
              "version_minor": 0,
              "model_id": "89c979fb73174e0583e4256d19670669"
            }
          },
          "metadata": {}
        },
        {
          "output_type": "display_data",
          "data": {
            "text/plain": [
              "\n"
            ],
            "text/html": [
              "<pre style=\"white-space:pre;overflow-x:auto;line-height:normal;font-family:Menlo,'DejaVu Sans Mono',consolas,'Courier New',monospace\">\n",
              "</pre>\n"
            ]
          },
          "metadata": {}
        },
        {
          "output_type": "display_data",
          "data": {
            "text/plain": [
              "\n"
            ],
            "text/html": [
              "<pre style=\"white-space:pre;overflow-x:auto;line-height:normal;font-family:Menlo,'DejaVu Sans Mono',consolas,'Courier New',monospace\">\n",
              "</pre>\n"
            ]
          },
          "metadata": {}
        },
        {
          "output_type": "display_data",
          "data": {
            "text/plain": [],
            "text/html": [
              "<pre style=\"white-space:pre;overflow-x:auto;line-height:normal;font-family:Menlo,'DejaVu Sans Mono',consolas,'Courier New',monospace\"></pre>\n"
            ]
          },
          "metadata": {}
        },
        {
          "output_type": "display_data",
          "data": {
            "text/plain": [
              "\n"
            ],
            "text/html": [
              "<pre style=\"white-space:pre;overflow-x:auto;line-height:normal;font-family:Menlo,'DejaVu Sans Mono',consolas,'Courier New',monospace\">\n",
              "</pre>\n"
            ]
          },
          "metadata": {}
        },
        {
          "output_type": "stream",
          "name": "stderr",
          "text": [
            "\rProcessing images:  56%|█████▌    | 28/50 [01:31<01:19,  3.63s/it]"
          ]
        },
        {
          "output_type": "stream",
          "name": "stdout",
          "text": [
            "Saved results for image nevada\n",
            "Starting processing for image 28\n"
          ]
        },
        {
          "output_type": "display_data",
          "data": {
            "text/plain": [
              "Output()"
            ],
            "application/vnd.jupyter.widget-view+json": {
              "version_major": 2,
              "version_minor": 0,
              "model_id": "5326a1325133433590929c2abdda4908"
            }
          },
          "metadata": {}
        },
        {
          "output_type": "display_data",
          "data": {
            "text/plain": [
              "\n"
            ],
            "text/html": [
              "<pre style=\"white-space:pre;overflow-x:auto;line-height:normal;font-family:Menlo,'DejaVu Sans Mono',consolas,'Courier New',monospace\">\n",
              "</pre>\n"
            ]
          },
          "metadata": {}
        },
        {
          "output_type": "display_data",
          "data": {
            "text/plain": [
              "\n"
            ],
            "text/html": [
              "<pre style=\"white-space:pre;overflow-x:auto;line-height:normal;font-family:Menlo,'DejaVu Sans Mono',consolas,'Courier New',monospace\">\n",
              "</pre>\n"
            ]
          },
          "metadata": {}
        },
        {
          "output_type": "display_data",
          "data": {
            "text/plain": [],
            "text/html": [
              "<pre style=\"white-space:pre;overflow-x:auto;line-height:normal;font-family:Menlo,'DejaVu Sans Mono',consolas,'Courier New',monospace\"></pre>\n"
            ]
          },
          "metadata": {}
        },
        {
          "output_type": "display_data",
          "data": {
            "text/plain": [
              "\n"
            ],
            "text/html": [
              "<pre style=\"white-space:pre;overflow-x:auto;line-height:normal;font-family:Menlo,'DejaVu Sans Mono',consolas,'Courier New',monospace\">\n",
              "</pre>\n"
            ]
          },
          "metadata": {}
        },
        {
          "output_type": "stream",
          "name": "stderr",
          "text": [
            "\rProcessing images:  58%|█████▊    | 29/50 [01:35<01:20,  3.82s/it]"
          ]
        },
        {
          "output_type": "stream",
          "name": "stdout",
          "text": [
            "Saved results for image new hampshire\n",
            "Starting processing for image 29\n"
          ]
        },
        {
          "output_type": "display_data",
          "data": {
            "text/plain": [
              "Output()"
            ],
            "application/vnd.jupyter.widget-view+json": {
              "version_major": 2,
              "version_minor": 0,
              "model_id": "a22054210c6a4bfcb776ab4d6b69816e"
            }
          },
          "metadata": {}
        },
        {
          "output_type": "display_data",
          "data": {
            "text/plain": [
              "\n"
            ],
            "text/html": [
              "<pre style=\"white-space:pre;overflow-x:auto;line-height:normal;font-family:Menlo,'DejaVu Sans Mono',consolas,'Courier New',monospace\">\n",
              "</pre>\n"
            ]
          },
          "metadata": {}
        },
        {
          "output_type": "display_data",
          "data": {
            "text/plain": [
              "\n"
            ],
            "text/html": [
              "<pre style=\"white-space:pre;overflow-x:auto;line-height:normal;font-family:Menlo,'DejaVu Sans Mono',consolas,'Courier New',monospace\">\n",
              "</pre>\n"
            ]
          },
          "metadata": {}
        },
        {
          "output_type": "display_data",
          "data": {
            "text/plain": [],
            "text/html": [
              "<pre style=\"white-space:pre;overflow-x:auto;line-height:normal;font-family:Menlo,'DejaVu Sans Mono',consolas,'Courier New',monospace\"></pre>\n"
            ]
          },
          "metadata": {}
        },
        {
          "output_type": "display_data",
          "data": {
            "text/plain": [
              "\n"
            ],
            "text/html": [
              "<pre style=\"white-space:pre;overflow-x:auto;line-height:normal;font-family:Menlo,'DejaVu Sans Mono',consolas,'Courier New',monospace\">\n",
              "</pre>\n"
            ]
          },
          "metadata": {}
        },
        {
          "output_type": "stream",
          "name": "stderr",
          "text": [
            "\rProcessing images:  60%|██████    | 30/50 [01:38<01:12,  3.62s/it]"
          ]
        },
        {
          "output_type": "stream",
          "name": "stdout",
          "text": [
            "Saved results for image new jersey\n",
            "Starting processing for image 30\n"
          ]
        },
        {
          "output_type": "display_data",
          "data": {
            "text/plain": [
              "Output()"
            ],
            "application/vnd.jupyter.widget-view+json": {
              "version_major": 2,
              "version_minor": 0,
              "model_id": "d87ca9d2b7804719af4ab34d92b69224"
            }
          },
          "metadata": {}
        },
        {
          "output_type": "display_data",
          "data": {
            "text/plain": [
              "\n"
            ],
            "text/html": [
              "<pre style=\"white-space:pre;overflow-x:auto;line-height:normal;font-family:Menlo,'DejaVu Sans Mono',consolas,'Courier New',monospace\">\n",
              "</pre>\n"
            ]
          },
          "metadata": {}
        },
        {
          "output_type": "display_data",
          "data": {
            "text/plain": [
              "\n"
            ],
            "text/html": [
              "<pre style=\"white-space:pre;overflow-x:auto;line-height:normal;font-family:Menlo,'DejaVu Sans Mono',consolas,'Courier New',monospace\">\n",
              "</pre>\n"
            ]
          },
          "metadata": {}
        },
        {
          "output_type": "display_data",
          "data": {
            "text/plain": [],
            "text/html": [
              "<pre style=\"white-space:pre;overflow-x:auto;line-height:normal;font-family:Menlo,'DejaVu Sans Mono',consolas,'Courier New',monospace\"></pre>\n"
            ]
          },
          "metadata": {}
        },
        {
          "output_type": "display_data",
          "data": {
            "text/plain": [
              "\n"
            ],
            "text/html": [
              "<pre style=\"white-space:pre;overflow-x:auto;line-height:normal;font-family:Menlo,'DejaVu Sans Mono',consolas,'Courier New',monospace\">\n",
              "</pre>\n"
            ]
          },
          "metadata": {}
        },
        {
          "output_type": "stream",
          "name": "stderr",
          "text": [
            "\rProcessing images:  62%|██████▏   | 31/50 [01:45<01:25,  4.51s/it]"
          ]
        },
        {
          "output_type": "stream",
          "name": "stdout",
          "text": [
            "Saved results for image new mexico\n",
            "Starting processing for image 31\n"
          ]
        },
        {
          "output_type": "display_data",
          "data": {
            "text/plain": [
              "Output()"
            ],
            "application/vnd.jupyter.widget-view+json": {
              "version_major": 2,
              "version_minor": 0,
              "model_id": "4362db2e8f024d4da889d646a284b2fe"
            }
          },
          "metadata": {}
        },
        {
          "output_type": "display_data",
          "data": {
            "text/plain": [
              "\n"
            ],
            "text/html": [
              "<pre style=\"white-space:pre;overflow-x:auto;line-height:normal;font-family:Menlo,'DejaVu Sans Mono',consolas,'Courier New',monospace\">\n",
              "</pre>\n"
            ]
          },
          "metadata": {}
        },
        {
          "output_type": "display_data",
          "data": {
            "text/plain": [
              "\n"
            ],
            "text/html": [
              "<pre style=\"white-space:pre;overflow-x:auto;line-height:normal;font-family:Menlo,'DejaVu Sans Mono',consolas,'Courier New',monospace\">\n",
              "</pre>\n"
            ]
          },
          "metadata": {}
        },
        {
          "output_type": "display_data",
          "data": {
            "text/plain": [],
            "text/html": [
              "<pre style=\"white-space:pre;overflow-x:auto;line-height:normal;font-family:Menlo,'DejaVu Sans Mono',consolas,'Courier New',monospace\"></pre>\n"
            ]
          },
          "metadata": {}
        },
        {
          "output_type": "display_data",
          "data": {
            "text/plain": [
              "\n"
            ],
            "text/html": [
              "<pre style=\"white-space:pre;overflow-x:auto;line-height:normal;font-family:Menlo,'DejaVu Sans Mono',consolas,'Courier New',monospace\">\n",
              "</pre>\n"
            ]
          },
          "metadata": {}
        },
        {
          "output_type": "stream",
          "name": "stderr",
          "text": [
            "\rProcessing images:  64%|██████▍   | 32/50 [01:50<01:21,  4.54s/it]"
          ]
        },
        {
          "output_type": "stream",
          "name": "stdout",
          "text": [
            "Saved results for image new york\n",
            "Starting processing for image 32\n"
          ]
        },
        {
          "output_type": "display_data",
          "data": {
            "text/plain": [
              "Output()"
            ],
            "application/vnd.jupyter.widget-view+json": {
              "version_major": 2,
              "version_minor": 0,
              "model_id": "6815f4fa5a314aebb910f33d59c33338"
            }
          },
          "metadata": {}
        },
        {
          "output_type": "display_data",
          "data": {
            "text/plain": [
              "\n"
            ],
            "text/html": [
              "<pre style=\"white-space:pre;overflow-x:auto;line-height:normal;font-family:Menlo,'DejaVu Sans Mono',consolas,'Courier New',monospace\">\n",
              "</pre>\n"
            ]
          },
          "metadata": {}
        },
        {
          "output_type": "display_data",
          "data": {
            "text/plain": [
              "\n"
            ],
            "text/html": [
              "<pre style=\"white-space:pre;overflow-x:auto;line-height:normal;font-family:Menlo,'DejaVu Sans Mono',consolas,'Courier New',monospace\">\n",
              "</pre>\n"
            ]
          },
          "metadata": {}
        },
        {
          "output_type": "display_data",
          "data": {
            "text/plain": [],
            "text/html": [
              "<pre style=\"white-space:pre;overflow-x:auto;line-height:normal;font-family:Menlo,'DejaVu Sans Mono',consolas,'Courier New',monospace\"></pre>\n"
            ]
          },
          "metadata": {}
        },
        {
          "output_type": "display_data",
          "data": {
            "text/plain": [
              "\n"
            ],
            "text/html": [
              "<pre style=\"white-space:pre;overflow-x:auto;line-height:normal;font-family:Menlo,'DejaVu Sans Mono',consolas,'Courier New',monospace\">\n",
              "</pre>\n"
            ]
          },
          "metadata": {}
        },
        {
          "output_type": "stream",
          "name": "stderr",
          "text": [
            "\rProcessing images:  66%|██████▌   | 33/50 [01:54<01:17,  4.58s/it]"
          ]
        },
        {
          "output_type": "stream",
          "name": "stdout",
          "text": [
            "Saved results for image north carolina\n",
            "Starting processing for image 33\n"
          ]
        },
        {
          "output_type": "display_data",
          "data": {
            "text/plain": [
              "Output()"
            ],
            "application/vnd.jupyter.widget-view+json": {
              "version_major": 2,
              "version_minor": 0,
              "model_id": "f00884e77234414497c1bcaff1f704b6"
            }
          },
          "metadata": {}
        },
        {
          "output_type": "display_data",
          "data": {
            "text/plain": [
              "\n"
            ],
            "text/html": [
              "<pre style=\"white-space:pre;overflow-x:auto;line-height:normal;font-family:Menlo,'DejaVu Sans Mono',consolas,'Courier New',monospace\">\n",
              "</pre>\n"
            ]
          },
          "metadata": {}
        },
        {
          "output_type": "display_data",
          "data": {
            "text/plain": [
              "\n"
            ],
            "text/html": [
              "<pre style=\"white-space:pre;overflow-x:auto;line-height:normal;font-family:Menlo,'DejaVu Sans Mono',consolas,'Courier New',monospace\">\n",
              "</pre>\n"
            ]
          },
          "metadata": {}
        },
        {
          "output_type": "display_data",
          "data": {
            "text/plain": [],
            "text/html": [
              "<pre style=\"white-space:pre;overflow-x:auto;line-height:normal;font-family:Menlo,'DejaVu Sans Mono',consolas,'Courier New',monospace\"></pre>\n"
            ]
          },
          "metadata": {}
        },
        {
          "output_type": "display_data",
          "data": {
            "text/plain": [
              "\n"
            ],
            "text/html": [
              "<pre style=\"white-space:pre;overflow-x:auto;line-height:normal;font-family:Menlo,'DejaVu Sans Mono',consolas,'Courier New',monospace\">\n",
              "</pre>\n"
            ]
          },
          "metadata": {}
        },
        {
          "output_type": "stream",
          "name": "stderr",
          "text": [
            "\rProcessing images:  68%|██████▊   | 34/50 [02:00<01:20,  5.05s/it]"
          ]
        },
        {
          "output_type": "stream",
          "name": "stdout",
          "text": [
            "Saved results for image north dakota\n",
            "Starting processing for image 34\n"
          ]
        },
        {
          "output_type": "display_data",
          "data": {
            "text/plain": [
              "Output()"
            ],
            "application/vnd.jupyter.widget-view+json": {
              "version_major": 2,
              "version_minor": 0,
              "model_id": "8a42c91e006040c3b499a07428d01842"
            }
          },
          "metadata": {}
        },
        {
          "output_type": "display_data",
          "data": {
            "text/plain": [
              "\n"
            ],
            "text/html": [
              "<pre style=\"white-space:pre;overflow-x:auto;line-height:normal;font-family:Menlo,'DejaVu Sans Mono',consolas,'Courier New',monospace\">\n",
              "</pre>\n"
            ]
          },
          "metadata": {}
        },
        {
          "output_type": "display_data",
          "data": {
            "text/plain": [
              "\n"
            ],
            "text/html": [
              "<pre style=\"white-space:pre;overflow-x:auto;line-height:normal;font-family:Menlo,'DejaVu Sans Mono',consolas,'Courier New',monospace\">\n",
              "</pre>\n"
            ]
          },
          "metadata": {}
        },
        {
          "output_type": "display_data",
          "data": {
            "text/plain": [],
            "text/html": [
              "<pre style=\"white-space:pre;overflow-x:auto;line-height:normal;font-family:Menlo,'DejaVu Sans Mono',consolas,'Courier New',monospace\"></pre>\n"
            ]
          },
          "metadata": {}
        },
        {
          "output_type": "display_data",
          "data": {
            "text/plain": [
              "\n"
            ],
            "text/html": [
              "<pre style=\"white-space:pre;overflow-x:auto;line-height:normal;font-family:Menlo,'DejaVu Sans Mono',consolas,'Courier New',monospace\">\n",
              "</pre>\n"
            ]
          },
          "metadata": {}
        },
        {
          "output_type": "stream",
          "name": "stderr",
          "text": [
            "\rProcessing images:  70%|███████   | 35/50 [02:04<01:08,  4.60s/it]"
          ]
        },
        {
          "output_type": "stream",
          "name": "stdout",
          "text": [
            "Saved results for image ohio\n",
            "Starting processing for image 35\n"
          ]
        },
        {
          "output_type": "display_data",
          "data": {
            "text/plain": [
              "Output()"
            ],
            "application/vnd.jupyter.widget-view+json": {
              "version_major": 2,
              "version_minor": 0,
              "model_id": "01b2bbd4979b49ed83342859cc5efcf5"
            }
          },
          "metadata": {}
        },
        {
          "output_type": "display_data",
          "data": {
            "text/plain": [
              "\n"
            ],
            "text/html": [
              "<pre style=\"white-space:pre;overflow-x:auto;line-height:normal;font-family:Menlo,'DejaVu Sans Mono',consolas,'Courier New',monospace\">\n",
              "</pre>\n"
            ]
          },
          "metadata": {}
        },
        {
          "output_type": "display_data",
          "data": {
            "text/plain": [
              "\n"
            ],
            "text/html": [
              "<pre style=\"white-space:pre;overflow-x:auto;line-height:normal;font-family:Menlo,'DejaVu Sans Mono',consolas,'Courier New',monospace\">\n",
              "</pre>\n"
            ]
          },
          "metadata": {}
        },
        {
          "output_type": "display_data",
          "data": {
            "text/plain": [],
            "text/html": [
              "<pre style=\"white-space:pre;overflow-x:auto;line-height:normal;font-family:Menlo,'DejaVu Sans Mono',consolas,'Courier New',monospace\"></pre>\n"
            ]
          },
          "metadata": {}
        },
        {
          "output_type": "display_data",
          "data": {
            "text/plain": [
              "\n"
            ],
            "text/html": [
              "<pre style=\"white-space:pre;overflow-x:auto;line-height:normal;font-family:Menlo,'DejaVu Sans Mono',consolas,'Courier New',monospace\">\n",
              "</pre>\n"
            ]
          },
          "metadata": {}
        },
        {
          "output_type": "stream",
          "name": "stderr",
          "text": [
            "\rProcessing images:  72%|███████▏  | 36/50 [02:08<01:01,  4.39s/it]"
          ]
        },
        {
          "output_type": "stream",
          "name": "stdout",
          "text": [
            "Saved results for image oklahoma\n",
            "Starting processing for image 36\n"
          ]
        },
        {
          "output_type": "stream",
          "name": "stderr",
          "text": [
            "\rProcessing images:  74%|███████▍  | 37/50 [02:08<00:41,  3.23s/it]"
          ]
        },
        {
          "output_type": "stream",
          "name": "stdout",
          "text": [
            "Saved results for image oregon\n",
            "Starting processing for image 37\n"
          ]
        },
        {
          "output_type": "display_data",
          "data": {
            "text/plain": [
              "Output()"
            ],
            "application/vnd.jupyter.widget-view+json": {
              "version_major": 2,
              "version_minor": 0,
              "model_id": "210ecf8e2af3493ca97d01be72a269a5"
            }
          },
          "metadata": {}
        },
        {
          "output_type": "display_data",
          "data": {
            "text/plain": [
              "\n"
            ],
            "text/html": [
              "<pre style=\"white-space:pre;overflow-x:auto;line-height:normal;font-family:Menlo,'DejaVu Sans Mono',consolas,'Courier New',monospace\">\n",
              "</pre>\n"
            ]
          },
          "metadata": {}
        },
        {
          "output_type": "display_data",
          "data": {
            "text/plain": [
              "\n"
            ],
            "text/html": [
              "<pre style=\"white-space:pre;overflow-x:auto;line-height:normal;font-family:Menlo,'DejaVu Sans Mono',consolas,'Courier New',monospace\">\n",
              "</pre>\n"
            ]
          },
          "metadata": {}
        },
        {
          "output_type": "display_data",
          "data": {
            "text/plain": [],
            "text/html": [
              "<pre style=\"white-space:pre;overflow-x:auto;line-height:normal;font-family:Menlo,'DejaVu Sans Mono',consolas,'Courier New',monospace\"></pre>\n"
            ]
          },
          "metadata": {}
        },
        {
          "output_type": "display_data",
          "data": {
            "text/plain": [
              "\n"
            ],
            "text/html": [
              "<pre style=\"white-space:pre;overflow-x:auto;line-height:normal;font-family:Menlo,'DejaVu Sans Mono',consolas,'Courier New',monospace\">\n",
              "</pre>\n"
            ]
          },
          "metadata": {}
        },
        {
          "output_type": "stream",
          "name": "stderr",
          "text": [
            "\rProcessing images:  76%|███████▌  | 38/50 [02:12<00:41,  3.43s/it]"
          ]
        },
        {
          "output_type": "stream",
          "name": "stdout",
          "text": [
            "Saved results for image pennsylvania\n",
            "Starting processing for image 38\n"
          ]
        },
        {
          "output_type": "display_data",
          "data": {
            "text/plain": [
              "Output()"
            ],
            "application/vnd.jupyter.widget-view+json": {
              "version_major": 2,
              "version_minor": 0,
              "model_id": "9094654ed8ae4dce9b5dabb9e2c3fc54"
            }
          },
          "metadata": {}
        },
        {
          "output_type": "display_data",
          "data": {
            "text/plain": [
              "\n"
            ],
            "text/html": [
              "<pre style=\"white-space:pre;overflow-x:auto;line-height:normal;font-family:Menlo,'DejaVu Sans Mono',consolas,'Courier New',monospace\">\n",
              "</pre>\n"
            ]
          },
          "metadata": {}
        },
        {
          "output_type": "display_data",
          "data": {
            "text/plain": [
              "\n"
            ],
            "text/html": [
              "<pre style=\"white-space:pre;overflow-x:auto;line-height:normal;font-family:Menlo,'DejaVu Sans Mono',consolas,'Courier New',monospace\">\n",
              "</pre>\n"
            ]
          },
          "metadata": {}
        },
        {
          "output_type": "display_data",
          "data": {
            "text/plain": [],
            "text/html": [
              "<pre style=\"white-space:pre;overflow-x:auto;line-height:normal;font-family:Menlo,'DejaVu Sans Mono',consolas,'Courier New',monospace\"></pre>\n"
            ]
          },
          "metadata": {}
        },
        {
          "output_type": "display_data",
          "data": {
            "text/plain": [
              "\n"
            ],
            "text/html": [
              "<pre style=\"white-space:pre;overflow-x:auto;line-height:normal;font-family:Menlo,'DejaVu Sans Mono',consolas,'Courier New',monospace\">\n",
              "</pre>\n"
            ]
          },
          "metadata": {}
        },
        {
          "output_type": "stream",
          "name": "stderr",
          "text": [
            "\rProcessing images:  78%|███████▊  | 39/50 [02:16<00:39,  3.57s/it]"
          ]
        },
        {
          "output_type": "stream",
          "name": "stdout",
          "text": [
            "Saved results for image rhodeisland\n",
            "Starting processing for image 39\n"
          ]
        },
        {
          "output_type": "display_data",
          "data": {
            "text/plain": [
              "Output()"
            ],
            "application/vnd.jupyter.widget-view+json": {
              "version_major": 2,
              "version_minor": 0,
              "model_id": "b748d353604c4a268260bec3b6e06dc7"
            }
          },
          "metadata": {}
        },
        {
          "output_type": "display_data",
          "data": {
            "text/plain": [
              "\n"
            ],
            "text/html": [
              "<pre style=\"white-space:pre;overflow-x:auto;line-height:normal;font-family:Menlo,'DejaVu Sans Mono',consolas,'Courier New',monospace\">\n",
              "</pre>\n"
            ]
          },
          "metadata": {}
        },
        {
          "output_type": "display_data",
          "data": {
            "text/plain": [
              "\n"
            ],
            "text/html": [
              "<pre style=\"white-space:pre;overflow-x:auto;line-height:normal;font-family:Menlo,'DejaVu Sans Mono',consolas,'Courier New',monospace\">\n",
              "</pre>\n"
            ]
          },
          "metadata": {}
        },
        {
          "output_type": "display_data",
          "data": {
            "text/plain": [],
            "text/html": [
              "<pre style=\"white-space:pre;overflow-x:auto;line-height:normal;font-family:Menlo,'DejaVu Sans Mono',consolas,'Courier New',monospace\"></pre>\n"
            ]
          },
          "metadata": {}
        },
        {
          "output_type": "display_data",
          "data": {
            "text/plain": [
              "\n"
            ],
            "text/html": [
              "<pre style=\"white-space:pre;overflow-x:auto;line-height:normal;font-family:Menlo,'DejaVu Sans Mono',consolas,'Courier New',monospace\">\n",
              "</pre>\n"
            ]
          },
          "metadata": {}
        },
        {
          "output_type": "stream",
          "name": "stderr",
          "text": [
            "\rProcessing images:  80%|████████  | 40/50 [02:18<00:31,  3.15s/it]"
          ]
        },
        {
          "output_type": "stream",
          "name": "stdout",
          "text": [
            "Saved results for image south carolina\n",
            "Starting processing for image 40\n"
          ]
        },
        {
          "output_type": "display_data",
          "data": {
            "text/plain": [
              "Output()"
            ],
            "application/vnd.jupyter.widget-view+json": {
              "version_major": 2,
              "version_minor": 0,
              "model_id": "9a168efd91ac43cc8eada3a59f88edc8"
            }
          },
          "metadata": {}
        },
        {
          "output_type": "display_data",
          "data": {
            "text/plain": [
              "\n"
            ],
            "text/html": [
              "<pre style=\"white-space:pre;overflow-x:auto;line-height:normal;font-family:Menlo,'DejaVu Sans Mono',consolas,'Courier New',monospace\">\n",
              "</pre>\n"
            ]
          },
          "metadata": {}
        },
        {
          "output_type": "display_data",
          "data": {
            "text/plain": [
              "\n"
            ],
            "text/html": [
              "<pre style=\"white-space:pre;overflow-x:auto;line-height:normal;font-family:Menlo,'DejaVu Sans Mono',consolas,'Courier New',monospace\">\n",
              "</pre>\n"
            ]
          },
          "metadata": {}
        },
        {
          "output_type": "display_data",
          "data": {
            "text/plain": [],
            "text/html": [
              "<pre style=\"white-space:pre;overflow-x:auto;line-height:normal;font-family:Menlo,'DejaVu Sans Mono',consolas,'Courier New',monospace\"></pre>\n"
            ]
          },
          "metadata": {}
        },
        {
          "output_type": "display_data",
          "data": {
            "text/plain": [
              "\n"
            ],
            "text/html": [
              "<pre style=\"white-space:pre;overflow-x:auto;line-height:normal;font-family:Menlo,'DejaVu Sans Mono',consolas,'Courier New',monospace\">\n",
              "</pre>\n"
            ]
          },
          "metadata": {}
        },
        {
          "output_type": "stream",
          "name": "stderr",
          "text": [
            "\rProcessing images:  82%|████████▏ | 41/50 [02:22<00:30,  3.40s/it]"
          ]
        },
        {
          "output_type": "stream",
          "name": "stdout",
          "text": [
            "Saved results for image south dakota\n",
            "Starting processing for image 41\n"
          ]
        },
        {
          "output_type": "stream",
          "name": "stderr",
          "text": [
            "\rProcessing images:  84%|████████▍ | 42/50 [02:24<00:23,  2.93s/it]"
          ]
        },
        {
          "output_type": "stream",
          "name": "stdout",
          "text": [
            "Saved results for image tennessee\n",
            "Starting processing for image 42\n"
          ]
        },
        {
          "output_type": "display_data",
          "data": {
            "text/plain": [
              "Output()"
            ],
            "application/vnd.jupyter.widget-view+json": {
              "version_major": 2,
              "version_minor": 0,
              "model_id": "f99a8b39d9974f5bbeb6219551f4a630"
            }
          },
          "metadata": {}
        },
        {
          "output_type": "display_data",
          "data": {
            "text/plain": [
              "\n"
            ],
            "text/html": [
              "<pre style=\"white-space:pre;overflow-x:auto;line-height:normal;font-family:Menlo,'DejaVu Sans Mono',consolas,'Courier New',monospace\">\n",
              "</pre>\n"
            ]
          },
          "metadata": {}
        },
        {
          "output_type": "display_data",
          "data": {
            "text/plain": [
              "\n"
            ],
            "text/html": [
              "<pre style=\"white-space:pre;overflow-x:auto;line-height:normal;font-family:Menlo,'DejaVu Sans Mono',consolas,'Courier New',monospace\">\n",
              "</pre>\n"
            ]
          },
          "metadata": {}
        },
        {
          "output_type": "display_data",
          "data": {
            "text/plain": [],
            "text/html": [
              "<pre style=\"white-space:pre;overflow-x:auto;line-height:normal;font-family:Menlo,'DejaVu Sans Mono',consolas,'Courier New',monospace\"></pre>\n"
            ]
          },
          "metadata": {}
        },
        {
          "output_type": "display_data",
          "data": {
            "text/plain": [
              "\n"
            ],
            "text/html": [
              "<pre style=\"white-space:pre;overflow-x:auto;line-height:normal;font-family:Menlo,'DejaVu Sans Mono',consolas,'Courier New',monospace\">\n",
              "</pre>\n"
            ]
          },
          "metadata": {}
        },
        {
          "output_type": "stream",
          "name": "stderr",
          "text": [
            "\rProcessing images:  86%|████████▌ | 43/50 [02:26<00:18,  2.66s/it]"
          ]
        },
        {
          "output_type": "stream",
          "name": "stdout",
          "text": [
            "Saved results for image texas\n",
            "Starting processing for image 43\n"
          ]
        },
        {
          "output_type": "display_data",
          "data": {
            "text/plain": [
              "Output()"
            ],
            "application/vnd.jupyter.widget-view+json": {
              "version_major": 2,
              "version_minor": 0,
              "model_id": "7b6f21cf56c542a9a82ec40ecf3e6ef0"
            }
          },
          "metadata": {}
        },
        {
          "output_type": "display_data",
          "data": {
            "text/plain": [
              "\n"
            ],
            "text/html": [
              "<pre style=\"white-space:pre;overflow-x:auto;line-height:normal;font-family:Menlo,'DejaVu Sans Mono',consolas,'Courier New',monospace\">\n",
              "</pre>\n"
            ]
          },
          "metadata": {}
        },
        {
          "output_type": "display_data",
          "data": {
            "text/plain": [
              "\n"
            ],
            "text/html": [
              "<pre style=\"white-space:pre;overflow-x:auto;line-height:normal;font-family:Menlo,'DejaVu Sans Mono',consolas,'Courier New',monospace\">\n",
              "</pre>\n"
            ]
          },
          "metadata": {}
        },
        {
          "output_type": "display_data",
          "data": {
            "text/plain": [],
            "text/html": [
              "<pre style=\"white-space:pre;overflow-x:auto;line-height:normal;font-family:Menlo,'DejaVu Sans Mono',consolas,'Courier New',monospace\"></pre>\n"
            ]
          },
          "metadata": {}
        },
        {
          "output_type": "display_data",
          "data": {
            "text/plain": [
              "\n"
            ],
            "text/html": [
              "<pre style=\"white-space:pre;overflow-x:auto;line-height:normal;font-family:Menlo,'DejaVu Sans Mono',consolas,'Courier New',monospace\">\n",
              "</pre>\n"
            ]
          },
          "metadata": {}
        },
        {
          "output_type": "stream",
          "name": "stderr",
          "text": [
            "\rProcessing images:  88%|████████▊ | 44/50 [02:29<00:17,  2.85s/it]"
          ]
        },
        {
          "output_type": "stream",
          "name": "stdout",
          "text": [
            "Saved results for image utah\n",
            "Starting processing for image 44\n"
          ]
        },
        {
          "output_type": "stream",
          "name": "stderr",
          "text": [
            "\rProcessing images:  90%|█████████ | 45/50 [02:30<00:10,  2.11s/it]"
          ]
        },
        {
          "output_type": "stream",
          "name": "stdout",
          "text": [
            "Saved results for image vermont\n",
            "Starting processing for image 45\n"
          ]
        },
        {
          "output_type": "display_data",
          "data": {
            "text/plain": [
              "Output()"
            ],
            "application/vnd.jupyter.widget-view+json": {
              "version_major": 2,
              "version_minor": 0,
              "model_id": "b8889a73935f48cfb49d55fa3ae024ec"
            }
          },
          "metadata": {}
        },
        {
          "output_type": "display_data",
          "data": {
            "text/plain": [
              "\n"
            ],
            "text/html": [
              "<pre style=\"white-space:pre;overflow-x:auto;line-height:normal;font-family:Menlo,'DejaVu Sans Mono',consolas,'Courier New',monospace\">\n",
              "</pre>\n"
            ]
          },
          "metadata": {}
        },
        {
          "output_type": "display_data",
          "data": {
            "text/plain": [
              "\n"
            ],
            "text/html": [
              "<pre style=\"white-space:pre;overflow-x:auto;line-height:normal;font-family:Menlo,'DejaVu Sans Mono',consolas,'Courier New',monospace\">\n",
              "</pre>\n"
            ]
          },
          "metadata": {}
        },
        {
          "output_type": "display_data",
          "data": {
            "text/plain": [],
            "text/html": [
              "<pre style=\"white-space:pre;overflow-x:auto;line-height:normal;font-family:Menlo,'DejaVu Sans Mono',consolas,'Courier New',monospace\"></pre>\n"
            ]
          },
          "metadata": {}
        },
        {
          "output_type": "display_data",
          "data": {
            "text/plain": [
              "\n"
            ],
            "text/html": [
              "<pre style=\"white-space:pre;overflow-x:auto;line-height:normal;font-family:Menlo,'DejaVu Sans Mono',consolas,'Courier New',monospace\">\n",
              "</pre>\n"
            ]
          },
          "metadata": {}
        },
        {
          "output_type": "stream",
          "name": "stderr",
          "text": [
            "\rProcessing images:  92%|█████████▏| 46/50 [02:33<00:09,  2.41s/it]"
          ]
        },
        {
          "output_type": "stream",
          "name": "stdout",
          "text": [
            "Saved results for image virginia\n",
            "Starting processing for image 46\n"
          ]
        },
        {
          "output_type": "display_data",
          "data": {
            "text/plain": [
              "Output()"
            ],
            "application/vnd.jupyter.widget-view+json": {
              "version_major": 2,
              "version_minor": 0,
              "model_id": "156d1494f0824ebc9fdf29f12be2d8a0"
            }
          },
          "metadata": {}
        },
        {
          "output_type": "display_data",
          "data": {
            "text/plain": [
              "\n"
            ],
            "text/html": [
              "<pre style=\"white-space:pre;overflow-x:auto;line-height:normal;font-family:Menlo,'DejaVu Sans Mono',consolas,'Courier New',monospace\">\n",
              "</pre>\n"
            ]
          },
          "metadata": {}
        },
        {
          "output_type": "display_data",
          "data": {
            "text/plain": [
              "\n"
            ],
            "text/html": [
              "<pre style=\"white-space:pre;overflow-x:auto;line-height:normal;font-family:Menlo,'DejaVu Sans Mono',consolas,'Courier New',monospace\">\n",
              "</pre>\n"
            ]
          },
          "metadata": {}
        },
        {
          "output_type": "display_data",
          "data": {
            "text/plain": [],
            "text/html": [
              "<pre style=\"white-space:pre;overflow-x:auto;line-height:normal;font-family:Menlo,'DejaVu Sans Mono',consolas,'Courier New',monospace\"></pre>\n"
            ]
          },
          "metadata": {}
        },
        {
          "output_type": "display_data",
          "data": {
            "text/plain": [
              "\n"
            ],
            "text/html": [
              "<pre style=\"white-space:pre;overflow-x:auto;line-height:normal;font-family:Menlo,'DejaVu Sans Mono',consolas,'Courier New',monospace\">\n",
              "</pre>\n"
            ]
          },
          "metadata": {}
        },
        {
          "output_type": "stream",
          "name": "stderr",
          "text": [
            "\rProcessing images:  94%|█████████▍| 47/50 [02:37<00:08,  2.84s/it]"
          ]
        },
        {
          "output_type": "stream",
          "name": "stdout",
          "text": [
            "Saved results for image washiington\n",
            "Starting processing for image 47\n"
          ]
        },
        {
          "output_type": "stream",
          "name": "stderr",
          "text": [
            "\rProcessing images:  96%|█████████▌| 48/50 [02:39<00:05,  2.61s/it]"
          ]
        },
        {
          "output_type": "stream",
          "name": "stdout",
          "text": [
            "Saved results for image west virgina\n",
            "Starting processing for image 48\n"
          ]
        },
        {
          "output_type": "display_data",
          "data": {
            "text/plain": [
              "Output()"
            ],
            "application/vnd.jupyter.widget-view+json": {
              "version_major": 2,
              "version_minor": 0,
              "model_id": "179c0d90186d4bde92e7b68024502de3"
            }
          },
          "metadata": {}
        },
        {
          "output_type": "display_data",
          "data": {
            "text/plain": [
              "\n"
            ],
            "text/html": [
              "<pre style=\"white-space:pre;overflow-x:auto;line-height:normal;font-family:Menlo,'DejaVu Sans Mono',consolas,'Courier New',monospace\">\n",
              "</pre>\n"
            ]
          },
          "metadata": {}
        },
        {
          "output_type": "display_data",
          "data": {
            "text/plain": [
              "\n"
            ],
            "text/html": [
              "<pre style=\"white-space:pre;overflow-x:auto;line-height:normal;font-family:Menlo,'DejaVu Sans Mono',consolas,'Courier New',monospace\">\n",
              "</pre>\n"
            ]
          },
          "metadata": {}
        },
        {
          "output_type": "display_data",
          "data": {
            "text/plain": [],
            "text/html": [
              "<pre style=\"white-space:pre;overflow-x:auto;line-height:normal;font-family:Menlo,'DejaVu Sans Mono',consolas,'Courier New',monospace\"></pre>\n"
            ]
          },
          "metadata": {}
        },
        {
          "output_type": "display_data",
          "data": {
            "text/plain": [
              "\n"
            ],
            "text/html": [
              "<pre style=\"white-space:pre;overflow-x:auto;line-height:normal;font-family:Menlo,'DejaVu Sans Mono',consolas,'Courier New',monospace\">\n",
              "</pre>\n"
            ]
          },
          "metadata": {}
        },
        {
          "output_type": "stream",
          "name": "stderr",
          "text": [
            "\rProcessing images:  98%|█████████▊| 49/50 [02:43<00:02,  2.95s/it]"
          ]
        },
        {
          "output_type": "stream",
          "name": "stdout",
          "text": [
            "Saved results for image wisconsin\n",
            "Starting processing for image 49\n"
          ]
        },
        {
          "output_type": "display_data",
          "data": {
            "text/plain": [
              "Output()"
            ],
            "application/vnd.jupyter.widget-view+json": {
              "version_major": 2,
              "version_minor": 0,
              "model_id": "d4e8083ddb4d460587d45ef137024282"
            }
          },
          "metadata": {}
        },
        {
          "output_type": "display_data",
          "data": {
            "text/plain": [
              "\n"
            ],
            "text/html": [
              "<pre style=\"white-space:pre;overflow-x:auto;line-height:normal;font-family:Menlo,'DejaVu Sans Mono',consolas,'Courier New',monospace\">\n",
              "</pre>\n"
            ]
          },
          "metadata": {}
        },
        {
          "output_type": "display_data",
          "data": {
            "text/plain": [
              "\n"
            ],
            "text/html": [
              "<pre style=\"white-space:pre;overflow-x:auto;line-height:normal;font-family:Menlo,'DejaVu Sans Mono',consolas,'Courier New',monospace\">\n",
              "</pre>\n"
            ]
          },
          "metadata": {}
        },
        {
          "output_type": "display_data",
          "data": {
            "text/plain": [],
            "text/html": [
              "<pre style=\"white-space:pre;overflow-x:auto;line-height:normal;font-family:Menlo,'DejaVu Sans Mono',consolas,'Courier New',monospace\"></pre>\n"
            ]
          },
          "metadata": {}
        },
        {
          "output_type": "display_data",
          "data": {
            "text/plain": [
              "\n"
            ],
            "text/html": [
              "<pre style=\"white-space:pre;overflow-x:auto;line-height:normal;font-family:Menlo,'DejaVu Sans Mono',consolas,'Courier New',monospace\">\n",
              "</pre>\n"
            ]
          },
          "metadata": {}
        },
        {
          "output_type": "stream",
          "name": "stderr",
          "text": [
            "Processing images: 100%|██████████| 50/50 [02:46<00:00,  3.33s/it]"
          ]
        },
        {
          "output_type": "stream",
          "name": "stdout",
          "text": [
            "Saved results for image wyoming\n",
            "\n",
            "\n",
            "Image alabama: State(s) - Alabama | Number(s) - bc18351 | Model - Google Vision\n",
            "Image alaska: State(s) - Alaska | Number(s) - NoNumber | Model - Google Vision\n",
            "Image arizona: State(s) - Texas | Number(s) - ate3415 | Model - Similarity Check\n",
            "Image arkansas: State(s) - Arkansas | Number(s) - 013 KTI | Model - Google Vision\n",
            "Image california: State(s) - California | Number(s) - strmceo | Model - Google Vision\n",
            "Image colorado: State(s) - Colorado | Number(s) - NoNumber | Model - MMOCR\n",
            "Image connecticut: State(s) - Connecticut | Number(s) - NoNumber | Model - Google Vision\n",
            "Image delaware: State(s) - Delaware | Number(s) - 120596 | Model - MMOCR\n",
            "Image florida: State(s) - Florida | Number(s) - NoNumber | Model - MMOCR\n",
            "Image georgia: State(s) - Georgia | Number(s) - 99238 | Model - MMOCR\n",
            "Image hawaii: State(s) - Texas | Number(s) - LB1 729 | Model - Similarity Check\n",
            "Image idaho: State(s) - Kansas | Number(s) - 482921 | Model - Similarity Check\n",
            "Image illinois: State(s) - Illinois | Number(s) - NoNumber | Model - Google Vision\n",
            "Image indiana: State(s) - Indiana | Number(s) - 2073840 | Model - MMOCR\n",
            "Image iowa: State(s) - Iowa | Number(s) - NoNumber | Model - MMOCR\n",
            "Image kansas: State(s) - Alabama | Number(s) - 655 EMC | Model - Similarity Check\n",
            "Image kentucky: State(s) - Kentucky | Number(s) - NoNumber | Model - Google Vision\n",
            "Image louisiana: State(s) - Louisiana | Number(s) - NoNumber | Model - Google Vision\n",
            "Image maine: State(s) - Maine | Number(s) - 594-AMV | Model - MMOCR\n",
            "Image maryland: State(s) - Maryland | Number(s) - sea7590 | Model - MMOCR\n",
            "Image massachusetts: State(s) - Massachusetts | Number(s) - 749 ADU | Model - Google Vision\n",
            "Image michigan: State(s) - Michigan | Number(s) - NoNumber | Model - MMOCR\n",
            "Image minnesota: State(s) - Minnesota | Number(s) - NoNumber | Model - MMOCR\n",
            "Image mississippii: State(s) - Louisiana | Number(s) - NoNumber | Model - Similarity Check\n",
            "Image missouri: State(s) - Missouri | Number(s) - NoNumber | Model - Google Vision\n",
            "Image montana: State(s) - Montana | Number(s) - AHH:319 | Model - MMOCR\n",
            "Image nebraska: State(s) - Nebraska | Number(s) - NoNumber | Model - MMOCR\n",
            "Image nevada: State(s) - Alabama | Number(s) - 403: TMV | Model - Similarity Check\n",
            "Image new hampshire: State(s) - Alabama | Number(s) - L1010000 | Model - Similarity Check\n",
            "Image new jersey: State(s) - New jersey | Number(s) - VLW:48 | Model - Google Vision 2\n",
            "Image new mexico: State(s) - New mexico | Number(s) - sleep | Model - Google Vision 2\n",
            "Image new york: State(s) - Iowa | Number(s) - NoNumber | Model - Similarity Check\n",
            "Image north carolina: State(s) - North carolina | Number(s) - NoNumber | Model - Google Vision 2\n",
            "Image north dakota: State(s) - New york | Number(s) - NoNumber | Model - Similarity Check\n",
            "Image ohio: State(s) - Ohio | Number(s) - stitch | Model - MMOCR\n",
            "Image oklahoma: State(s) - Alabama | Number(s) - 22887BBR | Model - Similarity Check\n",
            "Image oregon: State(s) - Oregon | Number(s) - 46 EUU | Model - Google Vision\n",
            "Image pennsylvania: State(s) - Maine | Number(s) - HVY-57/4 | Model - Similarity Check\n",
            "Image rhodeisland: State(s) - Rhode island | Number(s) - NoNumber | Model - Google Vision 2\n",
            "Image south carolina: State(s) - South carolina | Number(s) - EYD 236 | Model - Google Vision 2\n",
            "Image south dakota: State(s) - Arizona | Number(s) - ZRR 168 | Model - Similarity Check\n",
            "Image tennessee: State(s) - Tennessee | Number(s) - NoNumber | Model - Google Vision\n",
            "Image texas: State(s) - Texas | Number(s) - 68T9 Ldg | Model - MMOCR\n",
            "Image utah: State(s) - Utah | Number(s) - uofmich | Model - MMOCR\n",
            "Image vermont: State(s) - Vermont | Number(s) - ABAH 368 | Model - Google Vision\n",
            "Image virginia: State(s) - Virginia | Number(s) - softie | Model - MMOCR\n",
            "Image washiington: State(s) - Washington | Number(s) - aat5827 | Model - MMOCR\n",
            "Image west virgina: State(s) - Virginia | Number(s) - wirenut | Model - Google Vision\n",
            "Image wisconsin: State(s) - Alaska | Number(s) - 707-SHY | Model - Similarity Check\n",
            "Image wyoming: State(s) - Wyoming | Number(s) - 26347 | Model - MMOCR\n",
            "18\n"
          ]
        },
        {
          "output_type": "stream",
          "name": "stderr",
          "text": [
            "\n"
          ]
        }
      ]
    },
    {
      "cell_type": "markdown",
      "source": [
        "# Other stuff i dont want to delete in case i need"
      ],
      "metadata": {
        "id": "_zr7qFSdrpyW"
      }
    },
    {
      "cell_type": "code",
      "source": [
        "from tqdm import tqdm\n",
        "# Apply the function to your grayscale image\n",
        "inverted_image = [invert_colors(img) for img in processed_images]\n",
        "\n",
        "# Convert grayscale images to RGB format\n",
        "grayscale_images = inverted_image\n",
        "rgb_images = [grayscale_to_rgb(img) for img in grayscale_images]\n",
        "\n",
        "# Initialize an empty dictionary to store detected states and numbers for each image\n",
        "predicted_results = {}\n",
        "\n",
        "from tqdm import tqdm\n",
        "\n",
        "# Initialize the 'x' outside the loop\n",
        "x = None\n",
        "\n",
        "for index, img_data in tqdm(enumerate(rgb_images), total=len(rgb_images), desc=\"Processing images\"):\n",
        "    detected_states = set()\n",
        "    detected_numbers = set()\n",
        "\n",
        "    state_detected = False  # Initialize a flag to check if a state is detected\n",
        "\n",
        "    # Google Vision\n",
        "    google_texts_results = get_texts_from_google_vision(img_data)\n",
        "    for text_data in google_texts_results:\n",
        "        print(text_data)\n",
        "        detected_states.add(text_data.capitalize())\n",
        "        x = 'Google Vision'\n",
        "        state_detected = True\n",
        "        break\n",
        "\n",
        "    # MMOCR\n",
        "    if not state_detected:  # If state is not detected by Google Vision, proceed to MMOCR\n",
        "        result = infer(img_data, save_vis=False)\n",
        "        for prediction in result['predictions']:\n",
        "            rec_texts = prediction.get('rec_texts', [])\n",
        "            for detected_text in rec_texts:\n",
        "                for state in us_states:\n",
        "                    if state.lower() in detected_text.lower():\n",
        "                        detected_states.add(state.capitalize())\n",
        "                        x = 'MMOCR'\n",
        "                        state_detected = True\n",
        "                        break\n",
        "            if state_detected:\n",
        "                break\n",
        "\n",
        "    # Google Vision 2\n",
        "    if not state_detected:  # If state is not detected by previous methods, proceed to Google Vision 2\n",
        "        google_vision_texts = get_text_from_google_vision2(img_data)\n",
        "        for text_data in google_vision_texts:\n",
        "            detected_text = text_data[\"description\"]\n",
        "            for state in us_states:\n",
        "                if state.lower() in detected_text.lower():\n",
        "                    detected_states.add(state.capitalize())\n",
        "                    x = 'Google Vision 2'\n",
        "                    state_detected = True\n",
        "                    break\n",
        "            if state_detected:\n",
        "                break\n",
        "\n",
        "    # Tesseract\n",
        "    if not state_detected:\n",
        "        tesseract_text = get_text_from_tesseract(inverted_image[index]).lower()\n",
        "        for state in us_states:\n",
        "            if state.lower() in tesseract_text and state.capitalize() not in detected_states:\n",
        "                detected_states.add(state.capitalize())\n",
        "                x = 'Tesseract'\n",
        "                state_detected = True\n",
        "                break\n",
        "\n",
        "    # TrOCR\n",
        "    trocr_text = get_text_from_trocr(img_data).lower()\n",
        "    print(trocr_text)\n",
        "    if not state_detected:\n",
        "        for state in us_states:\n",
        "            if state.lower() in trocr_text and state.capitalize() not in detected_states:\n",
        "                detected_states.add(state.capitalize())\n",
        "                x = 'TrOCR'\n",
        "                state_detected = True\n",
        "                break\n",
        "\n",
        "    # If there is a detected state, take the first one. Otherwise, use an empty string.\n",
        "    state_for_extraction = list(detected_states)[0] if detected_states else \"\"\n",
        "\n",
        "    # Extract license plate numbers using Google Vision\n",
        "    sequences_found = get_license_plate_sequences(img_data)\n",
        "    sequences_found = [seq for seq in sequences_found if re.search(r'[A-Za-z]', seq) and re.search(r'[0-9]', seq)]\n",
        "\n",
        "    if not sequences_found:  # If Google Vision failed, use TrOCR\n",
        "        state_for_extraction = list(detected_states)[0] if detected_states else \"\"\n",
        "        sequences_found = extract_sequences(img_data, state_for_extraction)\n",
        "\n",
        "        if sequences_found and not x:\n",
        "            x = x\n",
        "\n",
        "    detected_numbers.update(sequences_found)\n",
        "\n",
        "    # Store the results\n",
        "    predicted_results[image_labels[index]] = {\n",
        "        'State': list(detected_states) if detected_states else [\"NoPrediction\"],\n",
        "        'Number': list(detected_numbers) if detected_numbers else [\"NoNumber\"],\n",
        "        'Model': x\n",
        "    }\n",
        "\n",
        "    # Reset for the next image\n",
        "    x = None\n",
        "    state_detected = False\n",
        "\n",
        "# Print the results\n",
        "print('\\n')\n",
        "for label, details in predicted_results.items():\n",
        "    state = ', '.join(details['State'])\n",
        "    numbers = ', '.join(details['Number'])\n",
        "    model_used = details['Model']\n",
        "    print(f\"Image {label}: State(s) - {state} | Number(s) - {numbers} | Model - {model_used}\")\n",
        "\n"
      ],
      "metadata": {
        "id": "fANxXfSlsazu"
      },
      "execution_count": null,
      "outputs": []
    },
    {
      "cell_type": "code",
      "source": [
        "print(len(predicted_results))"
      ],
      "metadata": {
        "id": "1MAZ1x9CG_P8"
      },
      "execution_count": null,
      "outputs": []
    },
    {
      "cell_type": "code",
      "source": [
        "def analyze_image(image_path):\n",
        "    client = vision.ImageAnnotatorClient()\n",
        "    with open(image_path, 'rb') as image_file:\n",
        "        content = image_file.read()\n",
        "    image = vision.Image(content=content)\n",
        "\n",
        "    response = client.text_detection(image=image)\n",
        "    texts = response.text_annotations\n",
        "\n",
        "    detected_states = []\n",
        "    detected_numbers = []\n",
        "\n",
        "    # Regular expression for potential license plate patterns\n",
        "    license_plate_pattern = re.compile(r'\\b[A-Za-z0-9]{5,8}\\b')\n",
        "\n",
        "    # Analyze detected text\n",
        "    if texts:\n",
        "        for text in texts:\n",
        "            detected_text = text.description\n",
        "            if detected_text.lower() in us_states:\n",
        "                detected_states.append(detected_text)\n",
        "            if license_plate_pattern.match(detected_text):\n",
        "                detected_numbers.append(detected_text)\n",
        "\n",
        "    # Print results\n",
        "    if detected_states:\n",
        "        print(\"Detected States:\", ', '.join(detected_states))\n",
        "    else:\n",
        "        print(\"No state detected.\")\n",
        "\n",
        "    if detected_numbers:\n",
        "        print(\"Detected Numbers:\", ', '.join(detected_numbers))\n",
        "    else:\n",
        "        print(\"No number detected.\")\n",
        "\n",
        "# Use the function\n",
        "image_path = '/content/drive/MyDrive/LicensePlate/states/alaska.png'\n",
        "analyze_image(image_path)\n"
      ],
      "metadata": {
        "id": "D05Cwj4ysef0"
      },
      "execution_count": null,
      "outputs": []
    },
    {
      "cell_type": "markdown",
      "source": [
        "# Multimodel Embedding - Work in progress"
      ],
      "metadata": {
        "id": "tlwqccIyQzzk"
      }
    },
    {
      "cell_type": "code",
      "source": [
        "#!python3 predict_request_gapic.py --text 'license plate from alaska' --image_file '/content/drive/MyDrive/LicensePlate/states/alaska.png' --project 'fifth-composite-395916'\n"
      ],
      "metadata": {
        "colab": {
          "base_uri": "https://localhost:8080/"
        },
        "outputId": "978aff72-5f96-4e4d-df82-9caddd07e5b2",
        "id": "h2j_jJPIQzzw"
      },
      "execution_count": null,
      "outputs": [
        {
          "output_type": "stream",
          "name": "stdout",
          "text": [
            "EmbeddingResponse(text_embedding=[0.0216732733, -0.00807506777, -0.0108593721, -0.000838947832, 0.0162368361, 0.000222335264, -0.00819236133, 0.0313541703, -0.00647024577, -0.0094154, -0.000764641736, 0.0246840212, -0.0292376783, 0.0153663885, 0.00506238872, 0.0191824045, 0.0251756385, 0.0185546074, 0.00148858421, 0.00543121202, 0.00293678488, 0.00350003317, 0.0187539011, 0.0100120101, 0.0109208347, -0.0181238838, -0.02002443, 0.00627195789, -0.0047960314, -0.0133685051, 0.028200807, 0.0141252475, -0.0133924494, 0.0253215488, -0.0265743397, 0.0219379626, 0.0408052318, -0.018320946, 0.0267020352, -0.00506631285, 0.0209606346, 0.0108232452, -0.00979478564, 0.011969869, 0.0159845259, -0.00679251784, -0.0221450776, 0.0223647617, 0.00272142282, 0.0118014738, -0.0140255215, 0.00942138396, -0.021730125, -0.0194216687, -0.0262423698, -0.00234472798, 0.00409144, -0.047504805, 0.0242771525, -0.000829998171, 0.0286850408, 0.0232986957, 0.00672793388, -0.0132408226, -0.0165270381, -0.0259091873, 0.00892630499, 0.0153698456, 0.00177002768, -0.0116060274, 0.00212567183, 0.0131675014, 0.0167840477, -0.0325424522, 0.00195950572, 0.0156633053, 0.0173484161, 0.00349146198, -0.00115808856, 0.0157231726, 0.0214208961, 0.0077166413, 0.0306079797, -0.00565295666, 0.042203974, -0.0265067928, -0.0152456621, 0.0193684474, 0.00811913516, -0.0013735129, -0.0183960292, -0.0085729, 0.00934437476, -0.00203839364, 0.00426687952, -0.0372477956, 0.0213746168, 0.0098779127, -0.02900251, 0.0156852975, 0.00844097696, 0.0283259731, 0.0224486049, 0.0100013139, -0.00350467232, -0.00760073122, 0.0234333351, 0.0240615346, 0.00816420652, 0.0327867568, 0.0332967713, 0.012397184, 0.0235268213, 0.035874553, 0.0178644788, 0.0453628711, 0.0752239525, -0.0406302325, 0.00737968925, 0.0107738944, -0.00863515306, -0.00546478666, -0.00742262509, 0.0396792032, 0.00635613361, -0.00849020202, -0.0216907933, -0.0274879131, -0.0132721616, 0.0146844331, 0.00501065562, -0.00560019724, 0.0331725292, 0.0426595919, 0.0248023383, 0.0193611402, 0.0270442739, 0.0491211191, -0.00679932, -0.00241545029, -0.015561752, 0.0175240356, 0.00356070604, 0.00673482288, 0.0276777297, -0.0009245603, -0.0163690113, -0.00782232825, -0.0159939, 0.00550381374, 0.00385288545, 0.0354756452, 0.016527, 0.00485040387, 0.0045643081, 0.0260908566, -0.0071701128, 0.000479470211, 0.000950237969, 0.000858286221, -0.00539381057, 0.0320800766, 0.00555264391, -0.00742055196, 0.00864886772, 0.010739821, -0.00195693923, -0.0165051278, 0.00648724, -0.00646314025, -0.0134014571, -0.00438569626, -0.010113026, 0.0259493776, 0.0426102169, 0.0314614512, 0.0185101815, 0.0297565777, -0.00911961123, 0.000462938158, -0.0323164091, 0.0289983731, 0.0261151791, -0.00227068039, 0.0153096085, 0.00723043038, -0.0365840942, 0.0194791462, 0.0307603888, 0.014952152, -0.0116482237, 0.0205328912, 0.00326551334, 0.029616233, -0.0208036285, -0.0280844569, -0.0185238868, -0.016958151, 0.00045986136, 0.0250043143, -0.00428835815, -0.016949676, 0.0143024018, 0.0275541823, -0.0130579285, 0.0232579, -0.00917966943, 0.000829722383, 0.0252190586, 0.000898511265, -0.0107767479, 0.0286439341, -0.0116001414, 0.0157215986, 0.00931262225, -0.00997734256, -0.00577976741, -0.00967161451, 0.0249601491, 0.0238611177, -0.0134976609, -0.0191692766, -0.0181458853, 0.00746044144, 0.00935421325, -0.0103991227, 0.000690185523, 0.0370949358, 0.0686516911, 0.0186248813, 0.00742869405, 0.00919469725, -0.00474104844, -0.0146655049, 0.0147699285, -0.00991746876, -0.0268615074, -0.0172611475, 0.0334864259, 0.00147197943, 0.00750687346, 0.0182264056, 0.0145888086, -0.00239753793, 0.00938020833, 0.0161465965, 0.0189058855, -0.00888105948, 0.00474980799, -0.0241287909, 0.0353423, 0.034777835, 0.000946496963, -0.0153447902, 0.00226045679, 0.00566291949, 0.00837696157, 0.00785711687, 0.0115191359, 0.0256952643, 0.0167485271, -0.0108503327, -0.00606946973, -0.0105399499, -0.00138137664, 0.00965662859, -0.0586824901, 0.00696107931, 0.0257288162, -0.018736735, -0.0282913502, 0.0306303, 0.030073978, 0.0334926844, 0.00625940226, 0.0274220742, 0.00886899233, -0.00668787025, 0.017826464, 0.0143191107, -0.0255104844, -0.00316434517, -0.00571490498, -0.0111572416, 0.0057565216, 0.00390626676, -0.0018916094, -0.0289939083, 0.0117590604, -0.0225081425, -0.0324770845, -0.00328164897, 0.0144710252, -0.020020077, 0.00280889799, 0.0195812229, 0.0151811857, 0.043206051, 0.0299520921, 0.00868192222, -0.00400409289, 0.00166395144, -0.0119748591, 0.00367466337, -0.0237385202, -0.0297235213, 0.0414021164, 0.0217185467, -0.0107038189, -0.00252366415, 0.00655007176, 0.0170062967, -0.00330830389, 0.010109785, 0.00683454797, 0.0345492214, 0.0406358801, -0.0272751767, -0.0309789982, -0.00019859118, -0.0126454132, -0.00631601503, 0.0208713301, -0.0250427127, 0.0238307081, 0.0188030712, 0.00825595856, -0.00524245109, -0.00607666606, 0.024540998, 0.0264945701, 0.0174253136, -0.0167594813, 0.0203693174, 0.00793562829, -0.00274492265, -0.0285592414, 0.00307630934, 0.00897390116, 0.0292688198, -0.0171287451, 0.0224878099, 0.00803258177, 0.0357447937, 0.0254188515, -0.00992212258, 0.00202618469, 0.0050534308, 0.0143162645, -0.0293765292, 0.0486002639, 0.00926868618, 0.0181883778, 0.00542584667, 0.0079853991, -0.0227050278, -0.0197569747, 0.00702755665, 0.0139349597, 0.0179010388, -0.00921563897, 0.0234078765, 0.000867912197, 0.0224258937, 0.0286827926, 0.0125529869, 0.0193747319, -0.0151364412, 0.0119518247, -0.00642287312, 0.0020526289, -0.000540369307, -0.0459247679, -0.012062978, 0.0191884656, 0.0281276833, 0.00180597114, 0.00881713815, -0.0107340235, -0.00953241438, 0.0187347699, 0.0550059602, 0.0139156114, 0.00536513422, 0.0200267676, 0.00788112078, 0.00781596359, -0.00478428369, 0.0168828275, -0.00833718665, 0.0244511254, 0.0250511095, 0.0216500293, 0.0162868351, 0.00641774898, 0.00275331875, 0.00670731114, 0.0198996365, -0.00115720218, -0.0247859694, -0.00350169907, -0.0244467333, -0.0257398095, -0.00632565422, -0.0237913653, -0.0156831145, 0.00235079392, 0.0112604378, 0.0143679753, 0.0395378321, 0.0140925311, 0.0135726649, 0.0293888375, 0.015399754, 0.00264548743, -0.0279973559, -0.185953856, 0.000196510504, 0.0150563894, -0.0178104602, 0.00096584647, 0.0011065962, -0.00746822171, 0.0152151072, -0.0103443582, 0.0346248485, -0.0057011717, -0.0157985184, -0.00152522477, -0.0069010281, 0.0286774617, 0.0254642982, -0.0460092351, -0.00586401345, 0.00685277348, 0.0104363617, 0.008783211, -0.02294375, -0.0044414713, -0.167000487, 0.0358984023, 0.023519529, 0.0313045979, -0.0170011967, 0.011580497, 0.0147677884, 0.0166801792, 0.0269241836, -0.00260005915, 0.00156216428, -0.001541059, 0.0411623232, -0.0254346766, -0.028214775, -0.000701191719, -0.00131080498, -0.00574080367, -0.0152910324, 0.015431013, -0.010721012, 0.00913772453, -0.00199001562, 0.0644237623, -0.0300397277, 0.0289180372, 0.0196988359, -0.039254237, 0.0413309969, -0.0172911044, 0.0168150179, -0.0325706154, -0.187610328, 0.0121499011, -0.0068938816, 0.0302403439, 0.0343733244, 0.0064746826, 0.00145761808, -0.0504137948, -0.0202407259, 0.0152840791, 0.0180426668, -0.0231871344, -0.00693981862, -0.00475232303, 0.0306430794, 0.0183361042, -0.0177809689, -0.0158566441, 0.00987436716, 0.0087841209, 0.00565574458, 0.00927391555, -0.015608984, 0.00984382071, -0.0250828583, -0.0243676957, -0.0179024804, -0.0219482277, 0.0125416173, 0.0103657963, 0.0181631334, 0.0109144, -0.0174777303, -0.016768273, 0.0305322912, -0.0325953886, 0.0194034651, 0.0321234763, 0.00290805777, 0.0279271342, 0.00161738566, -0.0336902961, 0.00784814171, -0.000418156, 0.00603203289, -0.0530502535, 0.000744050427, 0.0119415605, -0.00595225394, 0.0174423065, -0.00781591, -0.00943584554, 0.0179173537, 0.000268896576, 0.00900616124, 0.0337921567, 0.0197319183, 0.0382337458, 0.0128631899, 0.000756991794, 0.0356645435, 0.0300544202, 0.00428242702, 0.00154692901, -0.013172036, 0.0547463633, -0.0128269484, -0.00129461079, 0.0290534925, -0.00808586087, 0.0011716166, -0.00381603092, -0.0134068038, 0.0544706061, 0.0167345908, 0.0536791533, 0.0143186087, 0.00340743829, 0.0266422778, 0.00133935583, 0.0136304433, -0.103402406, 0.00873693451, -0.0118966075, 0.0224246886, -0.016907271, 0.0432706028, -0.013631179, -0.00345402025, 0.00961399917, -0.0281974822, -0.0137460986, -0.0229212567, -0.00838248432, 0.00510706659, -0.0103306482, -0.0167017467, 0.0206818972, -0.0196007378, -0.0239127148, -0.00561331119, -0.000815683627, 0.0207475256, -0.00618126942, 0.0354650803, 0.011369749, 0.0272561181, 0.0734450594, -0.0364859924, -0.0261883102, -1.59255051e-05, -0.00393745303, 0.00135883421, -0.0495053604, -0.0161293242, 0.00328624458, -0.0244439337, 0.0140864132, 0.0204808, 0.0109696854, -0.00749973953, 0.021427365, 0.0157952346, -0.0236038882, 0.012090385, 0.0102648307, -0.0137849664, -0.00672696112, -0.010130913, 0.0057793078, -0.00443082489, 0.01519839, 0.00587647781, 0.0109939016, 0.0212762691, -0.0246554036, 0.0124979177, 0.0283836666, 0.0188210271, 0.00508752, 0.00221943972, -0.00722183613, 0.0361749418, 0.00744657079, -0.0172736496, 0.0207784437, -0.0142421555, 0.0227035508, 0.002675005, 0.0290395971, -0.185891122, 0.0149791427, 0.0456145778, -0.146857634, -0.0129296407, 0.0170883182, -0.00442706933, -0.0018048184, 0.000381737918, -0.00712712295, -0.00949284155, 0.00409504911, -0.01278158, 0.0388029814, -0.0450639836, -0.00208234088, 0.0432691276, 0.0215255469, -0.0126781045, 0.0118784057, -0.0246901084, 0.0192727726, 0.00764533, -0.0217363276, 0.0323101543, -0.0018226942, -0.0111943074, -0.00517781358, 0.012528426, 0.0170735959, 0.0232494399, 0.00362378266, 0.00605428638, -0.00595518155, -0.0127202161, -0.0226383954, -0.0106081469, 0.00714325346, -0.0141691575, 0.00103382021, -0.0369331464, -0.00418423768, -0.00285666971, -0.0278181341, -0.0180895794, -0.043588277, 0.0310402531, 0.0125283711, -0.0180782694, 0.00169952889, 0.00140361942, -0.0103125377, -0.051184833, -0.0136058815, -0.0253555272, 0.00016444776, -0.00558446208, -0.0137820914, 0.00274941465, 0.0204961449, -0.01325012, -0.0186039098, 0.0117859775, -0.0148990415, 0.0136008775, -0.0276668128, -0.0055786646, -0.0113104908, 0.0191785078, -0.0101629645, -0.0232074708, -0.00511837285, 0.00169252476, 0.0162094068, 0.0111184409, 0.0108526656, -0.00333561073, -0.0077008754, -0.0375245064, 0.00973779056, -0.0349323153, -3.51674062e-05, 0.0425267667, -0.0179876443, 0.0151231587, 0.03382181, 0.0226491857, -0.0285680871, -0.00721205119, 0.00698190369, -0.00251051434, -0.00941474363, -0.0112545574, -0.0270241778, 0.00609021029, 0.0239169542, 0.0456869043, 0.0118535971, 0.00477070641, -0.00809911266, 0.00416662171, -0.0162028708, 0.0231278948, -0.010162198, 0.0130724963, 0.00313247927, 0.0213926341, 0.0203984641, 0.00866084918, 0.00402983045, 0.0377789922, 0.0314568691, 0.0102792913, 0.0382184871, -0.0611328557, -0.0542819276, 0.00138814154, 0.058726795, 0.00441835076, 0.0340493508, 0.0146953762, 0.0164323188, 0.0179386511, -0.014417924, -0.016104199, 0.033945024, -0.031753, -0.0010777429, 0.00207903911, 0.00925909821, 0.0104734544, 0.0118556023, 0.00817265548, 0.0136819081, 0.0130940359, 0.0114152664, -0.0160427485, 0.015631631, 0.0122143738, 0.0159470234, 0.0334573872, 0.0106645133, 0.0145399943, 0.00824355707, -0.00664003, -0.0181818828, 0.0194077808, 0.0316384695, 0.0224372353, 0.0283988658, 0.0145355957, 0.00190552801, 0.0034056, 0.00373342959, -0.000901907566, 0.0129131153, -0.00291287038, 0.110425182, 0.0148001565, -0.000598655373, -0.0239356905, 0.0146641489, -0.0173576865, -0.0259268191, -0.00292358687, -0.02419498, -0.025307402, -0.0226480365, -0.0151866516, 0.0284821801, 0.00722397, 0.0362858437, 0.0126300231, 0.00343130133, -0.0114759095, -0.025542967, 0.0355041958, 0.0168887246, 0.00588087924, 0.0367355607, -0.0197471157, 0.0176292788, -0.0452941507, 0.0301956143, 0.00998503715, -0.00479924632, -0.00750812609, 0.0167877, 0.0256681796, 0.0175968446, 0.0224956032, 0.0289066546, 0.0186547041, 0.03035504, -0.00510479603, 0.0160808507, 0.014884132, 0.00700387778, 0.0275582224, -0.0242499691, 0.017988516, 0.0159854908, 0.00823991839, 0.0172532015, -0.0139345033, 0.0269106794, 0.0437057689, 0.0197562799, -0.00631349673, 0.0297708251, -0.0197688229, -0.0321900584, 0.0553294569, 0.0111918543, 0.00463826582, -0.00780555233, 0.00187429553, 0.00604898902, 0.00253335154, 0.0070258691, 0.0479636863, 0.00276451441, -0.0469785035, 0.00846616179, -0.0190195851, -0.0140781561, -0.00802508835, -0.00784501806, 2.5736168e-05, 0.0165885519, -0.0139877424, 0.0195821095, 0.017831631, -0.0147904037, -0.00582252163, 0.177190661, -0.0101423599, 0.01001448, 0.0114445481, -0.00667622127, -0.00994442496, 0.05002122, -0.014709495, 0.0221571047, -0.00391565356, 0.00464169169, -0.00275191432, 0.00048358686, -0.00806462578, 0.0419198349, 0.0427919626, -0.00892074313, 0.0286650378, 0.0143940775, -0.00666074222, 0.00320942304, -0.00537424348, -0.00799216703, 0.0217437968, -0.0251033269, -0.0094874436, 0.0204454605, -0.00341175892, 0.00768287294, 0.0107103037, 0.0169003922, -0.00957969856, 0.0560153574, -0.00117012288, -0.0334402323, 0.0110549126, 0.0279797427, -0.00421549194, 0.022438867, 0.0263322927, -0.0087963175, 0.0568456762, 0.00945064519, -0.0145848477, 0.0294741262, 0.00824165158, 0.0271257386, 0.016182974, -0.0333987847, 0.0265659299, -0.0366802141, -0.00985418819, 0.0055967113, 0.0175680816, 0.0122135766, 0.0539797433, -0.00874815509, 0.0161648542, -0.0203673504, 0.00789735373, 0.0213818736, 0.00178240065, 0.00356963137, -0.014073276, -0.00625068136, -0.0402764976, 0.00106492836, 0.0281478278, -0.00405914197, 0.0131563647, 0.00617569452, 0.025562305, -0.0051315343, -0.0153298248, 0.0255226847, -0.0173614435, 0.00126373908, -0.00483926618, 0.0298550725, 0.0161400512, -0.0376614369, -0.0284318738, -0.0264176801, -0.00287610316, 0.0122916428, 0.0503065102, -0.0120874029, 0.00383400591, -0.0142805213, 0.00388126029, 0.00674369372, 0.00696967728, 0.00681862468, -0.016359631, 0.026079528, 0.0172252543, -0.0166561734, -0.00283115148, 0.0126338, 0.00464796321, 0.0192327183, -0.0326965, 0.0413463078, -0.0044734939, 0.00777483638, 0.0135821523, -0.0119274976, 0.0157964211, 0.0108343, 0.0111972252, 0.0332125947, -0.0215641018, -0.00347238895, -0.0396005474, 0.012039653, -0.0315202437, -0.00419035647, -0.00679916609, -0.00451793, -0.00140789943, 0.0381576158, 0.00314667239, -0.00807711, -0.00837738067, 0.00409876416, -0.000701942889, -0.0203408506, 0.00106965436, 0.010072425, 0.00546203274, 1.25974029e-05, -0.0236090571, -0.0316202193, -0.00635911198, -0.020117268, -0.0144856414, 0.00202096393, 0.0122410357, 0.0067791068, -0.0181197952, 0.0440149903, -0.0433238, 0.00606979057, 0.0185130127, -0.0154476892, 0.0125412364, -0.0410054, -0.0264926683, -0.00384699902, 0.0201498549, -0.0111024957, 0.0206015185, 0.0281219762, -0.0175138749, 0.00576197123, -0.0112690078, 0.00711466419, -0.00164829916, 0.0017626551, -0.00929375831, -0.0277241357, 0.00273506972, -0.00973453466, -0.0135026025, 0.0235485937, -0.00654678419, 8.57739651e-05, -0.00417247, -0.00410745433, 0.0176310986, -0.0265888721, -0.00370756607, -0.0142972479, 0.0138484305, -0.0635300726, 0.0460838601, -0.00993287284, 0.0054853051, -0.0171062164, 0.00792077743, -0.000471756328, 0.00134860224, 0.027058363, 0.00446113804, 0.00472670654, -0.0266727172, 0.00784924533, 0.00294772582, -0.00939012, -0.0192419756, 0.0102473684, 0.0136275869, -0.0222780108, 0.0169539358, -0.0143726766, 0.00227219379, -0.0278608594, -0.181377918, -0.0287930984, 0.0135028875, 0.00879953336, 0.0195548479, 0.0276944302, -0.00586271891, 0.0184779614, 0.0215536114, 0.0149176689, 0.0330749713, -0.0434523709, 0.0636799112, -0.00121457723, -0.00255079311, -3.08682465e-05, 0.000879931322, 0.00639828201, 0.0146105327, -0.0230589285, 0.00689197099, -0.00866765529, 0.0144080212, -0.00422164192, 0.011079493, 0.166194126, 0.0291219633, -0.0426810347, 0.00413157092, -0.0096188914, -0.00211948971, -0.0112805059, -0.00444922363, -0.000720489596, 0.0157295074, -0.0171677582, -0.000213691077, 0.0379063599, 0.00441561965, -0.00105488498, 0.016249761, -0.00466468185, 0.0308516957, 0.00449980656, 0.0386474952, -0.00541199837, -0.0231020041, 0.00950547867, 0.0218894184, -0.041078344, 0.0201287474, -0.00208280771, 0.0428806692, 0.0285360385, 0.00365377404, -0.011239945, 0.0151485782, -0.0215396043, -0.016119929, 0.0140780648, 0.0384968482, -0.00365438266, 0.00947596133, 0.00611785427, -0.0249714628, -0.0156700257, 0.0111708827, 0.00094975048, 0.0275565777, 0.167492837, -0.0141564785, 0.0158176869, -0.00263337, -0.0194329191, 0.00889105815, 0.00681034708, 0.00351144909, 0.00809136592, 0.0270124134, -0.0104128551, -0.0156348608, -0.0267302599, 0.0283320174, 0.00993684, 0.00534191728, 0.00986706186, -0.00827043876, 0.0186080802, 0.0136391791, -0.00501269475, -0.0304400027, -0.000333263975, -0.0148396343, -0.00596972834, -0.00305269, 0.0101161152, 0.00901705, 0.0518214256, -0.0110016642, -0.0178113189, 0.0151358824, -0.0312848277, 0.0179362614, -0.0179001205, -0.00789676048, -0.00387017126, -0.00804158114, -0.019196596, -0.185477376, 0.0334365778, -0.00239512883, 0.0108872494, -0.0200044215, 0.0225548819, -0.0333560072, 0.0153571265, 0.175812811, -0.0253143664, -0.00928694, -0.00561390724, -0.0057911654, 0.0045252149, -0.0170276053, 0.000803765841, -0.00759748509, 0.00998178311, 0.0355489329, -0.00618866924, -0.00692244945, -0.0121884821, -0.00333271199, -0.0164602697, 0.00642802101, -0.0199520644, 0.0260422584, 0.0087134568, 0.00583316805, -0.0239935797, -0.009351491, 0.0200034473, -0.184919178, -0.0140333092, -0.0178940203, 0.0204689838, 0.0359402113, 0.00785661396, 0.0229066722, -0.0243718736, 0.00258638756, -0.0213574134, 0.0216026343, 0.0128459781, 0.0120849181, 0.00034478039, 0.00216742209, -0.186081544, 0.0118116131, 0.00485412683, 0.0357486419, 0.0266545527, 0.0153352236, -0.0212224126, -0.00855877344, 0.0101638176, 0.0139215486, -0.0439532287, 0.010629328, 0.00549722556, 0.016600579, -0.00788579, -0.0185889751, -0.00873838551, -0.0057969857, -0.00104448199, -0.00441855798, -0.00890693255, -0.00939038862, 0.0426478721, -0.00282597332, -0.0228255205, -0.00447350089, 0.0435412489, -0.00396990217, 0.0391689762, -0.0259112213, -0.00761019625, -0.0212231223, 0.00771633489, 0.0194086023, -0.00527078798, 0.0286907293, 0.0163441338, -0.0134286014, 0.00673502358, -0.0245596915, 0.0258241259, 0.00692360895, 0.00641866075, 0.0386941656, 0.0192151349, -0.00716467481, 0.0395315774, 0.0234635826, 0.00735889515, -0.00349539379, -0.03069821, -0.0120018106, 0.0437109359, -0.0309156794, 0.0199580118, 0.0084009748, 0.0172028597, -0.00352156465, -0.00574577507, 0.00773188286, -0.026975045, -0.0204595719, -0.00416868553, 0.0251532458, -0.00643881224, -0.0473866276, 0.00640214793, 0.0186909232, -0.0106188152, 0.000176951784, 0.0100542363, -0.0220543928, -0.00331694866, 0.0224847309, 0.00242834259, 0.01666913, 0.0178298261, 0.0113646844, -0.057270702, 0.0190706737, -0.00764433248, 0.0204350837, -0.0122472085, 0.00707563385, 0.0182909612, 0.00133594614, -0.0176283438, 0.00878314488, -0.00509953266, -0.00986436568, -0.00177650945, 0.0311229415, -0.00852129608, 0.000978895347, 0.0178268272, -0.00660374248, -0.015010234, -0.000335227553, -0.00611764332, 0.0194156673, -0.0028011112, 0.00306344521, -0.0238174945, 0.0109948013, -0.0143779544, 0.00375831756, -0.0448842421, -0.00199744571, 0.00423231162, 0.0235525407, 0.018128518, 0.00716542779, -0.00578474, 0.0258706417, 0.0214045644, -0.0270932987, -0.0192995016, -0.0110959187, -0.00636874046, -0.019188296, 0.0197804663, 0.00452685589, -0.0528402217, -0.0024722917, -0.0200345535, -0.0101883551, -0.0136652021, 0.0166087169, -0.0111570265, 0.0181111265, 0.0486048833, -0.00382625498, -0.0175142139, 0.00900271535, 0.0276495609, 0.0245718695, -0.00297467317, 0.0141254608, 0.0168121941, 0.00102755544, 0.000506126788, 0.00384087837, -0.00533559546, -0.0110171447, 0.00246228185, 0.0245673712, 0.00809250306, -0.0338334814, -0.000306343049, 0.00192964613, 0.00825330801, 0.0360148847, -0.00816056225, 0.00556888338, 0.00979080331, -0.00652551884, -0.00329081016, 0.00684032217, -0.0144412983, 0.0239677988, -0.0313767828, -0.0157518107, -0.0108844852, 0.00316027552, -0.02244059, -0.00390663557, -0.000714876573, -0.000910544, 0.0149670104, -0.0091832066, -0.00679793768, -0.00727583189, -0.000931125775, 0.00726085, -0.00881859101, 0.00514485408, 0.0506335795, -0.0192701612, -0.00869653467, 0.0144643011, 0.00970374234, 0.00317635015, 0.0204797294, -0.0062566488, 0.0218026377, 0.0282306671, 0.0364775509, 0.0160144549, 0.0137074655, -0.00359396823, 0.0164573733, -0.0216009207, -0.0157134663, 0.0079596173, 0.0135285314, -0.00907029212, -0.00319176703, 0.0324627981, 0.0236007143, -0.00934714545], image_embedding=[-0.014627534, 0.0565928668, -0.0191907082, -0.0171190333, -0.0273826532, -0.0271217059, 0.0196214635, 0.0480995737, 0.00582372444, -0.027554065, -0.0264337305, -0.0211857129, -0.0322267413, 0.0293696225, -0.0371244475, 0.0164962374, 0.00694389548, -0.00922446325, -0.0302984715, 0.00689237, -0.0176239144, 0.00620556762, 0.0398023464, 0.018508913, -0.0311567895, 0.00679794187, 0.00116190489, 0.00936622731, -0.0457647964, -0.0321940929, 0.023399299, -0.010252242, -0.0115282666, 0.00176295161, -0.0369495824, 0.000373115501, 0.00970781, -0.00909153, 0.00033685175, -0.0203736313, -0.0108368108, -0.0049695503, 0.00275625777, -0.00210890267, 0.0177789237, -0.00642210338, -0.0285876859, 0.028526, -0.0422040448, 0.0468399562, -0.0171681475, -0.00347677642, 0.00241505797, -0.0178473201, -0.00977905747, -0.0169301163, -0.0390730351, -0.0457974747, 0.0194586068, -0.00918919407, -0.0163300056, 0.00866851583, 0.0315826051, 0.0121451626, -0.0461977795, -0.0133048762, -0.00967951119, 0.0381008536, 0.0129479282, 0.0113613168, -0.0209574327, -0.0346053205, -0.0148910722, -0.0232733693, -0.0341720022, 0.00577898417, -0.016426472, -0.0192307644, -0.0278133713, 0.0257005747, 0.000276508, 0.0183132049, 0.0285593439, 0.00407772278, 0.0582447052, -0.0106364964, -0.0306098033, -0.01160709, -0.00752885314, -0.00170398632, 0.0375134833, 0.0144817922, -0.0107699391, -0.141795605, 0.0354742706, -0.0163655, -0.0169536117, -0.00826725457, -0.00122487138, 0.0179818813, 0.0161823202, 0.00770380348, 0.0264798794, -0.0266551562, 0.0232131612, 0.00711991079, -0.0200212058, 0.0324633904, 0.0517655313, 0.0471089706, -0.0204768982, 0.0301597193, 0.0279541947, 0.024995774, -0.00501982, -0.00371483341, 0.0177357718, -0.0193540081, -0.0185096227, -0.0199217033, -0.0136342272, 0.000468543731, -0.00440937513, 0.02115798, -0.0396091826, -0.0256472286, -0.0218551029, -0.0306648668, -0.00585566368, 0.000576071, -0.0450449102, 0.00898637529, 0.045758009, 0.0134693272, 0.00203850912, -0.0257756393, 0.00764392735, 0.00770729454, 0.00365042686, 0.0163561925, -0.0225333534, -0.0273396317, -0.00973025057, 0.0287134778, 0.00840447564, -0.00853982, -0.0368780307, 0.00635033147, -0.00964170229, 0.00887779333, 0.0123915141, 0.0210712776, -0.0259819981, -0.0427869409, 0.0336026512, 0.0142972013, -0.00776693691, 0.0239092242, -0.0338046104, 0.00504755042, -0.0106783453, 0.0360956378, -0.00719235186, 0.00619676663, 0.0116039757, -0.0240517687, -0.0135578848, -0.0319171, -0.0083123222, 0.00637790933, -0.0141610373, 0.0164325871, 0.0225975737, -0.0154860625, 0.0431650765, 0.0123689175, -0.00261124223, -0.0117580006, 0.00685643964, -0.00382323237, -0.0227205344, 0.0149380863, 0.00781356823, 0.0269787274, -0.00878281891, 0.0134614529, -0.0319449715, -0.0122490851, 0.020554943, 0.00143130159, -0.0448103435, 0.0198727772, 0.0112252133, 0.0138591295, 0.010008404, 0.0122388555, -0.0128871389, -0.00533909, 0.0264120195, -0.0151578719, 0.0214015674, -0.0353848338, 0.000495110929, 0.00248054019, -0.00817898288, -0.00419452507, 0.0240346827, 0.000427757681, -0.0276937392, 0.0083131874, -0.0110697541, -0.0164838266, -0.0157047603, -0.0128397485, -0.00929916184, 0.00029185618, -0.026975872, -0.0385944471, -0.00342317647, 0.0228877161, -0.011771081, -0.0181897804, -0.02396084, -0.0280715935, -0.0505565889, -0.0216668434, 0.0075134919, -0.0227692854, -0.0358564258, 0.0157544706, -0.0147589119, -0.00148650678, 0.0545763895, -0.0181907397, -0.00928405579, -0.0115133626, 0.00197150861, 0.0201829337, -0.00307662878, 0.000660750433, -0.0149664162, 0.0088049816, 0.0259326641, -0.0304642655, -0.00180031511, 0.0030613225, 0.0188173205, -0.021351397, -0.0106566073, -0.0342536606, 0.0268083587, 0.0128935045, 0.00136566849, -0.0599591732, -0.0138891684, -0.048115328, 0.00869181752, 0.0105312588, 0.0156366583, 0.00351795228, -0.0165403448, -0.00408546766, 0.0298737306, 0.0200821888, 0.00758866081, -0.0167489164, -0.0505505502, 0.0291951727, 0.0186462719, -0.0133912368, -0.00715510454, 0.00201257248, -0.0488616079, 0.00953930151, -0.00973342, 0.0378342345, -0.00513327867, -0.052518744, 0.0374458618, 0.118114531, 0.00902698841, -0.0101291602, -0.0138686392, -0.0226415619, -0.0195879396, 0.0159482639, -0.136300653, 0.00929782633, -0.00130301353, 5.36719745e-05, -0.00593617326, -0.0255728811, 0.0190214608, 0.00134485681, 0.0169761088, 0.0120157516, 0.0204410665, -0.0121402387, 0.0429019183, -0.00647074776, -0.0339715146, 0.0231952, -0.0148008186, -0.0168419313, -0.0369108617, -0.00433219271, -0.0052311169, -0.00607063062, -0.00112621463, 0.0114140613, -0.0237746388, -0.010091966, 0.0164471678, 0.0408400223, -0.0139975408, 0.00231542368, 0.0564599112, 0.0236121397, -0.00258859619, 0.0118343076, -0.00546294916, -0.00967364, 0.0317650326, -0.00490517449, 0.0358505324, -0.0216388293, 0.0160336383, -0.0193918366, 0.00372102484, -0.0276326761, -0.00824856665, -0.0120953657, -0.00776978582, 0.0331072919, -0.0107621038, 0.0354212262, -0.0104807457, -0.0523019172, 0.00978484564, -0.0164008755, -0.0284824967, 0.00233733794, -0.0330717, 0.0390501097, 0.0135099879, -0.00650716061, 0.0119300056, -0.00586209865, -0.00427771546, 0.000928820577, 0.0245569423, 0.00756630255, 0.00841505267, -0.0440598, 1.78981154e-05, 0.00178941153, -0.0302000456, -0.0206798408, -0.0396830514, -0.0162292253, -0.0485565737, -0.0576564, -0.0202322323, -0.0280531123, 0.0258231573, 0.00187182298, 0.0302425325, 0.0222731046, -0.0407264084, 0.0211765356, -0.026211394, -0.00143682433, -0.0342034958, -0.014899021, -0.0103384387, 0.0485136807, 0.0104764383, -0.0110546835, 0.000718651805, -0.0108448258, -0.0194994379, -0.0126759252, -0.0517935, -0.000824680494, 0.00110025343, 0.0176410098, -0.00578170503, -0.012825083, 0.0589070506, -0.0109370556, -0.0119213816, 0.0488565899, -0.0129550062, -0.0296509024, -0.0380410925, -0.00455522398, 0.0185163449, 0.0300587956, -0.015676856, 0.0136747286, -0.00766618596, -0.0276485458, -0.0274750385, -0.0277574118, -0.00987924449, -0.0262093525, 0.0443903655, -0.00770282, -0.0135140717, 0.0118936421, -0.00147920894, -0.011308236, -0.0210540537, -0.0368517525, -0.00167677656, -0.0376474746, -0.00733515155, 0.0036350484, 0.0138028963, 0.0132259931, -0.00981082115, 0.0127740288, -0.0668241233, -0.000858420855, 0.00168231898, 0.0102910567, 0.00886281393, -0.000768052, -0.014670372, 0.000390140747, 0.0137971044, -0.00609903317, -0.00123191869, -0.0143907638, -0.0248880517, -0.0163877215, 0.0259457417, -0.00811019912, -0.0345474221, -0.0207624193, -0.00947532, 0.00256584329, 0.00880345609, -0.0112647088, -0.00739004556, 0.00191036973, 0.0275295135, -0.00464125024, 0.0119698774, 0.0281855967, 0.00924141239, 0.0386151373, -0.000902744, -0.0143505055, -0.0212851372, 0.000350184826, 0.0264540706, 0.0211025979, -0.00806099549, -0.012293499, 0.00388614438, 0.00281155924, 0.00858649798, -0.0407658964, 0.0171435829, 0.034021344, -0.0196619257, 0.0265607759, 0.00637767278, 0.00895720441, -0.016029, -0.00778998109, 0.035700839, 0.0150854066, 0.0140353991, 0.00981498882, -0.0243316218, 0.00429429114, -0.0276179388, -0.00443538046, -0.0356565714, -0.0200125929, -0.0468488447, -0.00907579251, -0.0077742287, -0.0337339379, 0.0291329976, -0.0342083909, -0.0105293905, -0.0274244472, -0.0304620378, 0.0208999868, 0.00889478344, 0.00876560248, -0.0137430513, -0.0195401832, -0.00920286216, -0.0118185114, -0.0147354007, -0.0238541272, -0.0071366, 0.002493568, -0.0426274501, -0.030175088, 0.0142385848, 0.0160804614, -0.00303473463, -0.0325867534, 0.0166664366, 0.0102082714, -0.0440809391, 0.0170621742, -0.00859880075, 0.000707116968, -0.0339987278, -0.0223032143, -0.0204877388, -8.57197228e-05, 0.0337664448, -0.0327519774, -0.0323837362, 0.0174703673, 0.0127297509, -0.0137754697, 0.00555633, -0.00907821301, 0.000120563542, -0.00282843085, 0.0294185784, 0.0119828908, -0.0134962397, -0.0266614854, 0.023523435, 0.0124658467, -0.0136198606, 0.00433737598, -0.00038264427, -0.0116652371, 0.00601148792, -0.0115474621, 0.0231095534, -0.0115994606, -0.0270369686, 0.0285779554, 0.00325907324, 0.00278783916, 0.0637168139, 0.0161738563, 0.00920749549, -0.0101591898, -0.0229559224, 0.0036333988, -0.0461328216, 0.00999979, 0.0258682594, 0.028276071, -0.0288332235, 0.0211049709, -0.0223839357, -0.0424857, -0.0125088701, -0.0250795968, -0.0857121, -0.0141416639, 0.0199865978, -0.0207597204, 0.0375790372, -0.015909709, 0.0478933677, 0.00710352557, 0.00342936674, -0.0235785, 0.00702384626, 0.00886016246, -0.0205797832, 0.0644262433, -0.000506565091, -0.0133080799, -0.0188721437, -0.0758864209, -0.00374711794, 0.0231154207, -0.0225893296, -0.0234539267, 0.0446374342, -0.0148207992, 0.0476601198, 0.0115478886, 0.0220402218, 0.00160969573, 0.00725735165, -0.00844544638, -0.0218769386, -0.0222352017, 0.0225970633, -0.00528199039, -0.00276863854, 0.00738445669, -0.0476882383, -0.039174322, -0.018755693, 0.0319843441, 0.0402175523, -0.0259986874, 0.0273611173, 0.0268287044, 0.0151217915, -0.0140109072, 0.02705165, 0.0250212178, 0.0175611768, 0.0318359323, 0.0035959098, -0.00764052616, -0.0411743335, -0.00283139944, 0.0190549865, -0.0190706458, -0.0213544685, -0.00142270362, -0.00749223493, -0.00701479707, -0.0111943902, 0.0615214668, -0.00897462, -0.0200716667, 0.000348133268, -0.0336212516, -0.0139819793, -0.0268019084, -0.0239681192, -0.0383186229, 0.00109681801, -0.0250237547, 0.00689201802, -0.0622928, -0.0399394371, -0.0053482959, -0.00539340591, 0.00649350602, 0.00472913124, -0.028520314, -0.00983952172, 0.00428119069, -0.0556593612, 0.0251065269, -0.00903123617, 0.0123546328, 0.00891793706, -0.0202888679, -0.00177885208, -0.0133338291, -0.0127310921, -0.00288498355, 0.026653463, -0.00177888223, -0.018077692, -0.0171116926, 0.0247116052, -0.0206367932, -0.15192695, -0.0560234, -0.0118366564, -0.0184029881, -0.0224030633, -0.00287208543, -0.0130839804, -0.00876462366, -0.00356144086, 0.00278702774, 0.0205351729, -0.0132931769, -0.188278839, 0.0141511085, 0.00748237688, -0.0166997034, 0.0190974865, -0.016539108, 0.0472750738, -0.00169274386, -0.0109568313, 0.0190327633, 0.0250808429, -0.02505376, -0.00936377514, 0.0266375095, -0.0275175869, 0.0180643387, -0.0607097521, 0.00451419875, -0.0155301662, -0.035006348, -0.0060237227, -0.0656501204, 0.0180494487, -0.0227468777, 0.0333478488, 0.0218822, -0.0194036048, -0.036661692, 0.00456306152, -0.0445671044, -0.0190041792, 0.0123879332, -0.0290443953, 0.0437274799, 0.00734988227, -5.65966475e-05, -0.0418083817, -0.037534073, 0.0379435122, 0.0170317646, 0.0300635155, -0.0125284726, -0.0271898489, -0.0513509065, 0.0530950576, 0.0426613539, -0.0165623035, 0.00175906846, -0.00429873029, -0.0013094825, -0.00452074874, 0.0539402366, -0.014410804, -0.0151321264, -0.0158767458, -0.0231619701, 0.0340692587, -0.0265635978, -0.0355709866, 0.0254582651, -0.0192110222, 0.0215172563, 0.00286909263, -0.0488633886, -0.0433344617, -0.00142118288, 0.0155099062, -0.0301175173, 0.033135511, 0.00333320117, -0.00185580656, 0.00492788618, -0.00965636, -0.0351857692, 0.0306786094, -0.0148398569, -0.211019531, 0.000494809, -0.0207456201, -0.00319458754, 0.0132862851, 0.00471437257, 0.0337523185, -0.0054614, -0.00875698682, -0.0366607085, 0.0591000095, 0.0169459414, -0.0294241738, 0.00380831724, 0.0362488255, 0.0278749391, 0.0358170606, -0.0120259319, -0.0225020163, 0.0183685757, 0.0425363705, 0.0313726217, -0.0147344023, 0.0119804069, 0.0285425596, 0.0103620328, 0.0581707545, -0.0170533098, -0.00946503133, -0.0152665162, -0.0314454809, 0.0169078857, -0.0237518102, -0.0368610695, 0.00386445411, -0.0161330234, -0.00502813514, 0.0282917563, -0.0164159331, -0.0505948365, -0.0098023368, -0.0375356078, 0.0124341184, 0.0147132641, 0.0780490413, -0.00826263893, 0.054554861, 0.0155022833, -0.010392704, 0.0145971812, 0.00702312915, -0.0303804018, -0.0697963163, -0.0384626761, 0.0173026305, -0.0502970628, 0.0443433225, 0.00104074599, -0.0320658572, -0.0087351054, -0.0202957187, 0.0116282413, 0.0491741039, 0.0163852926, 0.0177030638, -0.000320746825, -0.0227720216, -0.0321114063, -0.012240639, -0.109814838, -0.0099509, -0.00235661608, 0.0388489142, -0.00553310663, 0.0547434539, -0.00177113106, -0.0380018689, -0.0207400452, 0.0107409367, 0.0149440365, 0.0147305364, -0.0122211063, 0.019385213, 0.00432320265, 0.00300556119, 0.0144444415, -0.00867764838, -0.018002253, -0.0254321694, 0.0270756837, -0.0134473182, 0.0160357207, 0.0303930435, 0.0466369763, -0.0340979248, -0.0156233553, -0.0230286494, -0.036802724, 0.0183142256, -0.0444609188, -0.00596322771, 0.0130942017, -0.0047831866, -0.0084002018, 0.0189633388, 0.0266209226, 0.032202512, 0.0277312491, 0.0107377768, -0.0123937922, -0.0295217782, 0.0305580944, 0.0115280459, -0.0379287824, -0.0305203293, -0.0264629852, 0.00031312689, -0.00115120038, -0.0128160287, 0.0014120593, -0.00583345257, 0.00701636262, 0.0198552739, 0.0144927949, -0.00311279576, -0.00282444921, 0.00968983676, 0.0345712081, 0.00579050323, -0.0297438502, 0.0274587702, -0.00477042235, -0.018262703, -0.0126212249, -0.00623706402, 0.0306000449, 0.0325486027, 0.0223857295, 0.0361393, -0.00292492448, 0.0304250177, -0.0199551117, -0.0285832305, -0.0320272706, 0.0435835458, 0.0215562247, 0.00937853195, 0.044731494, -0.000359549, -0.00816903, -0.00105128868, 0.00234114053, 0.0183108058, -0.0139711117, 0.027492445, -0.0144878784, -0.0321210064, -0.0262537599, -0.00139873521, -0.000868782168, 0.0211112201, 0.0269828532, -0.000779551629, -0.00923487823, -0.034674, 0.0361003131, -0.0158444904, -0.00423085829, 0.0148791978, 0.0169689469, -0.0171513017, 0.016397588, -0.00528819067, 0.0107668545, -0.0431567356, -0.00755644357, -0.021798525, -0.0104030799, 0.00620703865, -0.0523768924, -0.0130033055, 0.0368517, 0.020610135, 0.0101866284, -0.00478440151, 0.00871661864, 0.0333556868, -0.0237485711, -0.0213546678, -0.0166747104, 0.0279300101, -0.00487541035, -0.00027218918, 0.0355430879, 0.029077189, 0.00409195572, 0.00679781893, -0.0225418713, 0.028788412, -0.0152070392, -0.012492964, -0.0156514682, 0.0230540838, -0.0196206234, -0.0297304057, -0.033226382, 0.0533739105, -0.0186005309, 0.00351745682, -0.0052103526, 0.0468401834, 0.0249026045, 0.0257340353, -0.00322776521, -0.00135141169, 0.00762393652, 0.0426214337, 0.00682509085, -0.023723051, 0.031273894, 0.00259914086, 0.0114150709, -0.020903809, -0.000103337574, -0.00433953805, -0.00667962292, -0.0355205834, -0.0254508276, 0.0589874685, -0.0192686431, -0.0120733269, -0.0294957794, -0.0486063361, 0.00221866486, 0.00918196235, 0.00670623221, -0.056681715, -0.0500469878, -0.0192477368, 0.00379496627, -0.0598348528, 0.0132102044, -0.0129705239, -0.00878842734, 0.0220180247, -0.0211362801, -0.0225131381, -0.0180453863, 0.0227171686, -0.0494769253, -0.009277598, 0.0196070131, 0.00980064552, 0.0220986381, -0.0101819336, 0.0210178886, -0.036203824, -0.00212697126, 0.0194315072, -0.0133943018, 0.00867182948, -0.0262184273, -0.0103461305, 0.0192372389, -0.00844645873, -0.0118720718, -8.03252551e-05, -0.00990096107, 0.00269627571, 0.0193372294, 0.00245462614, -0.0275414623, -0.0158341546, -0.0115386555, -0.000372477924, -0.0205420032, -0.00305771921, -0.0200251751, -0.0306014586, -0.0124597745, 0.00631781714, -0.0139968628, -0.0343272649, -0.00153064576, -0.015056055, -0.0162927248, -0.057905715, 0.0227711406, -0.0656002611, 0.0262199212, 0.0730096921, -0.0272159595, -0.0281825271, 0.0201511644, 0.00643337565, -0.00428432971, -0.0376003608, 0.00315312226, 0.0138506358, 0.00908830483, 0.0159925353, 0.00537243159, -0.022396544, 0.00126595458, 0.00422277441, -0.00427999115, -0.0349802636, -0.0190407299, 0.00668614265, 0.00630206289, -0.0285770036, 0.00463033142, 0.00608425867, 0.0225863531, 0.00357341277, 0.00633598212, -0.0672954097, 0.0502522625, -0.0127257127, -0.00266746315, 0.0316461325, 0.0198364817, -0.00963405892, -0.025866529, -0.0109094186, -0.0128207495, -0.0184925981, -0.000910916948, -0.0189172365, 0.0238339473, 0.00739771547, 0.0291565936, 0.0348231867, -0.031426888, 0.0289495308, 0.0395991355, -0.0207407, 0.0118706301, -0.0035919759, 0.0103676636, 0.011102587, -0.0235758349, 0.0188942011, 0.0243750103, 0.0226901136, 0.0288140494, -0.00717398571, 0.0314059854, 0.0174370129, 0.0372344851, 0.00179765117, -0.0357494392, -0.0248396043, -0.0479065888, -0.00174378825, -0.038825959, -0.00235022465, 0.0223696847, 0.00873369165, -0.0263029877, 0.0169766955, 0.0150134675, -0.00199547014, 0.0275589842, 0.0635025874, -0.000563749694, -0.0162278, -0.0120149385, -0.0345629379, 0.00508370763, 0.035485737, 0.0175717082, -0.0470133498, -0.00869121682, 0.010923068, 0.00949097797, 0.0323554911, 0.0295769293, 0.000632873969, -0.0155534474, -0.0207712501, -0.0146304788, -0.0315298513, 0.0396078713, 0.0289678797, -0.0153287984, -0.0374333858, -0.00222592382, 0.0264716446, 0.012429364, -0.0253200606, -0.0221883487, -0.0188512765, 0.0183477905, 0.00698418682, -0.0171122234, 0.0283693615, 0.0197696406, -0.0263671335, 0.00351807149, 0.00525156688, 0.000331705814, 0.0323599689, 0.0221840162, 0.0336233266, -0.0253602155, -0.035051737, 0.00161148899, 0.00376106892, -0.0212442074, 0.0328493416, 0.031373173, -0.00835172553, -0.0105855502, 0.0353875235, 0.0408613309, 0.0123061817, 0.00988009758, 0.0517999493, -0.0149655687, -0.0183716882, -0.0295024738, 0.000525319949, 0.0312334467, 0.00907263532, 0.0433193743, -0.0212846864, 0.0337317511, -0.00744356494, 0.0514533035, -0.0138602089, -0.0177733377, -0.00224462827, -0.0215541124, -0.0310017057, -0.0113022244, -0.0109037664, 0.0131875034, -0.016467467, 0.0223826841, -0.0208231602, -0.0256421734, 0.0049009677, -0.0524004959, 0.012481411, -0.00826593209, -0.0335833244, -0.0192976929, -0.0188108552, 0.032509394, -0.0016261416, -0.00298186694, -0.0212858152, 0.023287341, 0.0114984205, 0.0277855247, 0.0255452674, 0.0119199967, -0.0417541899, -0.0181147866, -0.00806637667, 0.0151798688, -0.0297628772, 0.0038605833, 0.0119044418, 0.0365203731, 0.0230191164, -0.00764838792, 0.0482439734, 0.00662750611, -0.0557749942, 0.0294648577, 0.0147119798, -0.028449906, -0.0673194826, 0.0205331501, 0.00477168057, -0.0172776803, 0.0115458332, 0.000103050166, 0.00694112247, 0.00864590053, 0.0273744352, 0.0210103635, -0.0410726815, -0.0146080684, -0.0234689061, -0.01499906, 0.0211589709, 0.0157518592, -0.0123511013, -0.0324617624, -0.0210419353, -0.0254484266, 0.0149323884, -0.00372878881, 0.0399255231, -0.032647647, 0.0158252865, -0.0169186741, 0.0261516329, -0.0135393059, 0.00290784729, 0.0181593671, 0.0203112233, 0.0182608217, 0.0275405981, 0.056357991, 0.0294872019, 0.0212633684, -0.0333678201, -0.0155000174, 0.0183879454, 0.00153452437, 0.000867655384, -0.0863157064, 0.012707008, -0.00179721543, -0.0127413133, -0.00991693605, -0.0200780872, -0.0140825091, -0.00551140681, -0.0120087219, -0.00303221401, -0.0105729634, -0.00474628061, 0.0221110322, -0.0348792076, 0.0233827084, 0.0378817581, -0.0374904424, 0.034800373, 0.00937597547, 0.0447167419, 0.04362325, -0.0149980895, -0.00930113811, 0.0281944703, 0.0237823166, 0.00322809, 0.0178649388, -0.0260889065, -0.0221567918, 0.0287982468, 0.009363316, -0.0131885149, -0.01303114, -0.022653766, -0.0315683372, 0.004965025, 0.0270237979, -0.00383855, 0.0105587831, 0.00144633767, -0.0204718653, -0.019912323, -0.042539537, -6.66128253e-05, 0.0189099051, -0.00246648421, -0.0152791804, -0.0257791, 0.00777144544, -0.0130155254, -0.00223141117, -0.0360525474, 0.0130805569, -0.00501839584, 0.0258621182, 0.0179239735, -0.00517296279, 0.00299582118, 0.0100552309, -0.0208893195, -0.0317631401, -0.0233097207, -0.0768165067, -0.0125761302, 0.0148567427, 0.00466694217, 0.0172803644, 0.0372617729, -0.0399821699, -0.00858409703, -0.0227191336, 0.00921635702, 0.032317318, -0.0162629876, 0.0217187516, -0.0131745059, -0.0340145752, -0.0382481813, 0.0105726141, -0.0174831301, 0.021924343, 0.00417874, 0.0062405495, 0.0431050882, 0.000636194076, 0.0150719462, 0.0113958381, -0.0620233901, 0.00168905722, 0.0136946095, -0.0054337075, 0.0259345416, 0.0360231102, 0.0256628059, -0.0268770419, 0.0371142514, 0.0332519896, 0.0165386256, 0.0107776355, 0.0493740104, -0.00495284703, 0.0194926038, -0.0219582524, 0.00893186778, 0.0256060306, 0.00895376131, 0.00385443, -0.00904617365, 0.00995542947, -0.0741133, -0.0359518602, -0.0339243189, -0.00307062455, -0.0157608688, -0.0242419504, -0.0170538723, -0.039765168, -0.0260653235, 0.0121070733, 0.0110856695, -0.0510048121, 0.0624287128, -0.00945977122, 0.0184731, 0.00595654268, -0.0120871374, 0.0052154162, -0.0246037561, -0.0173998959, 0.0128455423, 0.0112882359, 0.021072261, 0.0403278172, -0.0235569831, 0.0064198575, 0.00573669607, -0.00739110727, 0.0108508701, -0.00630346313, -0.000852239144, -0.0117919613, -0.00935430359, -0.00450617168, 0.00308163813, 0.0353628248])\n",
            "Time taken:  0.9994926452636719\n"
          ]
        }
      ]
    },
    {
      "cell_type": "code",
      "source": [
        "#!python3 predict_request_gapic.py --text 'license plate from alaska' --image_file '/content/drive/MyDrive/LicensePlate/states/alaska.png' --project 'fifth-composite-395916'\n"
      ],
      "metadata": {
        "colab": {
          "base_uri": "https://localhost:8080/"
        },
        "outputId": "978aff72-5f96-4e4d-df82-9caddd07e5b2",
        "id": "DgQXZZJmQ15n"
      },
      "execution_count": null,
      "outputs": [
        {
          "output_type": "stream",
          "name": "stdout",
          "text": [
            "EmbeddingResponse(text_embedding=[0.0216732733, -0.00807506777, -0.0108593721, -0.000838947832, 0.0162368361, 0.000222335264, -0.00819236133, 0.0313541703, -0.00647024577, -0.0094154, -0.000764641736, 0.0246840212, -0.0292376783, 0.0153663885, 0.00506238872, 0.0191824045, 0.0251756385, 0.0185546074, 0.00148858421, 0.00543121202, 0.00293678488, 0.00350003317, 0.0187539011, 0.0100120101, 0.0109208347, -0.0181238838, -0.02002443, 0.00627195789, -0.0047960314, -0.0133685051, 0.028200807, 0.0141252475, -0.0133924494, 0.0253215488, -0.0265743397, 0.0219379626, 0.0408052318, -0.018320946, 0.0267020352, -0.00506631285, 0.0209606346, 0.0108232452, -0.00979478564, 0.011969869, 0.0159845259, -0.00679251784, -0.0221450776, 0.0223647617, 0.00272142282, 0.0118014738, -0.0140255215, 0.00942138396, -0.021730125, -0.0194216687, -0.0262423698, -0.00234472798, 0.00409144, -0.047504805, 0.0242771525, -0.000829998171, 0.0286850408, 0.0232986957, 0.00672793388, -0.0132408226, -0.0165270381, -0.0259091873, 0.00892630499, 0.0153698456, 0.00177002768, -0.0116060274, 0.00212567183, 0.0131675014, 0.0167840477, -0.0325424522, 0.00195950572, 0.0156633053, 0.0173484161, 0.00349146198, -0.00115808856, 0.0157231726, 0.0214208961, 0.0077166413, 0.0306079797, -0.00565295666, 0.042203974, -0.0265067928, -0.0152456621, 0.0193684474, 0.00811913516, -0.0013735129, -0.0183960292, -0.0085729, 0.00934437476, -0.00203839364, 0.00426687952, -0.0372477956, 0.0213746168, 0.0098779127, -0.02900251, 0.0156852975, 0.00844097696, 0.0283259731, 0.0224486049, 0.0100013139, -0.00350467232, -0.00760073122, 0.0234333351, 0.0240615346, 0.00816420652, 0.0327867568, 0.0332967713, 0.012397184, 0.0235268213, 0.035874553, 0.0178644788, 0.0453628711, 0.0752239525, -0.0406302325, 0.00737968925, 0.0107738944, -0.00863515306, -0.00546478666, -0.00742262509, 0.0396792032, 0.00635613361, -0.00849020202, -0.0216907933, -0.0274879131, -0.0132721616, 0.0146844331, 0.00501065562, -0.00560019724, 0.0331725292, 0.0426595919, 0.0248023383, 0.0193611402, 0.0270442739, 0.0491211191, -0.00679932, -0.00241545029, -0.015561752, 0.0175240356, 0.00356070604, 0.00673482288, 0.0276777297, -0.0009245603, -0.0163690113, -0.00782232825, -0.0159939, 0.00550381374, 0.00385288545, 0.0354756452, 0.016527, 0.00485040387, 0.0045643081, 0.0260908566, -0.0071701128, 0.000479470211, 0.000950237969, 0.000858286221, -0.00539381057, 0.0320800766, 0.00555264391, -0.00742055196, 0.00864886772, 0.010739821, -0.00195693923, -0.0165051278, 0.00648724, -0.00646314025, -0.0134014571, -0.00438569626, -0.010113026, 0.0259493776, 0.0426102169, 0.0314614512, 0.0185101815, 0.0297565777, -0.00911961123, 0.000462938158, -0.0323164091, 0.0289983731, 0.0261151791, -0.00227068039, 0.0153096085, 0.00723043038, -0.0365840942, 0.0194791462, 0.0307603888, 0.014952152, -0.0116482237, 0.0205328912, 0.00326551334, 0.029616233, -0.0208036285, -0.0280844569, -0.0185238868, -0.016958151, 0.00045986136, 0.0250043143, -0.00428835815, -0.016949676, 0.0143024018, 0.0275541823, -0.0130579285, 0.0232579, -0.00917966943, 0.000829722383, 0.0252190586, 0.000898511265, -0.0107767479, 0.0286439341, -0.0116001414, 0.0157215986, 0.00931262225, -0.00997734256, -0.00577976741, -0.00967161451, 0.0249601491, 0.0238611177, -0.0134976609, -0.0191692766, -0.0181458853, 0.00746044144, 0.00935421325, -0.0103991227, 0.000690185523, 0.0370949358, 0.0686516911, 0.0186248813, 0.00742869405, 0.00919469725, -0.00474104844, -0.0146655049, 0.0147699285, -0.00991746876, -0.0268615074, -0.0172611475, 0.0334864259, 0.00147197943, 0.00750687346, 0.0182264056, 0.0145888086, -0.00239753793, 0.00938020833, 0.0161465965, 0.0189058855, -0.00888105948, 0.00474980799, -0.0241287909, 0.0353423, 0.034777835, 0.000946496963, -0.0153447902, 0.00226045679, 0.00566291949, 0.00837696157, 0.00785711687, 0.0115191359, 0.0256952643, 0.0167485271, -0.0108503327, -0.00606946973, -0.0105399499, -0.00138137664, 0.00965662859, -0.0586824901, 0.00696107931, 0.0257288162, -0.018736735, -0.0282913502, 0.0306303, 0.030073978, 0.0334926844, 0.00625940226, 0.0274220742, 0.00886899233, -0.00668787025, 0.017826464, 0.0143191107, -0.0255104844, -0.00316434517, -0.00571490498, -0.0111572416, 0.0057565216, 0.00390626676, -0.0018916094, -0.0289939083, 0.0117590604, -0.0225081425, -0.0324770845, -0.00328164897, 0.0144710252, -0.020020077, 0.00280889799, 0.0195812229, 0.0151811857, 0.043206051, 0.0299520921, 0.00868192222, -0.00400409289, 0.00166395144, -0.0119748591, 0.00367466337, -0.0237385202, -0.0297235213, 0.0414021164, 0.0217185467, -0.0107038189, -0.00252366415, 0.00655007176, 0.0170062967, -0.00330830389, 0.010109785, 0.00683454797, 0.0345492214, 0.0406358801, -0.0272751767, -0.0309789982, -0.00019859118, -0.0126454132, -0.00631601503, 0.0208713301, -0.0250427127, 0.0238307081, 0.0188030712, 0.00825595856, -0.00524245109, -0.00607666606, 0.024540998, 0.0264945701, 0.0174253136, -0.0167594813, 0.0203693174, 0.00793562829, -0.00274492265, -0.0285592414, 0.00307630934, 0.00897390116, 0.0292688198, -0.0171287451, 0.0224878099, 0.00803258177, 0.0357447937, 0.0254188515, -0.00992212258, 0.00202618469, 0.0050534308, 0.0143162645, -0.0293765292, 0.0486002639, 0.00926868618, 0.0181883778, 0.00542584667, 0.0079853991, -0.0227050278, -0.0197569747, 0.00702755665, 0.0139349597, 0.0179010388, -0.00921563897, 0.0234078765, 0.000867912197, 0.0224258937, 0.0286827926, 0.0125529869, 0.0193747319, -0.0151364412, 0.0119518247, -0.00642287312, 0.0020526289, -0.000540369307, -0.0459247679, -0.012062978, 0.0191884656, 0.0281276833, 0.00180597114, 0.00881713815, -0.0107340235, -0.00953241438, 0.0187347699, 0.0550059602, 0.0139156114, 0.00536513422, 0.0200267676, 0.00788112078, 0.00781596359, -0.00478428369, 0.0168828275, -0.00833718665, 0.0244511254, 0.0250511095, 0.0216500293, 0.0162868351, 0.00641774898, 0.00275331875, 0.00670731114, 0.0198996365, -0.00115720218, -0.0247859694, -0.00350169907, -0.0244467333, -0.0257398095, -0.00632565422, -0.0237913653, -0.0156831145, 0.00235079392, 0.0112604378, 0.0143679753, 0.0395378321, 0.0140925311, 0.0135726649, 0.0293888375, 0.015399754, 0.00264548743, -0.0279973559, -0.185953856, 0.000196510504, 0.0150563894, -0.0178104602, 0.00096584647, 0.0011065962, -0.00746822171, 0.0152151072, -0.0103443582, 0.0346248485, -0.0057011717, -0.0157985184, -0.00152522477, -0.0069010281, 0.0286774617, 0.0254642982, -0.0460092351, -0.00586401345, 0.00685277348, 0.0104363617, 0.008783211, -0.02294375, -0.0044414713, -0.167000487, 0.0358984023, 0.023519529, 0.0313045979, -0.0170011967, 0.011580497, 0.0147677884, 0.0166801792, 0.0269241836, -0.00260005915, 0.00156216428, -0.001541059, 0.0411623232, -0.0254346766, -0.028214775, -0.000701191719, -0.00131080498, -0.00574080367, -0.0152910324, 0.015431013, -0.010721012, 0.00913772453, -0.00199001562, 0.0644237623, -0.0300397277, 0.0289180372, 0.0196988359, -0.039254237, 0.0413309969, -0.0172911044, 0.0168150179, -0.0325706154, -0.187610328, 0.0121499011, -0.0068938816, 0.0302403439, 0.0343733244, 0.0064746826, 0.00145761808, -0.0504137948, -0.0202407259, 0.0152840791, 0.0180426668, -0.0231871344, -0.00693981862, -0.00475232303, 0.0306430794, 0.0183361042, -0.0177809689, -0.0158566441, 0.00987436716, 0.0087841209, 0.00565574458, 0.00927391555, -0.015608984, 0.00984382071, -0.0250828583, -0.0243676957, -0.0179024804, -0.0219482277, 0.0125416173, 0.0103657963, 0.0181631334, 0.0109144, -0.0174777303, -0.016768273, 0.0305322912, -0.0325953886, 0.0194034651, 0.0321234763, 0.00290805777, 0.0279271342, 0.00161738566, -0.0336902961, 0.00784814171, -0.000418156, 0.00603203289, -0.0530502535, 0.000744050427, 0.0119415605, -0.00595225394, 0.0174423065, -0.00781591, -0.00943584554, 0.0179173537, 0.000268896576, 0.00900616124, 0.0337921567, 0.0197319183, 0.0382337458, 0.0128631899, 0.000756991794, 0.0356645435, 0.0300544202, 0.00428242702, 0.00154692901, -0.013172036, 0.0547463633, -0.0128269484, -0.00129461079, 0.0290534925, -0.00808586087, 0.0011716166, -0.00381603092, -0.0134068038, 0.0544706061, 0.0167345908, 0.0536791533, 0.0143186087, 0.00340743829, 0.0266422778, 0.00133935583, 0.0136304433, -0.103402406, 0.00873693451, -0.0118966075, 0.0224246886, -0.016907271, 0.0432706028, -0.013631179, -0.00345402025, 0.00961399917, -0.0281974822, -0.0137460986, -0.0229212567, -0.00838248432, 0.00510706659, -0.0103306482, -0.0167017467, 0.0206818972, -0.0196007378, -0.0239127148, -0.00561331119, -0.000815683627, 0.0207475256, -0.00618126942, 0.0354650803, 0.011369749, 0.0272561181, 0.0734450594, -0.0364859924, -0.0261883102, -1.59255051e-05, -0.00393745303, 0.00135883421, -0.0495053604, -0.0161293242, 0.00328624458, -0.0244439337, 0.0140864132, 0.0204808, 0.0109696854, -0.00749973953, 0.021427365, 0.0157952346, -0.0236038882, 0.012090385, 0.0102648307, -0.0137849664, -0.00672696112, -0.010130913, 0.0057793078, -0.00443082489, 0.01519839, 0.00587647781, 0.0109939016, 0.0212762691, -0.0246554036, 0.0124979177, 0.0283836666, 0.0188210271, 0.00508752, 0.00221943972, -0.00722183613, 0.0361749418, 0.00744657079, -0.0172736496, 0.0207784437, -0.0142421555, 0.0227035508, 0.002675005, 0.0290395971, -0.185891122, 0.0149791427, 0.0456145778, -0.146857634, -0.0129296407, 0.0170883182, -0.00442706933, -0.0018048184, 0.000381737918, -0.00712712295, -0.00949284155, 0.00409504911, -0.01278158, 0.0388029814, -0.0450639836, -0.00208234088, 0.0432691276, 0.0215255469, -0.0126781045, 0.0118784057, -0.0246901084, 0.0192727726, 0.00764533, -0.0217363276, 0.0323101543, -0.0018226942, -0.0111943074, -0.00517781358, 0.012528426, 0.0170735959, 0.0232494399, 0.00362378266, 0.00605428638, -0.00595518155, -0.0127202161, -0.0226383954, -0.0106081469, 0.00714325346, -0.0141691575, 0.00103382021, -0.0369331464, -0.00418423768, -0.00285666971, -0.0278181341, -0.0180895794, -0.043588277, 0.0310402531, 0.0125283711, -0.0180782694, 0.00169952889, 0.00140361942, -0.0103125377, -0.051184833, -0.0136058815, -0.0253555272, 0.00016444776, -0.00558446208, -0.0137820914, 0.00274941465, 0.0204961449, -0.01325012, -0.0186039098, 0.0117859775, -0.0148990415, 0.0136008775, -0.0276668128, -0.0055786646, -0.0113104908, 0.0191785078, -0.0101629645, -0.0232074708, -0.00511837285, 0.00169252476, 0.0162094068, 0.0111184409, 0.0108526656, -0.00333561073, -0.0077008754, -0.0375245064, 0.00973779056, -0.0349323153, -3.51674062e-05, 0.0425267667, -0.0179876443, 0.0151231587, 0.03382181, 0.0226491857, -0.0285680871, -0.00721205119, 0.00698190369, -0.00251051434, -0.00941474363, -0.0112545574, -0.0270241778, 0.00609021029, 0.0239169542, 0.0456869043, 0.0118535971, 0.00477070641, -0.00809911266, 0.00416662171, -0.0162028708, 0.0231278948, -0.010162198, 0.0130724963, 0.00313247927, 0.0213926341, 0.0203984641, 0.00866084918, 0.00402983045, 0.0377789922, 0.0314568691, 0.0102792913, 0.0382184871, -0.0611328557, -0.0542819276, 0.00138814154, 0.058726795, 0.00441835076, 0.0340493508, 0.0146953762, 0.0164323188, 0.0179386511, -0.014417924, -0.016104199, 0.033945024, -0.031753, -0.0010777429, 0.00207903911, 0.00925909821, 0.0104734544, 0.0118556023, 0.00817265548, 0.0136819081, 0.0130940359, 0.0114152664, -0.0160427485, 0.015631631, 0.0122143738, 0.0159470234, 0.0334573872, 0.0106645133, 0.0145399943, 0.00824355707, -0.00664003, -0.0181818828, 0.0194077808, 0.0316384695, 0.0224372353, 0.0283988658, 0.0145355957, 0.00190552801, 0.0034056, 0.00373342959, -0.000901907566, 0.0129131153, -0.00291287038, 0.110425182, 0.0148001565, -0.000598655373, -0.0239356905, 0.0146641489, -0.0173576865, -0.0259268191, -0.00292358687, -0.02419498, -0.025307402, -0.0226480365, -0.0151866516, 0.0284821801, 0.00722397, 0.0362858437, 0.0126300231, 0.00343130133, -0.0114759095, -0.025542967, 0.0355041958, 0.0168887246, 0.00588087924, 0.0367355607, -0.0197471157, 0.0176292788, -0.0452941507, 0.0301956143, 0.00998503715, -0.00479924632, -0.00750812609, 0.0167877, 0.0256681796, 0.0175968446, 0.0224956032, 0.0289066546, 0.0186547041, 0.03035504, -0.00510479603, 0.0160808507, 0.014884132, 0.00700387778, 0.0275582224, -0.0242499691, 0.017988516, 0.0159854908, 0.00823991839, 0.0172532015, -0.0139345033, 0.0269106794, 0.0437057689, 0.0197562799, -0.00631349673, 0.0297708251, -0.0197688229, -0.0321900584, 0.0553294569, 0.0111918543, 0.00463826582, -0.00780555233, 0.00187429553, 0.00604898902, 0.00253335154, 0.0070258691, 0.0479636863, 0.00276451441, -0.0469785035, 0.00846616179, -0.0190195851, -0.0140781561, -0.00802508835, -0.00784501806, 2.5736168e-05, 0.0165885519, -0.0139877424, 0.0195821095, 0.017831631, -0.0147904037, -0.00582252163, 0.177190661, -0.0101423599, 0.01001448, 0.0114445481, -0.00667622127, -0.00994442496, 0.05002122, -0.014709495, 0.0221571047, -0.00391565356, 0.00464169169, -0.00275191432, 0.00048358686, -0.00806462578, 0.0419198349, 0.0427919626, -0.00892074313, 0.0286650378, 0.0143940775, -0.00666074222, 0.00320942304, -0.00537424348, -0.00799216703, 0.0217437968, -0.0251033269, -0.0094874436, 0.0204454605, -0.00341175892, 0.00768287294, 0.0107103037, 0.0169003922, -0.00957969856, 0.0560153574, -0.00117012288, -0.0334402323, 0.0110549126, 0.0279797427, -0.00421549194, 0.022438867, 0.0263322927, -0.0087963175, 0.0568456762, 0.00945064519, -0.0145848477, 0.0294741262, 0.00824165158, 0.0271257386, 0.016182974, -0.0333987847, 0.0265659299, -0.0366802141, -0.00985418819, 0.0055967113, 0.0175680816, 0.0122135766, 0.0539797433, -0.00874815509, 0.0161648542, -0.0203673504, 0.00789735373, 0.0213818736, 0.00178240065, 0.00356963137, -0.014073276, -0.00625068136, -0.0402764976, 0.00106492836, 0.0281478278, -0.00405914197, 0.0131563647, 0.00617569452, 0.025562305, -0.0051315343, -0.0153298248, 0.0255226847, -0.0173614435, 0.00126373908, -0.00483926618, 0.0298550725, 0.0161400512, -0.0376614369, -0.0284318738, -0.0264176801, -0.00287610316, 0.0122916428, 0.0503065102, -0.0120874029, 0.00383400591, -0.0142805213, 0.00388126029, 0.00674369372, 0.00696967728, 0.00681862468, -0.016359631, 0.026079528, 0.0172252543, -0.0166561734, -0.00283115148, 0.0126338, 0.00464796321, 0.0192327183, -0.0326965, 0.0413463078, -0.0044734939, 0.00777483638, 0.0135821523, -0.0119274976, 0.0157964211, 0.0108343, 0.0111972252, 0.0332125947, -0.0215641018, -0.00347238895, -0.0396005474, 0.012039653, -0.0315202437, -0.00419035647, -0.00679916609, -0.00451793, -0.00140789943, 0.0381576158, 0.00314667239, -0.00807711, -0.00837738067, 0.00409876416, -0.000701942889, -0.0203408506, 0.00106965436, 0.010072425, 0.00546203274, 1.25974029e-05, -0.0236090571, -0.0316202193, -0.00635911198, -0.020117268, -0.0144856414, 0.00202096393, 0.0122410357, 0.0067791068, -0.0181197952, 0.0440149903, -0.0433238, 0.00606979057, 0.0185130127, -0.0154476892, 0.0125412364, -0.0410054, -0.0264926683, -0.00384699902, 0.0201498549, -0.0111024957, 0.0206015185, 0.0281219762, -0.0175138749, 0.00576197123, -0.0112690078, 0.00711466419, -0.00164829916, 0.0017626551, -0.00929375831, -0.0277241357, 0.00273506972, -0.00973453466, -0.0135026025, 0.0235485937, -0.00654678419, 8.57739651e-05, -0.00417247, -0.00410745433, 0.0176310986, -0.0265888721, -0.00370756607, -0.0142972479, 0.0138484305, -0.0635300726, 0.0460838601, -0.00993287284, 0.0054853051, -0.0171062164, 0.00792077743, -0.000471756328, 0.00134860224, 0.027058363, 0.00446113804, 0.00472670654, -0.0266727172, 0.00784924533, 0.00294772582, -0.00939012, -0.0192419756, 0.0102473684, 0.0136275869, -0.0222780108, 0.0169539358, -0.0143726766, 0.00227219379, -0.0278608594, -0.181377918, -0.0287930984, 0.0135028875, 0.00879953336, 0.0195548479, 0.0276944302, -0.00586271891, 0.0184779614, 0.0215536114, 0.0149176689, 0.0330749713, -0.0434523709, 0.0636799112, -0.00121457723, -0.00255079311, -3.08682465e-05, 0.000879931322, 0.00639828201, 0.0146105327, -0.0230589285, 0.00689197099, -0.00866765529, 0.0144080212, -0.00422164192, 0.011079493, 0.166194126, 0.0291219633, -0.0426810347, 0.00413157092, -0.0096188914, -0.00211948971, -0.0112805059, -0.00444922363, -0.000720489596, 0.0157295074, -0.0171677582, -0.000213691077, 0.0379063599, 0.00441561965, -0.00105488498, 0.016249761, -0.00466468185, 0.0308516957, 0.00449980656, 0.0386474952, -0.00541199837, -0.0231020041, 0.00950547867, 0.0218894184, -0.041078344, 0.0201287474, -0.00208280771, 0.0428806692, 0.0285360385, 0.00365377404, -0.011239945, 0.0151485782, -0.0215396043, -0.016119929, 0.0140780648, 0.0384968482, -0.00365438266, 0.00947596133, 0.00611785427, -0.0249714628, -0.0156700257, 0.0111708827, 0.00094975048, 0.0275565777, 0.167492837, -0.0141564785, 0.0158176869, -0.00263337, -0.0194329191, 0.00889105815, 0.00681034708, 0.00351144909, 0.00809136592, 0.0270124134, -0.0104128551, -0.0156348608, -0.0267302599, 0.0283320174, 0.00993684, 0.00534191728, 0.00986706186, -0.00827043876, 0.0186080802, 0.0136391791, -0.00501269475, -0.0304400027, -0.000333263975, -0.0148396343, -0.00596972834, -0.00305269, 0.0101161152, 0.00901705, 0.0518214256, -0.0110016642, -0.0178113189, 0.0151358824, -0.0312848277, 0.0179362614, -0.0179001205, -0.00789676048, -0.00387017126, -0.00804158114, -0.019196596, -0.185477376, 0.0334365778, -0.00239512883, 0.0108872494, -0.0200044215, 0.0225548819, -0.0333560072, 0.0153571265, 0.175812811, -0.0253143664, -0.00928694, -0.00561390724, -0.0057911654, 0.0045252149, -0.0170276053, 0.000803765841, -0.00759748509, 0.00998178311, 0.0355489329, -0.00618866924, -0.00692244945, -0.0121884821, -0.00333271199, -0.0164602697, 0.00642802101, -0.0199520644, 0.0260422584, 0.0087134568, 0.00583316805, -0.0239935797, -0.009351491, 0.0200034473, -0.184919178, -0.0140333092, -0.0178940203, 0.0204689838, 0.0359402113, 0.00785661396, 0.0229066722, -0.0243718736, 0.00258638756, -0.0213574134, 0.0216026343, 0.0128459781, 0.0120849181, 0.00034478039, 0.00216742209, -0.186081544, 0.0118116131, 0.00485412683, 0.0357486419, 0.0266545527, 0.0153352236, -0.0212224126, -0.00855877344, 0.0101638176, 0.0139215486, -0.0439532287, 0.010629328, 0.00549722556, 0.016600579, -0.00788579, -0.0185889751, -0.00873838551, -0.0057969857, -0.00104448199, -0.00441855798, -0.00890693255, -0.00939038862, 0.0426478721, -0.00282597332, -0.0228255205, -0.00447350089, 0.0435412489, -0.00396990217, 0.0391689762, -0.0259112213, -0.00761019625, -0.0212231223, 0.00771633489, 0.0194086023, -0.00527078798, 0.0286907293, 0.0163441338, -0.0134286014, 0.00673502358, -0.0245596915, 0.0258241259, 0.00692360895, 0.00641866075, 0.0386941656, 0.0192151349, -0.00716467481, 0.0395315774, 0.0234635826, 0.00735889515, -0.00349539379, -0.03069821, -0.0120018106, 0.0437109359, -0.0309156794, 0.0199580118, 0.0084009748, 0.0172028597, -0.00352156465, -0.00574577507, 0.00773188286, -0.026975045, -0.0204595719, -0.00416868553, 0.0251532458, -0.00643881224, -0.0473866276, 0.00640214793, 0.0186909232, -0.0106188152, 0.000176951784, 0.0100542363, -0.0220543928, -0.00331694866, 0.0224847309, 0.00242834259, 0.01666913, 0.0178298261, 0.0113646844, -0.057270702, 0.0190706737, -0.00764433248, 0.0204350837, -0.0122472085, 0.00707563385, 0.0182909612, 0.00133594614, -0.0176283438, 0.00878314488, -0.00509953266, -0.00986436568, -0.00177650945, 0.0311229415, -0.00852129608, 0.000978895347, 0.0178268272, -0.00660374248, -0.015010234, -0.000335227553, -0.00611764332, 0.0194156673, -0.0028011112, 0.00306344521, -0.0238174945, 0.0109948013, -0.0143779544, 0.00375831756, -0.0448842421, -0.00199744571, 0.00423231162, 0.0235525407, 0.018128518, 0.00716542779, -0.00578474, 0.0258706417, 0.0214045644, -0.0270932987, -0.0192995016, -0.0110959187, -0.00636874046, -0.019188296, 0.0197804663, 0.00452685589, -0.0528402217, -0.0024722917, -0.0200345535, -0.0101883551, -0.0136652021, 0.0166087169, -0.0111570265, 0.0181111265, 0.0486048833, -0.00382625498, -0.0175142139, 0.00900271535, 0.0276495609, 0.0245718695, -0.00297467317, 0.0141254608, 0.0168121941, 0.00102755544, 0.000506126788, 0.00384087837, -0.00533559546, -0.0110171447, 0.00246228185, 0.0245673712, 0.00809250306, -0.0338334814, -0.000306343049, 0.00192964613, 0.00825330801, 0.0360148847, -0.00816056225, 0.00556888338, 0.00979080331, -0.00652551884, -0.00329081016, 0.00684032217, -0.0144412983, 0.0239677988, -0.0313767828, -0.0157518107, -0.0108844852, 0.00316027552, -0.02244059, -0.00390663557, -0.000714876573, -0.000910544, 0.0149670104, -0.0091832066, -0.00679793768, -0.00727583189, -0.000931125775, 0.00726085, -0.00881859101, 0.00514485408, 0.0506335795, -0.0192701612, -0.00869653467, 0.0144643011, 0.00970374234, 0.00317635015, 0.0204797294, -0.0062566488, 0.0218026377, 0.0282306671, 0.0364775509, 0.0160144549, 0.0137074655, -0.00359396823, 0.0164573733, -0.0216009207, -0.0157134663, 0.0079596173, 0.0135285314, -0.00907029212, -0.00319176703, 0.0324627981, 0.0236007143, -0.00934714545], image_embedding=[-0.014627534, 0.0565928668, -0.0191907082, -0.0171190333, -0.0273826532, -0.0271217059, 0.0196214635, 0.0480995737, 0.00582372444, -0.027554065, -0.0264337305, -0.0211857129, -0.0322267413, 0.0293696225, -0.0371244475, 0.0164962374, 0.00694389548, -0.00922446325, -0.0302984715, 0.00689237, -0.0176239144, 0.00620556762, 0.0398023464, 0.018508913, -0.0311567895, 0.00679794187, 0.00116190489, 0.00936622731, -0.0457647964, -0.0321940929, 0.023399299, -0.010252242, -0.0115282666, 0.00176295161, -0.0369495824, 0.000373115501, 0.00970781, -0.00909153, 0.00033685175, -0.0203736313, -0.0108368108, -0.0049695503, 0.00275625777, -0.00210890267, 0.0177789237, -0.00642210338, -0.0285876859, 0.028526, -0.0422040448, 0.0468399562, -0.0171681475, -0.00347677642, 0.00241505797, -0.0178473201, -0.00977905747, -0.0169301163, -0.0390730351, -0.0457974747, 0.0194586068, -0.00918919407, -0.0163300056, 0.00866851583, 0.0315826051, 0.0121451626, -0.0461977795, -0.0133048762, -0.00967951119, 0.0381008536, 0.0129479282, 0.0113613168, -0.0209574327, -0.0346053205, -0.0148910722, -0.0232733693, -0.0341720022, 0.00577898417, -0.016426472, -0.0192307644, -0.0278133713, 0.0257005747, 0.000276508, 0.0183132049, 0.0285593439, 0.00407772278, 0.0582447052, -0.0106364964, -0.0306098033, -0.01160709, -0.00752885314, -0.00170398632, 0.0375134833, 0.0144817922, -0.0107699391, -0.141795605, 0.0354742706, -0.0163655, -0.0169536117, -0.00826725457, -0.00122487138, 0.0179818813, 0.0161823202, 0.00770380348, 0.0264798794, -0.0266551562, 0.0232131612, 0.00711991079, -0.0200212058, 0.0324633904, 0.0517655313, 0.0471089706, -0.0204768982, 0.0301597193, 0.0279541947, 0.024995774, -0.00501982, -0.00371483341, 0.0177357718, -0.0193540081, -0.0185096227, -0.0199217033, -0.0136342272, 0.000468543731, -0.00440937513, 0.02115798, -0.0396091826, -0.0256472286, -0.0218551029, -0.0306648668, -0.00585566368, 0.000576071, -0.0450449102, 0.00898637529, 0.045758009, 0.0134693272, 0.00203850912, -0.0257756393, 0.00764392735, 0.00770729454, 0.00365042686, 0.0163561925, -0.0225333534, -0.0273396317, -0.00973025057, 0.0287134778, 0.00840447564, -0.00853982, -0.0368780307, 0.00635033147, -0.00964170229, 0.00887779333, 0.0123915141, 0.0210712776, -0.0259819981, -0.0427869409, 0.0336026512, 0.0142972013, -0.00776693691, 0.0239092242, -0.0338046104, 0.00504755042, -0.0106783453, 0.0360956378, -0.00719235186, 0.00619676663, 0.0116039757, -0.0240517687, -0.0135578848, -0.0319171, -0.0083123222, 0.00637790933, -0.0141610373, 0.0164325871, 0.0225975737, -0.0154860625, 0.0431650765, 0.0123689175, -0.00261124223, -0.0117580006, 0.00685643964, -0.00382323237, -0.0227205344, 0.0149380863, 0.00781356823, 0.0269787274, -0.00878281891, 0.0134614529, -0.0319449715, -0.0122490851, 0.020554943, 0.00143130159, -0.0448103435, 0.0198727772, 0.0112252133, 0.0138591295, 0.010008404, 0.0122388555, -0.0128871389, -0.00533909, 0.0264120195, -0.0151578719, 0.0214015674, -0.0353848338, 0.000495110929, 0.00248054019, -0.00817898288, -0.00419452507, 0.0240346827, 0.000427757681, -0.0276937392, 0.0083131874, -0.0110697541, -0.0164838266, -0.0157047603, -0.0128397485, -0.00929916184, 0.00029185618, -0.026975872, -0.0385944471, -0.00342317647, 0.0228877161, -0.011771081, -0.0181897804, -0.02396084, -0.0280715935, -0.0505565889, -0.0216668434, 0.0075134919, -0.0227692854, -0.0358564258, 0.0157544706, -0.0147589119, -0.00148650678, 0.0545763895, -0.0181907397, -0.00928405579, -0.0115133626, 0.00197150861, 0.0201829337, -0.00307662878, 0.000660750433, -0.0149664162, 0.0088049816, 0.0259326641, -0.0304642655, -0.00180031511, 0.0030613225, 0.0188173205, -0.021351397, -0.0106566073, -0.0342536606, 0.0268083587, 0.0128935045, 0.00136566849, -0.0599591732, -0.0138891684, -0.048115328, 0.00869181752, 0.0105312588, 0.0156366583, 0.00351795228, -0.0165403448, -0.00408546766, 0.0298737306, 0.0200821888, 0.00758866081, -0.0167489164, -0.0505505502, 0.0291951727, 0.0186462719, -0.0133912368, -0.00715510454, 0.00201257248, -0.0488616079, 0.00953930151, -0.00973342, 0.0378342345, -0.00513327867, -0.052518744, 0.0374458618, 0.118114531, 0.00902698841, -0.0101291602, -0.0138686392, -0.0226415619, -0.0195879396, 0.0159482639, -0.136300653, 0.00929782633, -0.00130301353, 5.36719745e-05, -0.00593617326, -0.0255728811, 0.0190214608, 0.00134485681, 0.0169761088, 0.0120157516, 0.0204410665, -0.0121402387, 0.0429019183, -0.00647074776, -0.0339715146, 0.0231952, -0.0148008186, -0.0168419313, -0.0369108617, -0.00433219271, -0.0052311169, -0.00607063062, -0.00112621463, 0.0114140613, -0.0237746388, -0.010091966, 0.0164471678, 0.0408400223, -0.0139975408, 0.00231542368, 0.0564599112, 0.0236121397, -0.00258859619, 0.0118343076, -0.00546294916, -0.00967364, 0.0317650326, -0.00490517449, 0.0358505324, -0.0216388293, 0.0160336383, -0.0193918366, 0.00372102484, -0.0276326761, -0.00824856665, -0.0120953657, -0.00776978582, 0.0331072919, -0.0107621038, 0.0354212262, -0.0104807457, -0.0523019172, 0.00978484564, -0.0164008755, -0.0284824967, 0.00233733794, -0.0330717, 0.0390501097, 0.0135099879, -0.00650716061, 0.0119300056, -0.00586209865, -0.00427771546, 0.000928820577, 0.0245569423, 0.00756630255, 0.00841505267, -0.0440598, 1.78981154e-05, 0.00178941153, -0.0302000456, -0.0206798408, -0.0396830514, -0.0162292253, -0.0485565737, -0.0576564, -0.0202322323, -0.0280531123, 0.0258231573, 0.00187182298, 0.0302425325, 0.0222731046, -0.0407264084, 0.0211765356, -0.026211394, -0.00143682433, -0.0342034958, -0.014899021, -0.0103384387, 0.0485136807, 0.0104764383, -0.0110546835, 0.000718651805, -0.0108448258, -0.0194994379, -0.0126759252, -0.0517935, -0.000824680494, 0.00110025343, 0.0176410098, -0.00578170503, -0.012825083, 0.0589070506, -0.0109370556, -0.0119213816, 0.0488565899, -0.0129550062, -0.0296509024, -0.0380410925, -0.00455522398, 0.0185163449, 0.0300587956, -0.015676856, 0.0136747286, -0.00766618596, -0.0276485458, -0.0274750385, -0.0277574118, -0.00987924449, -0.0262093525, 0.0443903655, -0.00770282, -0.0135140717, 0.0118936421, -0.00147920894, -0.011308236, -0.0210540537, -0.0368517525, -0.00167677656, -0.0376474746, -0.00733515155, 0.0036350484, 0.0138028963, 0.0132259931, -0.00981082115, 0.0127740288, -0.0668241233, -0.000858420855, 0.00168231898, 0.0102910567, 0.00886281393, -0.000768052, -0.014670372, 0.000390140747, 0.0137971044, -0.00609903317, -0.00123191869, -0.0143907638, -0.0248880517, -0.0163877215, 0.0259457417, -0.00811019912, -0.0345474221, -0.0207624193, -0.00947532, 0.00256584329, 0.00880345609, -0.0112647088, -0.00739004556, 0.00191036973, 0.0275295135, -0.00464125024, 0.0119698774, 0.0281855967, 0.00924141239, 0.0386151373, -0.000902744, -0.0143505055, -0.0212851372, 0.000350184826, 0.0264540706, 0.0211025979, -0.00806099549, -0.012293499, 0.00388614438, 0.00281155924, 0.00858649798, -0.0407658964, 0.0171435829, 0.034021344, -0.0196619257, 0.0265607759, 0.00637767278, 0.00895720441, -0.016029, -0.00778998109, 0.035700839, 0.0150854066, 0.0140353991, 0.00981498882, -0.0243316218, 0.00429429114, -0.0276179388, -0.00443538046, -0.0356565714, -0.0200125929, -0.0468488447, -0.00907579251, -0.0077742287, -0.0337339379, 0.0291329976, -0.0342083909, -0.0105293905, -0.0274244472, -0.0304620378, 0.0208999868, 0.00889478344, 0.00876560248, -0.0137430513, -0.0195401832, -0.00920286216, -0.0118185114, -0.0147354007, -0.0238541272, -0.0071366, 0.002493568, -0.0426274501, -0.030175088, 0.0142385848, 0.0160804614, -0.00303473463, -0.0325867534, 0.0166664366, 0.0102082714, -0.0440809391, 0.0170621742, -0.00859880075, 0.000707116968, -0.0339987278, -0.0223032143, -0.0204877388, -8.57197228e-05, 0.0337664448, -0.0327519774, -0.0323837362, 0.0174703673, 0.0127297509, -0.0137754697, 0.00555633, -0.00907821301, 0.000120563542, -0.00282843085, 0.0294185784, 0.0119828908, -0.0134962397, -0.0266614854, 0.023523435, 0.0124658467, -0.0136198606, 0.00433737598, -0.00038264427, -0.0116652371, 0.00601148792, -0.0115474621, 0.0231095534, -0.0115994606, -0.0270369686, 0.0285779554, 0.00325907324, 0.00278783916, 0.0637168139, 0.0161738563, 0.00920749549, -0.0101591898, -0.0229559224, 0.0036333988, -0.0461328216, 0.00999979, 0.0258682594, 0.028276071, -0.0288332235, 0.0211049709, -0.0223839357, -0.0424857, -0.0125088701, -0.0250795968, -0.0857121, -0.0141416639, 0.0199865978, -0.0207597204, 0.0375790372, -0.015909709, 0.0478933677, 0.00710352557, 0.00342936674, -0.0235785, 0.00702384626, 0.00886016246, -0.0205797832, 0.0644262433, -0.000506565091, -0.0133080799, -0.0188721437, -0.0758864209, -0.00374711794, 0.0231154207, -0.0225893296, -0.0234539267, 0.0446374342, -0.0148207992, 0.0476601198, 0.0115478886, 0.0220402218, 0.00160969573, 0.00725735165, -0.00844544638, -0.0218769386, -0.0222352017, 0.0225970633, -0.00528199039, -0.00276863854, 0.00738445669, -0.0476882383, -0.039174322, -0.018755693, 0.0319843441, 0.0402175523, -0.0259986874, 0.0273611173, 0.0268287044, 0.0151217915, -0.0140109072, 0.02705165, 0.0250212178, 0.0175611768, 0.0318359323, 0.0035959098, -0.00764052616, -0.0411743335, -0.00283139944, 0.0190549865, -0.0190706458, -0.0213544685, -0.00142270362, -0.00749223493, -0.00701479707, -0.0111943902, 0.0615214668, -0.00897462, -0.0200716667, 0.000348133268, -0.0336212516, -0.0139819793, -0.0268019084, -0.0239681192, -0.0383186229, 0.00109681801, -0.0250237547, 0.00689201802, -0.0622928, -0.0399394371, -0.0053482959, -0.00539340591, 0.00649350602, 0.00472913124, -0.028520314, -0.00983952172, 0.00428119069, -0.0556593612, 0.0251065269, -0.00903123617, 0.0123546328, 0.00891793706, -0.0202888679, -0.00177885208, -0.0133338291, -0.0127310921, -0.00288498355, 0.026653463, -0.00177888223, -0.018077692, -0.0171116926, 0.0247116052, -0.0206367932, -0.15192695, -0.0560234, -0.0118366564, -0.0184029881, -0.0224030633, -0.00287208543, -0.0130839804, -0.00876462366, -0.00356144086, 0.00278702774, 0.0205351729, -0.0132931769, -0.188278839, 0.0141511085, 0.00748237688, -0.0166997034, 0.0190974865, -0.016539108, 0.0472750738, -0.00169274386, -0.0109568313, 0.0190327633, 0.0250808429, -0.02505376, -0.00936377514, 0.0266375095, -0.0275175869, 0.0180643387, -0.0607097521, 0.00451419875, -0.0155301662, -0.035006348, -0.0060237227, -0.0656501204, 0.0180494487, -0.0227468777, 0.0333478488, 0.0218822, -0.0194036048, -0.036661692, 0.00456306152, -0.0445671044, -0.0190041792, 0.0123879332, -0.0290443953, 0.0437274799, 0.00734988227, -5.65966475e-05, -0.0418083817, -0.037534073, 0.0379435122, 0.0170317646, 0.0300635155, -0.0125284726, -0.0271898489, -0.0513509065, 0.0530950576, 0.0426613539, -0.0165623035, 0.00175906846, -0.00429873029, -0.0013094825, -0.00452074874, 0.0539402366, -0.014410804, -0.0151321264, -0.0158767458, -0.0231619701, 0.0340692587, -0.0265635978, -0.0355709866, 0.0254582651, -0.0192110222, 0.0215172563, 0.00286909263, -0.0488633886, -0.0433344617, -0.00142118288, 0.0155099062, -0.0301175173, 0.033135511, 0.00333320117, -0.00185580656, 0.00492788618, -0.00965636, -0.0351857692, 0.0306786094, -0.0148398569, -0.211019531, 0.000494809, -0.0207456201, -0.00319458754, 0.0132862851, 0.00471437257, 0.0337523185, -0.0054614, -0.00875698682, -0.0366607085, 0.0591000095, 0.0169459414, -0.0294241738, 0.00380831724, 0.0362488255, 0.0278749391, 0.0358170606, -0.0120259319, -0.0225020163, 0.0183685757, 0.0425363705, 0.0313726217, -0.0147344023, 0.0119804069, 0.0285425596, 0.0103620328, 0.0581707545, -0.0170533098, -0.00946503133, -0.0152665162, -0.0314454809, 0.0169078857, -0.0237518102, -0.0368610695, 0.00386445411, -0.0161330234, -0.00502813514, 0.0282917563, -0.0164159331, -0.0505948365, -0.0098023368, -0.0375356078, 0.0124341184, 0.0147132641, 0.0780490413, -0.00826263893, 0.054554861, 0.0155022833, -0.010392704, 0.0145971812, 0.00702312915, -0.0303804018, -0.0697963163, -0.0384626761, 0.0173026305, -0.0502970628, 0.0443433225, 0.00104074599, -0.0320658572, -0.0087351054, -0.0202957187, 0.0116282413, 0.0491741039, 0.0163852926, 0.0177030638, -0.000320746825, -0.0227720216, -0.0321114063, -0.012240639, -0.109814838, -0.0099509, -0.00235661608, 0.0388489142, -0.00553310663, 0.0547434539, -0.00177113106, -0.0380018689, -0.0207400452, 0.0107409367, 0.0149440365, 0.0147305364, -0.0122211063, 0.019385213, 0.00432320265, 0.00300556119, 0.0144444415, -0.00867764838, -0.018002253, -0.0254321694, 0.0270756837, -0.0134473182, 0.0160357207, 0.0303930435, 0.0466369763, -0.0340979248, -0.0156233553, -0.0230286494, -0.036802724, 0.0183142256, -0.0444609188, -0.00596322771, 0.0130942017, -0.0047831866, -0.0084002018, 0.0189633388, 0.0266209226, 0.032202512, 0.0277312491, 0.0107377768, -0.0123937922, -0.0295217782, 0.0305580944, 0.0115280459, -0.0379287824, -0.0305203293, -0.0264629852, 0.00031312689, -0.00115120038, -0.0128160287, 0.0014120593, -0.00583345257, 0.00701636262, 0.0198552739, 0.0144927949, -0.00311279576, -0.00282444921, 0.00968983676, 0.0345712081, 0.00579050323, -0.0297438502, 0.0274587702, -0.00477042235, -0.018262703, -0.0126212249, -0.00623706402, 0.0306000449, 0.0325486027, 0.0223857295, 0.0361393, -0.00292492448, 0.0304250177, -0.0199551117, -0.0285832305, -0.0320272706, 0.0435835458, 0.0215562247, 0.00937853195, 0.044731494, -0.000359549, -0.00816903, -0.00105128868, 0.00234114053, 0.0183108058, -0.0139711117, 0.027492445, -0.0144878784, -0.0321210064, -0.0262537599, -0.00139873521, -0.000868782168, 0.0211112201, 0.0269828532, -0.000779551629, -0.00923487823, -0.034674, 0.0361003131, -0.0158444904, -0.00423085829, 0.0148791978, 0.0169689469, -0.0171513017, 0.016397588, -0.00528819067, 0.0107668545, -0.0431567356, -0.00755644357, -0.021798525, -0.0104030799, 0.00620703865, -0.0523768924, -0.0130033055, 0.0368517, 0.020610135, 0.0101866284, -0.00478440151, 0.00871661864, 0.0333556868, -0.0237485711, -0.0213546678, -0.0166747104, 0.0279300101, -0.00487541035, -0.00027218918, 0.0355430879, 0.029077189, 0.00409195572, 0.00679781893, -0.0225418713, 0.028788412, -0.0152070392, -0.012492964, -0.0156514682, 0.0230540838, -0.0196206234, -0.0297304057, -0.033226382, 0.0533739105, -0.0186005309, 0.00351745682, -0.0052103526, 0.0468401834, 0.0249026045, 0.0257340353, -0.00322776521, -0.00135141169, 0.00762393652, 0.0426214337, 0.00682509085, -0.023723051, 0.031273894, 0.00259914086, 0.0114150709, -0.020903809, -0.000103337574, -0.00433953805, -0.00667962292, -0.0355205834, -0.0254508276, 0.0589874685, -0.0192686431, -0.0120733269, -0.0294957794, -0.0486063361, 0.00221866486, 0.00918196235, 0.00670623221, -0.056681715, -0.0500469878, -0.0192477368, 0.00379496627, -0.0598348528, 0.0132102044, -0.0129705239, -0.00878842734, 0.0220180247, -0.0211362801, -0.0225131381, -0.0180453863, 0.0227171686, -0.0494769253, -0.009277598, 0.0196070131, 0.00980064552, 0.0220986381, -0.0101819336, 0.0210178886, -0.036203824, -0.00212697126, 0.0194315072, -0.0133943018, 0.00867182948, -0.0262184273, -0.0103461305, 0.0192372389, -0.00844645873, -0.0118720718, -8.03252551e-05, -0.00990096107, 0.00269627571, 0.0193372294, 0.00245462614, -0.0275414623, -0.0158341546, -0.0115386555, -0.000372477924, -0.0205420032, -0.00305771921, -0.0200251751, -0.0306014586, -0.0124597745, 0.00631781714, -0.0139968628, -0.0343272649, -0.00153064576, -0.015056055, -0.0162927248, -0.057905715, 0.0227711406, -0.0656002611, 0.0262199212, 0.0730096921, -0.0272159595, -0.0281825271, 0.0201511644, 0.00643337565, -0.00428432971, -0.0376003608, 0.00315312226, 0.0138506358, 0.00908830483, 0.0159925353, 0.00537243159, -0.022396544, 0.00126595458, 0.00422277441, -0.00427999115, -0.0349802636, -0.0190407299, 0.00668614265, 0.00630206289, -0.0285770036, 0.00463033142, 0.00608425867, 0.0225863531, 0.00357341277, 0.00633598212, -0.0672954097, 0.0502522625, -0.0127257127, -0.00266746315, 0.0316461325, 0.0198364817, -0.00963405892, -0.025866529, -0.0109094186, -0.0128207495, -0.0184925981, -0.000910916948, -0.0189172365, 0.0238339473, 0.00739771547, 0.0291565936, 0.0348231867, -0.031426888, 0.0289495308, 0.0395991355, -0.0207407, 0.0118706301, -0.0035919759, 0.0103676636, 0.011102587, -0.0235758349, 0.0188942011, 0.0243750103, 0.0226901136, 0.0288140494, -0.00717398571, 0.0314059854, 0.0174370129, 0.0372344851, 0.00179765117, -0.0357494392, -0.0248396043, -0.0479065888, -0.00174378825, -0.038825959, -0.00235022465, 0.0223696847, 0.00873369165, -0.0263029877, 0.0169766955, 0.0150134675, -0.00199547014, 0.0275589842, 0.0635025874, -0.000563749694, -0.0162278, -0.0120149385, -0.0345629379, 0.00508370763, 0.035485737, 0.0175717082, -0.0470133498, -0.00869121682, 0.010923068, 0.00949097797, 0.0323554911, 0.0295769293, 0.000632873969, -0.0155534474, -0.0207712501, -0.0146304788, -0.0315298513, 0.0396078713, 0.0289678797, -0.0153287984, -0.0374333858, -0.00222592382, 0.0264716446, 0.012429364, -0.0253200606, -0.0221883487, -0.0188512765, 0.0183477905, 0.00698418682, -0.0171122234, 0.0283693615, 0.0197696406, -0.0263671335, 0.00351807149, 0.00525156688, 0.000331705814, 0.0323599689, 0.0221840162, 0.0336233266, -0.0253602155, -0.035051737, 0.00161148899, 0.00376106892, -0.0212442074, 0.0328493416, 0.031373173, -0.00835172553, -0.0105855502, 0.0353875235, 0.0408613309, 0.0123061817, 0.00988009758, 0.0517999493, -0.0149655687, -0.0183716882, -0.0295024738, 0.000525319949, 0.0312334467, 0.00907263532, 0.0433193743, -0.0212846864, 0.0337317511, -0.00744356494, 0.0514533035, -0.0138602089, -0.0177733377, -0.00224462827, -0.0215541124, -0.0310017057, -0.0113022244, -0.0109037664, 0.0131875034, -0.016467467, 0.0223826841, -0.0208231602, -0.0256421734, 0.0049009677, -0.0524004959, 0.012481411, -0.00826593209, -0.0335833244, -0.0192976929, -0.0188108552, 0.032509394, -0.0016261416, -0.00298186694, -0.0212858152, 0.023287341, 0.0114984205, 0.0277855247, 0.0255452674, 0.0119199967, -0.0417541899, -0.0181147866, -0.00806637667, 0.0151798688, -0.0297628772, 0.0038605833, 0.0119044418, 0.0365203731, 0.0230191164, -0.00764838792, 0.0482439734, 0.00662750611, -0.0557749942, 0.0294648577, 0.0147119798, -0.028449906, -0.0673194826, 0.0205331501, 0.00477168057, -0.0172776803, 0.0115458332, 0.000103050166, 0.00694112247, 0.00864590053, 0.0273744352, 0.0210103635, -0.0410726815, -0.0146080684, -0.0234689061, -0.01499906, 0.0211589709, 0.0157518592, -0.0123511013, -0.0324617624, -0.0210419353, -0.0254484266, 0.0149323884, -0.00372878881, 0.0399255231, -0.032647647, 0.0158252865, -0.0169186741, 0.0261516329, -0.0135393059, 0.00290784729, 0.0181593671, 0.0203112233, 0.0182608217, 0.0275405981, 0.056357991, 0.0294872019, 0.0212633684, -0.0333678201, -0.0155000174, 0.0183879454, 0.00153452437, 0.000867655384, -0.0863157064, 0.012707008, -0.00179721543, -0.0127413133, -0.00991693605, -0.0200780872, -0.0140825091, -0.00551140681, -0.0120087219, -0.00303221401, -0.0105729634, -0.00474628061, 0.0221110322, -0.0348792076, 0.0233827084, 0.0378817581, -0.0374904424, 0.034800373, 0.00937597547, 0.0447167419, 0.04362325, -0.0149980895, -0.00930113811, 0.0281944703, 0.0237823166, 0.00322809, 0.0178649388, -0.0260889065, -0.0221567918, 0.0287982468, 0.009363316, -0.0131885149, -0.01303114, -0.022653766, -0.0315683372, 0.004965025, 0.0270237979, -0.00383855, 0.0105587831, 0.00144633767, -0.0204718653, -0.019912323, -0.042539537, -6.66128253e-05, 0.0189099051, -0.00246648421, -0.0152791804, -0.0257791, 0.00777144544, -0.0130155254, -0.00223141117, -0.0360525474, 0.0130805569, -0.00501839584, 0.0258621182, 0.0179239735, -0.00517296279, 0.00299582118, 0.0100552309, -0.0208893195, -0.0317631401, -0.0233097207, -0.0768165067, -0.0125761302, 0.0148567427, 0.00466694217, 0.0172803644, 0.0372617729, -0.0399821699, -0.00858409703, -0.0227191336, 0.00921635702, 0.032317318, -0.0162629876, 0.0217187516, -0.0131745059, -0.0340145752, -0.0382481813, 0.0105726141, -0.0174831301, 0.021924343, 0.00417874, 0.0062405495, 0.0431050882, 0.000636194076, 0.0150719462, 0.0113958381, -0.0620233901, 0.00168905722, 0.0136946095, -0.0054337075, 0.0259345416, 0.0360231102, 0.0256628059, -0.0268770419, 0.0371142514, 0.0332519896, 0.0165386256, 0.0107776355, 0.0493740104, -0.00495284703, 0.0194926038, -0.0219582524, 0.00893186778, 0.0256060306, 0.00895376131, 0.00385443, -0.00904617365, 0.00995542947, -0.0741133, -0.0359518602, -0.0339243189, -0.00307062455, -0.0157608688, -0.0242419504, -0.0170538723, -0.039765168, -0.0260653235, 0.0121070733, 0.0110856695, -0.0510048121, 0.0624287128, -0.00945977122, 0.0184731, 0.00595654268, -0.0120871374, 0.0052154162, -0.0246037561, -0.0173998959, 0.0128455423, 0.0112882359, 0.021072261, 0.0403278172, -0.0235569831, 0.0064198575, 0.00573669607, -0.00739110727, 0.0108508701, -0.00630346313, -0.000852239144, -0.0117919613, -0.00935430359, -0.00450617168, 0.00308163813, 0.0353628248])\n",
            "Time taken:  0.9994926452636719\n"
          ]
        }
      ]
    }
  ]
}